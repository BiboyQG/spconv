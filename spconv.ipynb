{
 "cells": [
  {
   "cell_type": "code",
   "execution_count": 1,
   "id": "42abb999-39cb-4914-b143-ca524b3443f6",
   "metadata": {},
   "outputs": [],
   "source": [
    "import spconv.pytorch as spconv\n",
    "import torch\n",
    "from torch import nn"
   ]
  },
  {
   "cell_type": "code",
   "execution_count": 2,
   "id": "1af6ab08-3da3-4e63-9c89-697e28b366b7",
   "metadata": {},
   "outputs": [
    {
     "data": {
      "text/plain": [
       "<torch._C.Generator at 0x7c6e24104b10>"
      ]
     },
     "execution_count": 2,
     "metadata": {},
     "output_type": "execute_result"
    }
   ],
   "source": [
    "torch.manual_seed(2024)"
   ]
  },
  {
   "cell_type": "code",
   "execution_count": 3,
   "id": "fc623c9c-6fde-4e09-ad62-8df0552edcb3",
   "metadata": {},
   "outputs": [],
   "source": [
    "spconv3d = spconv.SparseConv3d(\n",
    "    in_channels=5, \n",
    "    out_channels=16, \n",
    "    kernel_size=3, \n",
    "    stride=1, \n",
    "    padding=0,\n",
    "    bias=False\n",
    ")"
   ]
  },
  {
   "cell_type": "code",
   "execution_count": 4,
   "id": "b89d9a44-c038-472e-89bf-637d6afcad5e",
   "metadata": {},
   "outputs": [
    {
     "data": {
      "text/plain": [
       "torch.Size([16, 3, 3, 3, 5])"
      ]
     },
     "execution_count": 4,
     "metadata": {},
     "output_type": "execute_result"
    }
   ],
   "source": [
    "spconv3d.weight.shape"
   ]
  },
  {
   "cell_type": "code",
   "execution_count": 5,
   "id": "f39cc67c-0fdf-40c8-9aa0-43eb0c259a3e",
   "metadata": {},
   "outputs": [],
   "source": [
    "conv3d = nn.Conv3d(\n",
    "    in_channels=5, \n",
    "    out_channels=16, \n",
    "    kernel_size=3, \n",
    "    stride=1, \n",
    "    padding=0,\n",
    "    bias=False\n",
    ")"
   ]
  },
  {
   "cell_type": "code",
   "execution_count": 6,
   "id": "80d6f50b-88fb-4a81-a50c-b3154d6fbc87",
   "metadata": {},
   "outputs": [
    {
     "data": {
      "text/plain": [
       "torch.Size([16, 5, 3, 3, 3])"
      ]
     },
     "execution_count": 6,
     "metadata": {},
     "output_type": "execute_result"
    }
   ],
   "source": [
    "conv3d.weight.shape"
   ]
  },
  {
   "cell_type": "code",
   "execution_count": 7,
   "id": "0e06534c-4eaa-439f-91b1-6838d1bc7105",
   "metadata": {},
   "outputs": [],
   "source": [
    "spconv3d_weights = torch.randn(16, 3, 3, 3, 5)"
   ]
  },
  {
   "cell_type": "code",
   "execution_count": 8,
   "id": "d019ce56-68fc-4a0f-9dec-3c0873a92959",
   "metadata": {},
   "outputs": [],
   "source": [
    "reshaped_weights = spconv3d_weights.permute(0, 4, 1, 2, 3)"
   ]
  },
  {
   "cell_type": "code",
   "execution_count": 9,
   "id": "9c939592-c98d-481f-b890-649614c2c303",
   "metadata": {},
   "outputs": [],
   "source": [
    "conv3d.weight.data = reshaped_weights"
   ]
  },
  {
   "cell_type": "code",
   "execution_count": 10,
   "id": "0ce40700-f1f6-4f17-94ce-724a7927cbb6",
   "metadata": {},
   "outputs": [],
   "source": [
    "spconv3d.weight.data = spconv3d_weights"
   ]
  },
  {
   "cell_type": "code",
   "execution_count": 11,
   "id": "1266a2cb-a952-4b78-99b1-6eb2de1957ff",
   "metadata": {},
   "outputs": [
    {
     "data": {
      "text/plain": [
       "True"
      ]
     },
     "execution_count": 11,
     "metadata": {},
     "output_type": "execute_result"
    }
   ],
   "source": [
    "torch.allclose(conv3d.weight.data.permute(0, 2, 3, 4, 1), spconv3d.weight.data)"
   ]
  },
  {
   "cell_type": "code",
   "execution_count": 12,
   "id": "5f3aad6a-06e0-43ac-a4b0-1b9d9af27aff",
   "metadata": {},
   "outputs": [
    {
     "name": "stdout",
     "output_type": "stream",
     "text": [
      "torch.Size([2, 5, 100, 100, 100])\n"
     ]
    }
   ],
   "source": [
    "# Parameters\n",
    "N = 10  # number of non-zero points\n",
    "num_channels = 5  # number of feature channels per point\n",
    "ndim = 3  # number of spatial dimensions (e.g., 3D convolution)\n",
    "batch_size = 2  # number of batches\n",
    "\n",
    "# Generating random features\n",
    "features = torch.randn(N, num_channels).to('cuda')\n",
    "\n",
    "# Generating random indices for a 3D sparse tensor with batch indices\n",
    "spatial_shape = (100, 100, 100)  # Define the spatial shape of the sparse tensor\n",
    "indices = torch.zeros(N, ndim + 1, dtype=torch.int32).to('cuda')\n",
    "indices[:, 0] = torch.randint(0, batch_size, (N,))  # Batch indices\n",
    "for i in range(1, ndim + 1):\n",
    "    indices[:, i] = torch.randint(0, spatial_shape[i - 1], (N,))  # Spatial indices\n",
    "\n",
    "# Creating the SparseConvTensor\n",
    "x = spconv.SparseConvTensor(features, indices, spatial_shape, batch_size)\n",
    "\n",
    "# Converting sparse tensor to dense NCHW tensor (just for visualization; might be memory intensive)\n",
    "x_dense_NCHW = x.dense()\n",
    "print(x_dense_NCHW.shape)  # Should match the expected dense shape [batch_size, num_channels, *spatial_shape]\n"
   ]
  },
  {
   "cell_type": "code",
   "execution_count": 13,
   "id": "8d5c7720-d83f-41e6-9b93-3459f5b80bcf",
   "metadata": {},
   "outputs": [
    {
     "data": {
      "text/plain": [
       "tensor([-1.7558, -1.6769, -1.2789, -1.2409, -1.2103, -1.1418, -1.1062, -1.0178,\n",
       "        -0.8062, -0.7696, -0.7256, -0.6933, -0.6913, -0.6305, -0.6193, -0.6103,\n",
       "        -0.5825, -0.3765, -0.3565, -0.2757, -0.2683, -0.2475, -0.2196, -0.2154,\n",
       "        -0.1974, -0.1909, -0.1677, -0.1347, -0.1217,  0.0000,  0.0141,  0.0477,\n",
       "         0.0582,  0.1546,  0.2123,  0.3035,  0.3505,  0.4133,  0.4409,  0.5329,\n",
       "         0.5396,  0.7577,  0.7669,  0.8155,  0.8365,  0.9001,  0.9055,  0.9997,\n",
       "         1.1403,  1.5114,  1.6280], device='cuda:0')"
      ]
     },
     "execution_count": 13,
     "metadata": {},
     "output_type": "execute_result"
    }
   ],
   "source": [
    "x_dense_NCHW.unique()"
   ]
  },
  {
   "cell_type": "code",
   "execution_count": 14,
   "id": "c12ea884-a0c9-448c-82cd-9bac89b9b51e",
   "metadata": {},
   "outputs": [
    {
     "data": {
      "text/plain": [
       "tensor([-1.7558, -1.6769, -1.2789, -1.2409, -1.2103, -1.1418, -1.1062, -1.0178,\n",
       "        -0.8062, -0.7696, -0.7256, -0.6933, -0.6913, -0.6305, -0.6193, -0.6103,\n",
       "        -0.5825, -0.3765, -0.3565, -0.2757, -0.2683, -0.2475, -0.2196, -0.2154,\n",
       "        -0.1974, -0.1909, -0.1677, -0.1347, -0.1217,  0.0141,  0.0477,  0.0582,\n",
       "         0.1546,  0.2123,  0.3035,  0.3505,  0.4133,  0.4409,  0.5329,  0.5396,\n",
       "         0.7577,  0.7669,  0.8155,  0.8365,  0.9001,  0.9055,  0.9997,  1.1403,\n",
       "         1.5114,  1.6280], device='cuda:0')"
      ]
     },
     "execution_count": 14,
     "metadata": {},
     "output_type": "execute_result"
    }
   ],
   "source": [
    "x.features.unique()"
   ]
  },
  {
   "cell_type": "code",
   "execution_count": 15,
   "id": "f98a7b59-a703-461e-98df-ebd053294236",
   "metadata": {},
   "outputs": [
    {
     "data": {
      "text/plain": [
       "Conv3d(5, 16, kernel_size=(3, 3, 3), stride=(1, 1, 1), bias=False)"
      ]
     },
     "execution_count": 15,
     "metadata": {},
     "output_type": "execute_result"
    }
   ],
   "source": [
    "conv3d.to('cuda')"
   ]
  },
  {
   "cell_type": "code",
   "execution_count": 16,
   "id": "62515244-3515-4dba-b361-4e06ebd66ca7",
   "metadata": {},
   "outputs": [
    {
     "data": {
      "text/plain": [
       "SparseConv3d(5, 16, kernel_size=[3, 3, 3], stride=[1, 1, 1], padding=[0, 0, 0], dilation=[1, 1, 1], output_padding=[0, 0, 0], bias=False, algo=ConvAlgo.MaskImplicitGemm)"
      ]
     },
     "execution_count": 16,
     "metadata": {},
     "output_type": "execute_result"
    }
   ],
   "source": [
    "spconv3d.to('cuda')"
   ]
  },
  {
   "cell_type": "code",
   "execution_count": 17,
   "id": "edfd6204-1e30-4df7-9da2-00da4e08c7c0",
   "metadata": {},
   "outputs": [],
   "source": [
    "spconv_y = spconv3d(x)\n",
    "y = conv3d(x_dense_NCHW)"
   ]
  },
  {
   "cell_type": "code",
   "execution_count": 18,
   "id": "302d839a-c8dd-457a-b219-1f37ff913757",
   "metadata": {},
   "outputs": [],
   "source": [
    "spconv_y = spconv_y.dense()"
   ]
  },
  {
   "cell_type": "code",
   "execution_count": 19,
   "id": "e334b05a-6cda-4a91-bd34-40a9e4e3ec87",
   "metadata": {},
   "outputs": [
    {
     "data": {
      "text/plain": [
       "tensor([-7.6593, -6.8356, -6.5969,  ...,  7.8996,  8.0378,  9.9962],\n",
       "       device='cuda:0', grad_fn=<Unique2Backward0>)"
      ]
     },
     "execution_count": 19,
     "metadata": {},
     "output_type": "execute_result"
    }
   ],
   "source": [
    "spconv_y.unique()"
   ]
  },
  {
   "cell_type": "code",
   "execution_count": 23,
   "id": "ca3b298f-5e8a-4971-8655-583336ed0e84",
   "metadata": {},
   "outputs": [
    {
     "data": {
      "text/plain": [
       "tensor([-7.6599, -6.8354, -6.5960,  ...,  7.9015,  8.0381,  9.9956],\n",
       "       device='cuda:0', grad_fn=<Unique2Backward0>)"
      ]
     },
     "execution_count": 23,
     "metadata": {},
     "output_type": "execute_result"
    }
   ],
   "source": [
    "y.unique()"
   ]
  },
  {
   "cell_type": "code",
   "execution_count": 20,
   "id": "3058f2ee-1bfe-4a4d-bbd5-ed0b0653462e",
   "metadata": {},
   "outputs": [],
   "source": [
    "l1loss = nn.L1Loss()"
   ]
  },
  {
   "cell_type": "code",
   "execution_count": 21,
   "id": "b0008921-0538-4c7f-8d88-910bd674680b",
   "metadata": {},
   "outputs": [
    {
     "data": {
      "text/plain": [
       "tensor(4.9212e-08, device='cuda:0', grad_fn=<MeanBackward0>)"
      ]
     },
     "execution_count": 21,
     "metadata": {},
     "output_type": "execute_result"
    }
   ],
   "source": [
    "l1loss(spconv_y, y)"
   ]
  },
  {
   "cell_type": "code",
   "execution_count": 22,
   "id": "d00b03f3-e838-4a63-ad2f-5cda354611db",
   "metadata": {},
   "outputs": [
    {
     "data": {
      "text/plain": [
       "False"
      ]
     },
     "execution_count": 22,
     "metadata": {},
     "output_type": "execute_result"
    }
   ],
   "source": [
    "torch.allclose(spconv_y, y)"
   ]
  }
 ],
 "metadata": {
  "kernelspec": {
   "display_name": "Python 3 (ipykernel)",
   "language": "python",
   "name": "python3"
  },
  "language_info": {
   "codemirror_mode": {
    "name": "ipython",
    "version": 3
   },
   "file_extension": ".py",
   "mimetype": "text/x-python",
   "name": "python",
   "nbconvert_exporter": "python",
   "pygments_lexer": "ipython3",
   "version": "3.8.19"
  }
 },
 "nbformat": 4,
 "nbformat_minor": 5
}
