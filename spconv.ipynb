{
 "cells": [
  {
   "cell_type": "code",
   "execution_count": 1,
   "id": "42abb999-39cb-4914-b143-ca524b3443f6",
   "metadata": {},
   "outputs": [],
   "source": [
    "import spconv.pytorch as spconv\n",
    "import torch\n",
    "from torch import nn\n",
    "from IPython.display import Image\n",
    "from pytorch_quantization.tensor_quant import QuantDescriptor\n",
    "from pytorch_quantization.nn.modules.tensor_quantizer import TensorQuantizer"
   ]
  },
  {
   "cell_type": "code",
   "execution_count": null,
   "id": "b91ed5a4-725a-442d-9423-1a107c3da0b0",
   "metadata": {},
   "outputs": [],
   "source": [
    "torch.manual_seed(2024)"
   ]
  },
  {
   "cell_type": "markdown",
   "id": "6d0fcc31-56ac-4c2e-a369-d09331ed1872",
   "metadata": {},
   "source": [
    "# Verification of dense to sparse"
   ]
  },
  {
   "cell_type": "code",
   "execution_count": 3,
   "id": "fc623c9c-6fde-4e09-ad62-8df0552edcb3",
   "metadata": {},
   "outputs": [],
   "source": [
    "spconv3d = spconv.SparseConv3d(\n",
    "    in_channels=5, \n",
    "    out_channels=16, \n",
    "    kernel_size=3, \n",
    "    stride=1, \n",
    "    padding=0,\n",
    "    bias=False\n",
    ")"
   ]
  },
  {
   "cell_type": "code",
   "execution_count": 4,
   "id": "b89d9a44-c038-472e-89bf-637d6afcad5e",
   "metadata": {},
   "outputs": [
    {
     "data": {
      "text/plain": [
       "torch.Size([16, 3, 3, 3, 5])"
      ]
     },
     "execution_count": 4,
     "metadata": {},
     "output_type": "execute_result"
    }
   ],
   "source": [
    "spconv3d.weight.shape"
   ]
  },
  {
   "cell_type": "code",
   "execution_count": 5,
   "id": "c50b20a8-89fd-4a62-897c-1bcdb3df956b",
   "metadata": {},
   "outputs": [],
   "source": [
    "submconv3d = spconv.SubMConv3d(\n",
    "    in_channels=5, \n",
    "    out_channels=16, \n",
    "    kernel_size=3, \n",
    "    stride=1, \n",
    "    padding=0,\n",
    "    bias=False\n",
    ")"
   ]
  },
  {
   "cell_type": "code",
   "execution_count": 6,
   "id": "0bf70a92-6385-4a27-807c-62e3c63f0561",
   "metadata": {},
   "outputs": [],
   "source": [
    "conv3d = nn.Conv3d(\n",
    "    in_channels=5, \n",
    "    out_channels=16, \n",
    "    kernel_size=3, \n",
    "    stride=1, \n",
    "    padding=0,\n",
    "    bias=False\n",
    ")"
   ]
  },
  {
   "cell_type": "code",
   "execution_count": 7,
   "id": "5e62bef4-d92e-4ca4-9190-1e53de5aa51a",
   "metadata": {},
   "outputs": [],
   "source": [
    "sp_weight = spconv3d.weight.data.clone()"
   ]
  },
  {
   "cell_type": "code",
   "execution_count": 8,
   "id": "0d7c4e49-a1fa-4d43-a202-9592c58efcb7",
   "metadata": {},
   "outputs": [
    {
     "data": {
      "text/plain": [
       "torch.Size([16, 3, 3, 3, 5])"
      ]
     },
     "execution_count": 8,
     "metadata": {},
     "output_type": "execute_result"
    }
   ],
   "source": [
    "sp_weight.shape"
   ]
  },
  {
   "cell_type": "code",
   "execution_count": 9,
   "id": "42beef20-dd8a-4910-b82b-f59c324d96c9",
   "metadata": {},
   "outputs": [],
   "source": [
    "weight = sp_weight.permute(0, 4, 1, 2, 3)"
   ]
  },
  {
   "cell_type": "code",
   "execution_count": 10,
   "id": "ecf6caf4-077a-45fd-8196-173a67cef669",
   "metadata": {},
   "outputs": [],
   "source": [
    "conv3d.weight.data = weight"
   ]
  },
  {
   "cell_type": "code",
   "execution_count": 11,
   "id": "50667f80-71c3-455d-80ac-be150b28030f",
   "metadata": {},
   "outputs": [
    {
     "data": {
      "text/plain": [
       "tensor([-0.0861, -0.0860, -0.0859,  ...,  0.0860,  0.0860,  0.0860],\n",
       "       grad_fn=<Unique2Backward0>)"
      ]
     },
     "execution_count": 11,
     "metadata": {},
     "output_type": "execute_result"
    }
   ],
   "source": [
    "conv3d.weight.unique()"
   ]
  },
  {
   "cell_type": "code",
   "execution_count": 12,
   "id": "ad80f5d0-037e-43a7-8429-bf521507b8c1",
   "metadata": {},
   "outputs": [
    {
     "data": {
      "text/plain": [
       "SubMConv3d(5, 16, kernel_size=[3, 3, 3], stride=[1, 1, 1], padding=[0, 0, 0], dilation=[1, 1, 1], output_padding=[0, 0, 0], bias=False, algo=ConvAlgo.MaskImplicitGemm)"
      ]
     },
     "execution_count": 12,
     "metadata": {},
     "output_type": "execute_result"
    }
   ],
   "source": [
    "conv3d.to('cuda')\n",
    "spconv3d.to('cuda')\n",
    "submconv3d.to('cuda')"
   ]
  },
  {
   "cell_type": "code",
   "execution_count": 13,
   "id": "ffd20c3a-713c-4fab-b726-34037aa254bb",
   "metadata": {},
   "outputs": [],
   "source": [
    "# Parameters\n",
    "N = 120000  # number of non-zero points\n",
    "num_channels = 5  # number of feature channels per point\n",
    "ndim = 3  # number of spatial dimensions (e.g., 3D convolution)\n",
    "batch_size = 4  # number of batches"
   ]
  },
  {
   "cell_type": "code",
   "execution_count": 14,
   "id": "cb7ece64-7970-44da-a58f-0bfad5d16c18",
   "metadata": {},
   "outputs": [],
   "source": [
    "# Generating random features\n",
    "features = torch.randn(N, num_channels).to('cuda')"
   ]
  },
  {
   "cell_type": "code",
   "execution_count": 15,
   "id": "8b282f46-0856-4bc8-9b54-b62554a674f6",
   "metadata": {},
   "outputs": [
    {
     "data": {
      "text/plain": [
       "torch.Size([120000, 5])"
      ]
     },
     "execution_count": 15,
     "metadata": {},
     "output_type": "execute_result"
    }
   ],
   "source": [
    "features.shape"
   ]
  },
  {
   "cell_type": "code",
   "execution_count": 16,
   "id": "cf04de14-35bc-42a4-a51f-f48487a5fac4",
   "metadata": {},
   "outputs": [
    {
     "data": {
      "text/plain": [
       "tensor([-4.7913, -4.6806, -4.6266,  ...,  4.5346,  4.6272,  5.1868],\n",
       "       device='cuda:0')"
      ]
     },
     "execution_count": 16,
     "metadata": {},
     "output_type": "execute_result"
    }
   ],
   "source": [
    "features.unique()"
   ]
  },
  {
   "cell_type": "code",
   "execution_count": 17,
   "id": "9d92a0a5-5caa-4159-b17f-f16c133cac16",
   "metadata": {},
   "outputs": [],
   "source": [
    "# Generating random indices for a 3D sparse tensor with batch indices\n",
    "spatial_shape = (100, 100, 100)  # Define the spatial shape of the sparse tensor\n",
    "indices = torch.zeros(N, ndim + 1, dtype=torch.int32).to('cuda')\n",
    "indices[:, 0] = torch.randint(0, batch_size, (N,))  # Batch indices\n",
    "for i in range(1, ndim + 1):\n",
    "    indices[:, i] = torch.randint(0, spatial_shape[i - 1], (N,))  # Spatial indices"
   ]
  },
  {
   "cell_type": "code",
   "execution_count": 18,
   "id": "da461607-003f-4388-bc96-be6fc69cab4f",
   "metadata": {},
   "outputs": [],
   "source": [
    "# Creating the SparseConvTensor\n",
    "x = spconv.SparseConvTensor(features, indices, spatial_shape, batch_size)"
   ]
  },
  {
   "cell_type": "code",
   "execution_count": 19,
   "id": "55eca7df-da54-4447-a176-79a6b14ef500",
   "metadata": {},
   "outputs": [
    {
     "data": {
      "text/plain": [
       "SparseConvTensor[shape=torch.Size([120000, 5])]"
      ]
     },
     "execution_count": 19,
     "metadata": {},
     "output_type": "execute_result"
    }
   ],
   "source": [
    "x"
   ]
  },
  {
   "cell_type": "code",
   "execution_count": 20,
   "id": "ed386031-e53d-451a-9e77-89fb7c9452ce",
   "metadata": {},
   "outputs": [
    {
     "data": {
      "text/plain": [
       "torch.Size([120000, 5])"
      ]
     },
     "execution_count": 20,
     "metadata": {},
     "output_type": "execute_result"
    }
   ],
   "source": [
    "x.features.shape"
   ]
  },
  {
   "cell_type": "code",
   "execution_count": 21,
   "id": "8ebb1b55-d05f-4d47-9758-10d5ebd3bc20",
   "metadata": {},
   "outputs": [
    {
     "data": {
      "text/plain": [
       "torch.Size([120000, 4])"
      ]
     },
     "execution_count": 21,
     "metadata": {},
     "output_type": "execute_result"
    }
   ],
   "source": [
    "x.indices.shape"
   ]
  },
  {
   "cell_type": "code",
   "execution_count": 22,
   "id": "ad6707e7-af82-4bec-be1a-28317403c938",
   "metadata": {},
   "outputs": [
    {
     "name": "stdout",
     "output_type": "stream",
     "text": [
      "torch.Size([4, 5, 100, 100, 100])\n"
     ]
    }
   ],
   "source": [
    "# Converting sparse tensor to dense NCHW tensor (just for visualization; might be memory intensive)\n",
    "x_dense_NCHW = x.dense()\n",
    "print(x_dense_NCHW.shape)  # Should match the expected dense shape [batch_size, num_channels, *spatial_shape]"
   ]
  },
  {
   "cell_type": "code",
   "execution_count": 23,
   "id": "ab9f53c9-fde6-4bdd-ae26-e2f8a4dd690e",
   "metadata": {},
   "outputs": [],
   "source": [
    "x_dense_NCHW = x_dense_NCHW.permute(0, 2, 3, 4, 1)"
   ]
  },
  {
   "cell_type": "code",
   "execution_count": 24,
   "id": "615f2f1d-bf0a-4617-9029-bbd3b21d0835",
   "metadata": {},
   "outputs": [],
   "source": [
    "sparse_tensor = spconv.SparseConvTensor.from_dense(x_dense_NCHW)"
   ]
  },
  {
   "cell_type": "code",
   "execution_count": 25,
   "id": "3fbd1891-1557-4b75-a9d7-cbee8195babf",
   "metadata": {},
   "outputs": [
    {
     "data": {
      "text/plain": [
       "SparseConvTensor[shape=torch.Size([120000, 5])]"
      ]
     },
     "execution_count": 25,
     "metadata": {},
     "output_type": "execute_result"
    }
   ],
   "source": [
    "x"
   ]
  },
  {
   "cell_type": "code",
   "execution_count": 26,
   "id": "11ad0611-fa42-4bd2-a4ac-a82184912a15",
   "metadata": {},
   "outputs": [
    {
     "data": {
      "text/plain": [
       "SparseConvTensor[shape=torch.Size([118183, 5])]"
      ]
     },
     "execution_count": 26,
     "metadata": {},
     "output_type": "execute_result"
    }
   ],
   "source": [
    "sparse_tensor"
   ]
  },
  {
   "cell_type": "code",
   "execution_count": 27,
   "id": "0fb7d61b-05fa-41e3-a194-8aa486ba2c13",
   "metadata": {},
   "outputs": [],
   "source": [
    "y = spconv3d(x)\n",
    "sparse_y = spconv3d(sparse_tensor)"
   ]
  },
  {
   "cell_type": "code",
   "execution_count": 28,
   "id": "70d7bfc8-0b1b-4f9f-826e-772248c30702",
   "metadata": {},
   "outputs": [],
   "source": [
    "y_dense = y.dense()\n",
    "sparse_y_dense = sparse_y.dense()"
   ]
  },
  {
   "cell_type": "code",
   "execution_count": 29,
   "id": "b626e52e-5643-4077-b8dc-0a09edf4d846",
   "metadata": {},
   "outputs": [
    {
     "data": {
      "text/plain": [
       "False"
      ]
     },
     "execution_count": 29,
     "metadata": {},
     "output_type": "execute_result"
    }
   ],
   "source": [
    "torch.allclose(y_dense, sparse_y_dense)"
   ]
  },
  {
   "cell_type": "code",
   "execution_count": 30,
   "id": "30964724-0562-4995-8245-15d33085f709",
   "metadata": {},
   "outputs": [],
   "source": [
    "x_dense_NCHW = x_dense_NCHW.permute(0, 4, 1, 2, 3)"
   ]
  },
  {
   "cell_type": "code",
   "execution_count": 31,
   "id": "9c920297-4ca7-47ab-89d7-adf4ac10fb28",
   "metadata": {},
   "outputs": [],
   "source": [
    "conv_y = conv3d(x_dense_NCHW)"
   ]
  },
  {
   "cell_type": "code",
   "execution_count": 32,
   "id": "3175eee5-ea30-4060-ac75-d351f1b47188",
   "metadata": {},
   "outputs": [
    {
     "data": {
      "text/plain": [
       "False"
      ]
     },
     "execution_count": 32,
     "metadata": {},
     "output_type": "execute_result"
    }
   ],
   "source": [
    "torch.allclose(conv_y, sparse_y_dense)"
   ]
  },
  {
   "cell_type": "code",
   "execution_count": 33,
   "id": "50c6792a-d5c6-4c65-8a07-e7eefd80f1f7",
   "metadata": {},
   "outputs": [
    {
     "data": {
      "text/plain": [
       "tensor([-1.2584, -1.1315, -1.0548,  ...,  1.0731,  1.0758,  1.1631],\n",
       "       device='cuda:0', grad_fn=<Unique2Backward0>)"
      ]
     },
     "execution_count": 33,
     "metadata": {},
     "output_type": "execute_result"
    }
   ],
   "source": [
    "conv_y.unique()"
   ]
  },
  {
   "cell_type": "code",
   "execution_count": 34,
   "id": "9c8f4ee1-04cf-4bb4-add8-cbc8921b7d40",
   "metadata": {},
   "outputs": [
    {
     "data": {
      "text/plain": [
       "tensor([-1.2582, -1.1315, -1.0547,  ...,  1.0732,  1.0758,  1.1630],\n",
       "       device='cuda:0', grad_fn=<Unique2Backward0>)"
      ]
     },
     "execution_count": 34,
     "metadata": {},
     "output_type": "execute_result"
    }
   ],
   "source": [
    "sparse_y_dense.unique()"
   ]
  },
  {
   "cell_type": "code",
   "execution_count": 22,
   "id": "de4b7f43-a679-43b9-bf6f-d2908ff58e51",
   "metadata": {},
   "outputs": [],
   "source": [
    "l1loss = torch.nn.L1Loss()"
   ]
  },
  {
   "cell_type": "code",
   "execution_count": 36,
   "id": "02fa8133-14ab-43cb-a2d8-77562c87ccf4",
   "metadata": {},
   "outputs": [
    {
     "data": {
      "text/plain": [
       "tensor(1.6218e-05, device='cuda:0', grad_fn=<MeanBackward0>)"
      ]
     },
     "execution_count": 36,
     "metadata": {},
     "output_type": "execute_result"
    }
   ],
   "source": [
    "l1loss(conv_y, sparse_y_dense)"
   ]
  },
  {
   "cell_type": "code",
   "execution_count": 37,
   "id": "df841122-6662-4684-a8f0-5141d88578f9",
   "metadata": {},
   "outputs": [
    {
     "data": {
      "text/plain": [
       "torch.Size([4, 5, 100, 100, 100])"
      ]
     },
     "execution_count": 37,
     "metadata": {},
     "output_type": "execute_result"
    }
   ],
   "source": [
    "x_dense_NCHW.shape"
   ]
  },
  {
   "cell_type": "markdown",
   "id": "78f1d5a9-f4c0-4f90-b43f-fb9487124499",
   "metadata": {},
   "source": [
    "# Verification of 3D conv implementation of calculation"
   ]
  },
  {
   "cell_type": "code",
   "execution_count": 38,
   "id": "8b7c8acc-4db7-4dfb-a876-935bcf276c1a",
   "metadata": {},
   "outputs": [],
   "source": [
    "batch_size, channels, d, h, w = x_dense_NCHW.shape"
   ]
  },
  {
   "cell_type": "code",
   "execution_count": 39,
   "id": "64547d20-5f9f-43db-987e-3d7d207bdb94",
   "metadata": {},
   "outputs": [],
   "source": [
    "out_channels, kd, kh, kw, in_channels = spconv3d.weight.shape"
   ]
  },
  {
   "cell_type": "code",
   "execution_count": 40,
   "id": "6099dfee-8837-45b9-a604-401beb6db17c",
   "metadata": {},
   "outputs": [],
   "source": [
    "dh, dw, dd = spconv3d.stride"
   ]
  },
  {
   "cell_type": "code",
   "execution_count": 41,
   "id": "416f983c-7020-46dd-8692-421423b5a584",
   "metadata": {},
   "outputs": [
    {
     "name": "stdout",
     "output_type": "stream",
     "text": [
      "torch.Size([4, 5, 100, 100, 100])\n"
     ]
    }
   ],
   "source": [
    "print(x_dense_NCHW.shape)"
   ]
  },
  {
   "cell_type": "code",
   "execution_count": 42,
   "id": "c132cf16-cee7-44bf-919e-3bb550e4da8f",
   "metadata": {},
   "outputs": [],
   "source": [
    "x_dense_NCHW = x_dense_NCHW.unfold(2, kh, dh).unfold(3, kw, dw).unfold(4, kd, dd)"
   ]
  },
  {
   "cell_type": "code",
   "execution_count": 43,
   "id": "08c9b6e3-2373-455c-a9b7-c9296d4126c6",
   "metadata": {},
   "outputs": [
    {
     "data": {
      "text/plain": [
       "torch.Size([4, 5, 98, 98, 98, 3, 3, 3])"
      ]
     },
     "execution_count": 43,
     "metadata": {},
     "output_type": "execute_result"
    }
   ],
   "source": [
    "x_dense_NCHW.shape"
   ]
  },
  {
   "cell_type": "code",
   "execution_count": 44,
   "id": "9e566029-7b67-4411-a709-3afea97d8403",
   "metadata": {},
   "outputs": [],
   "source": [
    "x_dense_NCHW = x_dense_NCHW.contiguous().view(batch_size, channels, -1, kh, kw, kd)\n",
    "# x_dense_NCHW = x_dense_NCHW.reshape(batch_size, channels, -1, kh, kw, kd)"
   ]
  },
  {
   "cell_type": "code",
   "execution_count": 45,
   "id": "9308134e-42c0-4fbe-ad1a-bb70a661d1a6",
   "metadata": {},
   "outputs": [
    {
     "name": "stdout",
     "output_type": "stream",
     "text": [
      "torch.Size([4, 5, 941192, 3, 3, 3])\n"
     ]
    }
   ],
   "source": [
    "print(x_dense_NCHW.shape)"
   ]
  },
  {
   "cell_type": "code",
   "execution_count": 46,
   "id": "db7ed0a7-1da0-4439-9837-a1307b778858",
   "metadata": {},
   "outputs": [],
   "source": [
    "nb_windows = x_dense_NCHW.size(2)"
   ]
  },
  {
   "cell_type": "code",
   "execution_count": 47,
   "id": "066431bb-ab69-45c0-b524-803d1d523c69",
   "metadata": {},
   "outputs": [],
   "source": [
    "x_dense_NCHW = x_dense_NCHW.permute(0, 2, 1, 3, 4, 5)"
   ]
  },
  {
   "cell_type": "code",
   "execution_count": 48,
   "id": "32f609f1-5e73-47ca-88ff-2a0ac83c7a90",
   "metadata": {},
   "outputs": [
    {
     "name": "stdout",
     "output_type": "stream",
     "text": [
      "torch.Size([4, 941192, 5, 3, 3, 3])\n"
     ]
    }
   ],
   "source": [
    "print(x_dense_NCHW.shape)"
   ]
  },
  {
   "cell_type": "code",
   "execution_count": 49,
   "id": "0c463af3-0e45-4fd7-8fd0-0704bde018fc",
   "metadata": {},
   "outputs": [],
   "source": [
    "filt = conv3d.weight"
   ]
  },
  {
   "cell_type": "code",
   "execution_count": 50,
   "id": "035049f4-08d8-45cb-9fed-2cd7e24e34ac",
   "metadata": {},
   "outputs": [],
   "source": [
    "inputs = x_dense_NCHW.flatten(2)"
   ]
  },
  {
   "cell_type": "code",
   "execution_count": 51,
   "id": "8755caad-627b-4af7-b5df-19dca14daede",
   "metadata": {},
   "outputs": [],
   "source": [
    "weight = filt.flatten(1).transpose(0, 1)"
   ]
  },
  {
   "cell_type": "code",
   "execution_count": 52,
   "id": "7002b1a7-1a0e-4bfe-8392-f1503e37f839",
   "metadata": {},
   "outputs": [],
   "source": [
    "inputs = inputs.view(-1, inputs.shape[-1])"
   ]
  },
  {
   "cell_type": "code",
   "execution_count": 53,
   "id": "3af635fe-4769-4444-976d-d7a6b15a0790",
   "metadata": {},
   "outputs": [
    {
     "name": "stdout",
     "output_type": "stream",
     "text": [
      "torch.Size([3764768, 135])\n",
      "torch.Size([135, 16])\n"
     ]
    }
   ],
   "source": [
    "print(inputs.shape)\n",
    "print(weight.shape)"
   ]
  },
  {
   "cell_type": "code",
   "execution_count": 54,
   "id": "3ab923b0-9f41-4110-86ef-86b891f65107",
   "metadata": {},
   "outputs": [
    {
     "data": {
      "image/png": "[encoded data removed]",
      "text/plain": [
       "<IPython.core.display.Image object>"
      ]
     },
     "execution_count": 54,
     "metadata": {},
     "output_type": "execute_result"
    }
   ],
   "source": [
    "Image('iShot_2024-06-13_20.12.25.png')"
   ]
  },
  {
   "cell_type": "code",
   "execution_count": 55,
   "id": "6a21bc47-b69b-4182-8b3a-ef6517de25b5",
   "metadata": {},
   "outputs": [],
   "source": [
    "my_res = inputs @ weight"
   ]
  },
  {
   "cell_type": "code",
   "execution_count": 56,
   "id": "59eca518-9c18-4882-b1b6-75683f4b78c6",
   "metadata": {},
   "outputs": [],
   "source": [
    "activation_descriptor = QuantDescriptor(\n",
    "    num_bits=8,\n",
    "    # unsigned=True\n",
    ")\n",
    "weight_descriptor = QuantDescriptor(\n",
    "    num_bits=8, \n",
    "    axis=(0)\n",
    ")"
   ]
  },
  {
   "cell_type": "code",
   "execution_count": 57,
   "id": "f354b844-e9fb-4480-8726-f2d4203717c1",
   "metadata": {},
   "outputs": [],
   "source": [
    "input_quantizer = TensorQuantizer(activation_descriptor)\n",
    "weight_quantizer = TensorQuantizer(weight_descriptor)"
   ]
  },
  {
   "cell_type": "code",
   "execution_count": 58,
   "id": "242e96c1-6710-4254-86e9-ce025facbf63",
   "metadata": {},
   "outputs": [],
   "source": [
    "tensorr_weight_t = weight.t()\n",
    "quantized_inputs = input_quantizer(inputs)\n",
    "quantized_weight = weight_quantizer(tensorr_weight_t).t()\n",
    "my_quantized_res = quantized_inputs @ quantized_weight"
   ]
  },
  {
   "cell_type": "code",
   "execution_count": 59,
   "id": "610df8bb-f2c0-49d1-b80a-fab8452f3721",
   "metadata": {},
   "outputs": [
    {
     "data": {
      "text/plain": [
       "tensor(0.0003, device='cuda:0')"
      ]
     },
     "execution_count": 59,
     "metadata": {},
     "output_type": "execute_result"
    }
   ],
   "source": [
    "l1loss(quantized_inputs, inputs)"
   ]
  },
  {
   "cell_type": "code",
   "execution_count": 60,
   "id": "41b47f89-9c86-4368-8096-d74125ea5788",
   "metadata": {},
   "outputs": [
    {
     "data": {
      "text/plain": [
       "tensor(0.0002, device='cuda:0', grad_fn=<MeanBackward0>)"
      ]
     },
     "execution_count": 60,
     "metadata": {},
     "output_type": "execute_result"
    }
   ],
   "source": [
    "l1loss(quantized_weight, tensorr_weight_t.t())"
   ]
  },
  {
   "cell_type": "code",
   "execution_count": 61,
   "id": "a1f15e9d-ad00-4ebf-a2bb-a649412b54a6",
   "metadata": {},
   "outputs": [
    {
     "data": {
      "text/plain": [
       "torch.Size([2160])"
      ]
     },
     "execution_count": 61,
     "metadata": {},
     "output_type": "execute_result"
    }
   ],
   "source": [
    "tensorr_weight_t.unique().shape"
   ]
  },
  {
   "cell_type": "code",
   "execution_count": 62,
   "id": "7eed95af-0b99-441e-9685-0251b8bbe997",
   "metadata": {},
   "outputs": [
    {
     "data": {
      "text/plain": [
       "torch.Size([1687])"
      ]
     },
     "execution_count": 62,
     "metadata": {},
     "output_type": "execute_result"
    }
   ],
   "source": [
    "quantized_weight.unique().shape"
   ]
  },
  {
   "cell_type": "code",
   "execution_count": 63,
   "id": "8a4d2e26-54c3-4a11-b3bb-37b7a80b55cb",
   "metadata": {},
   "outputs": [],
   "source": [
    "tensor_inputs = inputs.abs().detach()\n",
    "tensor_weight = weight.abs().detach()\n",
    "tensor_weight_t = tensor_weight.t()\n",
    "weight_t = weight.t()\n",
    "act_scale = torch.max(tensor_inputs, dim=0)[0]\n",
    "weight_scale = torch.max(tensor_weight_t, dim=0)[0]\n",
    "scaling_factor = 0.90\n",
    "scale = act_scale**scaling_factor/weight_scale**(1-scaling_factor)\n",
    "scale[scale==0] = 1\n",
    "inputs /= scale\n",
    "weight_t *= scale\n",
    "quantized_sq_inputs = input_quantizer(inputs)\n",
    "quantized_sq_weight = weight_quantizer(weight_t).t()\n",
    "# quantized_sq_weight = weight_t.t() # comment out\n",
    "my_quantized_sq_res = quantized_sq_inputs @ quantized_sq_weight"
   ]
  },
  {
   "cell_type": "code",
   "execution_count": 64,
   "id": "79aee633-cd32-4b1d-ae0a-03562c9c69c0",
   "metadata": {},
   "outputs": [
    {
     "data": {
      "text/plain": [
       "tensor([4.8961, 4.9001, 4.9019, 4.9050, 4.9053, 4.9098, 4.9105, 4.9108, 4.9122,\n",
       "        4.9124, 4.9129, 4.9133, 4.9137, 4.9138, 4.9147, 4.9184, 4.9243, 4.9256,\n",
       "        4.9274, 4.9296, 4.9323, 4.9468, 4.9509, 4.9569, 4.9708, 5.0166, 5.0294,\n",
       "        5.0729, 5.0731, 5.0733, 5.0733, 5.0737, 5.0767, 5.0793, 5.0794, 5.0818,\n",
       "        5.0822, 5.0838, 5.0841, 5.0842, 5.0846, 5.0849, 5.0882, 5.0891, 5.0903,\n",
       "        5.0910, 5.0913, 5.0926, 5.0946, 5.0995, 5.1026, 5.1027, 5.1029, 5.1036,\n",
       "        5.1074, 5.1078, 5.1093, 5.1134, 5.1135, 5.1136, 5.1168, 5.1180, 5.1207,\n",
       "        5.1231, 5.1251, 5.1252, 5.1335, 5.1347, 5.1357, 5.1358, 5.1363, 5.1388,\n",
       "        5.1397, 5.1456, 5.1556, 5.1594, 5.1677, 5.1754, 5.2215, 5.2363, 5.2371,\n",
       "        5.2373, 5.2387, 5.2400, 5.2401, 5.2416, 5.2450, 5.2468, 5.2473, 5.2555,\n",
       "        5.2560, 5.2560, 5.2600, 5.2633, 5.2636, 5.2684, 5.2716, 5.2729, 5.2732,\n",
       "        5.2739, 5.2757, 5.2867, 5.2872, 5.2949, 5.3157, 5.3176, 5.3638, 5.3716,\n",
       "        5.6229, 5.6276, 5.6284, 5.6287, 5.6302, 5.6316, 5.6324, 5.6328, 5.6341,\n",
       "        5.6352, 5.6352, 5.6372, 5.6437, 5.6463, 5.6475, 5.6495, 5.6511, 5.6536,\n",
       "        5.6585, 5.6831, 5.6966, 5.7012, 5.7104, 5.7127, 5.7164, 5.7542, 5.7683],\n",
       "       device='cuda:0')"
      ]
     },
     "execution_count": 64,
     "metadata": {},
     "output_type": "execute_result"
    }
   ],
   "source": [
    "scale.unique()"
   ]
  },
  {
   "cell_type": "code",
   "execution_count": 65,
   "id": "a440e4e2-bc1f-4734-8700-d107989a7450",
   "metadata": {},
   "outputs": [
    {
     "data": {
      "text/plain": [
       "torch.Size([2160])"
      ]
     },
     "execution_count": 65,
     "metadata": {},
     "output_type": "execute_result"
    }
   ],
   "source": [
    "weight_t.unique().shape"
   ]
  },
  {
   "cell_type": "code",
   "execution_count": 66,
   "id": "13b8856b-0abb-4325-990b-98cbaf278bf9",
   "metadata": {},
   "outputs": [
    {
     "data": {
      "text/plain": [
       "torch.Size([1680])"
      ]
     },
     "execution_count": 66,
     "metadata": {},
     "output_type": "execute_result"
    }
   ],
   "source": [
    "quantized_sq_weight.unique().shape"
   ]
  },
  {
   "cell_type": "code",
   "execution_count": 67,
   "id": "54b76ac9-8570-4689-a80d-d19750271116",
   "metadata": {},
   "outputs": [
    {
     "data": {
      "text/plain": [
       "tensor(5.3595e-05, device='cuda:0')"
      ]
     },
     "execution_count": 67,
     "metadata": {},
     "output_type": "execute_result"
    }
   ],
   "source": [
    "l1loss(quantized_sq_inputs, inputs)"
   ]
  },
  {
   "cell_type": "code",
   "execution_count": 68,
   "id": "0905c96d-001b-4731-ae51-3cea6780814d",
   "metadata": {},
   "outputs": [
    {
     "data": {
      "text/plain": [
       "tensor(0.0009, device='cuda:0', grad_fn=<MeanBackward0>)"
      ]
     },
     "execution_count": 68,
     "metadata": {},
     "output_type": "execute_result"
    }
   ],
   "source": [
    "l1loss(quantized_sq_weight, weight)"
   ]
  },
  {
   "cell_type": "code",
   "execution_count": 69,
   "id": "5a579592-cd30-4f63-ad4d-0d09d4e29440",
   "metadata": {},
   "outputs": [
    {
     "data": {
      "text/plain": [
       "torch.Size([2160])"
      ]
     },
     "execution_count": 69,
     "metadata": {},
     "output_type": "execute_result"
    }
   ],
   "source": [
    "weight_t.unique().shape"
   ]
  },
  {
   "cell_type": "code",
   "execution_count": 70,
   "id": "dfc6c1d7-5bb9-43a2-83f0-4c041a96bff2",
   "metadata": {},
   "outputs": [
    {
     "data": {
      "text/plain": [
       "torch.Size([1680])"
      ]
     },
     "execution_count": 70,
     "metadata": {},
     "output_type": "execute_result"
    }
   ],
   "source": [
    "quantized_sq_weight.unique().shape"
   ]
  },
  {
   "cell_type": "code",
   "execution_count": 71,
   "id": "59b1e641-5cae-45dd-8ea0-c2c9065eb748",
   "metadata": {},
   "outputs": [
    {
     "data": {
      "text/plain": [
       "torch.Size([135])"
      ]
     },
     "execution_count": 71,
     "metadata": {},
     "output_type": "execute_result"
    }
   ],
   "source": [
    "act_scale.shape"
   ]
  },
  {
   "cell_type": "code",
   "execution_count": 72,
   "id": "a71ee60f-82d3-48ce-b623-2fbb141f2454",
   "metadata": {},
   "outputs": [
    {
     "data": {
      "text/plain": [
       "torch.Size([135])"
      ]
     },
     "execution_count": 72,
     "metadata": {},
     "output_type": "execute_result"
    }
   ],
   "source": [
    "weight_scale.shape"
   ]
  },
  {
   "cell_type": "code",
   "execution_count": 73,
   "id": "69e77c67-5d8c-4a13-bfbb-a37bebcfc450",
   "metadata": {},
   "outputs": [],
   "source": [
    "my_res = my_res.view(batch_size, -1, my_res.shape[-1])\n",
    "my_quantized_res = my_quantized_res.view(batch_size, -1, my_res.shape[-1])\n",
    "my_quantized_sq_res = my_quantized_sq_res.view(batch_size, -1, my_res.shape[-1])"
   ]
  },
  {
   "cell_type": "code",
   "execution_count": 74,
   "id": "785e618d-e81b-47cd-85ae-3a4b436c0225",
   "metadata": {},
   "outputs": [],
   "source": [
    "my_res = my_res.transpose(1, 2)\n",
    "my_quantized_res = my_quantized_res.transpose(1, 2)\n",
    "my_quantized_sq_res = my_quantized_sq_res.transpose(1, 2)"
   ]
  },
  {
   "cell_type": "code",
   "execution_count": 75,
   "id": "9070a9e7-5364-41c0-8eef-25e1630392f0",
   "metadata": {},
   "outputs": [],
   "source": [
    "my_res = my_res.unflatten(2, (h - 2*dh, w - 2*dw, d - 2*dd))\n",
    "my_quantized_res = my_quantized_res.unflatten(2, (h - 2*dh, w - 2*dw, d - 2*dd))\n",
    "my_quantized_sq_res = my_quantized_sq_res.unflatten(2, (h - 2*dh, w - 2*dw, d - 2*dd))"
   ]
  },
  {
   "cell_type": "code",
   "execution_count": 76,
   "id": "68f469f6-51dc-4c39-845e-461f3daca3ee",
   "metadata": {},
   "outputs": [
    {
     "name": "stdout",
     "output_type": "stream",
     "text": [
      "torch.Size([4, 16, 98, 98, 98])\n",
      "torch.Size([4, 16, 98, 98, 98])\n",
      "torch.Size([4, 16, 98, 98, 98])\n"
     ]
    }
   ],
   "source": [
    "print(my_res.shape)\n",
    "print(my_quantized_res.shape)\n",
    "print(my_quantized_sq_res.shape)"
   ]
  },
  {
   "cell_type": "code",
   "execution_count": 77,
   "id": "e4db0b1b-8089-4dca-8974-ba5f2edc1389",
   "metadata": {},
   "outputs": [],
   "source": [
    "standard_res = conv3d(x.dense())"
   ]
  },
  {
   "cell_type": "markdown",
   "id": "e82abb93-ceef-4290-b7b9-0ff52f3dfb17",
   "metadata": {},
   "source": [
    "#### L1Loss between my implementation of conv3d and the true one"
   ]
  },
  {
   "cell_type": "code",
   "execution_count": 78,
   "id": "57aa3197-11f7-448f-9b62-affff720f616",
   "metadata": {},
   "outputs": [
    {
     "data": {
      "text/plain": [
       "tensor(0.0002, device='cuda:0', grad_fn=<MeanBackward0>)"
      ]
     },
     "execution_count": 78,
     "metadata": {},
     "output_type": "execute_result"
    }
   ],
   "source": [
    "l1loss(my_res, standard_res)"
   ]
  },
  {
   "cell_type": "markdown",
   "id": "7416703c-d84f-426f-9bd6-7d0828dc178c",
   "metadata": {},
   "source": [
    "#### L1Loss between my implementation of quantized conv3d and the true one without SQ"
   ]
  },
  {
   "cell_type": "code",
   "execution_count": 79,
   "id": "310893dd-1006-4b50-a781-0fd75b72d179",
   "metadata": {},
   "outputs": [
    {
     "data": {
      "text/plain": [
       "tensor(0.0009, device='cuda:0', grad_fn=<MeanBackward0>)"
      ]
     },
     "execution_count": 79,
     "metadata": {},
     "output_type": "execute_result"
    }
   ],
   "source": [
    "l1loss(my_quantized_res, standard_res)"
   ]
  },
  {
   "cell_type": "markdown",
   "id": "c58e0bbe-e960-4462-b8de-62616d24946f",
   "metadata": {},
   "source": [
    "#### L1Loss between my implementation of quantized conv3d and the true one with the application of SQ"
   ]
  },
  {
   "cell_type": "code",
   "execution_count": 80,
   "id": "f12062c4-f6f3-4d5b-bc74-6a09e2f0c747",
   "metadata": {},
   "outputs": [
    {
     "data": {
      "text/plain": [
       "tensor(0.0008, device='cuda:0', grad_fn=<MeanBackward0>)"
      ]
     },
     "execution_count": 80,
     "metadata": {},
     "output_type": "execute_result"
    }
   ],
   "source": [
    "l1loss(my_quantized_sq_res, standard_res)"
   ]
  },
  {
   "cell_type": "code",
   "execution_count": 81,
   "id": "c56a5fde-f181-4933-833c-673c5de46409",
   "metadata": {},
   "outputs": [
    {
     "name": "stdout",
     "output_type": "stream",
     "text": [
      "Mon Jul  1 03:32:07 2024       \n",
      "+---------------------------------------------------------------------------------------+\n",
      "| NVIDIA-SMI 535.161.08             Driver Version: 535.161.08   CUDA Version: 12.2     |\n",
      "|-----------------------------------------+----------------------+----------------------+\n",
      "| GPU  Name                 Persistence-M | Bus-Id        Disp.A | Volatile Uncorr. ECC |\n",
      "| Fan  Temp   Perf          Pwr:Usage/Cap |         Memory-Usage | GPU-Util  Compute M. |\n",
      "|                                         |                      |               MIG M. |\n",
      "|=========================================+======================+======================|\n",
      "|   0  NVIDIA A100-SXM4-40GB          On  | 00000000:85:00.0 Off |                    0 |\n",
      "| N/A   32C    P0              94W / 400W |  20396MiB / 40960MiB |      5%      Default |\n",
      "|                                         |                      |             Disabled |\n",
      "+-----------------------------------------+----------------------+----------------------+\n",
      "                                                                                         \n",
      "+---------------------------------------------------------------------------------------+\n",
      "| Processes:                                                                            |\n",
      "|  GPU   GI   CI        PID   Type   Process name                            GPU Memory |\n",
      "|        ID   ID                                                             Usage      |\n",
      "|=======================================================================================|\n",
      "|    0   N/A  N/A   2449301      C   ...tch/bcjw/bchi/envs/pcdet/bin/python    19282MiB |\n",
      "+---------------------------------------------------------------------------------------+\n"
     ]
    }
   ],
   "source": [
    "!nvidia-smi"
   ]
  },
  {
   "cell_type": "markdown",
   "id": "430c883e-9306-427f-a7bd-3fd6f200991f",
   "metadata": {},
   "source": [
    "# L1 loss creation"
   ]
  },
  {
   "cell_type": "code",
   "execution_count": 3,
   "id": "b847561e-436e-4b7f-a6e7-c6c0deaa8b4e",
   "metadata": {},
   "outputs": [],
   "source": [
    "l1loss = torch.nn.L1Loss()"
   ]
  },
  {
   "cell_type": "markdown",
   "id": "b4bc0402-8d58-452f-9cd7-89988636c401",
   "metadata": {},
   "source": [
    "# Layer creation"
   ]
  },
  {
   "cell_type": "code",
   "execution_count": 4,
   "id": "d00abef1-a99d-4797-94c5-2184e52dcea1",
   "metadata": {},
   "outputs": [],
   "source": [
    "spconv3d = spconv.SparseConv3d(\n",
    "    in_channels=5, \n",
    "    out_channels=16, \n",
    "    kernel_size=3, \n",
    "    stride=1, \n",
    "    padding=0,\n",
    "    bias=False\n",
    ")"
   ]
  },
  {
   "cell_type": "code",
   "execution_count": 5,
   "id": "0796835e-91eb-4734-9251-4785ca193d28",
   "metadata": {},
   "outputs": [],
   "source": [
    "submconv3d = spconv.SubMConv3d(\n",
    "    in_channels=5, \n",
    "    out_channels=16, \n",
    "    kernel_size=3, \n",
    "    stride=1, \n",
    "    padding=0,\n",
    "    bias=False\n",
    ")"
   ]
  },
  {
   "cell_type": "code",
   "execution_count": 6,
   "id": "2545867e-86ce-4e87-b763-7664a9fc4a3b",
   "metadata": {},
   "outputs": [
    {
     "data": {
      "text/plain": [
       "SubMConv3d(5, 16, kernel_size=[3, 3, 3], stride=[1, 1, 1], padding=[0, 0, 0], dilation=[1, 1, 1], output_padding=[0, 0, 0], bias=False, algo=ConvAlgo.MaskImplicitGemm)"
      ]
     },
     "execution_count": 6,
     "metadata": {},
     "output_type": "execute_result"
    }
   ],
   "source": [
    "spconv3d.to('cuda')\n",
    "submconv3d.to('cuda')"
   ]
  },
  {
   "cell_type": "markdown",
   "id": "e26ed7ad-518e-463c-87aa-e012321abd72",
   "metadata": {},
   "source": [
    "# Simple verification of global SmoothQuant of sparseconv3d"
   ]
  },
  {
   "cell_type": "code",
   "execution_count": 7,
   "id": "10156053-0943-4706-82d7-23efc759b340",
   "metadata": {},
   "outputs": [],
   "source": [
    "# Parameters\n",
    "N = 120000  # number of non-zero points\n",
    "num_channels = 5  # number of feature channels per point\n",
    "ndim = 3  # number of spatial dimensions (e.g., 3D convolution)\n",
    "batch_size = 4  # number of batches"
   ]
  },
  {
   "cell_type": "code",
   "execution_count": 8,
   "id": "55821731-cfff-4313-b79b-c8475130e105",
   "metadata": {},
   "outputs": [],
   "source": [
    "# Generating random features\n",
    "features = torch.randn(N, num_channels).to('cuda')"
   ]
  },
  {
   "cell_type": "code",
   "execution_count": 9,
   "id": "eaa5f608-adf0-4f05-8949-4367f28c765b",
   "metadata": {},
   "outputs": [
    {
     "data": {
      "text/plain": [
       "torch.Size([120000, 5])"
      ]
     },
     "execution_count": 9,
     "metadata": {},
     "output_type": "execute_result"
    }
   ],
   "source": [
    "features.shape"
   ]
  },
  {
   "cell_type": "code",
   "execution_count": 10,
   "id": "9e79624a-a757-44f2-a3b0-d2e67ccbbb8a",
   "metadata": {},
   "outputs": [
    {
     "data": {
      "text/plain": [
       "tensor([-4.7913, -4.6806, -4.6266,  ...,  4.5346,  4.6272,  5.1868],\n",
       "       device='cuda:0')"
      ]
     },
     "execution_count": 10,
     "metadata": {},
     "output_type": "execute_result"
    }
   ],
   "source": [
    "features.unique()"
   ]
  },
  {
   "cell_type": "code",
   "execution_count": 11,
   "id": "d15b0112-e1be-4ed0-b20b-c8517dc6f938",
   "metadata": {},
   "outputs": [],
   "source": [
    "# Generating random indices for a 3D sparse tensor with batch indices\n",
    "spatial_shape = (100, 100, 100)  # Define the spatial shape of the sparse tensor\n",
    "indices = torch.zeros(N, ndim + 1, dtype=torch.int32).to('cuda')\n",
    "indices[:, 0] = torch.randint(0, batch_size, (N,))  # Batch indices\n",
    "for i in range(1, ndim + 1):\n",
    "    indices[:, i] = torch.randint(0, spatial_shape[i - 1], (N,))  # Spatial indices"
   ]
  },
  {
   "cell_type": "code",
   "execution_count": 12,
   "id": "df7284d7-f683-439a-abb4-8629bb47a0c2",
   "metadata": {},
   "outputs": [],
   "source": [
    "# Creating the SparseConvTensor\n",
    "x = spconv.SparseConvTensor(features, indices, spatial_shape, batch_size)"
   ]
  },
  {
   "cell_type": "code",
   "execution_count": 13,
   "id": "90640efd-2002-4b1a-9739-fbafc6355ca5",
   "metadata": {},
   "outputs": [
    {
     "data": {
      "text/plain": [
       "SparseConvTensor[shape=torch.Size([120000, 5])]"
      ]
     },
     "execution_count": 13,
     "metadata": {},
     "output_type": "execute_result"
    }
   ],
   "source": [
    "x"
   ]
  },
  {
   "cell_type": "code",
   "execution_count": 14,
   "id": "b19c64b8-a197-48bc-9d28-ec8bf8e841c7",
   "metadata": {},
   "outputs": [
    {
     "data": {
      "text/plain": [
       "tensor([[-1.0165, -0.6119,  0.1257, -0.2585,  0.2442],\n",
       "        [-0.2137, -0.5030, -0.5165, -1.0676, -0.8075],\n",
       "        [ 0.3336, -1.3717, -2.1233, -0.1856, -0.6183],\n",
       "        ...,\n",
       "        [-0.6652, -1.3503, -0.5237, -0.7438, -0.9998],\n",
       "        [ 0.6097, -0.3261,  0.0637, -0.3798, -1.6436],\n",
       "        [ 0.2590,  0.4437,  0.3290,  2.0755, -1.9294]], device='cuda:0')"
      ]
     },
     "execution_count": 14,
     "metadata": {},
     "output_type": "execute_result"
    }
   ],
   "source": [
    "x.features"
   ]
  },
  {
   "cell_type": "code",
   "execution_count": 15,
   "id": "d6011cb5-a214-458f-88dc-3a043aad90d5",
   "metadata": {},
   "outputs": [],
   "source": [
    "y = spconv3d(x)"
   ]
  },
  {
   "cell_type": "code",
   "execution_count": 16,
   "id": "9aa4c711-03a0-4e66-8de2-b3522545ec1e",
   "metadata": {},
   "outputs": [
    {
     "data": {
      "text/plain": [
       "SparseConvTensor[shape=torch.Size([2090391, 16])]"
      ]
     },
     "execution_count": 16,
     "metadata": {},
     "output_type": "execute_result"
    }
   ],
   "source": [
    "y"
   ]
  },
  {
   "cell_type": "code",
   "execution_count": 17,
   "id": "0a26d616-2a38-40af-9844-ead4f849b206",
   "metadata": {},
   "outputs": [],
   "source": [
    "spconv3d.weight.data = spconv3d.weight.data * 2\n",
    "features = x.features\n",
    "features /= 2\n",
    "x.replace_feature(features)\n",
    "my_y = spconv3d(x)"
   ]
  },
  {
   "cell_type": "code",
   "execution_count": 18,
   "id": "cd393de2-8340-4ff2-bede-c57486016847",
   "metadata": {},
   "outputs": [
    {
     "data": {
      "text/plain": [
       "tensor(0.1470, device='cuda:0', grad_fn=<MeanBackward0>)"
      ]
     },
     "execution_count": 18,
     "metadata": {},
     "output_type": "execute_result"
    }
   ],
   "source": [
    "l1loss(y.features, my_y.features)"
   ]
  },
  {
   "cell_type": "code",
   "execution_count": 19,
   "id": "781d254e-3b2e-4f2a-a80d-558fce63c930",
   "metadata": {},
   "outputs": [
    {
     "data": {
      "text/plain": [
       "tensor([[ 0.1298,  0.0695,  0.0415,  ...,  0.0121, -0.1049,  0.0306],\n",
       "        [-0.1746,  0.1543, -0.1796,  ..., -0.2211, -0.0533, -0.1065],\n",
       "        [ 0.1362,  0.0518, -0.0253,  ...,  0.0724, -0.0927,  0.0552],\n",
       "        ...,\n",
       "        [-0.0389,  0.0186,  0.2587,  ...,  0.0219,  0.0548, -0.0250],\n",
       "        [-0.0902, -0.0266, -0.0176,  ..., -0.0835, -0.0322, -0.0697],\n",
       "        [ 0.0156, -0.1141, -0.0551,  ..., -0.1034, -0.0742, -0.0368]],\n",
       "       device='cuda:0', grad_fn=<SparseImplicitGemmFunctionBackward>)"
      ]
     },
     "execution_count": 19,
     "metadata": {},
     "output_type": "execute_result"
    }
   ],
   "source": [
    "y.features"
   ]
  },
  {
   "cell_type": "code",
   "execution_count": 20,
   "id": "7fbdca20-ba61-4bd5-b922-807c4789c204",
   "metadata": {},
   "outputs": [
    {
     "data": {
      "text/plain": [
       "tensor([[ 0.1298,  0.0695,  0.0415,  ...,  0.0121, -0.1049,  0.0306],\n",
       "        [-0.1746,  0.1543, -0.1796,  ..., -0.2211, -0.0533, -0.1065],\n",
       "        [ 0.1362,  0.0518, -0.0253,  ...,  0.0724, -0.0927,  0.0552],\n",
       "        ...,\n",
       "        [-0.1678,  0.1967,  0.0375,  ...,  0.0106, -0.6322,  0.2996],\n",
       "        [-0.1054, -0.0428, -0.1233,  ..., -0.0384, -0.1039, -0.0016],\n",
       "        [-0.0389, -0.0216, -0.0175,  ..., -0.0753,  0.0124, -0.0239]],\n",
       "       device='cuda:0', grad_fn=<SparseImplicitGemmFunctionBackward>)"
      ]
     },
     "execution_count": 20,
     "metadata": {},
     "output_type": "execute_result"
    }
   ],
   "source": [
    "my_y.features"
   ]
  },
  {
   "cell_type": "markdown",
   "id": "fe35bf39-fb7b-4197-b353-d09ffb652bd0",
   "metadata": {},
   "source": [
    "# Simple verification of global SmoothQuant of submconv3d"
   ]
  },
  {
   "cell_type": "code",
   "execution_count": 21,
   "id": "ff3cf1ce-02db-4b6b-8854-31a46e6e1363",
   "metadata": {},
   "outputs": [],
   "source": [
    "# Parameters\n",
    "N = 120000  # number of non-zero points\n",
    "num_channels = 5  # number of feature channels per point\n",
    "ndim = 3  # number of spatial dimensions (e.g., 3D convolution)\n",
    "batch_size = 4  # number of batches"
   ]
  },
  {
   "cell_type": "code",
   "execution_count": 22,
   "id": "e08cfdef-5806-4531-b530-c42502de332e",
   "metadata": {},
   "outputs": [],
   "source": [
    "# Generating random features\n",
    "features = torch.randn(N, num_channels).to('cuda')"
   ]
  },
  {
   "cell_type": "code",
   "execution_count": 23,
   "id": "0f30cc6b-28e8-4557-b378-420c9792bdab",
   "metadata": {},
   "outputs": [
    {
     "data": {
      "text/plain": [
       "torch.Size([120000, 5])"
      ]
     },
     "execution_count": 23,
     "metadata": {},
     "output_type": "execute_result"
    }
   ],
   "source": [
    "features.shape"
   ]
  },
  {
   "cell_type": "code",
   "execution_count": 24,
   "id": "30097264-6be4-4a49-a64a-e3023a8c9f78",
   "metadata": {},
   "outputs": [
    {
     "data": {
      "text/plain": [
       "tensor([-4.6082, -4.5447, -4.4877,  ...,  4.5561,  4.6069,  4.6144],\n",
       "       device='cuda:0')"
      ]
     },
     "execution_count": 24,
     "metadata": {},
     "output_type": "execute_result"
    }
   ],
   "source": [
    "features.unique()"
   ]
  },
  {
   "cell_type": "code",
   "execution_count": 25,
   "id": "007286b6-d593-4c3d-8fe5-57204edded72",
   "metadata": {},
   "outputs": [],
   "source": [
    "# Generating random indices for a 3D sparse tensor with batch indices\n",
    "spatial_shape = (100, 100, 100)  # Define the spatial shape of the sparse tensor\n",
    "indices = torch.zeros(N, ndim + 1, dtype=torch.int32).to('cuda')\n",
    "indices[:, 0] = torch.randint(0, batch_size, (N,))  # Batch indices\n",
    "for i in range(1, ndim + 1):\n",
    "    indices[:, i] = torch.randint(0, spatial_shape[i - 1], (N,))  # Spatial indices"
   ]
  },
  {
   "cell_type": "code",
   "execution_count": 26,
   "id": "7d01b782-3c4d-4eb7-b3f7-9412a9673296",
   "metadata": {},
   "outputs": [],
   "source": [
    "# Creating the SparseConvTensor\n",
    "x = spconv.SparseConvTensor(features, indices, spatial_shape, batch_size)"
   ]
  },
  {
   "cell_type": "code",
   "execution_count": 27,
   "id": "f308cdb1-1262-4dbc-82f2-fbdd94a8e425",
   "metadata": {},
   "outputs": [
    {
     "data": {
      "text/plain": [
       "SparseConvTensor[shape=torch.Size([120000, 5])]"
      ]
     },
     "execution_count": 27,
     "metadata": {},
     "output_type": "execute_result"
    }
   ],
   "source": [
    "x"
   ]
  },
  {
   "cell_type": "code",
   "execution_count": 28,
   "id": "8e4042c3-e9dd-4b15-b827-50f62c3ed9f1",
   "metadata": {},
   "outputs": [
    {
     "data": {
      "text/plain": [
       "tensor([[-0.4551,  1.0078, -0.4453,  0.2257,  0.7234],\n",
       "        [ 1.6856,  0.2254, -0.0980, -0.7227, -0.2667],\n",
       "        [ 0.9519,  0.0864, -0.3306, -2.3476,  0.7939],\n",
       "        ...,\n",
       "        [-0.5672, -0.1766, -0.0841,  1.7915, -0.8765],\n",
       "        [-0.9534, -0.0085,  0.0356, -0.2929,  1.0164],\n",
       "        [-0.1921, -1.9698,  0.5773,  0.2719, -0.2404]], device='cuda:0')"
      ]
     },
     "execution_count": 28,
     "metadata": {},
     "output_type": "execute_result"
    }
   ],
   "source": [
    "x.features"
   ]
  },
  {
   "cell_type": "code",
   "execution_count": 29,
   "id": "e9293114-a0b2-4366-b14b-a5d6ede9021e",
   "metadata": {},
   "outputs": [],
   "source": [
    "y = submconv3d(x)"
   ]
  },
  {
   "cell_type": "code",
   "execution_count": 30,
   "id": "32322344-49e9-4d40-93de-db176062dfdb",
   "metadata": {},
   "outputs": [
    {
     "data": {
      "text/plain": [
       "SparseConvTensor[shape=torch.Size([120000, 16])]"
      ]
     },
     "execution_count": 30,
     "metadata": {},
     "output_type": "execute_result"
    }
   ],
   "source": [
    "y"
   ]
  },
  {
   "cell_type": "code",
   "execution_count": 31,
   "id": "1d194e26-efa5-4092-9abe-cad850c10fb3",
   "metadata": {},
   "outputs": [],
   "source": [
    "spconv3d.weight.data = spconv3d.weight.data * 2\n",
    "features = x.features\n",
    "features /= 2\n",
    "x.replace_feature(features)\n",
    "my_y = submconv3d(x)"
   ]
  },
  {
   "cell_type": "code",
   "execution_count": 32,
   "id": "8b4111e0-0ea1-41e1-b935-7362c4cfa2cf",
   "metadata": {},
   "outputs": [
    {
     "data": {
      "text/plain": [
       "tensor(0.0585, device='cuda:0', grad_fn=<MeanBackward0>)"
      ]
     },
     "execution_count": 32,
     "metadata": {},
     "output_type": "execute_result"
    }
   ],
   "source": [
    "l1loss(y.features, my_y.features)"
   ]
  },
  {
   "cell_type": "code",
   "execution_count": 33,
   "id": "84a4808d-75c5-4918-8540-8a9d869d681f",
   "metadata": {},
   "outputs": [
    {
     "data": {
      "text/plain": [
       "tensor([[ 0.1095,  0.0869, -0.1023,  ...,  0.0228,  0.0834,  0.0492],\n",
       "        [-0.1162, -0.0589, -0.0288,  ...,  0.0430,  0.1393, -0.0942],\n",
       "        [ 0.0364, -0.0562,  0.0829,  ...,  0.1630,  0.2089,  0.0194],\n",
       "        ...,\n",
       "        [-0.0467,  0.0355, -0.0959,  ..., -0.0787, -0.2017, -0.1361],\n",
       "        [ 0.1303,  0.0187,  0.0581,  ...,  0.0140,  0.0295,  0.1591],\n",
       "        [-0.0102, -0.0949,  0.2403,  ..., -0.0467, -0.2155,  0.1132]],\n",
       "       device='cuda:0', grad_fn=<SparseImplicitGemmFunctionBackward>)"
      ]
     },
     "execution_count": 33,
     "metadata": {},
     "output_type": "execute_result"
    }
   ],
   "source": [
    "y.features"
   ]
  },
  {
   "cell_type": "code",
   "execution_count": 34,
   "id": "1b0c7ef1-4b83-47ae-b129-962f04548dcd",
   "metadata": {},
   "outputs": [
    {
     "data": {
      "text/plain": [
       "tensor([[ 0.0547,  0.0435, -0.0512,  ...,  0.0114,  0.0417,  0.0246],\n",
       "        [-0.0581, -0.0295, -0.0144,  ...,  0.0215,  0.0696, -0.0471],\n",
       "        [ 0.0182, -0.0281,  0.0415,  ...,  0.0815,  0.1044,  0.0097],\n",
       "        ...,\n",
       "        [-0.0234,  0.0178, -0.0480,  ..., -0.0394, -0.1008, -0.0681],\n",
       "        [ 0.0652,  0.0093,  0.0290,  ...,  0.0070,  0.0148,  0.0796],\n",
       "        [-0.0051, -0.0475,  0.1202,  ..., -0.0233, -0.1077,  0.0566]],\n",
       "       device='cuda:0', grad_fn=<SparseImplicitGemmFunctionBackward>)"
      ]
     },
     "execution_count": 34,
     "metadata": {},
     "output_type": "execute_result"
    }
   ],
   "source": [
    "my_y.features"
   ]
  },
  {
   "cell_type": "markdown",
   "id": "83c5e913-cbdb-4207-8792-1bf87e60761b",
   "metadata": {},
   "source": [
    "# Verification of global Smoothquant of sparseconv3d"
   ]
  },
  {
   "cell_type": "code",
   "execution_count": 35,
   "id": "39fedcdf-0e05-4cf0-9888-e51f4c173f37",
   "metadata": {},
   "outputs": [],
   "source": [
    "# Parameters\n",
    "N = 120000  # number of non-zero points\n",
    "num_channels = 5  # number of feature channels per point\n",
    "ndim = 3  # number of spatial dimensions (e.g., 3D convolution)\n",
    "batch_size = 4  # number of batches"
   ]
  },
  {
   "cell_type": "code",
   "execution_count": 36,
   "id": "af2a4d41-753e-4559-87ad-39f069b1440c",
   "metadata": {},
   "outputs": [],
   "source": [
    "# Generating random features\n",
    "features = torch.randn(N, num_channels).to('cuda')"
   ]
  },
  {
   "cell_type": "code",
   "execution_count": 37,
   "id": "652e9c2c-f6a3-411a-b81d-d90aab8cc1de",
   "metadata": {},
   "outputs": [
    {
     "data": {
      "text/plain": [
       "torch.Size([120000, 5])"
      ]
     },
     "execution_count": 37,
     "metadata": {},
     "output_type": "execute_result"
    }
   ],
   "source": [
    "features.shape"
   ]
  },
  {
   "cell_type": "code",
   "execution_count": 38,
   "id": "1a0154b3-ebac-46f0-b6e3-17013462a054",
   "metadata": {},
   "outputs": [
    {
     "data": {
      "text/plain": [
       "tensor([-4.7846, -4.5039, -4.4555,  ...,  4.4866,  4.6958,  4.7309],\n",
       "       device='cuda:0')"
      ]
     },
     "execution_count": 38,
     "metadata": {},
     "output_type": "execute_result"
    }
   ],
   "source": [
    "features.unique()"
   ]
  },
  {
   "cell_type": "code",
   "execution_count": 39,
   "id": "4f139cb9-ba00-46e2-a7d2-47f3f727ccd8",
   "metadata": {},
   "outputs": [],
   "source": [
    "# Generating random indices for a 3D sparse tensor with batch indices\n",
    "spatial_shape = (100, 100, 100)  # Define the spatial shape of the sparse tensor\n",
    "indices = torch.zeros(N, ndim + 1, dtype=torch.int32).to('cuda')\n",
    "indices[:, 0] = torch.randint(0, batch_size, (N,))  # Batch indices\n",
    "for i in range(1, ndim + 1):\n",
    "    indices[:, i] = torch.randint(0, spatial_shape[i - 1], (N,))  # Spatial indices"
   ]
  },
  {
   "cell_type": "code",
   "execution_count": 40,
   "id": "c46bf549-79cb-4b36-a924-9c99fa222212",
   "metadata": {},
   "outputs": [],
   "source": [
    "# Creating the SparseConvTensor\n",
    "x = spconv.SparseConvTensor(features, indices, spatial_shape, batch_size)"
   ]
  },
  {
   "cell_type": "code",
   "execution_count": 41,
   "id": "e3525455-c1a1-4213-80a5-f3766f8a2529",
   "metadata": {},
   "outputs": [
    {
     "data": {
      "text/plain": [
       "SparseConvTensor[shape=torch.Size([120000, 5])]"
      ]
     },
     "execution_count": 41,
     "metadata": {},
     "output_type": "execute_result"
    }
   ],
   "source": [
    "x"
   ]
  },
  {
   "cell_type": "code",
   "execution_count": 42,
   "id": "95d6cc48-4268-470b-b2a5-326d8497fe07",
   "metadata": {},
   "outputs": [
    {
     "data": {
      "text/plain": [
       "tensor([[-1.5808e+00,  1.2555e+00, -2.1358e-02, -4.7948e-01, -6.8748e-02],\n",
       "        [-1.8406e+00, -5.2259e-01,  7.2286e-01,  8.4376e-01,  5.9045e-01],\n",
       "        [ 1.3201e+00, -3.0493e-01,  1.0602e-03,  1.2127e-01,  7.8455e-02],\n",
       "        ...,\n",
       "        [ 3.1526e-01, -2.2720e-01,  1.9170e+00,  3.2581e-01,  2.5783e-01],\n",
       "        [-1.7980e-01, -4.0181e-01, -5.2056e-01, -4.6544e-01, -3.0503e-01],\n",
       "        [ 6.0693e-01,  5.8779e-01, -6.5974e-01,  1.1842e-01,  1.0833e+00]],\n",
       "       device='cuda:0')"
      ]
     },
     "execution_count": 42,
     "metadata": {},
     "output_type": "execute_result"
    }
   ],
   "source": [
    "x.features"
   ]
  },
  {
   "cell_type": "code",
   "execution_count": 43,
   "id": "b009bf94-235a-41b7-9c6b-3e3f2102a8a7",
   "metadata": {},
   "outputs": [],
   "source": [
    "y = spconv3d(x)"
   ]
  },
  {
   "cell_type": "code",
   "execution_count": 44,
   "id": "74fa3725-0217-4eb8-afaf-d9453d5d9e6f",
   "metadata": {},
   "outputs": [
    {
     "data": {
      "text/plain": [
       "SparseConvTensor[shape=torch.Size([2086466, 16])]"
      ]
     },
     "execution_count": 44,
     "metadata": {},
     "output_type": "execute_result"
    }
   ],
   "source": [
    "y"
   ]
  },
  {
   "cell_type": "code",
   "execution_count": 45,
   "id": "b5e36f5c-f933-41aa-a7f0-98ed027fee5c",
   "metadata": {},
   "outputs": [],
   "source": [
    "w_desc = QuantDescriptor(\n",
    "            num_bits=8, \n",
    "            axis=(0)\n",
    "        )\n",
    "w_quant = TensorQuantizer(w_desc)\n",
    "\n",
    "act_desc = QuantDescriptor(\n",
    "            num_bits=8\n",
    "        )\n",
    "act_quant = TensorQuantizer(act_desc)"
   ]
  },
  {
   "cell_type": "code",
   "execution_count": 46,
   "id": "eb19bda8-9102-47bb-995e-c51c4a5f3096",
   "metadata": {},
   "outputs": [],
   "source": [
    "features = x.features\n",
    "\n",
    "features_max = features.abs().max()\n",
    "weight_max = spconv3d.weight.data.abs().max()\n",
    "\n",
    "scale = torch.sqrt(features_max/weight_max)\n",
    "\n",
    "features /= scale\n",
    "features = act_quant(features)\n",
    "x.replace_feature(features)\n",
    "\n",
    "oc, kh, kw, kd, ic = spconv3d.weight.data.shape\n",
    "w = spconv3d.weight.data.permute(0, 4, 1, 2, 3).contiguous().view(oc, -1)\n",
    "w *= scale\n",
    "w = w_quant(w)\n",
    "spconv3d.weight.data = w.view(oc, ic, kh, kw, kd).permute(0, 2, 3, 4, 1).contiguous()\n",
    "\n",
    "my_y = spconv3d(x)"
   ]
  },
  {
   "cell_type": "code",
   "execution_count": 47,
   "id": "e4b7c2c6-a928-4188-b86c-46cff02f8880",
   "metadata": {},
   "outputs": [
    {
     "data": {
      "text/plain": [
       "torch.Size([2086466, 16])"
      ]
     },
     "execution_count": 47,
     "metadata": {},
     "output_type": "execute_result"
    }
   ],
   "source": [
    "my_y.features.shape"
   ]
  },
  {
   "cell_type": "code",
   "execution_count": 48,
   "id": "98ac77ba-2204-4cd0-8f78-e7bb773de8a3",
   "metadata": {},
   "outputs": [
    {
     "data": {
      "text/plain": [
       "tensor(0.5883, device='cuda:0', grad_fn=<MeanBackward0>)"
      ]
     },
     "execution_count": 48,
     "metadata": {},
     "output_type": "execute_result"
    }
   ],
   "source": [
    "l1loss(y.features, my_y.features)"
   ]
  },
  {
   "cell_type": "code",
   "execution_count": 49,
   "id": "75712d64-5bec-4eec-8305-0412758296b1",
   "metadata": {},
   "outputs": [
    {
     "data": {
      "text/plain": [
       "tensor([[-0.2697, -0.6426, -0.8264,  ...,  1.0776, -0.8160, -0.8146],\n",
       "        [-0.2002,  0.3343,  0.5090,  ...,  0.2324,  0.1244,  0.4530],\n",
       "        [-0.5413, -0.1418, -0.1121,  ..., -0.4699,  0.9533, -0.2922],\n",
       "        ...,\n",
       "        [ 0.0297, -0.0082, -0.0608,  ...,  0.0226,  0.0988, -0.1726],\n",
       "        [-0.1028, -0.2766, -0.5025,  ..., -0.2058,  0.9071,  0.3307],\n",
       "        [ 1.0760, -0.8067, -0.0985,  ..., -0.8686,  0.5486, -0.4605]],\n",
       "       device='cuda:0', grad_fn=<SparseImplicitGemmFunctionBackward>)"
      ]
     },
     "execution_count": 49,
     "metadata": {},
     "output_type": "execute_result"
    }
   ],
   "source": [
    "y.features"
   ]
  },
  {
   "cell_type": "code",
   "execution_count": 50,
   "id": "4145cd1d-a326-46e8-a9ca-9fc4edf58d53",
   "metadata": {},
   "outputs": [
    {
     "data": {
      "text/plain": [
       "tensor([[-1.1025, -0.4383, -0.1897,  ...,  0.6281,  0.4973, -0.2121],\n",
       "        [-0.5097,  0.0223, -0.2506,  ..., -0.0311,  0.8665, -0.4408],\n",
       "        [-0.0677,  0.0480,  0.3432,  ...,  0.0994,  0.3861, -0.0815],\n",
       "        ...,\n",
       "        [ 1.2410,  0.0920,  0.4544,  ..., -0.4339, -0.1996, -0.8361],\n",
       "        [ 0.1769, -0.4380,  1.2849,  ...,  1.1743,  1.0507,  0.8281],\n",
       "        [-0.0942,  0.1039,  0.2222,  ...,  0.1347,  0.1329, -0.1331]],\n",
       "       device='cuda:0', grad_fn=<SparseImplicitGemmFunctionBackward>)"
      ]
     },
     "execution_count": 50,
     "metadata": {},
     "output_type": "execute_result"
    }
   ],
   "source": [
    "my_y.features"
   ]
  },
  {
   "cell_type": "markdown",
   "id": "1922f5cd-e389-4dba-87a7-513bbed132f5",
   "metadata": {},
   "source": [
    "# Verification of global Smoothquant of submconv3d"
   ]
  },
  {
   "cell_type": "code",
   "execution_count": 2,
   "id": "c1ab63a5-4b46-44d8-8755-f33b7df31b78",
   "metadata": {},
   "outputs": [],
   "source": [
    "# Parameters\n",
    "N = 120000  # number of non-zero points\n",
    "num_channels = 5  # number of feature channels per point\n",
    "ndim = 3  # number of spatial dimensions (e.g., 3D convolution)\n",
    "batch_size = 4  # number of batches"
   ]
  },
  {
   "cell_type": "code",
   "execution_count": 3,
   "id": "ac95c2d5-2db5-43a0-ad56-3e118498f791",
   "metadata": {},
   "outputs": [],
   "source": [
    "# Generating random features\n",
    "features = torch.randn(N, num_channels).to('cuda')"
   ]
  },
  {
   "cell_type": "code",
   "execution_count": 4,
   "id": "0cbb4fa8-ace2-4b29-a0ab-4fa052bebe94",
   "metadata": {},
   "outputs": [
    {
     "data": {
      "text/plain": [
       "torch.Size([120000, 5])"
      ]
     },
     "execution_count": 4,
     "metadata": {},
     "output_type": "execute_result"
    }
   ],
   "source": [
    "features.shape"
   ]
  },
  {
   "cell_type": "code",
   "execution_count": 5,
   "id": "41a22a51-0c00-4fe3-85f2-2ed8ede74a74",
   "metadata": {},
   "outputs": [
    {
     "data": {
      "text/plain": [
       "tensor([-4.6496, -4.4312, -4.4115,  ...,  4.5929,  4.6248,  4.7421],\n",
       "       device='cuda:0')"
      ]
     },
     "execution_count": 5,
     "metadata": {},
     "output_type": "execute_result"
    }
   ],
   "source": [
    "features.unique()"
   ]
  },
  {
   "cell_type": "code",
   "execution_count": 6,
   "id": "6c119d3a-2dba-4719-8506-8859b056bf54",
   "metadata": {},
   "outputs": [],
   "source": [
    "# Generating random indices for a 3D sparse tensor with batch indices\n",
    "spatial_shape = (100, 100, 100)  # Define the spatial shape of the sparse tensor\n",
    "indices = torch.zeros(N, ndim + 1, dtype=torch.int32).to('cuda')\n",
    "indices[:, 0] = torch.randint(0, batch_size, (N,))  # Batch indices\n",
    "for i in range(1, ndim + 1):\n",
    "    indices[:, i] = torch.randint(0, spatial_shape[i - 1], (N,))  # Spatial indices"
   ]
  },
  {
   "cell_type": "code",
   "execution_count": 7,
   "id": "f5d2695c-1e21-45d3-8457-91c8acd98c34",
   "metadata": {},
   "outputs": [],
   "source": [
    "# Creating the SparseConvTensor\n",
    "x = spconv.SparseConvTensor(features, indices, spatial_shape, batch_size)"
   ]
  },
  {
   "cell_type": "code",
   "execution_count": 8,
   "id": "1e8b1ddc-a36b-4fb2-9f0d-7c75cbf86d31",
   "metadata": {},
   "outputs": [
    {
     "data": {
      "text/plain": [
       "SparseConvTensor[shape=torch.Size([120000, 5])]"
      ]
     },
     "execution_count": 8,
     "metadata": {},
     "output_type": "execute_result"
    }
   ],
   "source": [
    "x"
   ]
  },
  {
   "cell_type": "code",
   "execution_count": 9,
   "id": "978c3bdf-3704-4afa-9d63-93fddff633ca",
   "metadata": {},
   "outputs": [
    {
     "data": {
      "text/plain": [
       "tensor([[-0.6982,  1.3171, -0.1085,  0.5560, -0.0026],\n",
       "        [-1.6845, -0.7992, -0.3834, -0.7636,  0.1846],\n",
       "        [ 0.0209,  1.8206,  1.1930,  0.0641,  0.4027],\n",
       "        ...,\n",
       "        [ 1.8689, -0.3749, -0.3011,  0.0049,  1.5042],\n",
       "        [-1.0836, -0.8073, -1.3545,  0.8388,  0.3772],\n",
       "        [-0.1266,  0.8991,  0.6270, -1.0382, -0.5758]], device='cuda:0')"
      ]
     },
     "execution_count": 9,
     "metadata": {},
     "output_type": "execute_result"
    }
   ],
   "source": [
    "x.features"
   ]
  },
  {
   "cell_type": "code",
   "execution_count": 59,
   "id": "b7e9c0e5-91a8-4c82-bd9b-f241ba02b6f9",
   "metadata": {},
   "outputs": [],
   "source": [
    "y = submconv3d(x)"
   ]
  },
  {
   "cell_type": "code",
   "execution_count": 60,
   "id": "ac8dac2d-f4a3-43ba-8f55-2124ceca4d7d",
   "metadata": {},
   "outputs": [
    {
     "data": {
      "text/plain": [
       "SparseConvTensor[shape=torch.Size([120000, 16])]"
      ]
     },
     "execution_count": 60,
     "metadata": {},
     "output_type": "execute_result"
    }
   ],
   "source": [
    "y"
   ]
  },
  {
   "cell_type": "code",
   "execution_count": 61,
   "id": "1ba120b7-ee51-4444-9a89-40ba62c98dc3",
   "metadata": {},
   "outputs": [],
   "source": [
    "w_desc = QuantDescriptor(\n",
    "            num_bits=8, \n",
    "            axis=(0)\n",
    "        )\n",
    "w_quant = TensorQuantizer(w_desc)\n",
    "\n",
    "act_desc = QuantDescriptor(\n",
    "            num_bits=8\n",
    "        )\n",
    "act_quant = TensorQuantizer(act_desc)"
   ]
  },
  {
   "cell_type": "code",
   "execution_count": 62,
   "id": "aadbdafa-f519-4e64-ae3d-1bfc9a7923e0",
   "metadata": {},
   "outputs": [],
   "source": [
    "features = x.features\n",
    "\n",
    "features_max = features.abs().max()\n",
    "weight_max = submconv3d.weight.data.abs().max()\n",
    "\n",
    "scale = torch.sqrt(features_max/weight_max)\n",
    "\n",
    "features /= scale\n",
    "features = act_quant(features)\n",
    "x.replace_feature(features)\n",
    "\n",
    "oc, kh, kw, kd, ic = submconv3d.weight.data.shape\n",
    "w = submconv3d.weight.data.permute(0, 4, 1, 2, 3).contiguous().view(oc, -1)\n",
    "w *= scale\n",
    "w = w_quant(w)\n",
    "submconv3d.weight.data = w.view(oc, ic, kh, kw, kd).permute(0, 2, 3, 4, 1).contiguous()\n",
    "\n",
    "my_y = submconv3d(x)"
   ]
  },
  {
   "cell_type": "code",
   "execution_count": 63,
   "id": "41843b48-fe01-4d9c-b324-1dae29b22662",
   "metadata": {},
   "outputs": [
    {
     "data": {
      "text/plain": [
       "torch.Size([120000, 16])"
      ]
     },
     "execution_count": 63,
     "metadata": {},
     "output_type": "execute_result"
    }
   ],
   "source": [
    "my_y.features.shape"
   ]
  },
  {
   "cell_type": "code",
   "execution_count": 64,
   "id": "bd501edc-279b-40af-949b-e7180f72a2cb",
   "metadata": {},
   "outputs": [
    {
     "data": {
      "text/plain": [
       "tensor(0.0007, device='cuda:0', grad_fn=<MeanBackward0>)"
      ]
     },
     "execution_count": 64,
     "metadata": {},
     "output_type": "execute_result"
    }
   ],
   "source": [
    "l1loss(y.features, my_y.features)"
   ]
  },
  {
   "cell_type": "code",
   "execution_count": 65,
   "id": "a0e8bcaf-6e1a-424e-ba30-d6e2eb84895d",
   "metadata": {},
   "outputs": [
    {
     "data": {
      "text/plain": [
       "tensor([[ 0.0044,  0.0303,  0.0689,  ...,  0.0458,  0.0217,  0.0246],\n",
       "        [ 0.1128,  0.1278, -0.2870,  ...,  0.0386,  0.1460, -0.2564],\n",
       "        [ 0.1632,  0.1952, -0.0077,  ...,  0.0482, -0.0537,  0.0803],\n",
       "        ...,\n",
       "        [ 0.1718, -0.0875,  0.0493,  ...,  0.2466,  0.1308,  0.0876],\n",
       "        [-0.1361, -0.0317, -0.0784,  ..., -0.0183, -0.0116, -0.1665],\n",
       "        [ 0.1036,  0.0423, -0.0964,  ...,  0.0580,  0.1959,  0.0727]],\n",
       "       device='cuda:0', grad_fn=<SparseImplicitGemmFunctionBackward>)"
      ]
     },
     "execution_count": 65,
     "metadata": {},
     "output_type": "execute_result"
    }
   ],
   "source": [
    "y.features"
   ]
  },
  {
   "cell_type": "code",
   "execution_count": 66,
   "id": "905c429a-2972-4adc-8ad3-e4c3e7330032",
   "metadata": {},
   "outputs": [
    {
     "data": {
      "text/plain": [
       "tensor([[ 0.0048,  0.0302,  0.0694,  ...,  0.0458,  0.0214,  0.0252],\n",
       "        [ 0.1113,  0.1291, -0.2872,  ...,  0.0384,  0.1466, -0.2566],\n",
       "        [ 0.1638,  0.1948, -0.0075,  ...,  0.0480, -0.0533,  0.0801],\n",
       "        ...,\n",
       "        [ 0.1711, -0.0881,  0.0495,  ...,  0.2472,  0.1303,  0.0882],\n",
       "        [-0.1363, -0.0315, -0.0780,  ..., -0.0182, -0.0118, -0.1662],\n",
       "        [ 0.1032,  0.0427, -0.0965,  ...,  0.0584,  0.1961,  0.0726]],\n",
       "       device='cuda:0', grad_fn=<SparseImplicitGemmFunctionBackward>)"
      ]
     },
     "execution_count": 66,
     "metadata": {},
     "output_type": "execute_result"
    }
   ],
   "source": [
    "my_y.features"
   ]
  },
  {
   "cell_type": "code",
   "execution_count": 67,
   "id": "ad85e1c9-bac5-4048-9c46-ea38f891afe8",
   "metadata": {},
   "outputs": [
    {
     "name": "stdout",
     "output_type": "stream",
     "text": [
      "Sat Jul  6 07:33:50 2024       \n",
      "+---------------------------------------------------------------------------------------+\n",
      "| NVIDIA-SMI 535.161.08             Driver Version: 535.161.08   CUDA Version: 12.2     |\n",
      "|-----------------------------------------+----------------------+----------------------+\n",
      "| GPU  Name                 Persistence-M | Bus-Id        Disp.A | Volatile Uncorr. ECC |\n",
      "| Fan  Temp   Perf          Pwr:Usage/Cap |         Memory-Usage | GPU-Util  Compute M. |\n",
      "|                                         |                      |               MIG M. |\n",
      "|=========================================+======================+======================|\n",
      "|   0  NVIDIA A40                     On  | 00000000:C7:00.0 Off |                    0 |\n",
      "|  0%   34C    P0              75W / 300W |   2652MiB / 46068MiB |      0%      Default |\n",
      "|                                         |                      |                  N/A |\n",
      "+-----------------------------------------+----------------------+----------------------+\n",
      "                                                                                         \n",
      "+---------------------------------------------------------------------------------------+\n",
      "| Processes:                                                                            |\n",
      "|  GPU   GI   CI        PID   Type   Process name                            GPU Memory |\n",
      "|        ID   ID                                                             Usage      |\n",
      "|=======================================================================================|\n",
      "|    0   N/A  N/A   1915980      C   ...tch/bcjw/bchi/envs/pcdet/bin/python     2644MiB |\n",
      "+---------------------------------------------------------------------------------------+\n"
     ]
    }
   ],
   "source": [
    "!nvidia-smi"
   ]
  },
  {
   "cell_type": "markdown",
   "id": "8c3a26d3-9850-4bde-8750-ce340ce937a6",
   "metadata": {},
   "source": [
    "# Active sites along SparseConv3d"
   ]
  },
  {
   "cell_type": "code",
   "execution_count": 1,
   "id": "b2cd961d-d5a6-4dd0-a7a0-acb275d5a005",
   "metadata": {},
   "outputs": [],
   "source": [
    "import spconv.pytorch as spconv\n",
    "import torch\n",
    "from torch import nn\n",
    "from IPython.display import Image\n",
    "from pytorch_quantization.tensor_quant import QuantDescriptor\n",
    "from pytorch_quantization.nn.modules.tensor_quantizer import TensorQuantizer"
   ]
  },
  {
   "cell_type": "code",
   "execution_count": 2,
   "id": "315ae96d-03fa-48ba-ba30-cb02c9d75a7c",
   "metadata": {},
   "outputs": [
    {
     "data": {
      "text/plain": [
       "<torch._C.Generator at 0x7f2ca7eaacd0>"
      ]
     },
     "execution_count": 2,
     "metadata": {},
     "output_type": "execute_result"
    }
   ],
   "source": [
    "torch.manual_seed(2025)"
   ]
  },
  {
   "cell_type": "code",
   "execution_count": 3,
   "id": "027dbabd-233b-4195-be59-c3978432a867",
   "metadata": {},
   "outputs": [],
   "source": [
    "# Parameters\n",
    "N = 120000  # number of non-zero points\n",
    "num_channels = 5  # number of feature channels per point\n",
    "ndim = 3  # number of spatial dimensions (e.g., 3D convolution)\n",
    "batch_size = 4  # number of batches"
   ]
  },
  {
   "cell_type": "code",
   "execution_count": 4,
   "id": "2d3aeacf-4092-4ec8-a1c9-4d4a3f6d0883",
   "metadata": {},
   "outputs": [],
   "source": [
    "# Generating random features\n",
    "features = torch.randn(N, num_channels).to('cuda')"
   ]
  },
  {
   "cell_type": "code",
   "execution_count": 5,
   "id": "9dbeca2c-8db5-4d00-9d1b-46168f9bfc87",
   "metadata": {},
   "outputs": [
    {
     "data": {
      "text/plain": [
       "torch.Size([120000, 5])"
      ]
     },
     "execution_count": 5,
     "metadata": {},
     "output_type": "execute_result"
    }
   ],
   "source": [
    "features.shape"
   ]
  },
  {
   "cell_type": "code",
   "execution_count": 6,
   "id": "cc23005a-6e3a-4c76-9ca2-5ec6e90cc29c",
   "metadata": {},
   "outputs": [
    {
     "data": {
      "text/plain": [
       "tensor([-4.5412, -4.3313, -4.2671,  ...,  4.4607,  4.7224,  4.7705],\n",
       "       device='cuda:0')"
      ]
     },
     "execution_count": 6,
     "metadata": {},
     "output_type": "execute_result"
    }
   ],
   "source": [
    "features.unique()"
   ]
  },
  {
   "cell_type": "code",
   "execution_count": 7,
   "id": "4b763264-7ff5-4211-8b25-0127c0d29775",
   "metadata": {},
   "outputs": [],
   "source": [
    "# Generating random indices for a 3D sparse tensor with batch indices\n",
    "spatial_shape = (100, 100, 100)  # Define the spatial shape of the sparse tensor\n",
    "indices = torch.zeros(N, ndim + 1, dtype=torch.int32).to('cuda')\n",
    "indices[:, 0] = torch.randint(0, batch_size, (N,))  # Batch indices\n",
    "for i in range(1, ndim + 1):\n",
    "    indices[:, i] = torch.randint(0, spatial_shape[i - 1], (N,))  # Spatial indices"
   ]
  },
  {
   "cell_type": "code",
   "execution_count": 8,
   "id": "2f56a762-510a-48b0-92ca-790a58580651",
   "metadata": {},
   "outputs": [],
   "source": [
    "# Creating the SparseConvTensor\n",
    "x = spconv.SparseConvTensor(features, indices, spatial_shape, batch_size)"
   ]
  },
  {
   "cell_type": "code",
   "execution_count": 9,
   "id": "f2f6bd72-4c10-432f-bb11-f42a1421f4e4",
   "metadata": {},
   "outputs": [
    {
     "data": {
      "text/plain": [
       "SparseConvTensor[shape=torch.Size([120000, 5])]"
      ]
     },
     "execution_count": 9,
     "metadata": {},
     "output_type": "execute_result"
    }
   ],
   "source": [
    "x"
   ]
  },
  {
   "cell_type": "code",
   "execution_count": 10,
   "id": "08285500-a714-497d-970a-73223b0145ae",
   "metadata": {},
   "outputs": [],
   "source": [
    "channels = [5, 16, 16, 32, 32, 64, 64, 128, 128]"
   ]
  },
  {
   "cell_type": "code",
   "execution_count": 11,
   "id": "e12f1c44-a64f-496b-a015-f9487cb18360",
   "metadata": {},
   "outputs": [],
   "source": [
    "spconv3d_list = nn.ModuleList()"
   ]
  },
  {
   "cell_type": "code",
   "execution_count": 12,
   "id": "893277f7-0067-4f95-8a7f-a02ac53e7810",
   "metadata": {},
   "outputs": [],
   "source": [
    "for in_channels, out_channels in zip(channels, channels[1:]):\n",
    "    spconv3d_list.append(\n",
    "        spconv.SparseConv3d(\n",
    "            in_channels=in_channels, \n",
    "            out_channels=out_channels, \n",
    "            kernel_size=3, \n",
    "            stride=1, \n",
    "            padding=0,\n",
    "            bias=False\n",
    "        ).to('cuda')\n",
    "    )"
   ]
  },
  {
   "cell_type": "code",
   "execution_count": 13,
   "id": "518975b7-32da-4707-9824-0021c61b490d",
   "metadata": {},
   "outputs": [
    {
     "data": {
      "text/plain": [
       "ModuleList(\n",
       "  (0): SparseConv3d(5, 16, kernel_size=[3, 3, 3], stride=[1, 1, 1], padding=[0, 0, 0], dilation=[1, 1, 1], output_padding=[0, 0, 0], bias=False, algo=ConvAlgo.MaskImplicitGemm)\n",
       "  (1): SparseConv3d(16, 16, kernel_size=[3, 3, 3], stride=[1, 1, 1], padding=[0, 0, 0], dilation=[1, 1, 1], output_padding=[0, 0, 0], bias=False, algo=ConvAlgo.MaskImplicitGemm)\n",
       "  (2): SparseConv3d(16, 32, kernel_size=[3, 3, 3], stride=[1, 1, 1], padding=[0, 0, 0], dilation=[1, 1, 1], output_padding=[0, 0, 0], bias=False, algo=ConvAlgo.MaskImplicitGemm)\n",
       "  (3): SparseConv3d(32, 32, kernel_size=[3, 3, 3], stride=[1, 1, 1], padding=[0, 0, 0], dilation=[1, 1, 1], output_padding=[0, 0, 0], bias=False, algo=ConvAlgo.MaskImplicitGemm)\n",
       "  (4): SparseConv3d(32, 64, kernel_size=[3, 3, 3], stride=[1, 1, 1], padding=[0, 0, 0], dilation=[1, 1, 1], output_padding=[0, 0, 0], bias=False, algo=ConvAlgo.MaskImplicitGemm)\n",
       "  (5): SparseConv3d(64, 64, kernel_size=[3, 3, 3], stride=[1, 1, 1], padding=[0, 0, 0], dilation=[1, 1, 1], output_padding=[0, 0, 0], bias=False, algo=ConvAlgo.MaskImplicitGemm)\n",
       "  (6): SparseConv3d(64, 128, kernel_size=[3, 3, 3], stride=[1, 1, 1], padding=[0, 0, 0], dilation=[1, 1, 1], output_padding=[0, 0, 0], bias=False, algo=ConvAlgo.MaskImplicitGemm)\n",
       "  (7): SparseConv3d(128, 128, kernel_size=[3, 3, 3], stride=[1, 1, 1], padding=[0, 0, 0], dilation=[1, 1, 1], output_padding=[0, 0, 0], bias=False, algo=ConvAlgo.MaskImplicitGemm)\n",
       ")"
      ]
     },
     "execution_count": 13,
     "metadata": {},
     "output_type": "execute_result"
    }
   ],
   "source": [
    "spconv3d_list"
   ]
  },
  {
   "cell_type": "code",
   "execution_count": 14,
   "id": "7ac303f5-11e2-4066-81d3-77d4eb96b2cf",
   "metadata": {},
   "outputs": [
    {
     "name": "stdout",
     "output_type": "stream",
     "text": [
      "0\n",
      "1\n",
      "2\n",
      "3\n",
      "4\n",
      "5\n",
      "6\n",
      "7\n"
     ]
    }
   ],
   "source": [
    "active_sites = [x.features.shape[0]]\n",
    "for idx, module in enumerate(spconv3d_list):\n",
    "    print(idx)\n",
    "    x = module(x)\n",
    "    active_sites.append(x.features.shape[0])"
   ]
  },
  {
   "cell_type": "code",
   "execution_count": 15,
   "id": "bfb0e85c-184b-4779-bcd3-4ba956b49ffc",
   "metadata": {},
   "outputs": [
    {
     "data": {
      "text/plain": [
       "[120000,\n",
       " 2091144,\n",
       " 3456006,\n",
       " 3322217,\n",
       " 3114752,\n",
       " 2916000,\n",
       " 2725888,\n",
       " 2544224,\n",
       " 2370816]"
      ]
     },
     "execution_count": 15,
     "metadata": {},
     "output_type": "execute_result"
    }
   ],
   "source": [
    "active_sites"
   ]
  },
  {
   "cell_type": "code",
   "execution_count": 16,
   "id": "7f90555a-5aeb-49c6-b78d-2e78cacc1af5",
   "metadata": {},
   "outputs": [
    {
     "name": "stdout",
     "output_type": "stream",
     "text": [
      "Sat Jul  6 07:55:20 2024       \n",
      "+---------------------------------------------------------------------------------------+\n",
      "| NVIDIA-SMI 535.161.08             Driver Version: 535.161.08   CUDA Version: 12.2     |\n",
      "|-----------------------------------------+----------------------+----------------------+\n",
      "| GPU  Name                 Persistence-M | Bus-Id        Disp.A | Volatile Uncorr. ECC |\n",
      "| Fan  Temp   Perf          Pwr:Usage/Cap |         Memory-Usage | GPU-Util  Compute M. |\n",
      "|                                         |                      |               MIG M. |\n",
      "|=========================================+======================+======================|\n",
      "|   0  NVIDIA A40                     On  | 00000000:C7:00.0 Off |                    0 |\n",
      "|  0%   56C    P0             299W / 300W |  11696MiB / 46068MiB |    100%      Default |\n",
      "|                                         |                      |                  N/A |\n",
      "+-----------------------------------------+----------------------+----------------------+\n",
      "                                                                                         \n",
      "+---------------------------------------------------------------------------------------+\n",
      "| Processes:                                                                            |\n",
      "|  GPU   GI   CI        PID   Type   Process name                            GPU Memory |\n",
      "|        ID   ID                                                             Usage      |\n",
      "|=======================================================================================|\n",
      "|    0   N/A  N/A   1981890      C   ...tch/bcjw/bchi/envs/pcdet/bin/python    11688MiB |\n",
      "+---------------------------------------------------------------------------------------+\n"
     ]
    }
   ],
   "source": [
    "!nvidia-smi"
   ]
  },
  {
   "cell_type": "code",
   "execution_count": 1,
   "id": "d9804b3c-bafe-4a06-83bd-d87458dc3048",
   "metadata": {},
   "outputs": [],
   "source": [
    "records = []\n",
    "records.append(\n",
    "    [120000,\n",
    "     2086970,\n",
    "     3453972,\n",
    "     3322212,\n",
    "     3114752,\n",
    "     2916000,\n",
    "     2725888,\n",
    "     2544224,\n",
    "     2370816]\n",
    ")\n",
    "records.append(\n",
    "    [120000,\n",
    "     2091353,\n",
    "     3457447,\n",
    "     3322233,\n",
    "     3114752,\n",
    "     2916000,\n",
    "     2725888,\n",
    "     2544224,\n",
    "     2370816]\n",
    ")\n",
    "records.append(\n",
    "    [120000,\n",
    "     2086744,\n",
    "     3453663,\n",
    "     3322246,\n",
    "     3114752,\n",
    "     2916000,\n",
    "     2725888,\n",
    "     2544224,\n",
    "     2370816]\n",
    ")\n",
    "records.append(\n",
    "    [120000,\n",
    "     2090729,\n",
    "     3455201,\n",
    "     3322194,\n",
    "     3114752,\n",
    "     2916000,\n",
    "     2725888,\n",
    "     2544224,\n",
    "     2370816]\n",
    ")\n",
    "records.append(\n",
    "    [120000,\n",
    "     2091144,\n",
    "     3456006,\n",
    "     3322217,\n",
    "     3114752,\n",
    "     2916000,\n",
    "     2725888,\n",
    "     2544224,\n",
    "     2370816]\n",
    ")"
   ]
  },
  {
   "cell_type": "code",
   "execution_count": 2,
   "id": "1fc9e200-e3f3-43e0-bcd4-adbcd7df5741",
   "metadata": {},
   "outputs": [
    {
     "data": {
      "text/plain": [
       "[[120000,\n",
       "  2086970,\n",
       "  3453972,\n",
       "  3322212,\n",
       "  3114752,\n",
       "  2916000,\n",
       "  2725888,\n",
       "  2544224,\n",
       "  2370816],\n",
       " [120000,\n",
       "  2091353,\n",
       "  3457447,\n",
       "  3322233,\n",
       "  3114752,\n",
       "  2916000,\n",
       "  2725888,\n",
       "  2544224,\n",
       "  2370816],\n",
       " [120000,\n",
       "  2086744,\n",
       "  3453663,\n",
       "  3322246,\n",
       "  3114752,\n",
       "  2916000,\n",
       "  2725888,\n",
       "  2544224,\n",
       "  2370816],\n",
       " [120000,\n",
       "  2090729,\n",
       "  3455201,\n",
       "  3322194,\n",
       "  3114752,\n",
       "  2916000,\n",
       "  2725888,\n",
       "  2544224,\n",
       "  2370816],\n",
       " [120000,\n",
       "  2091144,\n",
       "  3456006,\n",
       "  3322217,\n",
       "  3114752,\n",
       "  2916000,\n",
       "  2725888,\n",
       "  2544224,\n",
       "  2370816]]"
      ]
     },
     "execution_count": 2,
     "metadata": {},
     "output_type": "execute_result"
    }
   ],
   "source": [
    "records"
   ]
  },
  {
   "cell_type": "markdown",
   "id": "182e6ac9-853a-47e3-83ee-bc73bf54f8b5",
   "metadata": {},
   "source": [
    "# Active sites along SubMConv3d"
   ]
  },
  {
   "cell_type": "code",
   "execution_count": 1,
   "id": "978b8b2e-c7bf-44c2-bbf4-d73bf23a096e",
   "metadata": {},
   "outputs": [],
   "source": [
    "import spconv.pytorch as spconv\n",
    "import torch\n",
    "from torch import nn\n",
    "from IPython.display import Image\n",
    "from pytorch_quantization.tensor_quant import QuantDescriptor\n",
    "from pytorch_quantization.nn.modules.tensor_quantizer import TensorQuantizer"
   ]
  },
  {
   "cell_type": "code",
   "execution_count": 2,
   "id": "e096dd94-8971-4b77-95c2-fc2387c470f9",
   "metadata": {},
   "outputs": [
    {
     "data": {
      "text/plain": [
       "<torch._C.Generator at 0x7f21f8838cd0>"
      ]
     },
     "execution_count": 2,
     "metadata": {},
     "output_type": "execute_result"
    }
   ],
   "source": [
    "torch.manual_seed(2025)"
   ]
  },
  {
   "cell_type": "code",
   "execution_count": 3,
   "id": "bc299620-e445-4810-91ff-7e83b2d24727",
   "metadata": {},
   "outputs": [],
   "source": [
    "# Parameters\n",
    "N = 120000  # number of non-zero points\n",
    "num_channels = 5  # number of feature channels per point\n",
    "ndim = 3  # number of spatial dimensions (e.g., 3D convolution)\n",
    "batch_size = 4  # number of batches"
   ]
  },
  {
   "cell_type": "code",
   "execution_count": 4,
   "id": "738e3cb1-953d-49ef-8bec-57ac4a9031a8",
   "metadata": {},
   "outputs": [],
   "source": [
    "# Generating random features\n",
    "features = torch.randn(N, num_channels).to('cuda')"
   ]
  },
  {
   "cell_type": "code",
   "execution_count": 5,
   "id": "bbf12c0e-a02d-4add-9dfd-cf975138fa1a",
   "metadata": {},
   "outputs": [
    {
     "data": {
      "text/plain": [
       "torch.Size([120000, 5])"
      ]
     },
     "execution_count": 5,
     "metadata": {},
     "output_type": "execute_result"
    }
   ],
   "source": [
    "features.shape"
   ]
  },
  {
   "cell_type": "code",
   "execution_count": 6,
   "id": "1b3f5d33-90d3-4994-8698-243c252a7222",
   "metadata": {},
   "outputs": [
    {
     "data": {
      "text/plain": [
       "tensor([-4.5412, -4.3313, -4.2671,  ...,  4.4607,  4.7224,  4.7705],\n",
       "       device='cuda:0')"
      ]
     },
     "execution_count": 6,
     "metadata": {},
     "output_type": "execute_result"
    }
   ],
   "source": [
    "features.unique()"
   ]
  },
  {
   "cell_type": "code",
   "execution_count": 7,
   "id": "edcfd507-e00d-421b-8525-08ad3222d3af",
   "metadata": {},
   "outputs": [],
   "source": [
    "# Generating random indices for a 3D sparse tensor with batch indices\n",
    "spatial_shape = (100, 100, 100)  # Define the spatial shape of the sparse tensor\n",
    "indices = torch.zeros(N, ndim + 1, dtype=torch.int32).to('cuda')\n",
    "indices[:, 0] = torch.randint(0, batch_size, (N,))  # Batch indices\n",
    "for i in range(1, ndim + 1):\n",
    "    indices[:, i] = torch.randint(0, spatial_shape[i - 1], (N,))  # Spatial indices"
   ]
  },
  {
   "cell_type": "code",
   "execution_count": 8,
   "id": "83c869b4-67fd-41de-a8e5-8a0b2e6e42d9",
   "metadata": {},
   "outputs": [],
   "source": [
    "# Creating the SparseConvTensor\n",
    "x = spconv.SparseConvTensor(features, indices, spatial_shape, batch_size)"
   ]
  },
  {
   "cell_type": "code",
   "execution_count": 9,
   "id": "fd85b083-d47f-4b38-be5e-7ec2ce69b24f",
   "metadata": {},
   "outputs": [
    {
     "data": {
      "text/plain": [
       "SparseConvTensor[shape=torch.Size([120000, 5])]"
      ]
     },
     "execution_count": 9,
     "metadata": {},
     "output_type": "execute_result"
    }
   ],
   "source": [
    "x"
   ]
  },
  {
   "cell_type": "code",
   "execution_count": 10,
   "id": "ad629ea5-7e52-4f9a-8b55-b9c5e82c8fbb",
   "metadata": {},
   "outputs": [],
   "source": [
    "channels = [5, 16, 16, 32, 32, 64, 64, 128, 128]"
   ]
  },
  {
   "cell_type": "code",
   "execution_count": 11,
   "id": "7fdd8bcd-ec7c-4651-8eab-411bdf2d68ef",
   "metadata": {},
   "outputs": [],
   "source": [
    "spconv3d_list = nn.ModuleList()"
   ]
  },
  {
   "cell_type": "code",
   "execution_count": 12,
   "id": "016a4800-cdd3-42d7-940b-8fc6d6333124",
   "metadata": {},
   "outputs": [],
   "source": [
    "for in_channels, out_channels in zip(channels, channels[1:]):\n",
    "    spconv3d_list.append(\n",
    "        spconv.SubMConv3d(\n",
    "            in_channels=in_channels, \n",
    "            out_channels=out_channels, \n",
    "            kernel_size=3, \n",
    "            stride=1, \n",
    "            padding=0,\n",
    "            bias=False\n",
    "        ).to('cuda')\n",
    "    )"
   ]
  },
  {
   "cell_type": "code",
   "execution_count": 13,
   "id": "578e8510-f49c-4f39-84e9-ec10ddc10eaa",
   "metadata": {},
   "outputs": [
    {
     "data": {
      "text/plain": [
       "ModuleList(\n",
       "  (0): SubMConv3d(5, 16, kernel_size=[3, 3, 3], stride=[1, 1, 1], padding=[0, 0, 0], dilation=[1, 1, 1], output_padding=[0, 0, 0], bias=False, algo=ConvAlgo.MaskImplicitGemm)\n",
       "  (1): SubMConv3d(16, 16, kernel_size=[3, 3, 3], stride=[1, 1, 1], padding=[0, 0, 0], dilation=[1, 1, 1], output_padding=[0, 0, 0], bias=False, algo=ConvAlgo.MaskImplicitGemm)\n",
       "  (2): SubMConv3d(16, 32, kernel_size=[3, 3, 3], stride=[1, 1, 1], padding=[0, 0, 0], dilation=[1, 1, 1], output_padding=[0, 0, 0], bias=False, algo=ConvAlgo.MaskImplicitGemm)\n",
       "  (3): SubMConv3d(32, 32, kernel_size=[3, 3, 3], stride=[1, 1, 1], padding=[0, 0, 0], dilation=[1, 1, 1], output_padding=[0, 0, 0], bias=False, algo=ConvAlgo.MaskImplicitGemm)\n",
       "  (4): SubMConv3d(32, 64, kernel_size=[3, 3, 3], stride=[1, 1, 1], padding=[0, 0, 0], dilation=[1, 1, 1], output_padding=[0, 0, 0], bias=False, algo=ConvAlgo.MaskImplicitGemm)\n",
       "  (5): SubMConv3d(64, 64, kernel_size=[3, 3, 3], stride=[1, 1, 1], padding=[0, 0, 0], dilation=[1, 1, 1], output_padding=[0, 0, 0], bias=False, algo=ConvAlgo.MaskImplicitGemm)\n",
       "  (6): SubMConv3d(64, 128, kernel_size=[3, 3, 3], stride=[1, 1, 1], padding=[0, 0, 0], dilation=[1, 1, 1], output_padding=[0, 0, 0], bias=False, algo=ConvAlgo.MaskImplicitGemm)\n",
       "  (7): SubMConv3d(128, 128, kernel_size=[3, 3, 3], stride=[1, 1, 1], padding=[0, 0, 0], dilation=[1, 1, 1], output_padding=[0, 0, 0], bias=False, algo=ConvAlgo.MaskImplicitGemm)\n",
       ")"
      ]
     },
     "execution_count": 13,
     "metadata": {},
     "output_type": "execute_result"
    }
   ],
   "source": [
    "spconv3d_list"
   ]
  },
  {
   "cell_type": "code",
   "execution_count": 14,
   "id": "257308fd-2300-4ca2-8cb0-94ea3c11a82c",
   "metadata": {},
   "outputs": [
    {
     "name": "stdout",
     "output_type": "stream",
     "text": [
      "0\n",
      "1\n",
      "2\n",
      "3\n",
      "4\n",
      "5\n",
      "6\n",
      "7\n"
     ]
    }
   ],
   "source": [
    "active_sites = [x.features.shape[0]]\n",
    "for idx, module in enumerate(spconv3d_list):\n",
    "    print(idx)\n",
    "    x = module(x)\n",
    "    active_sites.append(x.features.shape[0])"
   ]
  },
  {
   "cell_type": "code",
   "execution_count": 15,
   "id": "4e928aad-c97c-4827-88bf-2702c632bc10",
   "metadata": {},
   "outputs": [
    {
     "data": {
      "text/plain": [
       "[120000, 120000, 120000, 120000, 120000, 120000, 120000, 120000, 120000]"
      ]
     },
     "execution_count": 15,
     "metadata": {},
     "output_type": "execute_result"
    }
   ],
   "source": [
    "active_sites"
   ]
  },
  {
   "cell_type": "code",
   "execution_count": null,
   "id": "be4558ab-c542-4f8f-9793-91e2757ed90b",
   "metadata": {},
   "outputs": [],
   "source": [
    "!nvidia-smi"
   ]
  },
  {
   "cell_type": "markdown",
   "id": "9585be73-a22a-44fa-b09e-e21962c1bdeb",
   "metadata": {},
   "source": [
    "# Centerpoint active sites"
   ]
  },
  {
   "cell_type": "code",
   "execution_count": 1,
   "id": "497c1f68-6b69-42ed-936d-0ecf7c59c8a8",
   "metadata": {},
   "outputs": [],
   "source": [
    "import spconv.pytorch as spconv\n",
    "import torch\n",
    "from torch import nn\n",
    "from functools import partial\n",
    "from IPython.display import Image\n",
    "from pytorch_quantization.tensor_quant import QuantDescriptor\n",
    "from pytorch_quantization.nn.modules.tensor_quantizer import TensorQuantizer\n",
    "from pcdet.utils.spconv_utils import replace_feature"
   ]
  },
  {
   "cell_type": "code",
   "execution_count": 2,
   "id": "b150c078-e4b3-4b52-825c-607713775047",
   "metadata": {},
   "outputs": [
    {
     "data": {
      "text/plain": [
       "<torch._C.Generator at 0x7f3ef56d7c70>"
      ]
     },
     "execution_count": 2,
     "metadata": {},
     "output_type": "execute_result"
    }
   ],
   "source": [
    "torch.manual_seed(2033)"
   ]
  },
  {
   "cell_type": "code",
   "execution_count": 3,
   "id": "701ccd00-7c19-456d-a91c-2d5006be0902",
   "metadata": {},
   "outputs": [],
   "source": [
    "def post_act_block(in_channels, out_channels, kernel_size, indice_key=None, stride=1, padding=0,\n",
    "                   conv_type='subm', norm_fn=None):\n",
    "\n",
    "    if conv_type == 'subm':\n",
    "        conv = spconv.SubMConv3d(in_channels, out_channels, kernel_size, bias=False, indice_key=indice_key)\n",
    "    elif conv_type == 'spconv':\n",
    "        conv = spconv.SparseConv3d(in_channels, out_channels, kernel_size, stride=stride, padding=padding,\n",
    "                                   bias=False, indice_key=indice_key)\n",
    "    elif conv_type == 'inverseconv':\n",
    "        conv = spconv.SparseInverseConv3d(in_channels, out_channels, kernel_size, indice_key=indice_key, bias=False)\n",
    "    else:\n",
    "        raise NotImplementedError\n",
    "\n",
    "    m = spconv.SparseSequential(\n",
    "        conv,\n",
    "        norm_fn(out_channels),\n",
    "        nn.ReLU(),\n",
    "    )\n",
    "\n",
    "    return m\n",
    "\n",
    "\n",
    "class SparseBasicBlock(spconv.SparseModule):\n",
    "    expansion = 1\n",
    "\n",
    "    def __init__(self, inplanes, planes, stride=1, bias=None, norm_fn=None, downsample=None, indice_key=None):\n",
    "        super(SparseBasicBlock, self).__init__()\n",
    "\n",
    "        assert norm_fn is not None\n",
    "        if bias is None:\n",
    "            bias = norm_fn is not None\n",
    "        self.conv1 = spconv.SubMConv3d(\n",
    "            inplanes, planes, kernel_size=3, stride=stride, padding=1, bias=bias, indice_key=indice_key\n",
    "        )\n",
    "        self.bn1 = norm_fn(planes)\n",
    "        self.relu = nn.ReLU()\n",
    "        self.conv2 = spconv.SubMConv3d(\n",
    "            planes, planes, kernel_size=3, stride=stride, padding=1, bias=bias, indice_key=indice_key\n",
    "        )\n",
    "        self.bn2 = norm_fn(planes)\n",
    "        self.downsample = downsample\n",
    "        self.stride = stride\n",
    "\n",
    "    def forward(self, x):\n",
    "        identity = x\n",
    "\n",
    "        out = self.conv1(x)\n",
    "        out = replace_feature(out, self.bn1(out.features))\n",
    "        out = replace_feature(out, self.relu(out.features))\n",
    "\n",
    "        out = self.conv2(out)\n",
    "        out = replace_feature(out, self.bn2(out.features))\n",
    "\n",
    "        if self.downsample is not None:\n",
    "            identity = self.downsample(x)\n",
    "\n",
    "        out = replace_feature(out, out.features + identity.features)\n",
    "        out = replace_feature(out, self.relu(out.features))\n",
    "\n",
    "        return out"
   ]
  },
  {
   "cell_type": "code",
   "execution_count": 4,
   "id": "3b637ebb-3f0e-4eec-8198-80d41a60c676",
   "metadata": {},
   "outputs": [],
   "source": [
    "class VoxelResBackBone8x(nn.Module):\n",
    "    def __init__(self, input_channels=5, **kwargs):\n",
    "        super().__init__()\n",
    "        use_bias = None\n",
    "        norm_fn = partial(nn.BatchNorm1d, eps=1e-3, momentum=0.01)\n",
    "\n",
    "        self.conv_input = spconv.SparseSequential(\n",
    "            spconv.SubMConv3d(input_channels, 16, 3, padding=1, bias=False, indice_key='subm1'),\n",
    "            norm_fn(16),\n",
    "            nn.ReLU(),\n",
    "        )\n",
    "        block = post_act_block\n",
    "\n",
    "        self.conv1 = spconv.SparseSequential(\n",
    "            SparseBasicBlock(16, 16, bias=use_bias, norm_fn=norm_fn, indice_key='res1'),\n",
    "            SparseBasicBlock(16, 16, bias=use_bias, norm_fn=norm_fn, indice_key='res1'),\n",
    "        )\n",
    "\n",
    "        self.conv2 = spconv.SparseSequential(\n",
    "            # [1600, 1408, 41] <- [800, 704, 21]\n",
    "            block(16, 32, 3, norm_fn=norm_fn, stride=2, padding=1, indice_key='spconv2', conv_type='spconv'),\n",
    "            SparseBasicBlock(32, 32, bias=use_bias, norm_fn=norm_fn, indice_key='res2'),\n",
    "            SparseBasicBlock(32, 32, bias=use_bias, norm_fn=norm_fn, indice_key='res2'),\n",
    "        )\n",
    "\n",
    "        self.conv3 = spconv.SparseSequential(\n",
    "            # [800, 704, 21] <- [400, 352, 11]\n",
    "            block(32, 64, 3, norm_fn=norm_fn, stride=2, padding=1, indice_key='spconv3', conv_type='spconv'),\n",
    "            SparseBasicBlock(64, 64, bias=use_bias, norm_fn=norm_fn, indice_key='res3'),\n",
    "            SparseBasicBlock(64, 64, bias=use_bias, norm_fn=norm_fn, indice_key='res3'),\n",
    "        )\n",
    "\n",
    "        self.conv4 = spconv.SparseSequential(\n",
    "            # [400, 352, 11] <- [200, 176, 5]\n",
    "            block(64, 128, 3, norm_fn=norm_fn, stride=2, padding=(0, 1, 1), indice_key='spconv4', conv_type='spconv'),\n",
    "            SparseBasicBlock(128, 128, bias=use_bias, norm_fn=norm_fn, indice_key='res4'),\n",
    "            SparseBasicBlock(128, 128, bias=use_bias, norm_fn=norm_fn, indice_key='res4'),\n",
    "        )\n",
    "\n",
    "        last_pad = 0\n",
    "        self.conv_out = spconv.SparseSequential(\n",
    "            # [200, 150, 5] -> [200, 150, 2]\n",
    "            spconv.SparseConv3d(128, 128, (3, 1, 1), stride=(2, 1, 1), padding=last_pad,\n",
    "                                bias=False, indice_key='spconv_down2'),\n",
    "            norm_fn(128),\n",
    "            nn.ReLU(),\n",
    "        )\n",
    "        self.num_point_features = 128\n",
    "        self.backbone_channels = {\n",
    "            'x_conv1': 16,\n",
    "            'x_conv2': 32,\n",
    "            'x_conv3': 64,\n",
    "            'x_conv4': 128\n",
    "        }\n",
    "\n",
    "    def forward(self, x):\n",
    "        \"\"\"\n",
    "        Args:\n",
    "            batch_dict:\n",
    "                batch_size: int\n",
    "                vfe_features: (num_voxels, C)\n",
    "                voxel_coords: (num_voxels, 4), [batch_idx, z_idx, y_idx, x_idx]\n",
    "        Returns:\n",
    "            batch_dict:\n",
    "                encoded_spconv_tensor: sparse tensor\n",
    "        \"\"\"\n",
    "        x = self.conv_input(x)\n",
    "\n",
    "        x = self.conv1(x)\n",
    "        x = self.conv2(x)\n",
    "        x = self.conv3(x)\n",
    "        x = self.conv4(x)\n",
    "\n",
    "        # for detection head\n",
    "        # [200, 176, 5] -> [200, 176, 2]\n",
    "        out = self.conv_out(x)\n",
    "        \n",
    "        return out"
   ]
  },
  {
   "cell_type": "code",
   "execution_count": 5,
   "id": "5bf521cc-4595-45ed-bd0f-20a3ba44e37a",
   "metadata": {},
   "outputs": [],
   "source": [
    "backbone_3d = VoxelResBackBone8x()"
   ]
  },
  {
   "cell_type": "code",
   "execution_count": 6,
   "id": "a346c2e3-7842-48d0-bf9e-c3f164465f17",
   "metadata": {},
   "outputs": [
    {
     "data": {
      "text/plain": [
       "VoxelResBackBone8x(\n",
       "  (conv_input): SparseSequential(\n",
       "    (0): SubMConv3d(5, 16, kernel_size=[3, 3, 3], stride=[1, 1, 1], padding=[1, 1, 1], dilation=[1, 1, 1], output_padding=[0, 0, 0], bias=False, algo=ConvAlgo.MaskImplicitGemm)\n",
       "    (1): BatchNorm1d(16, eps=0.001, momentum=0.01, affine=True, track_running_stats=True)\n",
       "    (2): ReLU()\n",
       "  )\n",
       "  (conv1): SparseSequential(\n",
       "    (0): SparseBasicBlock(\n",
       "      (conv1): SubMConv3d(16, 16, kernel_size=[3, 3, 3], stride=[1, 1, 1], padding=[1, 1, 1], dilation=[1, 1, 1], output_padding=[0, 0, 0], algo=ConvAlgo.MaskImplicitGemm)\n",
       "      (bn1): BatchNorm1d(16, eps=0.001, momentum=0.01, affine=True, track_running_stats=True)\n",
       "      (relu): ReLU()\n",
       "      (conv2): SubMConv3d(16, 16, kernel_size=[3, 3, 3], stride=[1, 1, 1], padding=[1, 1, 1], dilation=[1, 1, 1], output_padding=[0, 0, 0], algo=ConvAlgo.MaskImplicitGemm)\n",
       "      (bn2): BatchNorm1d(16, eps=0.001, momentum=0.01, affine=True, track_running_stats=True)\n",
       "    )\n",
       "    (1): SparseBasicBlock(\n",
       "      (conv1): SubMConv3d(16, 16, kernel_size=[3, 3, 3], stride=[1, 1, 1], padding=[1, 1, 1], dilation=[1, 1, 1], output_padding=[0, 0, 0], algo=ConvAlgo.MaskImplicitGemm)\n",
       "      (bn1): BatchNorm1d(16, eps=0.001, momentum=0.01, affine=True, track_running_stats=True)\n",
       "      (relu): ReLU()\n",
       "      (conv2): SubMConv3d(16, 16, kernel_size=[3, 3, 3], stride=[1, 1, 1], padding=[1, 1, 1], dilation=[1, 1, 1], output_padding=[0, 0, 0], algo=ConvAlgo.MaskImplicitGemm)\n",
       "      (bn2): BatchNorm1d(16, eps=0.001, momentum=0.01, affine=True, track_running_stats=True)\n",
       "    )\n",
       "  )\n",
       "  (conv2): SparseSequential(\n",
       "    (0): SparseSequential(\n",
       "      (0): SparseConv3d(16, 32, kernel_size=[3, 3, 3], stride=[2, 2, 2], padding=[1, 1, 1], dilation=[1, 1, 1], output_padding=[0, 0, 0], bias=False, algo=ConvAlgo.MaskImplicitGemm)\n",
       "      (1): BatchNorm1d(32, eps=0.001, momentum=0.01, affine=True, track_running_stats=True)\n",
       "      (2): ReLU()\n",
       "    )\n",
       "    (1): SparseBasicBlock(\n",
       "      (conv1): SubMConv3d(32, 32, kernel_size=[3, 3, 3], stride=[1, 1, 1], padding=[1, 1, 1], dilation=[1, 1, 1], output_padding=[0, 0, 0], algo=ConvAlgo.MaskImplicitGemm)\n",
       "      (bn1): BatchNorm1d(32, eps=0.001, momentum=0.01, affine=True, track_running_stats=True)\n",
       "      (relu): ReLU()\n",
       "      (conv2): SubMConv3d(32, 32, kernel_size=[3, 3, 3], stride=[1, 1, 1], padding=[1, 1, 1], dilation=[1, 1, 1], output_padding=[0, 0, 0], algo=ConvAlgo.MaskImplicitGemm)\n",
       "      (bn2): BatchNorm1d(32, eps=0.001, momentum=0.01, affine=True, track_running_stats=True)\n",
       "    )\n",
       "    (2): SparseBasicBlock(\n",
       "      (conv1): SubMConv3d(32, 32, kernel_size=[3, 3, 3], stride=[1, 1, 1], padding=[1, 1, 1], dilation=[1, 1, 1], output_padding=[0, 0, 0], algo=ConvAlgo.MaskImplicitGemm)\n",
       "      (bn1): BatchNorm1d(32, eps=0.001, momentum=0.01, affine=True, track_running_stats=True)\n",
       "      (relu): ReLU()\n",
       "      (conv2): SubMConv3d(32, 32, kernel_size=[3, 3, 3], stride=[1, 1, 1], padding=[1, 1, 1], dilation=[1, 1, 1], output_padding=[0, 0, 0], algo=ConvAlgo.MaskImplicitGemm)\n",
       "      (bn2): BatchNorm1d(32, eps=0.001, momentum=0.01, affine=True, track_running_stats=True)\n",
       "    )\n",
       "  )\n",
       "  (conv3): SparseSequential(\n",
       "    (0): SparseSequential(\n",
       "      (0): SparseConv3d(32, 64, kernel_size=[3, 3, 3], stride=[2, 2, 2], padding=[1, 1, 1], dilation=[1, 1, 1], output_padding=[0, 0, 0], bias=False, algo=ConvAlgo.MaskImplicitGemm)\n",
       "      (1): BatchNorm1d(64, eps=0.001, momentum=0.01, affine=True, track_running_stats=True)\n",
       "      (2): ReLU()\n",
       "    )\n",
       "    (1): SparseBasicBlock(\n",
       "      (conv1): SubMConv3d(64, 64, kernel_size=[3, 3, 3], stride=[1, 1, 1], padding=[1, 1, 1], dilation=[1, 1, 1], output_padding=[0, 0, 0], algo=ConvAlgo.MaskImplicitGemm)\n",
       "      (bn1): BatchNorm1d(64, eps=0.001, momentum=0.01, affine=True, track_running_stats=True)\n",
       "      (relu): ReLU()\n",
       "      (conv2): SubMConv3d(64, 64, kernel_size=[3, 3, 3], stride=[1, 1, 1], padding=[1, 1, 1], dilation=[1, 1, 1], output_padding=[0, 0, 0], algo=ConvAlgo.MaskImplicitGemm)\n",
       "      (bn2): BatchNorm1d(64, eps=0.001, momentum=0.01, affine=True, track_running_stats=True)\n",
       "    )\n",
       "    (2): SparseBasicBlock(\n",
       "      (conv1): SubMConv3d(64, 64, kernel_size=[3, 3, 3], stride=[1, 1, 1], padding=[1, 1, 1], dilation=[1, 1, 1], output_padding=[0, 0, 0], algo=ConvAlgo.MaskImplicitGemm)\n",
       "      (bn1): BatchNorm1d(64, eps=0.001, momentum=0.01, affine=True, track_running_stats=True)\n",
       "      (relu): ReLU()\n",
       "      (conv2): SubMConv3d(64, 64, kernel_size=[3, 3, 3], stride=[1, 1, 1], padding=[1, 1, 1], dilation=[1, 1, 1], output_padding=[0, 0, 0], algo=ConvAlgo.MaskImplicitGemm)\n",
       "      (bn2): BatchNorm1d(64, eps=0.001, momentum=0.01, affine=True, track_running_stats=True)\n",
       "    )\n",
       "  )\n",
       "  (conv4): SparseSequential(\n",
       "    (0): SparseSequential(\n",
       "      (0): SparseConv3d(64, 128, kernel_size=[3, 3, 3], stride=[2, 2, 2], padding=[0, 1, 1], dilation=[1, 1, 1], output_padding=[0, 0, 0], bias=False, algo=ConvAlgo.MaskImplicitGemm)\n",
       "      (1): BatchNorm1d(128, eps=0.001, momentum=0.01, affine=True, track_running_stats=True)\n",
       "      (2): ReLU()\n",
       "    )\n",
       "    (1): SparseBasicBlock(\n",
       "      (conv1): SubMConv3d(128, 128, kernel_size=[3, 3, 3], stride=[1, 1, 1], padding=[1, 1, 1], dilation=[1, 1, 1], output_padding=[0, 0, 0], algo=ConvAlgo.MaskImplicitGemm)\n",
       "      (bn1): BatchNorm1d(128, eps=0.001, momentum=0.01, affine=True, track_running_stats=True)\n",
       "      (relu): ReLU()\n",
       "      (conv2): SubMConv3d(128, 128, kernel_size=[3, 3, 3], stride=[1, 1, 1], padding=[1, 1, 1], dilation=[1, 1, 1], output_padding=[0, 0, 0], algo=ConvAlgo.MaskImplicitGemm)\n",
       "      (bn2): BatchNorm1d(128, eps=0.001, momentum=0.01, affine=True, track_running_stats=True)\n",
       "    )\n",
       "    (2): SparseBasicBlock(\n",
       "      (conv1): SubMConv3d(128, 128, kernel_size=[3, 3, 3], stride=[1, 1, 1], padding=[1, 1, 1], dilation=[1, 1, 1], output_padding=[0, 0, 0], algo=ConvAlgo.MaskImplicitGemm)\n",
       "      (bn1): BatchNorm1d(128, eps=0.001, momentum=0.01, affine=True, track_running_stats=True)\n",
       "      (relu): ReLU()\n",
       "      (conv2): SubMConv3d(128, 128, kernel_size=[3, 3, 3], stride=[1, 1, 1], padding=[1, 1, 1], dilation=[1, 1, 1], output_padding=[0, 0, 0], algo=ConvAlgo.MaskImplicitGemm)\n",
       "      (bn2): BatchNorm1d(128, eps=0.001, momentum=0.01, affine=True, track_running_stats=True)\n",
       "    )\n",
       "  )\n",
       "  (conv_out): SparseSequential(\n",
       "    (0): SparseConv3d(128, 128, kernel_size=[3, 1, 1], stride=[2, 1, 1], padding=[0, 0, 0], dilation=[1, 1, 1], output_padding=[0, 0, 0], bias=False, algo=ConvAlgo.MaskImplicitGemm)\n",
       "    (1): BatchNorm1d(128, eps=0.001, momentum=0.01, affine=True, track_running_stats=True)\n",
       "    (2): ReLU()\n",
       "  )\n",
       ")"
      ]
     },
     "execution_count": 6,
     "metadata": {},
     "output_type": "execute_result"
    }
   ],
   "source": [
    "backbone_3d.to('cuda')"
   ]
  },
  {
   "cell_type": "code",
   "execution_count": 7,
   "id": "51ce0dda-6ca0-475b-8533-bcd679e6c81c",
   "metadata": {},
   "outputs": [],
   "source": [
    "# Parameters\n",
    "N = 120000  # number of non-zero points\n",
    "num_channels = 5  # number of feature channels per point\n",
    "ndim = 3  # number of spatial dimensions (e.g., 3D convolution)\n",
    "batch_size = 1  # number of batches"
   ]
  },
  {
   "cell_type": "code",
   "execution_count": 8,
   "id": "48eaab75-1341-4885-9d1b-15b8b9a024ad",
   "metadata": {},
   "outputs": [],
   "source": [
    "# Generating random features\n",
    "features = torch.randn(N, num_channels).to('cuda')"
   ]
  },
  {
   "cell_type": "code",
   "execution_count": 9,
   "id": "a3812403-7700-403e-bb89-52c8e5a276ab",
   "metadata": {},
   "outputs": [
    {
     "data": {
      "text/plain": [
       "torch.Size([120000, 5])"
      ]
     },
     "execution_count": 9,
     "metadata": {},
     "output_type": "execute_result"
    }
   ],
   "source": [
    "features.shape"
   ]
  },
  {
   "cell_type": "code",
   "execution_count": 10,
   "id": "9f3203aa-52c4-4191-af80-44e9735dc120",
   "metadata": {},
   "outputs": [
    {
     "data": {
      "text/plain": [
       "tensor([-4.4914, -4.3331, -4.3020,  ...,  4.4891,  4.6000,  4.6248],\n",
       "       device='cuda:0')"
      ]
     },
     "execution_count": 10,
     "metadata": {},
     "output_type": "execute_result"
    }
   ],
   "source": [
    "features.unique()"
   ]
  },
  {
   "cell_type": "code",
   "execution_count": 11,
   "id": "1290eb88-1c26-4178-aace-d53198fd5583",
   "metadata": {},
   "outputs": [],
   "source": [
    "# Generating random indices for a 3D sparse tensor with batch indices\n",
    "spatial_shape = (100, 100, 100)  # Define the spatial shape of the sparse tensor\n",
    "indices = torch.zeros(N, ndim + 1, dtype=torch.int32).to('cuda')\n",
    "indices[:, 0] = torch.randint(0, batch_size, (N,))  # Batch indices\n",
    "for i in range(1, ndim + 1):\n",
    "    indices[:, i] = torch.randint(0, spatial_shape[i - 1], (N,))  # Spatial indices"
   ]
  },
  {
   "cell_type": "code",
   "execution_count": 12,
   "id": "e596f608-e4f8-4ae0-ac2f-90c92436164c",
   "metadata": {},
   "outputs": [],
   "source": [
    "# Creating the SparseConvTensor\n",
    "x = spconv.SparseConvTensor(features, indices, spatial_shape, batch_size)"
   ]
  },
  {
   "cell_type": "code",
   "execution_count": 13,
   "id": "923fcfb7-37f7-41aa-880b-1501d4f403a6",
   "metadata": {},
   "outputs": [
    {
     "data": {
      "text/plain": [
       "SparseConvTensor[shape=torch.Size([120000, 5])]"
      ]
     },
     "execution_count": 13,
     "metadata": {},
     "output_type": "execute_result"
    }
   ],
   "source": [
    "x"
   ]
  },
  {
   "cell_type": "code",
   "execution_count": 14,
   "id": "64c68e31-b68c-465f-ab92-eb7cf912009d",
   "metadata": {},
   "outputs": [],
   "source": [
    "features = x.features.clone()\n",
    "features *= 20\n",
    "x = x.replace_feature(features)"
   ]
  },
  {
   "cell_type": "code",
   "execution_count": 15,
   "id": "d8e02c72-cd11-4285-a773-fba92385d540",
   "metadata": {},
   "outputs": [],
   "source": [
    "active_sites = [x.features.shape[0]]\n",
    "layer_name = []\n",
    "for name, module in backbone_3d.named_modules():\n",
    "    if isinstance(module, (spconv.SparseConv3d, spconv.SubMConv3d)):\n",
    "        layer_name.append(name)\n",
    "        x = module(x)\n",
    "        active_sites.append(x.features.shape[0])"
   ]
  },
  {
   "cell_type": "code",
   "execution_count": 16,
   "id": "398fce46-12d5-4ada-ae15-925d7e27c3be",
   "metadata": {},
   "outputs": [
    {
     "data": {
      "text/plain": [
       "[120000,\n",
       " 120000,\n",
       " 120000,\n",
       " 120000,\n",
       " 120000,\n",
       " 120000,\n",
       " 119633,\n",
       " 119633,\n",
       " 119633,\n",
       " 119633,\n",
       " 119633,\n",
       " 15625,\n",
       " 15625,\n",
       " 15625,\n",
       " 15625,\n",
       " 15625,\n",
       " 2028,\n",
       " 2028,\n",
       " 2028,\n",
       " 2028,\n",
       " 2028,\n",
       " 845]"
      ]
     },
     "execution_count": 16,
     "metadata": {},
     "output_type": "execute_result"
    }
   ],
   "source": [
    "active_sites"
   ]
  },
  {
   "cell_type": "code",
   "execution_count": 17,
   "id": "52d7d916-db01-4253-a611-032faea07f4c",
   "metadata": {},
   "outputs": [
    {
     "data": {
      "text/plain": [
       "['conv_input.0',\n",
       " 'conv1.0.conv1',\n",
       " 'conv1.0.conv2',\n",
       " 'conv1.1.conv1',\n",
       " 'conv1.1.conv2',\n",
       " 'conv2.0.0',\n",
       " 'conv2.1.conv1',\n",
       " 'conv2.1.conv2',\n",
       " 'conv2.2.conv1',\n",
       " 'conv2.2.conv2',\n",
       " 'conv3.0.0',\n",
       " 'conv3.1.conv1',\n",
       " 'conv3.1.conv2',\n",
       " 'conv3.2.conv1',\n",
       " 'conv3.2.conv2',\n",
       " 'conv4.0.0',\n",
       " 'conv4.1.conv1',\n",
       " 'conv4.1.conv2',\n",
       " 'conv4.2.conv1',\n",
       " 'conv4.2.conv2',\n",
       " 'conv_out.0']"
      ]
     },
     "execution_count": 17,
     "metadata": {},
     "output_type": "execute_result"
    }
   ],
   "source": [
    "layer_name"
   ]
  },
  {
   "cell_type": "markdown",
   "id": "63bf1f41-1548-49b0-a79c-b24d079007a1",
   "metadata": {},
   "source": [
    "# Test for QConv2d"
   ]
  },
  {
   "cell_type": "code",
   "execution_count": 1,
   "id": "a0776daf-e9f8-4564-8908-26e4c99194db",
   "metadata": {},
   "outputs": [],
   "source": [
    "import spconv.pytorch as spconv\n",
    "from spconv.pytorch import SparseConvTensor\n",
    "from spconv.pytorch.modules import SparseModule\n",
    "import math\n",
    "import torch\n",
    "from torch import nn\n",
    "from IPython.display import Image\n",
    "from pytorch_quantization.tensor_quant import QuantDescriptor\n",
    "from pytorch_quantization.nn.modules.tensor_quantizer import TensorQuantizer"
   ]
  },
  {
   "cell_type": "code",
   "execution_count": 2,
   "id": "9e0915d4-a76f-469a-8c38-b0db5ae846d0",
   "metadata": {},
   "outputs": [],
   "source": [
    "import random"
   ]
  },
  {
   "cell_type": "code",
   "execution_count": 3,
   "id": "f6270f71-f8b7-49b3-8dd7-c5f988b4a61f",
   "metadata": {},
   "outputs": [
    {
     "data": {
      "text/plain": [
       "<torch._C.Generator at 0x7fe5c829bf10>"
      ]
     },
     "execution_count": 3,
     "metadata": {},
     "output_type": "execute_result"
    }
   ],
   "source": [
    "torch.manual_seed(2025)"
   ]
  },
  {
   "cell_type": "code",
   "execution_count": 4,
   "id": "3d1b20f4-176c-4fb4-a1fb-a096a7b2894f",
   "metadata": {},
   "outputs": [],
   "source": [
    "# Parameters\n",
    "N = 1200  # number of non-zero points\n",
    "num_channels = 5  # number of feature channels per point\n",
    "ndim = 2  # number of spatial dimensions (e.g., 3D convolution)\n",
    "batch_size = 1  # number of batches"
   ]
  },
  {
   "cell_type": "code",
   "execution_count": 5,
   "id": "4d171ef5-1e88-4892-935b-fb1cbe430341",
   "metadata": {},
   "outputs": [],
   "source": [
    "# Generating random features\n",
    "features = torch.randn(N, num_channels).to('cuda')"
   ]
  },
  {
   "cell_type": "code",
   "execution_count": 6,
   "id": "ab457b08-2081-429e-8ee6-a187f7851dcb",
   "metadata": {},
   "outputs": [
    {
     "data": {
      "text/plain": [
       "torch.Size([1200, 5])"
      ]
     },
     "execution_count": 6,
     "metadata": {},
     "output_type": "execute_result"
    }
   ],
   "source": [
    "features.shape"
   ]
  },
  {
   "cell_type": "code",
   "execution_count": 7,
   "id": "580f149b-f5d6-4d02-85bb-f927522d91f9",
   "metadata": {},
   "outputs": [
    {
     "data": {
      "text/plain": [
       "torch.Size([5999])"
      ]
     },
     "execution_count": 7,
     "metadata": {},
     "output_type": "execute_result"
    }
   ],
   "source": [
    "features.unique().shape"
   ]
  },
  {
   "cell_type": "code",
   "execution_count": 8,
   "id": "41407dfb-734f-4220-9d6b-11ae6f77637f",
   "metadata": {},
   "outputs": [],
   "source": [
    "# Generating random indices for a 3D sparse tensor with batch indices\n",
    "spatial_shape = (100, 100)  # Define the spatial shape of the sparse tensor\n",
    "indices = torch.zeros(N, ndim + 1, dtype=torch.int32).to('cuda')\n",
    "indices[:, 0] = torch.randint(0, batch_size, (N,))  # Batch indices\n",
    "indices_list = []\n",
    "for i in range(N):\n",
    "    combo = (random.randint(0, 99), random.randint(0, 99))\n",
    "    while combo in indices_list:\n",
    "        combo = (random.randint(0, 99), random.randint(0, 99))\n",
    "    indices[i, 1:] = torch.tensor(combo)\n",
    "    indices_list.append(combo)"
   ]
  },
  {
   "cell_type": "code",
   "execution_count": 9,
   "id": "142a23dd-62d7-4740-aba2-a119aa09d347",
   "metadata": {},
   "outputs": [
    {
     "data": {
      "text/plain": [
       "1200"
      ]
     },
     "execution_count": 9,
     "metadata": {},
     "output_type": "execute_result"
    }
   ],
   "source": [
    "len(indices_list)"
   ]
  },
  {
   "cell_type": "code",
   "execution_count": 10,
   "id": "98dab4b3-057a-4b18-9980-bf9f383465d5",
   "metadata": {},
   "outputs": [],
   "source": [
    "# Creating the SparseConvTensor\n",
    "x = spconv.SparseConvTensor(features, indices, spatial_shape, batch_size)"
   ]
  },
  {
   "cell_type": "code",
   "execution_count": 11,
   "id": "227e0fef-4529-42d3-8cd2-68ea00cb8d76",
   "metadata": {},
   "outputs": [
    {
     "data": {
      "text/plain": [
       "torch.Size([1200, 3])"
      ]
     },
     "execution_count": 11,
     "metadata": {},
     "output_type": "execute_result"
    }
   ],
   "source": [
    "x.indices.unique(dim=0).shape"
   ]
  },
  {
   "cell_type": "code",
   "execution_count": 12,
   "id": "1f354e1c-941b-40dd-9c1b-3454b82a6fe5",
   "metadata": {},
   "outputs": [
    {
     "data": {
      "text/plain": [
       "torch.Size([1200, 5])"
      ]
     },
     "execution_count": 12,
     "metadata": {},
     "output_type": "execute_result"
    }
   ],
   "source": [
    "x.features.shape"
   ]
  },
  {
   "cell_type": "code",
   "execution_count": 13,
   "id": "2a206270-1deb-463d-a082-d9d528de07cb",
   "metadata": {},
   "outputs": [
    {
     "data": {
      "text/plain": [
       "tensor([[[[ 0.0000, -0.6998,  0.0000,  ...,  0.0000,  0.0000,  0.0000],\n",
       "          [ 0.0000,  0.0000,  0.0000,  ...,  0.0000,  0.0000,  0.0000],\n",
       "          [ 0.0000,  0.0000,  0.0000,  ...,  0.0000,  0.0000,  0.0000],\n",
       "          ...,\n",
       "          [ 0.0000,  0.0000,  0.0000,  ...,  1.3741, -0.6738, -0.3497],\n",
       "          [-1.4122,  0.0000,  0.0000,  ...,  0.0000,  0.0000,  0.0000],\n",
       "          [ 0.0000,  0.0000,  0.0000,  ...,  0.0000,  0.0000,  0.0000]],\n",
       "\n",
       "         [[ 0.0000, -0.1509,  0.0000,  ...,  0.0000,  0.0000,  0.0000],\n",
       "          [ 0.0000,  0.0000,  0.0000,  ...,  0.0000,  0.0000,  0.0000],\n",
       "          [ 0.0000,  0.0000,  0.0000,  ...,  0.0000,  0.0000,  0.0000],\n",
       "          ...,\n",
       "          [ 0.0000,  0.0000,  0.0000,  ...,  0.5074, -0.3952,  2.0795],\n",
       "          [-1.5065,  0.0000,  0.0000,  ...,  0.0000,  0.0000,  0.0000],\n",
       "          [ 0.0000,  0.0000,  0.0000,  ...,  0.0000,  0.0000,  0.0000]],\n",
       "\n",
       "         [[ 0.0000, -0.1656,  0.0000,  ...,  0.0000,  0.0000,  0.0000],\n",
       "          [ 0.0000,  0.0000,  0.0000,  ...,  0.0000,  0.0000,  0.0000],\n",
       "          [ 0.0000,  0.0000,  0.0000,  ...,  0.0000,  0.0000,  0.0000],\n",
       "          ...,\n",
       "          [ 0.0000,  0.0000,  0.0000,  ...,  0.0526, -0.5853, -0.4222],\n",
       "          [-1.4689,  0.0000,  0.0000,  ...,  0.0000,  0.0000,  0.0000],\n",
       "          [ 0.0000,  0.0000,  0.0000,  ...,  0.0000,  0.0000,  0.0000]],\n",
       "\n",
       "         [[ 0.0000, -1.6736,  0.0000,  ...,  0.0000,  0.0000,  0.0000],\n",
       "          [ 0.0000,  0.0000,  0.0000,  ...,  0.0000,  0.0000,  0.0000],\n",
       "          [ 0.0000,  0.0000,  0.0000,  ...,  0.0000,  0.0000,  0.0000],\n",
       "          ...,\n",
       "          [ 0.0000,  0.0000,  0.0000,  ..., -0.1447, -1.3680, -1.2105],\n",
       "          [ 0.1346,  0.0000,  0.0000,  ...,  0.0000,  0.0000,  0.0000],\n",
       "          [ 0.0000,  0.0000,  0.0000,  ...,  0.0000,  0.0000,  0.0000]],\n",
       "\n",
       "         [[ 0.0000,  1.5641,  0.0000,  ...,  0.0000,  0.0000,  0.0000],\n",
       "          [ 0.0000,  0.0000,  0.0000,  ...,  0.0000,  0.0000,  0.0000],\n",
       "          [ 0.0000,  0.0000,  0.0000,  ...,  0.0000,  0.0000,  0.0000],\n",
       "          ...,\n",
       "          [ 0.0000,  0.0000,  0.0000,  ...,  0.3567,  0.2050, -0.8448],\n",
       "          [ 0.4691,  0.0000,  0.0000,  ...,  0.0000,  0.0000,  0.0000],\n",
       "          [ 0.0000,  0.0000,  0.0000,  ...,  0.0000,  0.0000,  0.0000]]]],\n",
       "       device='cuda:0')"
      ]
     },
     "execution_count": 13,
     "metadata": {},
     "output_type": "execute_result"
    }
   ],
   "source": [
    "x.dense()"
   ]
  },
  {
   "cell_type": "code",
   "execution_count": 14,
   "id": "ec8ec9e3-53a9-4d59-858c-5f3d40ad837b",
   "metadata": {},
   "outputs": [],
   "source": [
    "def my_transfer_torch_to_quantization(nn_instance, quant_mudule, scaling_factor=None, w_bits=None, act_bits=None):\n",
    "    \"\"\"\n",
    "    This function mainly instanciate the quantized layer,\n",
    "    migrate all the attributes of the original layer to the quantized layer,\n",
    "    and add the default descriptor to the quantized layer, i.e., how should weight and quantization be quantized.\n",
    "    :param nn_instance: original layer\n",
    "    :param quant_mudule: corresponding class of the quantized layer\n",
    "    :return: no return value\n",
    "    \"\"\"\n",
    "    if scaling_factor is None:\n",
    "        raise ValueError(\"Please specify the scaling_factor parameter!\")\n",
    "    if act_bits is None or w_bits is None:\n",
    "        raise ValueError(\"Please specify the num_bits parameter!\")\n",
    "    quant_instance = quant_mudule.__new__(quant_mudule)\n",
    "    for k, val in vars(nn_instance).items():\n",
    "        if isinstance(val, tuple):\n",
    "            val = val[0]\n",
    "        setattr(quant_instance, k, val)\n",
    "    my_weight_descriptor = QuantDescriptor(\n",
    "        num_bits=w_bits, \n",
    "        axis=(0), \n",
    "    )\n",
    "    my_activation_descriptor = QuantDescriptor(\n",
    "        num_bits=act_bits,\n",
    "        # unsigned=True\n",
    "    )\n",
    "    my_activation_quantizer = TensorQuantizer(my_activation_descriptor)\n",
    "    my_weight_quantizer = TensorQuantizer(my_weight_descriptor)\n",
    "    quant_instance._input_quantizer = my_activation_quantizer\n",
    "    quant_instance._weight_quantizer = my_weight_quantizer\n",
    "    quant_instance.scaling_factor = scaling_factor\n",
    "    return quant_instance"
   ]
  },
  {
   "cell_type": "code",
   "execution_count": 15,
   "id": "9e7a22f2-be97-45b2-bd06-a906f2ee85ae",
   "metadata": {},
   "outputs": [],
   "source": [
    "class QSubM2d(nn.Module):\n",
    "    def __init__(self, in_channels, out_channels, kernel_size, stride=1, padding=0, dilation=1, input_quantizer=None, weight_quantizer=None, device='cuda', scaling_factor=None):\n",
    "        super(MyQuantConv2d, self).__init__()\n",
    "        self.in_channels = in_channels\n",
    "        self.out_channels = out_channels\n",
    "        self.kernel_size = kernel_size\n",
    "        self.stride = stride\n",
    "        self.padding = padding\n",
    "        self.dilation = dilation\n",
    "        self._input_quantizer = input_quantizer\n",
    "        self._weight_quantizer = weight_quantizer\n",
    "        self.scaling_factor = scaling_factor\n",
    "\n",
    "        self.weight = Parameter(torch.Tensor(out_channels, in_channels, kernel_size, kernel_size)).to(device)\n",
    "\n",
    "    def forward(self, input):\n",
    "        if self.scaling_factor is None:\n",
    "            raise ValueError(\"Please specify the scaling_factor parameter!\")\n",
    "\n",
    "        print('input:', input.shape)\n",
    "        \n",
    "        h_in, w_in = input.shape[2:]\n",
    "\n",
    "        if isinstance(self.padding, (list)):\n",
    "            self.padding = self.padding[0]\n",
    "        if isinstance(self.dilation, (list)):\n",
    "            self.dilation = self.dilation[0]\n",
    "        if isinstance(self.kernel_size, (list)):\n",
    "            self.kernel_size = self.kernel_size[0]\n",
    "        if isinstance(self.stride, (list)):\n",
    "            self.stride = self.stride[0]\n",
    "        \n",
    "        # x: [bs ksize num_sliding]\n",
    "\n",
    "        x = torch.nn.functional.unfold(input, kernel_size=self.kernel_size, padding=self.padding, stride=self.stride)\n",
    "\n",
    "        print('x after unfold:', x.shape)\n",
    "\n",
    "        bs = input.shape[0]\n",
    "        ksize = self.in_channels*self.kernel_size*self.kernel_size\n",
    "        num_sliding = x.shape[2]\n",
    "\n",
    "        assert x.shape[1] == ksize\n",
    "\n",
    "        # x: [bs*num_sliding ksize]\n",
    "        x = torch.transpose(x, 1, 2).reshape(-1, ksize)\n",
    "\n",
    "        print('x after reshape:', x.shape)\n",
    "\n",
    "        weight_flat = self.weight.data.clone().view(self.out_channels, ksize)\n",
    "\n",
    "        tensor_x = x.abs().detach()\n",
    "        tensor_weight = weight_flat.abs().detach()\n",
    "\n",
    "        act_scale = torch.max(tensor_x, dim=0)[0]\n",
    "        weight_scale = torch.max(tensor_weight, dim=0)[0]\n",
    "\n",
    "        scale = act_scale**self.scaling_factor/weight_scale**(1-self.scaling_factor)\n",
    "        scale[scale==0] = 1\n",
    "\n",
    "        # x /= scale\n",
    "        # weight_flat = weight_flat * scale\n",
    "\n",
    "        print('x before quantizer:', x.shape)\n",
    "\n",
    "        x = self._input_quantizer(x)\n",
    "        weight_flat = self._weight_quantizer(weight_flat)\n",
    "\n",
    "        print('x after quantizer:', x.shape)\n",
    "\n",
    "        x = x.reshape(bs, x.shape[0], -1).transpose(1, 2)\n",
    "\n",
    "        ones = torch.ones_like(x)\n",
    "\n",
    "        x = torch.nn.functional.fold(x, (h_in, w_in), kernel_size=self.kernel_size, dilation=self.dilation, padding=self.padding, stride=self.stride)\n",
    "\n",
    "        ones = torch.nn.functional.fold(ones, (h_in, w_in), kernel_size=self.kernel_size, dilation=self.dilation, padding=self.padding, stride=self.stride)\n",
    "\n",
    "        x /= ones\n",
    "\n",
    "        print('x after fold:', x.shape)\n",
    "\n",
    "        x = x.permute(0, 2, 3, 1)\n",
    "\n",
    "        # x = x.reshape(bs, num_sliding, self.out_channels)\n",
    "        # x = torch.transpose(x, 1, 2)\n",
    "        # x = x.reshape(bs, self.out_channels, h_out, w_out)\n",
    "\n",
    "        weight = weight_flat.view(self.out_channels, self.in_channels, self.kernel_size, self.kernel_size).permute(0, 2, 3, 1).contiguous()\n",
    "        return weight, x"
   ]
  },
  {
   "cell_type": "code",
   "execution_count": 16,
   "id": "5c0c6138-343d-47a0-b4e5-7b10e6184b6e",
   "metadata": {},
   "outputs": [],
   "source": [
    "class SQSubM2d(nn.Module):\n",
    "    def __init__(self, in_channels, out_channels, kernel_size, stride=1, padding=0, dilation=1, input_quantizer=None, weight_quantizer=None, device='cuda', scaling_factor=None):\n",
    "        super(MyQuantConv2d, self).__init__()\n",
    "        self.in_channels = in_channels\n",
    "        self.out_channels = out_channels\n",
    "        self.kernel_size = kernel_size\n",
    "        self.stride = stride\n",
    "        self.padding = padding\n",
    "        self.dilation = dilation\n",
    "        self._input_quantizer = input_quantizer\n",
    "        self._weight_quantizer = weight_quantizer\n",
    "        self.scaling_factor = scaling_factor\n",
    "\n",
    "        self.weight = Parameter(torch.Tensor(out_channels, in_channels, kernel_size, kernel_size)).to(device)\n",
    "\n",
    "    def forward(self, input):\n",
    "        if self.scaling_factor is None:\n",
    "            raise ValueError(\"Please specify the scaling_factor parameter!\")\n",
    "\n",
    "        print('input:', input.shape)\n",
    "        \n",
    "        h_in, w_in = input.shape[2:]\n",
    "\n",
    "        if isinstance(self.padding, (list)):\n",
    "            self.padding = self.padding[0]\n",
    "        if isinstance(self.dilation, (list)):\n",
    "            self.dilation = self.dilation[0]\n",
    "        if isinstance(self.kernel_size, (list)):\n",
    "            self.kernel_size = self.kernel_size[0]\n",
    "        if isinstance(self.stride, (list)):\n",
    "            self.stride = self.stride[0]\n",
    "        \n",
    "        # x: [bs ksize num_sliding]\n",
    "\n",
    "        x = torch.nn.functional.unfold(input, kernel_size=self.kernel_size, padding=self.padding, stride=self.stride)\n",
    "\n",
    "        print('x after unfold:', x.shape)\n",
    "\n",
    "        bs = input.shape[0]\n",
    "        ksize = self.in_channels*self.kernel_size*self.kernel_size\n",
    "        num_sliding = x.shape[2]\n",
    "\n",
    "        assert x.shape[1] == ksize\n",
    "\n",
    "        # x: [bs*num_sliding ksize]\n",
    "        x = torch.transpose(x, 1, 2).reshape(-1, ksize)\n",
    "\n",
    "        print('x after reshape:', x.shape)\n",
    "\n",
    "        weight_flat = self.weight.data.clone().view(self.out_channels, ksize)\n",
    "\n",
    "        tensor_x = x.abs().detach()\n",
    "        tensor_weight = weight_flat.abs().detach()\n",
    "\n",
    "        act_scale = torch.max(tensor_x, dim=0)[0]\n",
    "        weight_scale = torch.max(tensor_weight, dim=0)[0]\n",
    "\n",
    "        scale = act_scale**self.scaling_factor/weight_scale**(1-self.scaling_factor)\n",
    "        scale[scale==0] = 1\n",
    "\n",
    "        x /= scale\n",
    "        weight_flat = weight_flat * scale\n",
    "\n",
    "        print('x before quantizer:', x.shape)\n",
    "\n",
    "        x = self._input_quantizer(x)\n",
    "        weight_flat = self._weight_quantizer(weight_flat)\n",
    "\n",
    "        print('x after quantizer:', x.shape)\n",
    "\n",
    "        x = x.reshape(bs, x.shape[0], -1).transpose(1, 2)\n",
    "\n",
    "        ones = torch.ones_like(x)\n",
    "\n",
    "        x = torch.nn.functional.fold(x, (h_in, w_in), kernel_size=self.kernel_size, dilation=self.dilation, padding=self.padding, stride=self.stride)\n",
    "\n",
    "        ones = torch.nn.functional.fold(ones, (h_in, w_in), kernel_size=self.kernel_size, dilation=self.dilation, padding=self.padding, stride=self.stride)\n",
    "\n",
    "        x /= ones\n",
    "\n",
    "        print('x after fold:', x.shape)\n",
    "\n",
    "        x = x.permute(0, 2, 3, 1)\n",
    "\n",
    "        # x = x.reshape(bs, num_sliding, self.out_channels)\n",
    "        # x = torch.transpose(x, 1, 2)\n",
    "        # x = x.reshape(bs, self.out_channels, h_out, w_out)\n",
    "\n",
    "        weight = weight_flat.view(self.out_channels, self.in_channels, self.kernel_size, self.kernel_size).permute(0, 2, 3, 1).contiguous()\n",
    "        return weight, x"
   ]
  },
  {
   "cell_type": "code",
   "execution_count": 17,
   "id": "2ecd50fe-b168-466f-a64e-55e8691cfae4",
   "metadata": {},
   "outputs": [],
   "source": [
    "class SQConv2d(SparseModule):\n",
    "    def __init__(self, sqsubm2d, subm2d):\n",
    "        super().__init__()\n",
    "        self.sqsubm2d = sqsubm2d\n",
    "        self.subm2d = subm2d\n",
    "        self.sqsubm2d.weight.data = self.subm2d.weight.data.permute(0, 3, 1, 2).contiguous()\n",
    "        return\n",
    "\n",
    "    def forward(self, x):\n",
    "        print(\"x inside SQConv2d 1:\", x.features.shape)\n",
    "        x = x.dense()\n",
    "        print(\"x dense:\\n\", x)\n",
    "        w, x = self.sqsubm2d(x)\n",
    "        print(\"x dense after sqsubm2d:\\n\", x)\n",
    "        print(\"x shape dense after sqsubm2d:\\n\", x.shape)\n",
    "        self.subm2d.weight.data = w\n",
    "        x = SparseConvTensor.from_dense(x)\n",
    "        x = self.subm2d(x)\n",
    "        print(\"x inside SQConv2d 2:\", x.features.shape)\n",
    "        return x"
   ]
  },
  {
   "cell_type": "code",
   "execution_count": 18,
   "id": "e3f4e62e-18ab-46a9-8134-fae7c794df39",
   "metadata": {},
   "outputs": [],
   "source": [
    "spconv2d = spconv.SparseConv2d(\n",
    "    in_channels=5, \n",
    "    out_channels=16, \n",
    "    kernel_size=3, \n",
    "    stride=1,\n",
    "    padding=1,\n",
    "    bias=False\n",
    ")"
   ]
  },
  {
   "cell_type": "code",
   "execution_count": 19,
   "id": "09c06159-5a79-4ef6-ba1f-fa688c51f763",
   "metadata": {},
   "outputs": [
    {
     "data": {
      "text/plain": [
       "SparseConv2d(5, 16, kernel_size=[3, 3], stride=[1, 1], padding=[1, 1], dilation=[1, 1], output_padding=[0, 0], bias=False, algo=ConvAlgo.MaskImplicitGemm)"
      ]
     },
     "execution_count": 19,
     "metadata": {},
     "output_type": "execute_result"
    }
   ],
   "source": [
    "spconv2d.to('cuda')"
   ]
  },
  {
   "cell_type": "code",
   "execution_count": 20,
   "id": "ffdb7446-1737-456d-9b96-0ada06d86cc3",
   "metadata": {},
   "outputs": [
    {
     "data": {
      "text/plain": [
       "torch.Size([16, 3, 3, 5])"
      ]
     },
     "execution_count": 20,
     "metadata": {},
     "output_type": "execute_result"
    }
   ],
   "source": [
    "spconv2d.weight.data.shape"
   ]
  },
  {
   "cell_type": "code",
   "execution_count": 21,
   "id": "8c2e6b05-7561-4a7e-9354-541fa94a913c",
   "metadata": {},
   "outputs": [],
   "source": [
    "sq_spconv2d = my_transfer_torch_to_quantization(spconv2d, SQSubM2d, 0.5, 8, 8)\n",
    "q_spconv2d = my_transfer_torch_to_quantization(spconv2d, QSubM2d, 0.5, 8, 8)"
   ]
  },
  {
   "cell_type": "code",
   "execution_count": 22,
   "id": "7f4fba02-3828-45a2-adec-e8a87aaf3c06",
   "metadata": {},
   "outputs": [],
   "source": [
    "new_sq_spconv2d = SQConv2d(sqsubm2d = sq_spconv2d, subm2d = spconv2d)\n",
    "new_q_spconv2d = SQConv2d(sqsubm2d = q_spconv2d, subm2d = spconv2d)"
   ]
  },
  {
   "cell_type": "code",
   "execution_count": 23,
   "id": "57e4ded7-90e0-4795-8bb7-e38bd259082d",
   "metadata": {},
   "outputs": [
    {
     "data": {
      "text/plain": [
       "tensor([[-1.1607, -1.5591,  0.7782, -0.9990, -0.3729],\n",
       "        [-0.1594,  0.2836, -1.1234,  0.9813, -1.7471],\n",
       "        [-0.2819,  0.1437,  1.6156,  0.1340,  0.2344],\n",
       "        ...,\n",
       "        [ 0.2004,  0.4344, -1.5083, -0.5272, -1.1726],\n",
       "        [-0.5632, -0.0950, -0.1598,  0.4259, -0.4543],\n",
       "        [ 0.1456,  1.8841, -0.1952, -0.3375,  2.0834]], device='cuda:0')"
      ]
     },
     "execution_count": 23,
     "metadata": {},
     "output_type": "execute_result"
    }
   ],
   "source": [
    "x.features"
   ]
  },
  {
   "cell_type": "code",
   "execution_count": 24,
   "id": "ea8841a4-2e5f-47b8-8ff4-0eb9ac407a78",
   "metadata": {},
   "outputs": [],
   "source": [
    "y1 = spconv2d(x)"
   ]
  },
  {
   "cell_type": "code",
   "execution_count": 25,
   "id": "bbcb45af-7813-474a-8240-63b0a7921517",
   "metadata": {},
   "outputs": [
    {
     "name": "stdout",
     "output_type": "stream",
     "text": [
      "x inside SQConv2d 1: torch.Size([1200, 5])\n",
      "x dense:\n",
      " tensor([[[[ 0.0000, -0.6998,  0.0000,  ...,  0.0000,  0.0000,  0.0000],\n",
      "          [ 0.0000,  0.0000,  0.0000,  ...,  0.0000,  0.0000,  0.0000],\n",
      "          [ 0.0000,  0.0000,  0.0000,  ...,  0.0000,  0.0000,  0.0000],\n",
      "          ...,\n",
      "          [ 0.0000,  0.0000,  0.0000,  ...,  1.3741, -0.6738, -0.3497],\n",
      "          [-1.4122,  0.0000,  0.0000,  ...,  0.0000,  0.0000,  0.0000],\n",
      "          [ 0.0000,  0.0000,  0.0000,  ...,  0.0000,  0.0000,  0.0000]],\n",
      "\n",
      "         [[ 0.0000, -0.1509,  0.0000,  ...,  0.0000,  0.0000,  0.0000],\n",
      "          [ 0.0000,  0.0000,  0.0000,  ...,  0.0000,  0.0000,  0.0000],\n",
      "          [ 0.0000,  0.0000,  0.0000,  ...,  0.0000,  0.0000,  0.0000],\n",
      "          ...,\n",
      "          [ 0.0000,  0.0000,  0.0000,  ...,  0.5074, -0.3952,  2.0795],\n",
      "          [-1.5065,  0.0000,  0.0000,  ...,  0.0000,  0.0000,  0.0000],\n",
      "          [ 0.0000,  0.0000,  0.0000,  ...,  0.0000,  0.0000,  0.0000]],\n",
      "\n",
      "         [[ 0.0000, -0.1656,  0.0000,  ...,  0.0000,  0.0000,  0.0000],\n",
      "          [ 0.0000,  0.0000,  0.0000,  ...,  0.0000,  0.0000,  0.0000],\n",
      "          [ 0.0000,  0.0000,  0.0000,  ...,  0.0000,  0.0000,  0.0000],\n",
      "          ...,\n",
      "          [ 0.0000,  0.0000,  0.0000,  ...,  0.0526, -0.5853, -0.4222],\n",
      "          [-1.4689,  0.0000,  0.0000,  ...,  0.0000,  0.0000,  0.0000],\n",
      "          [ 0.0000,  0.0000,  0.0000,  ...,  0.0000,  0.0000,  0.0000]],\n",
      "\n",
      "         [[ 0.0000, -1.6736,  0.0000,  ...,  0.0000,  0.0000,  0.0000],\n",
      "          [ 0.0000,  0.0000,  0.0000,  ...,  0.0000,  0.0000,  0.0000],\n",
      "          [ 0.0000,  0.0000,  0.0000,  ...,  0.0000,  0.0000,  0.0000],\n",
      "          ...,\n",
      "          [ 0.0000,  0.0000,  0.0000,  ..., -0.1447, -1.3680, -1.2105],\n",
      "          [ 0.1346,  0.0000,  0.0000,  ...,  0.0000,  0.0000,  0.0000],\n",
      "          [ 0.0000,  0.0000,  0.0000,  ...,  0.0000,  0.0000,  0.0000]],\n",
      "\n",
      "         [[ 0.0000,  1.5641,  0.0000,  ...,  0.0000,  0.0000,  0.0000],\n",
      "          [ 0.0000,  0.0000,  0.0000,  ...,  0.0000,  0.0000,  0.0000],\n",
      "          [ 0.0000,  0.0000,  0.0000,  ...,  0.0000,  0.0000,  0.0000],\n",
      "          ...,\n",
      "          [ 0.0000,  0.0000,  0.0000,  ...,  0.3567,  0.2050, -0.8448],\n",
      "          [ 0.4691,  0.0000,  0.0000,  ...,  0.0000,  0.0000,  0.0000],\n",
      "          [ 0.0000,  0.0000,  0.0000,  ...,  0.0000,  0.0000,  0.0000]]]],\n",
      "       device='cuda:0')\n",
      "input: torch.Size([1, 5, 100, 100])\n",
      "x after unfold: torch.Size([1, 45, 10000])\n",
      "x after reshape: torch.Size([10000, 45])\n",
      "x before quantizer: torch.Size([10000, 45])\n",
      "x after quantizer: torch.Size([10000, 45])\n",
      "x after fold: torch.Size([1, 5, 100, 100])\n",
      "x dense after sqsubm2d:\n",
      " tensor([[[[ 0.0000,  0.0000,  0.0000,  0.0000,  0.0000],\n",
      "          [-0.1430, -0.0292, -0.0339, -0.3378,  0.3519],\n",
      "          [ 0.0000,  0.0000,  0.0000,  0.0000,  0.0000],\n",
      "          ...,\n",
      "          [ 0.0000,  0.0000,  0.0000,  0.0000,  0.0000],\n",
      "          [ 0.0000,  0.0000,  0.0000,  0.0000,  0.0000],\n",
      "          [ 0.0000,  0.0000,  0.0000,  0.0000,  0.0000]],\n",
      "\n",
      "         [[ 0.0000,  0.0000,  0.0000,  0.0000,  0.0000],\n",
      "          [ 0.0000,  0.0000,  0.0000,  0.0000,  0.0000],\n",
      "          [ 0.0000,  0.0000,  0.0000,  0.0000,  0.0000],\n",
      "          ...,\n",
      "          [ 0.0000,  0.0000,  0.0000,  0.0000,  0.0000],\n",
      "          [ 0.0000,  0.0000,  0.0000,  0.0000,  0.0000],\n",
      "          [ 0.0000,  0.0000,  0.0000,  0.0000,  0.0000]],\n",
      "\n",
      "         [[ 0.0000,  0.0000,  0.0000,  0.0000,  0.0000],\n",
      "          [ 0.0000,  0.0000,  0.0000,  0.0000,  0.0000],\n",
      "          [ 0.0000,  0.0000,  0.0000,  0.0000,  0.0000],\n",
      "          ...,\n",
      "          [ 0.0000,  0.0000,  0.0000,  0.0000,  0.0000],\n",
      "          [ 0.0000,  0.0000,  0.0000,  0.0000,  0.0000],\n",
      "          [ 0.0000,  0.0000,  0.0000,  0.0000,  0.0000]],\n",
      "\n",
      "         ...,\n",
      "\n",
      "         [[ 0.0000,  0.0000,  0.0000,  0.0000,  0.0000],\n",
      "          [ 0.0000,  0.0000,  0.0000,  0.0000,  0.0000],\n",
      "          [ 0.0000,  0.0000,  0.0000,  0.0000,  0.0000],\n",
      "          ...,\n",
      "          [ 0.2835,  0.1029,  0.0113, -0.0282,  0.0809],\n",
      "          [-0.1399, -0.0797, -0.1204, -0.2791,  0.0452],\n",
      "          [-0.0725,  0.4225, -0.0866, -0.2475, -0.1929]],\n",
      "\n",
      "         [[-0.2898, -0.3058, -0.2983,  0.0282,  0.1054],\n",
      "          [ 0.0000,  0.0000,  0.0000,  0.0000,  0.0000],\n",
      "          [ 0.0000,  0.0000,  0.0000,  0.0000,  0.0000],\n",
      "          ...,\n",
      "          [ 0.0000,  0.0000,  0.0000,  0.0000,  0.0000],\n",
      "          [ 0.0000,  0.0000,  0.0000,  0.0000,  0.0000],\n",
      "          [ 0.0000,  0.0000,  0.0000,  0.0000,  0.0000]],\n",
      "\n",
      "         [[ 0.0000,  0.0000,  0.0000,  0.0000,  0.0000],\n",
      "          [ 0.0000,  0.0000,  0.0000,  0.0000,  0.0000],\n",
      "          [ 0.0000,  0.0000,  0.0000,  0.0000,  0.0000],\n",
      "          ...,\n",
      "          [ 0.0000,  0.0000,  0.0000,  0.0000,  0.0000],\n",
      "          [ 0.0000,  0.0000,  0.0000,  0.0000,  0.0000],\n",
      "          [ 0.0000,  0.0000,  0.0000,  0.0000,  0.0000]]]], device='cuda:0')\n",
      "x shape dense after sqsubm2d:\n",
      " torch.Size([1, 100, 100, 5])\n",
      "x inside SQConv2d 2: torch.Size([6766, 16])\n",
      "x inside SQConv2d 1: torch.Size([1200, 5])\n",
      "x dense:\n",
      " tensor([[[[ 0.0000, -0.6998,  0.0000,  ...,  0.0000,  0.0000,  0.0000],\n",
      "          [ 0.0000,  0.0000,  0.0000,  ...,  0.0000,  0.0000,  0.0000],\n",
      "          [ 0.0000,  0.0000,  0.0000,  ...,  0.0000,  0.0000,  0.0000],\n",
      "          ...,\n",
      "          [ 0.0000,  0.0000,  0.0000,  ...,  1.3741, -0.6738, -0.3497],\n",
      "          [-1.4122,  0.0000,  0.0000,  ...,  0.0000,  0.0000,  0.0000],\n",
      "          [ 0.0000,  0.0000,  0.0000,  ...,  0.0000,  0.0000,  0.0000]],\n",
      "\n",
      "         [[ 0.0000, -0.1509,  0.0000,  ...,  0.0000,  0.0000,  0.0000],\n",
      "          [ 0.0000,  0.0000,  0.0000,  ...,  0.0000,  0.0000,  0.0000],\n",
      "          [ 0.0000,  0.0000,  0.0000,  ...,  0.0000,  0.0000,  0.0000],\n",
      "          ...,\n",
      "          [ 0.0000,  0.0000,  0.0000,  ...,  0.5074, -0.3952,  2.0795],\n",
      "          [-1.5065,  0.0000,  0.0000,  ...,  0.0000,  0.0000,  0.0000],\n",
      "          [ 0.0000,  0.0000,  0.0000,  ...,  0.0000,  0.0000,  0.0000]],\n",
      "\n",
      "         [[ 0.0000, -0.1656,  0.0000,  ...,  0.0000,  0.0000,  0.0000],\n",
      "          [ 0.0000,  0.0000,  0.0000,  ...,  0.0000,  0.0000,  0.0000],\n",
      "          [ 0.0000,  0.0000,  0.0000,  ...,  0.0000,  0.0000,  0.0000],\n",
      "          ...,\n",
      "          [ 0.0000,  0.0000,  0.0000,  ...,  0.0526, -0.5853, -0.4222],\n",
      "          [-1.4689,  0.0000,  0.0000,  ...,  0.0000,  0.0000,  0.0000],\n",
      "          [ 0.0000,  0.0000,  0.0000,  ...,  0.0000,  0.0000,  0.0000]],\n",
      "\n",
      "         [[ 0.0000, -1.6736,  0.0000,  ...,  0.0000,  0.0000,  0.0000],\n",
      "          [ 0.0000,  0.0000,  0.0000,  ...,  0.0000,  0.0000,  0.0000],\n",
      "          [ 0.0000,  0.0000,  0.0000,  ...,  0.0000,  0.0000,  0.0000],\n",
      "          ...,\n",
      "          [ 0.0000,  0.0000,  0.0000,  ..., -0.1447, -1.3680, -1.2105],\n",
      "          [ 0.1346,  0.0000,  0.0000,  ...,  0.0000,  0.0000,  0.0000],\n",
      "          [ 0.0000,  0.0000,  0.0000,  ...,  0.0000,  0.0000,  0.0000]],\n",
      "\n",
      "         [[ 0.0000,  1.5641,  0.0000,  ...,  0.0000,  0.0000,  0.0000],\n",
      "          [ 0.0000,  0.0000,  0.0000,  ...,  0.0000,  0.0000,  0.0000],\n",
      "          [ 0.0000,  0.0000,  0.0000,  ...,  0.0000,  0.0000,  0.0000],\n",
      "          ...,\n",
      "          [ 0.0000,  0.0000,  0.0000,  ...,  0.3567,  0.2050, -0.8448],\n",
      "          [ 0.4691,  0.0000,  0.0000,  ...,  0.0000,  0.0000,  0.0000],\n",
      "          [ 0.0000,  0.0000,  0.0000,  ...,  0.0000,  0.0000,  0.0000]]]],\n",
      "       device='cuda:0')\n",
      "input: torch.Size([1, 5, 100, 100])\n",
      "x after unfold: torch.Size([1, 45, 10000])\n",
      "x after reshape: torch.Size([10000, 45])\n",
      "x before quantizer: torch.Size([10000, 45])\n",
      "x after quantizer: torch.Size([10000, 45])\n",
      "x after fold: torch.Size([1, 5, 100, 100])\n",
      "x dense after sqsubm2d:\n",
      " tensor([[[[ 0.0000,  0.0000,  0.0000,  0.0000,  0.0000],\n",
      "          [-0.7066, -0.1631, -0.1631, -1.6849,  1.5762],\n",
      "          [ 0.0000,  0.0000,  0.0000,  0.0000,  0.0000],\n",
      "          ...,\n",
      "          [ 0.0000,  0.0000,  0.0000,  0.0000,  0.0000],\n",
      "          [ 0.0000,  0.0000,  0.0000,  0.0000,  0.0000],\n",
      "          [ 0.0000,  0.0000,  0.0000,  0.0000,  0.0000]],\n",
      "\n",
      "         [[ 0.0000,  0.0000,  0.0000,  0.0000,  0.0000],\n",
      "          [ 0.0000,  0.0000,  0.0000,  0.0000,  0.0000],\n",
      "          [ 0.0000,  0.0000,  0.0000,  0.0000,  0.0000],\n",
      "          ...,\n",
      "          [ 0.0000,  0.0000,  0.0000,  0.0000,  0.0000],\n",
      "          [ 0.0000,  0.0000,  0.0000,  0.0000,  0.0000],\n",
      "          [ 0.0000,  0.0000,  0.0000,  0.0000,  0.0000]],\n",
      "\n",
      "         [[ 0.0000,  0.0000,  0.0000,  0.0000,  0.0000],\n",
      "          [ 0.0000,  0.0000,  0.0000,  0.0000,  0.0000],\n",
      "          [ 0.0000,  0.0000,  0.0000,  0.0000,  0.0000],\n",
      "          ...,\n",
      "          [ 0.0000,  0.0000,  0.0000,  0.0000,  0.0000],\n",
      "          [ 0.0000,  0.0000,  0.0000,  0.0000,  0.0000],\n",
      "          [ 0.0000,  0.0000,  0.0000,  0.0000,  0.0000]],\n",
      "\n",
      "         ...,\n",
      "\n",
      "         [[ 0.0000,  0.0000,  0.0000,  0.0000,  0.0000],\n",
      "          [ 0.0000,  0.0000,  0.0000,  0.0000,  0.0000],\n",
      "          [ 0.0000,  0.0000,  0.0000,  0.0000,  0.0000],\n",
      "          ...,\n",
      "          [ 1.3860,  0.5163,  0.0544, -0.1359,  0.3533],\n",
      "          [-0.6794, -0.4076, -0.5979, -1.3588,  0.2174],\n",
      "          [-0.3533,  2.0925, -0.4348, -1.2229, -0.8424]],\n",
      "\n",
      "         [[-1.4131, -1.4947, -1.4675,  0.1359,  0.4620],\n",
      "          [ 0.0000,  0.0000,  0.0000,  0.0000,  0.0000],\n",
      "          [ 0.0000,  0.0000,  0.0000,  0.0000,  0.0000],\n",
      "          ...,\n",
      "          [ 0.0000,  0.0000,  0.0000,  0.0000,  0.0000],\n",
      "          [ 0.0000,  0.0000,  0.0000,  0.0000,  0.0000],\n",
      "          [ 0.0000,  0.0000,  0.0000,  0.0000,  0.0000]],\n",
      "\n",
      "         [[ 0.0000,  0.0000,  0.0000,  0.0000,  0.0000],\n",
      "          [ 0.0000,  0.0000,  0.0000,  0.0000,  0.0000],\n",
      "          [ 0.0000,  0.0000,  0.0000,  0.0000,  0.0000],\n",
      "          ...,\n",
      "          [ 0.0000,  0.0000,  0.0000,  0.0000,  0.0000],\n",
      "          [ 0.0000,  0.0000,  0.0000,  0.0000,  0.0000],\n",
      "          [ 0.0000,  0.0000,  0.0000,  0.0000,  0.0000]]]], device='cuda:0')\n",
      "x shape dense after sqsubm2d:\n",
      " torch.Size([1, 100, 100, 5])\n",
      "x inside SQConv2d 2: torch.Size([6766, 16])\n"
     ]
    }
   ],
   "source": [
    "y2 = new_sq_spconv2d(x)\n",
    "y3 = new_q_spconv2d(x)"
   ]
  },
  {
   "cell_type": "code",
   "execution_count": 26,
   "id": "9a10b120-446b-413f-b937-533d322073ae",
   "metadata": {},
   "outputs": [
    {
     "data": {
      "text/plain": [
       "tensor([[[[ 0.0791, -0.0551,  0.0000,  ...,  0.0278,  0.0000,  0.0000],\n",
       "          [ 0.4128, -0.4754, -0.0917,  ..., -0.2499,  0.0000,  0.0000],\n",
       "          [-0.3718, -0.5962,  0.0504,  ...,  0.0876, -0.3714,  0.0282],\n",
       "          ...,\n",
       "          [ 0.0000, -0.0738, -0.0297,  ...,  0.0000, -0.0324, -0.0597],\n",
       "          [ 0.1916, -0.0147,  0.3102,  ...,  0.0000,  0.0000,  0.0000],\n",
       "          [-0.1581, -0.0419,  0.0092,  ...,  0.0000,  0.0000,  0.0000]],\n",
       "\n",
       "         [[ 0.0651, -0.0339,  0.0000,  ...,  0.2277,  0.0000,  0.0000],\n",
       "          [ 0.1698,  0.1487, -0.0575,  ...,  0.3759,  0.0000,  0.0000],\n",
       "          [ 0.5032,  0.4234,  0.0273,  ...,  0.2602, -0.1783,  0.3126],\n",
       "          ...,\n",
       "          [ 0.0000, -0.1990, -0.1675,  ...,  0.0000,  0.1131,  0.0086],\n",
       "          [ 0.0231,  0.0201, -0.6790,  ...,  0.0000,  0.0000,  0.0000],\n",
       "          [-0.0113, -0.2470,  0.1761,  ...,  0.0000,  0.0000,  0.0000]],\n",
       "\n",
       "         [[-0.2304,  0.1850,  0.0000,  ..., -0.0484,  0.0000,  0.0000],\n",
       "          [ 0.0012, -0.0390, -0.2984,  ..., -0.0510,  0.0000,  0.0000],\n",
       "          [ 0.0867,  0.2918,  0.0918,  ..., -0.4119,  0.2388, -0.0703],\n",
       "          ...,\n",
       "          [ 0.0000,  0.2766,  0.4872,  ...,  0.0000, -0.0413, -0.0339],\n",
       "          [-0.1356,  0.2876, -0.2164,  ...,  0.0000,  0.0000,  0.0000],\n",
       "          [-0.0122,  0.2480, -0.2362,  ...,  0.0000,  0.0000,  0.0000]],\n",
       "\n",
       "         ...,\n",
       "\n",
       "         [[-0.0275,  0.0425,  0.0000,  ..., -0.2392,  0.0000,  0.0000],\n",
       "          [ 0.2412,  0.1536, -0.0933,  ..., -0.1685,  0.0000,  0.0000],\n",
       "          [-0.0461, -0.2855,  0.0053,  ...,  0.1745, -0.2483, -0.2889],\n",
       "          ...,\n",
       "          [ 0.0000,  0.0193,  0.2351,  ...,  0.0000,  0.0693,  0.0464],\n",
       "          [ 0.1635,  0.0546,  0.1547,  ...,  0.0000,  0.0000,  0.0000],\n",
       "          [-0.0885, -0.3725, -0.1573,  ...,  0.0000,  0.0000,  0.0000]],\n",
       "\n",
       "         [[-0.0207,  0.0355,  0.0000,  ...,  0.0357,  0.0000,  0.0000],\n",
       "          [-0.1225, -0.0767,  0.0543,  ...,  0.1552,  0.0000,  0.0000],\n",
       "          [ 0.0832, -0.1817, -0.4228,  ..., -0.0223,  0.0497, -0.2168],\n",
       "          ...,\n",
       "          [ 0.0000, -0.0958,  0.0794,  ...,  0.0000,  0.2192, -0.0999],\n",
       "          [ 0.1231,  0.1057,  0.3033,  ...,  0.0000,  0.0000,  0.0000],\n",
       "          [-0.2131, -0.0932,  0.2300,  ...,  0.0000,  0.0000,  0.0000]],\n",
       "\n",
       "         [[ 0.1302,  0.0998,  0.0000,  ..., -0.0786,  0.0000,  0.0000],\n",
       "          [-0.0532,  0.3033,  0.0472,  ...,  0.3119,  0.0000,  0.0000],\n",
       "          [-0.6388,  0.1507,  0.1053,  ..., -0.3968, -0.0251, -0.3063],\n",
       "          ...,\n",
       "          [ 0.0000,  0.3182,  0.3285,  ...,  0.0000,  0.0807, -0.0293],\n",
       "          [-0.1029,  0.1823,  0.0541,  ...,  0.0000,  0.0000,  0.0000],\n",
       "          [-0.0260,  0.2253, -0.3043,  ...,  0.0000,  0.0000,  0.0000]]]],\n",
       "       device='cuda:0', grad_fn=<CloneBackward0>)"
      ]
     },
     "execution_count": 26,
     "metadata": {},
     "output_type": "execute_result"
    }
   ],
   "source": [
    "y1.dense()"
   ]
  },
  {
   "cell_type": "code",
   "execution_count": null,
   "id": "80436fb0-39d9-46c6-8ecd-d74f5980a072",
   "metadata": {},
   "outputs": [],
   "source": [
    "y2.dense()"
   ]
  },
  {
   "cell_type": "code",
   "execution_count": 27,
   "id": "b5d71144-187a-4475-ba7b-3f8d17f57960",
   "metadata": {},
   "outputs": [
    {
     "data": {
      "text/plain": [
       "tensor([[[[ 0.4456, -0.7553,  0.0000,  ..., -0.0643,  0.0000,  0.0000],\n",
       "          [-2.5805, -2.7696, -0.0902,  ...,  0.6525,  0.0000,  0.0000],\n",
       "          [ 1.8094,  2.3098, -0.4262,  ..., -1.0637, -0.6036,  0.3900],\n",
       "          ...,\n",
       "          [ 0.0000,  1.3841, -0.4551,  ...,  0.0000,  0.7184,  0.1328],\n",
       "          [ 0.1700,  0.3800,  1.5762,  ...,  0.0000,  0.0000,  0.0000],\n",
       "          [-1.1662, -0.7830,  1.9264,  ...,  0.0000,  0.0000,  0.0000]],\n",
       "\n",
       "         [[-1.1454, -0.3897,  0.0000,  ..., -0.1029,  0.0000,  0.0000],\n",
       "          [ 2.0630,  0.7395,  0.9464,  ..., -0.4278,  0.0000,  0.0000],\n",
       "          [-1.3894, -1.0839, -0.9080,  ...,  1.9749,  0.6419,  1.6229],\n",
       "          ...,\n",
       "          [ 0.0000, -1.0081,  2.1186,  ...,  0.0000, -0.3438, -0.1848],\n",
       "          [-0.2094,  2.4535,  2.1615,  ...,  0.0000,  0.0000,  0.0000],\n",
       "          [ 0.2050, -0.2232, -2.3207,  ...,  0.0000,  0.0000,  0.0000]],\n",
       "\n",
       "         [[ 0.4303, -0.4815,  0.0000,  ...,  1.2723,  0.0000,  0.0000],\n",
       "          [ 3.0524,  1.4016,  0.2518,  ...,  1.1129,  0.0000,  0.0000],\n",
       "          [-1.0103, -1.8637,  0.7903,  ...,  0.5466, -1.1127, -0.1893],\n",
       "          ...,\n",
       "          [ 0.0000, -1.4263,  0.6127,  ...,  0.0000, -0.0219, -0.9113],\n",
       "          [ 0.4033, -0.0474, -1.2942,  ...,  0.0000,  0.0000,  0.0000],\n",
       "          [ 0.8105,  0.5182, -0.7381,  ...,  0.0000,  0.0000,  0.0000]],\n",
       "\n",
       "         ...,\n",
       "\n",
       "         [[-0.1521, -0.8284,  0.0000,  ..., -1.0257,  0.0000,  0.0000],\n",
       "          [-2.9890,  1.3714,  0.5866,  ...,  1.0190,  0.0000,  0.0000],\n",
       "          [-2.0719, -1.0038,  1.0272,  ...,  2.4314,  1.0364, -0.9221],\n",
       "          ...,\n",
       "          [ 0.0000, -0.0568, -0.8297,  ...,  0.0000,  0.4437,  0.2003],\n",
       "          [-0.2216,  1.6220,  0.9779,  ...,  0.0000,  0.0000,  0.0000],\n",
       "          [-0.3370, -1.0988,  0.4147,  ...,  0.0000,  0.0000,  0.0000]],\n",
       "\n",
       "         [[ 0.2141, -0.9185,  0.0000,  ..., -0.0774,  0.0000,  0.0000],\n",
       "          [-1.5622,  1.3324,  0.8607,  ..., -0.2636,  0.0000,  0.0000],\n",
       "          [-0.3682,  0.9044,  0.8796,  ...,  1.1985, -0.3577, -0.7474],\n",
       "          ...,\n",
       "          [ 0.0000,  0.6502,  0.4561,  ...,  0.0000,  0.8528,  0.0248],\n",
       "          [ 0.1643, -0.0843,  3.1664,  ...,  0.0000,  0.0000,  0.0000],\n",
       "          [ 0.3006, -0.1358,  0.5767,  ...,  0.0000,  0.0000,  0.0000]],\n",
       "\n",
       "         [[-0.1503, -0.1467,  0.0000,  ...,  0.5530,  0.0000,  0.0000],\n",
       "          [ 0.9943,  3.4856, -1.0138,  ...,  1.2626,  0.0000,  0.0000],\n",
       "          [ 2.1189, -0.8008,  0.1366,  ...,  0.5556,  0.8214, -1.5424],\n",
       "          ...,\n",
       "          [ 0.0000,  1.5064,  1.2215,  ...,  0.0000,  0.4396,  0.5196],\n",
       "          [-0.3801,  0.4865,  1.0763,  ...,  0.0000,  0.0000,  0.0000],\n",
       "          [ 0.3521,  2.0549,  0.2877,  ...,  0.0000,  0.0000,  0.0000]]]],\n",
       "       device='cuda:0', grad_fn=<CloneBackward0>)"
      ]
     },
     "execution_count": 27,
     "metadata": {},
     "output_type": "execute_result"
    }
   ],
   "source": [
    "y3.dense()"
   ]
  },
  {
   "cell_type": "code",
   "execution_count": 26,
   "id": "0522979c-9301-4243-9596-07389e595a4b",
   "metadata": {},
   "outputs": [
    {
     "data": {
      "text/plain": [
       "torch.Size([1200, 5])"
      ]
     },
     "execution_count": 26,
     "metadata": {},
     "output_type": "execute_result"
    }
   ],
   "source": [
    "x.features.shape"
   ]
  },
  {
   "cell_type": "code",
   "execution_count": 29,
   "id": "16b2e2be-178c-4a29-9c79-7dc8235cd3d4",
   "metadata": {},
   "outputs": [],
   "source": [
    "l1loss = torch.nn.L1Loss()"
   ]
  },
  {
   "cell_type": "code",
   "execution_count": 30,
   "id": "e35e89c1-3d7c-4dba-b2fb-1ea8543ba729",
   "metadata": {},
   "outputs": [
    {
     "data": {
      "text/plain": [
       "tensor(0.1696, device='cuda:0', grad_fn=<MeanBackward0>)"
      ]
     },
     "execution_count": 30,
     "metadata": {},
     "output_type": "execute_result"
    }
   ],
   "source": [
    "l1loss(y1.dense(), y2.dense())"
   ]
  },
  {
   "cell_type": "code",
   "execution_count": 31,
   "id": "f10b1b23-68f0-4b5b-a2f7-62f670b3ece1",
   "metadata": {},
   "outputs": [
    {
     "data": {
      "text/plain": [
       "tensor(0.6007, device='cuda:0', grad_fn=<MeanBackward0>)"
      ]
     },
     "execution_count": 31,
     "metadata": {},
     "output_type": "execute_result"
    }
   ],
   "source": [
    "l1loss(y1.dense(), y3.dense())"
   ]
  },
  {
   "cell_type": "code",
   "execution_count": 31,
   "id": "3d52d0db-7ffe-4788-88f5-9b4d9f28927c",
   "metadata": {},
   "outputs": [
    {
     "data": {
      "text/plain": [
       "tensor([[[[ 0.0000,  0.0000,  0.0000,  ...,  0.0000,  0.0000,  0.0000],\n",
       "          [ 0.0000,  0.0000,  0.0000,  ..., -0.2401,  0.5315,  0.0405],\n",
       "          [-0.3428,  0.1693, -0.1621,  ...,  0.4368, -0.4051,  0.2591],\n",
       "          ...,\n",
       "          [ 0.1054, -0.1836,  0.0000,  ..., -0.1267, -0.3387, -0.0792],\n",
       "          [-0.1254, -0.1566,  0.0000,  ..., -0.0240, -0.0107,  0.0000],\n",
       "          [ 0.0000,  0.0000,  0.0000,  ..., -0.0093,  0.0000,  0.0000]],\n",
       "\n",
       "         [[ 0.0000,  0.0000,  0.0000,  ...,  0.0000,  0.0000,  0.0000],\n",
       "          [ 0.0000,  0.0000,  0.0000,  ...,  0.2462, -0.0980,  0.0181],\n",
       "          [ 0.2971, -0.0525, -0.0931,  ...,  0.2812, -0.0323, -0.1321],\n",
       "          ...,\n",
       "          [-0.0380,  0.0918,  0.0000,  ..., -0.1128,  0.1647,  0.3203],\n",
       "          [ 0.2533,  0.0783,  0.0000,  ...,  0.0784, -0.1103,  0.0000],\n",
       "          [ 0.0000,  0.0000,  0.0000,  ..., -0.0541,  0.0000,  0.0000]],\n",
       "\n",
       "         [[ 0.0000,  0.0000,  0.0000,  ...,  0.0000,  0.0000,  0.0000],\n",
       "          [ 0.0000,  0.0000,  0.0000,  ...,  0.0236, -0.4288, -0.3975],\n",
       "          [-0.0036,  0.0529, -0.1770,  ..., -0.4990,  0.0366,  0.2688],\n",
       "          ...,\n",
       "          [ 0.0767, -0.0406,  0.0000,  ...,  0.1839, -0.0522,  0.0493],\n",
       "          [-0.1081,  0.0184,  0.0000,  ..., -0.5285,  0.2159,  0.0000],\n",
       "          [ 0.0000,  0.0000,  0.0000,  ...,  0.0887,  0.0000,  0.0000]],\n",
       "\n",
       "         ...,\n",
       "\n",
       "         [[ 0.0000,  0.0000,  0.0000,  ...,  0.0000,  0.0000,  0.0000],\n",
       "          [ 0.0000,  0.0000,  0.0000,  ...,  0.1644, -0.1147,  0.2048],\n",
       "          [-0.1625, -0.2223, -0.1223,  ...,  0.3099,  0.2444,  0.1092],\n",
       "          ...,\n",
       "          [-0.0907, -0.1589,  0.0000,  ...,  0.1057, -0.5902, -0.0303],\n",
       "          [-0.1490,  0.0895,  0.0000,  ...,  0.0638, -0.2313,  0.0000],\n",
       "          [ 0.0000,  0.0000,  0.0000,  ...,  0.1639,  0.0000,  0.0000]],\n",
       "\n",
       "         [[ 0.0000,  0.0000,  0.0000,  ...,  0.0000,  0.0000,  0.0000],\n",
       "          [ 0.0000,  0.0000,  0.0000,  ...,  0.3078,  0.1361,  0.1919],\n",
       "          [ 0.0963,  0.0713,  0.0560,  ...,  0.0179,  0.1952,  0.2017],\n",
       "          ...,\n",
       "          [-0.1977, -0.1442,  0.0000,  ..., -0.3544, -0.5993,  0.3141],\n",
       "          [ 0.2012,  0.0280,  0.0000,  ...,  0.3031, -0.3380,  0.0000],\n",
       "          [ 0.0000,  0.0000,  0.0000,  ...,  0.1044,  0.0000,  0.0000]],\n",
       "\n",
       "         [[ 0.0000,  0.0000,  0.0000,  ...,  0.0000,  0.0000,  0.0000],\n",
       "          [ 0.0000,  0.0000,  0.0000,  ..., -0.0840, -0.3016, -0.0184],\n",
       "          [-0.1097, -0.0632,  0.0928,  ...,  0.4885, -0.1927, -0.1963],\n",
       "          ...,\n",
       "          [ 0.0919,  0.1019,  0.0000,  ...,  0.2828,  0.1384, -0.0758],\n",
       "          [ 0.1146,  0.1293,  0.0000,  ...,  0.0307, -0.0752,  0.0000],\n",
       "          [ 0.0000,  0.0000,  0.0000,  ..., -0.1096,  0.0000,  0.0000]]]],\n",
       "       device='cuda:0', grad_fn=<CloneBackward0>)"
      ]
     },
     "execution_count": 31,
     "metadata": {},
     "output_type": "execute_result"
    }
   ],
   "source": [
    "y1.dense()"
   ]
  },
  {
   "cell_type": "code",
   "execution_count": 32,
   "id": "837d42b9-a311-4d8b-9a10-be984f5ad077",
   "metadata": {},
   "outputs": [
    {
     "data": {
      "text/plain": [
       "tensor([[[[ 0.0000e+00,  0.0000e+00,  0.0000e+00,  ...,  0.0000e+00,\n",
       "            0.0000e+00,  0.0000e+00],\n",
       "          [ 0.0000e+00,  0.0000e+00,  0.0000e+00,  ..., -6.2441e-01,\n",
       "            4.9229e-01, -5.1166e-01],\n",
       "          [-3.0077e-01,  3.3667e-01, -1.5712e-01,  ..., -1.9921e-01,\n",
       "           -9.5857e-02, -5.0249e-01],\n",
       "          ...,\n",
       "          [ 7.5194e-02,  2.9133e-01,  0.0000e+00,  ...,  2.9994e-01,\n",
       "           -1.5674e-01,  3.9800e-02],\n",
       "          [ 2.0198e-01, -8.6874e-02,  0.0000e+00,  ...,  2.7095e-01,\n",
       "           -9.5427e-02,  0.0000e+00],\n",
       "          [ 0.0000e+00,  0.0000e+00,  0.0000e+00,  ...,  4.7236e-02,\n",
       "            0.0000e+00,  0.0000e+00]],\n",
       "\n",
       "         [[ 0.0000e+00,  0.0000e+00,  0.0000e+00,  ...,  0.0000e+00,\n",
       "            0.0000e+00,  0.0000e+00],\n",
       "          [ 0.0000e+00,  0.0000e+00,  0.0000e+00,  ..., -2.6151e-01,\n",
       "            5.7432e-02, -1.0087e-01],\n",
       "          [-3.4424e-01, -6.3292e-02, -2.1067e-01,  ...,  3.3161e-01,\n",
       "            1.1149e-01,  4.7353e-01],\n",
       "          ...,\n",
       "          [-1.4416e-01, -1.9799e-01,  0.0000e+00,  ..., -5.0887e-01,\n",
       "           -3.2228e-02,  1.4680e-01],\n",
       "          [-1.3535e-01,  2.7302e-01,  0.0000e+00,  ..., -6.7820e-01,\n",
       "            5.1024e-02,  0.0000e+00],\n",
       "          [ 0.0000e+00,  0.0000e+00,  0.0000e+00,  ..., -4.5556e-02,\n",
       "            0.0000e+00,  0.0000e+00]],\n",
       "\n",
       "         [[ 0.0000e+00,  0.0000e+00,  0.0000e+00,  ...,  0.0000e+00,\n",
       "            0.0000e+00,  0.0000e+00],\n",
       "          [ 0.0000e+00,  0.0000e+00,  0.0000e+00,  ...,  1.5815e-01,\n",
       "           -1.9776e-01,  3.8703e-01],\n",
       "          [ 3.5562e-01, -7.9528e-02,  1.3597e-02,  ...,  2.2664e-01,\n",
       "           -1.3281e-01,  3.0666e-01],\n",
       "          ...,\n",
       "          [ 8.8895e-02, -2.5725e-01,  0.0000e+00,  ..., -8.2459e-02,\n",
       "           -4.4456e-01,  4.5127e-02],\n",
       "          [-2.0048e-01, -1.5146e-01,  0.0000e+00,  ..., -5.8491e-01,\n",
       "            5.3608e-02,  0.0000e+00],\n",
       "          [ 0.0000e+00,  0.0000e+00,  0.0000e+00,  ...,  1.7896e-02,\n",
       "            0.0000e+00,  0.0000e+00]],\n",
       "\n",
       "         ...,\n",
       "\n",
       "         [[ 0.0000e+00,  0.0000e+00,  0.0000e+00,  ...,  0.0000e+00,\n",
       "            0.0000e+00,  0.0000e+00],\n",
       "          [ 0.0000e+00,  0.0000e+00,  0.0000e+00,  ..., -4.8894e-01,\n",
       "            1.7192e-01,  1.1797e-02],\n",
       "          [-2.3677e-01,  5.0619e-02, -1.3991e-01,  ..., -2.2054e-02,\n",
       "            2.0982e-01,  3.8904e-01],\n",
       "          ...,\n",
       "          [-1.0796e-02, -1.4257e-01,  0.0000e+00,  ..., -1.5350e-01,\n",
       "            4.2904e-01, -3.1077e-02],\n",
       "          [ 1.4509e-01,  2.1995e-01,  0.0000e+00,  ..., -5.4548e-02,\n",
       "           -4.2832e-02,  0.0000e+00],\n",
       "          [ 0.0000e+00,  0.0000e+00,  0.0000e+00,  ..., -3.0892e-02,\n",
       "            0.0000e+00,  0.0000e+00]],\n",
       "\n",
       "         [[ 0.0000e+00,  0.0000e+00,  0.0000e+00,  ...,  0.0000e+00,\n",
       "            0.0000e+00,  0.0000e+00],\n",
       "          [ 0.0000e+00,  0.0000e+00,  0.0000e+00,  ...,  7.6826e-02,\n",
       "            2.7883e-02, -2.2479e-01],\n",
       "          [-1.5357e-02,  2.6470e-01,  1.0721e-01,  ..., -2.5487e-01,\n",
       "            3.8432e-01, -1.8204e-01],\n",
       "          ...,\n",
       "          [-1.5286e-01,  2.0490e-01,  0.0000e+00,  ..., -4.3148e-01,\n",
       "            4.6491e-01, -3.4027e-01],\n",
       "          [ 1.8376e-04,  1.4362e-01,  0.0000e+00,  ...,  1.2568e-01,\n",
       "           -9.3952e-03,  0.0000e+00],\n",
       "          [ 0.0000e+00,  0.0000e+00,  0.0000e+00,  ..., -3.8782e-02,\n",
       "            0.0000e+00,  0.0000e+00]],\n",
       "\n",
       "         [[ 0.0000e+00,  0.0000e+00,  0.0000e+00,  ...,  0.0000e+00,\n",
       "            0.0000e+00,  0.0000e+00],\n",
       "          [ 0.0000e+00,  0.0000e+00,  0.0000e+00,  ..., -9.9219e-02,\n",
       "            2.6924e-01,  3.1202e-02],\n",
       "          [ 7.6268e-02,  3.7983e-01,  2.7902e-01,  ...,  8.0879e-02,\n",
       "           -4.4338e-01, -4.7695e-01],\n",
       "          ...,\n",
       "          [ 2.1304e-01,  1.8796e-01,  0.0000e+00,  ...,  1.1528e-03,\n",
       "            6.5218e-01,  4.0604e-02],\n",
       "          [ 4.9564e-02, -2.4774e-02,  0.0000e+00,  ..., -2.6684e-01,\n",
       "           -7.7470e-02,  0.0000e+00],\n",
       "          [ 0.0000e+00,  0.0000e+00,  0.0000e+00,  ..., -5.2367e-02,\n",
       "            0.0000e+00,  0.0000e+00]]]], device='cuda:0',\n",
       "       grad_fn=<CloneBackward0>)"
      ]
     },
     "execution_count": 32,
     "metadata": {},
     "output_type": "execute_result"
    }
   ],
   "source": [
    "y2.dense()"
   ]
  },
  {
   "cell_type": "markdown",
   "id": "c86eb803-c086-4635-98dd-74bc22148829",
   "metadata": {},
   "source": [
    "# Test for Global SmoothQuant for SparseConv2d"
   ]
  },
  {
   "cell_type": "code",
   "execution_count": 1,
   "id": "89caafb7-690f-47b0-97ac-af3a3a3acd03",
   "metadata": {},
   "outputs": [],
   "source": [
    "import spconv.pytorch as spconv\n",
    "from spconv.pytorch import SparseConvTensor\n",
    "from spconv.pytorch.modules import SparseModule\n",
    "import math\n",
    "import torch\n",
    "from torch import nn\n",
    "from IPython.display import Image\n",
    "from pytorch_quantization.tensor_quant import QuantDescriptor\n",
    "from pytorch_quantization.nn.modules.tensor_quantizer import TensorQuantizer"
   ]
  },
  {
   "cell_type": "code",
   "execution_count": 2,
   "id": "d08f0978-703a-4745-b9c3-7eaedb732ed0",
   "metadata": {},
   "outputs": [],
   "source": [
    "import random"
   ]
  },
  {
   "cell_type": "code",
   "execution_count": 3,
   "id": "0d75bbca-8c5e-40e9-9e8e-f678eebb7004",
   "metadata": {},
   "outputs": [
    {
     "data": {
      "text/plain": [
       "<torch._C.Generator at 0x7f2427b03030>"
      ]
     },
     "execution_count": 3,
     "metadata": {},
     "output_type": "execute_result"
    }
   ],
   "source": [
    "torch.manual_seed(2025)"
   ]
  },
  {
   "cell_type": "code",
   "execution_count": 4,
   "id": "79f04bac-a380-4bf6-adfe-1ff27f609011",
   "metadata": {},
   "outputs": [],
   "source": [
    "# Parameters\n",
    "N = 1200  # number of non-zero points\n",
    "num_channels = 5  # number of feature channels per point\n",
    "ndim = 2  # number of spatial dimensions (e.g., 3D convolution)\n",
    "batch_size = 1  # number of batches"
   ]
  },
  {
   "cell_type": "code",
   "execution_count": 5,
   "id": "fc58ad48-adce-42e9-888a-773a64c8537e",
   "metadata": {},
   "outputs": [],
   "source": [
    "# Generating random features\n",
    "features = torch.randn(N, num_channels).to('cuda')"
   ]
  },
  {
   "cell_type": "code",
   "execution_count": 6,
   "id": "66c5f1ec-0357-4478-ac99-cd824269bf0a",
   "metadata": {},
   "outputs": [
    {
     "data": {
      "text/plain": [
       "torch.Size([1200, 5])"
      ]
     },
     "execution_count": 6,
     "metadata": {},
     "output_type": "execute_result"
    }
   ],
   "source": [
    "features.shape"
   ]
  },
  {
   "cell_type": "code",
   "execution_count": 7,
   "id": "728509f8-a2d4-4051-966b-12cb23c9ef01",
   "metadata": {},
   "outputs": [
    {
     "data": {
      "text/plain": [
       "torch.Size([5999])"
      ]
     },
     "execution_count": 7,
     "metadata": {},
     "output_type": "execute_result"
    }
   ],
   "source": [
    "features.unique().shape"
   ]
  },
  {
   "cell_type": "code",
   "execution_count": 8,
   "id": "3a173a5c-d48f-410d-8717-aa9687f5cde6",
   "metadata": {},
   "outputs": [],
   "source": [
    "# Generating random indices for a 3D sparse tensor with batch indices\n",
    "spatial_shape = (100, 100)  # Define the spatial shape of the sparse tensor\n",
    "indices = torch.zeros(N, ndim + 1, dtype=torch.int32).to('cuda')\n",
    "indices[:, 0] = torch.randint(0, batch_size, (N,))  # Batch indices\n",
    "indices_list = []\n",
    "for i in range(N):\n",
    "    combo = (random.randint(0, 99), random.randint(0, 99))\n",
    "    while combo in indices_list:\n",
    "        combo = (random.randint(0, 99), random.randint(0, 99))\n",
    "    indices[i, 1:] = torch.tensor(combo)\n",
    "    indices_list.append(combo)"
   ]
  },
  {
   "cell_type": "code",
   "execution_count": 9,
   "id": "5b8d0ae6-1d23-45bc-95ae-296ac8227d0d",
   "metadata": {},
   "outputs": [
    {
     "data": {
      "text/plain": [
       "1200"
      ]
     },
     "execution_count": 9,
     "metadata": {},
     "output_type": "execute_result"
    }
   ],
   "source": [
    "len(indices_list)"
   ]
  },
  {
   "cell_type": "code",
   "execution_count": 10,
   "id": "ad139253-f1d3-4713-acf8-affc9117758e",
   "metadata": {},
   "outputs": [],
   "source": [
    "# Creating the SparseConvTensor\n",
    "x = spconv.SparseConvTensor(features, indices, spatial_shape, batch_size)"
   ]
  },
  {
   "cell_type": "code",
   "execution_count": 11,
   "id": "db3ebe61-6271-404c-b091-e60ad03ce370",
   "metadata": {},
   "outputs": [
    {
     "data": {
      "text/plain": [
       "torch.Size([1200, 3])"
      ]
     },
     "execution_count": 11,
     "metadata": {},
     "output_type": "execute_result"
    }
   ],
   "source": [
    "x.indices.unique(dim=0).shape"
   ]
  },
  {
   "cell_type": "code",
   "execution_count": 12,
   "id": "db5bf077-b29d-4dd8-9c69-d9be647fb702",
   "metadata": {},
   "outputs": [
    {
     "data": {
      "text/plain": [
       "torch.Size([1200, 5])"
      ]
     },
     "execution_count": 12,
     "metadata": {},
     "output_type": "execute_result"
    }
   ],
   "source": [
    "x.features.shape"
   ]
  },
  {
   "cell_type": "code",
   "execution_count": 13,
   "id": "83ff8926-25aa-4c5c-a927-c19eb51f6176",
   "metadata": {},
   "outputs": [
    {
     "data": {
      "text/plain": [
       "tensor([[[[ 0.0000,  0.0000,  0.0000,  ...,  0.0000,  0.0000,  0.0000],\n",
       "          [ 0.0000,  0.0000,  0.0000,  ...,  0.6596,  0.0000,  0.0000],\n",
       "          [ 0.0000,  0.0000,  0.0000,  ...,  0.0000,  0.0000,  0.0000],\n",
       "          ...,\n",
       "          [ 0.0000,  0.0000,  0.0000,  ...,  1.5376, -1.3825,  0.0000],\n",
       "          [ 0.0000,  0.0000,  0.0000,  ...,  0.0000,  0.0000,  0.0000],\n",
       "          [ 0.0000,  0.0000,  0.0000,  ...,  0.0000,  0.0000,  0.0000]],\n",
       "\n",
       "         [[ 0.0000,  0.0000,  0.0000,  ...,  0.0000,  0.0000,  0.0000],\n",
       "          [ 0.0000,  0.0000,  0.0000,  ...,  0.5772,  0.0000,  0.0000],\n",
       "          [ 0.0000,  0.0000,  0.0000,  ...,  0.0000,  0.0000,  0.0000],\n",
       "          ...,\n",
       "          [ 0.0000,  0.0000,  0.0000,  ..., -2.1229,  1.3170,  0.0000],\n",
       "          [ 0.0000,  0.0000,  0.0000,  ...,  0.0000,  0.0000,  0.0000],\n",
       "          [ 0.0000,  0.0000,  0.0000,  ...,  0.0000,  0.0000,  0.0000]],\n",
       "\n",
       "         [[ 0.0000,  0.0000,  0.0000,  ...,  0.0000,  0.0000,  0.0000],\n",
       "          [ 0.0000,  0.0000,  0.0000,  ..., -1.0353,  0.0000,  0.0000],\n",
       "          [ 0.0000,  0.0000,  0.0000,  ...,  0.0000,  0.0000,  0.0000],\n",
       "          ...,\n",
       "          [ 0.0000,  0.0000,  0.0000,  ..., -0.0507,  0.7334,  0.0000],\n",
       "          [ 0.0000,  0.0000,  0.0000,  ...,  0.0000,  0.0000,  0.0000],\n",
       "          [ 0.0000,  0.0000,  0.0000,  ...,  0.0000,  0.0000,  0.0000]],\n",
       "\n",
       "         [[ 0.0000,  0.0000,  0.0000,  ...,  0.0000,  0.0000,  0.0000],\n",
       "          [ 0.0000,  0.0000,  0.0000,  ...,  0.3367,  0.0000,  0.0000],\n",
       "          [ 0.0000,  0.0000,  0.0000,  ...,  0.0000,  0.0000,  0.0000],\n",
       "          ...,\n",
       "          [ 0.0000,  0.0000,  0.0000,  ..., -0.2777, -1.0789,  0.0000],\n",
       "          [ 0.0000,  0.0000,  0.0000,  ...,  0.0000,  0.0000,  0.0000],\n",
       "          [ 0.0000,  0.0000,  0.0000,  ...,  0.0000,  0.0000,  0.0000]],\n",
       "\n",
       "         [[ 0.0000,  0.0000,  0.0000,  ...,  0.0000,  0.0000,  0.0000],\n",
       "          [ 0.0000,  0.0000,  0.0000,  ..., -2.0385,  0.0000,  0.0000],\n",
       "          [ 0.0000,  0.0000,  0.0000,  ...,  0.0000,  0.0000,  0.0000],\n",
       "          ...,\n",
       "          [ 0.0000,  0.0000,  0.0000,  ...,  0.7224,  0.6268,  0.0000],\n",
       "          [ 0.0000,  0.0000,  0.0000,  ...,  0.0000,  0.0000,  0.0000],\n",
       "          [ 0.0000,  0.0000,  0.0000,  ...,  0.0000,  0.0000,  0.0000]]]],\n",
       "       device='cuda:0')"
      ]
     },
     "execution_count": 13,
     "metadata": {},
     "output_type": "execute_result"
    }
   ],
   "source": [
    "x.dense()"
   ]
  },
  {
   "cell_type": "code",
   "execution_count": 14,
   "id": "677f69ae-fef5-4422-a807-69497ae60e07",
   "metadata": {},
   "outputs": [],
   "source": [
    "spconv2d = spconv.SparseConv2d(\n",
    "    in_channels=5, \n",
    "    out_channels=16, \n",
    "    kernel_size=3, \n",
    "    stride=1,\n",
    "    padding=1,\n",
    "    bias=False\n",
    ")"
   ]
  },
  {
   "cell_type": "code",
   "execution_count": 15,
   "id": "6c408c93-aaef-4b6d-9ac2-ffb658bfd55a",
   "metadata": {},
   "outputs": [
    {
     "data": {
      "text/plain": [
       "SparseConv2d(5, 16, kernel_size=[3, 3], stride=[1, 1], padding=[1, 1], dilation=[1, 1], output_padding=[0, 0], bias=False, algo=ConvAlgo.MaskImplicitGemm)"
      ]
     },
     "execution_count": 15,
     "metadata": {},
     "output_type": "execute_result"
    }
   ],
   "source": [
    "spconv2d.to('cuda')"
   ]
  },
  {
   "cell_type": "code",
   "execution_count": 16,
   "id": "b9cd6e03-9f7b-4838-93a3-feaedfb2728a",
   "metadata": {},
   "outputs": [
    {
     "data": {
      "text/plain": [
       "torch.Size([16, 3, 3, 5])"
      ]
     },
     "execution_count": 16,
     "metadata": {},
     "output_type": "execute_result"
    }
   ],
   "source": [
    "spconv2d.weight.data.shape"
   ]
  },
  {
   "cell_type": "code",
   "execution_count": 17,
   "id": "81279a99-4320-4bd6-99cc-ddbcc280940d",
   "metadata": {},
   "outputs": [],
   "source": [
    "class SQConv2d(SparseModule):\n",
    "    \"\"\"Pytorch Quantization\"\"\"\n",
    "    def __init__(self, spconv2d):\n",
    "        super().__init__()\n",
    "        self.spconv2d = spconv2d\n",
    "\n",
    "        # w quantizer\n",
    "        w_desc = QuantDescriptor(\n",
    "            num_bits=8, \n",
    "            axis=(0)\n",
    "        )\n",
    "        self.w_quant = TensorQuantizer(w_desc)\n",
    "\n",
    "        # act quantizer\n",
    "        act_desc = QuantDescriptor(\n",
    "            num_bits=8\n",
    "        )\n",
    "        self.act_quant = TensorQuantizer(act_desc)\n",
    "\n",
    "        self.weight_max = self.spconv2d.weight.data.abs().max()\n",
    "        self.original_weight = self.spconv2d.weight.data.clone()\n",
    "\n",
    "    def forward(self, x):\n",
    "        features = x.features\n",
    "        features_max = features.abs().max()\n",
    "        scale = torch.sqrt(features_max/self.weight_max)\n",
    "        if scale == 0:\n",
    "            scale = 1\n",
    "        print(f'features_max: {features_max:.6f}\\t| weight_max: {self.weight_max:.6f}\\t| scale: {scale:.6f}')\n",
    "\n",
    "        features /= scale\n",
    "        features = self.act_quant(features)\n",
    "        x = x.replace_feature(features)\n",
    "\n",
    "        oc, kh, kw, ic = self.spconv2d.weight.data.shape\n",
    "        w = self.spconv2d.weight.data.permute(0, 3, 1, 2).contiguous().view(oc, -1)\n",
    "        w *= scale\n",
    "        w = self.w_quant(w)\n",
    "\n",
    "        self.spconv2d.weight.data = w.view(oc, ic, kh, kw).permute(0, 2, 3, 1).contiguous()\n",
    "\n",
    "        x = self.spconv2d(x)\n",
    "        self.spconv2d.weight.data = self.original_weight.clone()\n",
    "        return x"
   ]
  },
  {
   "cell_type": "code",
   "execution_count": 18,
   "id": "b9050af9-7306-4621-87c7-9a41db52f6d7",
   "metadata": {},
   "outputs": [],
   "source": [
    "sqconv2d = SQConv2d(spconv2d = spconv2d)"
   ]
  },
  {
   "cell_type": "code",
   "execution_count": 19,
   "id": "b7334ebf-3f83-4188-9a0f-1b8561212932",
   "metadata": {},
   "outputs": [
    {
     "name": "stdout",
     "output_type": "stream",
     "text": [
      "features_max: 3.451292\t| weight_max: 0.148947\t| scale: 4.813662\n"
     ]
    }
   ],
   "source": [
    "y1 = spconv2d(x)\n",
    "y2 = sqconv2d(x)"
   ]
  },
  {
   "cell_type": "code",
   "execution_count": 20,
   "id": "7cea1d1f-c455-4744-9a28-03fa2754236b",
   "metadata": {},
   "outputs": [],
   "source": [
    "l1loss = torch.nn.L1Loss()"
   ]
  },
  {
   "cell_type": "code",
   "execution_count": 21,
   "id": "840ebbda-62d0-42ac-81e9-fa7462ad74b2",
   "metadata": {},
   "outputs": [
    {
     "data": {
      "text/plain": [
       "tensor(0.0011, device='cuda:0', grad_fn=<MeanBackward0>)"
      ]
     },
     "execution_count": 21,
     "metadata": {},
     "output_type": "execute_result"
    }
   ],
   "source": [
    "l1loss(y1.dense(), y2.dense())"
   ]
  },
  {
   "cell_type": "code",
   "execution_count": 22,
   "id": "70d33280-fd35-4fc2-9a90-5beb7a3a57bd",
   "metadata": {},
   "outputs": [
    {
     "data": {
      "text/plain": [
       "tensor([[[[ 0.0000,  0.0000,  0.2111,  ..., -0.4317,  0.3606,  0.0000],\n",
       "          [ 0.0000,  0.0000,  0.3332,  ...,  0.2949,  0.1349,  0.0000],\n",
       "          [ 0.0000,  0.5223, -0.0309,  ...,  0.3593,  0.0822,  0.0000],\n",
       "          ...,\n",
       "          [-0.0304, -0.1239, -0.0531,  ..., -0.1474, -0.3436,  0.0672],\n",
       "          [ 0.0000,  0.0000,  0.0000,  ..., -0.2486,  0.0049, -0.0522],\n",
       "          [ 0.0000,  0.0000,  0.0000,  ...,  0.1166,  0.0000,  0.0000]],\n",
       "\n",
       "         [[ 0.0000,  0.0000, -0.3407,  ...,  0.2999, -0.0744,  0.0000],\n",
       "          [ 0.0000,  0.0000, -0.1971,  ...,  0.1176, -0.3116,  0.0000],\n",
       "          [ 0.0000, -0.1300, -0.2102,  ..., -0.6143, -0.0892,  0.0000],\n",
       "          ...,\n",
       "          [-0.0490,  0.3410,  0.1039,  ..., -0.1386,  0.7116, -0.0591],\n",
       "          [ 0.0000,  0.0000,  0.0000,  ...,  0.1559, -0.0733,  0.2742],\n",
       "          [ 0.0000,  0.0000,  0.0000,  ..., -0.1039,  0.0000,  0.0000]],\n",
       "\n",
       "         [[ 0.0000,  0.0000, -0.1688,  ...,  0.4054, -0.1734,  0.0000],\n",
       "          [ 0.0000,  0.0000, -0.0914,  ..., -0.5840,  0.2274,  0.0000],\n",
       "          [ 0.0000,  0.1846, -0.1822,  ..., -0.3532, -0.1480,  0.0000],\n",
       "          ...,\n",
       "          [ 0.2254,  0.3084, -0.1330,  ...,  0.4145, -0.0742, -0.0520],\n",
       "          [ 0.0000,  0.0000,  0.0000,  ..., -0.1682,  0.4058,  0.0631],\n",
       "          [ 0.0000,  0.0000,  0.0000,  ..., -0.1107,  0.0000,  0.0000]],\n",
       "\n",
       "         ...,\n",
       "\n",
       "         [[ 0.0000,  0.0000,  0.1202,  ...,  0.0070, -0.1754,  0.0000],\n",
       "          [ 0.0000,  0.0000, -0.3312,  ..., -0.1924, -0.2075,  0.0000],\n",
       "          [ 0.0000,  0.4008, -0.2373,  ..., -0.3703, -0.2009,  0.0000],\n",
       "          ...,\n",
       "          [-0.3039,  0.2303,  0.1144,  ..., -0.2088,  0.5463, -0.0996],\n",
       "          [ 0.0000,  0.0000,  0.0000,  ..., -0.6151, -0.2804,  0.3325],\n",
       "          [ 0.0000,  0.0000,  0.0000,  ..., -0.1005,  0.0000,  0.0000]],\n",
       "\n",
       "         [[ 0.0000,  0.0000,  0.2672,  ..., -0.0285, -0.1081,  0.0000],\n",
       "          [ 0.0000,  0.0000,  0.1401,  ...,  0.1438, -0.1243,  0.0000],\n",
       "          [ 0.0000,  0.1647,  0.0053,  ...,  0.3073, -0.0170,  0.0000],\n",
       "          ...,\n",
       "          [ 0.0067, -0.1042,  0.0880,  ..., -0.2172,  0.3760,  0.0949],\n",
       "          [ 0.0000,  0.0000,  0.0000,  ..., -0.1569, -0.3420,  0.1769],\n",
       "          [ 0.0000,  0.0000,  0.0000,  ...,  0.2023,  0.0000,  0.0000]],\n",
       "\n",
       "         [[ 0.0000,  0.0000, -0.0291,  ..., -0.4787, -0.0989,  0.0000],\n",
       "          [ 0.0000,  0.0000,  0.0710,  ...,  0.2625,  0.5197,  0.0000],\n",
       "          [ 0.0000, -0.0577, -0.1878,  ...,  0.1202, -0.3754,  0.0000],\n",
       "          ...,\n",
       "          [-0.0953,  0.2745, -0.0150,  ...,  0.0493, -0.5075, -0.1662],\n",
       "          [ 0.0000,  0.0000,  0.0000,  ..., -0.3888,  0.4253,  0.0217],\n",
       "          [ 0.0000,  0.0000,  0.0000,  ...,  0.1441,  0.0000,  0.0000]]]],\n",
       "       device='cuda:0', grad_fn=<CloneBackward0>)"
      ]
     },
     "execution_count": 22,
     "metadata": {},
     "output_type": "execute_result"
    }
   ],
   "source": [
    "y1.dense()"
   ]
  },
  {
   "cell_type": "code",
   "execution_count": 23,
   "id": "20a349be-ac12-49b8-a87a-e33a1948bfa5",
   "metadata": {
    "scrolled": true
   },
   "outputs": [
    {
     "data": {
      "text/plain": [
       "tensor([[[[ 0.0000,  0.0000,  0.2121,  ..., -0.4295,  0.3585,  0.0000],\n",
       "          [ 0.0000,  0.0000,  0.3352,  ...,  0.2897,  0.1361,  0.0000],\n",
       "          [ 0.0000,  0.5251, -0.0306,  ...,  0.3581,  0.0789,  0.0000],\n",
       "          ...,\n",
       "          [-0.0320, -0.1250, -0.0547,  ..., -0.1456, -0.3456,  0.0653],\n",
       "          [ 0.0000,  0.0000,  0.0000,  ..., -0.2457,  0.0042, -0.0537],\n",
       "          [ 0.0000,  0.0000,  0.0000,  ...,  0.1180,  0.0000,  0.0000]],\n",
       "\n",
       "         [[ 0.0000,  0.0000, -0.3474,  ...,  0.3058, -0.0759,  0.0000],\n",
       "          [ 0.0000,  0.0000, -0.1941,  ...,  0.1179, -0.3101,  0.0000],\n",
       "          [ 0.0000, -0.1300, -0.2125,  ..., -0.6069, -0.0909,  0.0000],\n",
       "          ...,\n",
       "          [-0.0502,  0.3426,  0.1033,  ..., -0.1391,  0.7115, -0.0575],\n",
       "          [ 0.0000,  0.0000,  0.0000,  ...,  0.1486, -0.0693,  0.2726],\n",
       "          [ 0.0000,  0.0000,  0.0000,  ..., -0.1033,  0.0000,  0.0000]],\n",
       "\n",
       "         [[ 0.0000,  0.0000, -0.1695,  ...,  0.4049, -0.1719,  0.0000],\n",
       "          [ 0.0000,  0.0000, -0.0926,  ..., -0.5820,  0.2269,  0.0000],\n",
       "          [ 0.0000,  0.1865, -0.1826,  ..., -0.3506, -0.1470,  0.0000],\n",
       "          ...,\n",
       "          [ 0.2252,  0.3090, -0.1326,  ...,  0.4121, -0.0729, -0.0538],\n",
       "          [ 0.0000,  0.0000,  0.0000,  ..., -0.1686,  0.4072,  0.0650],\n",
       "          [ 0.0000,  0.0000,  0.0000,  ..., -0.1134,  0.0000,  0.0000]],\n",
       "\n",
       "         ...,\n",
       "\n",
       "         [[ 0.0000,  0.0000,  0.1255,  ...,  0.0065, -0.1746,  0.0000],\n",
       "          [ 0.0000,  0.0000, -0.3338,  ..., -0.1884, -0.2085,  0.0000],\n",
       "          [ 0.0000,  0.4021, -0.2376,  ..., -0.3666, -0.2027,  0.0000],\n",
       "          ...,\n",
       "          [-0.3018,  0.2279,  0.1157,  ..., -0.2115,  0.5459, -0.0998],\n",
       "          [ 0.0000,  0.0000,  0.0000,  ..., -0.6122, -0.2811,  0.3325],\n",
       "          [ 0.0000,  0.0000,  0.0000,  ..., -0.1011,  0.0000,  0.0000]],\n",
       "\n",
       "         [[ 0.0000,  0.0000,  0.2668,  ..., -0.0276, -0.1045,  0.0000],\n",
       "          [ 0.0000,  0.0000,  0.1381,  ...,  0.1471, -0.1243,  0.0000],\n",
       "          [ 0.0000,  0.1656,  0.0038,  ...,  0.3067, -0.0178,  0.0000],\n",
       "          ...,\n",
       "          [ 0.0079, -0.1075,  0.0873,  ..., -0.2179,  0.3805,  0.0919],\n",
       "          [ 0.0000,  0.0000,  0.0000,  ..., -0.1523, -0.3427,  0.1753],\n",
       "          [ 0.0000,  0.0000,  0.0000,  ...,  0.2017,  0.0000,  0.0000]],\n",
       "\n",
       "         [[ 0.0000,  0.0000, -0.0283,  ..., -0.4745, -0.0984,  0.0000],\n",
       "          [ 0.0000,  0.0000,  0.0685,  ...,  0.2656,  0.5182,  0.0000],\n",
       "          [ 0.0000, -0.0557, -0.1908,  ...,  0.1171, -0.3741,  0.0000],\n",
       "          ...,\n",
       "          [-0.0930,  0.2744, -0.0122,  ...,  0.0456, -0.5056, -0.1690],\n",
       "          [ 0.0000,  0.0000,  0.0000,  ..., -0.3923,  0.4244,  0.0223],\n",
       "          [ 0.0000,  0.0000,  0.0000,  ...,  0.1423,  0.0000,  0.0000]]]],\n",
       "       device='cuda:0', grad_fn=<CloneBackward0>)"
      ]
     },
     "execution_count": 23,
     "metadata": {},
     "output_type": "execute_result"
    }
   ],
   "source": [
    "y2.dense()"
   ]
  },
  {
   "cell_type": "markdown",
   "id": "7cf20965-8626-4a0b-8e52-461a102c3226",
   "metadata": {},
   "source": [
    "# Test for Global SmoothQuant for SubMConv2d"
   ]
  },
  {
   "cell_type": "code",
   "execution_count": 1,
   "id": "0684fa7e-3ec6-4960-ad3a-9195b4b1b916",
   "metadata": {},
   "outputs": [],
   "source": [
    "import spconv.pytorch as spconv\n",
    "from spconv.pytorch import SparseConvTensor\n",
    "from spconv.pytorch.modules import SparseModule\n",
    "import math\n",
    "import torch\n",
    "from torch import nn\n",
    "from IPython.display import Image\n",
    "from pytorch_quantization.tensor_quant import QuantDescriptor\n",
    "from pytorch_quantization.nn.modules.tensor_quantizer import TensorQuantizer"
   ]
  },
  {
   "cell_type": "code",
   "execution_count": 2,
   "id": "e8d54de3-3ea3-479c-bc7f-032c123ae2a5",
   "metadata": {},
   "outputs": [],
   "source": [
    "import random"
   ]
  },
  {
   "cell_type": "code",
   "execution_count": 3,
   "id": "8255e985-7106-44f9-bbe3-0b6f8f01c5e8",
   "metadata": {},
   "outputs": [
    {
     "data": {
      "text/plain": [
       "<torch._C.Generator at 0x7f4830d5ee90>"
      ]
     },
     "execution_count": 3,
     "metadata": {},
     "output_type": "execute_result"
    }
   ],
   "source": [
    "torch.manual_seed(2025)"
   ]
  },
  {
   "cell_type": "code",
   "execution_count": 4,
   "id": "59e1c6e8-6768-4090-8628-be4fa09a5ed1",
   "metadata": {},
   "outputs": [],
   "source": [
    "# Parameters\n",
    "N = 1200  # number of non-zero points\n",
    "num_channels = 5  # number of feature channels per point\n",
    "ndim = 2  # number of spatial dimensions (e.g., 3D convolution)\n",
    "batch_size = 1  # number of batches"
   ]
  },
  {
   "cell_type": "code",
   "execution_count": 5,
   "id": "09a776d2-2797-4645-ab6b-e19fd11e90e1",
   "metadata": {},
   "outputs": [],
   "source": [
    "# Generating random features\n",
    "features = torch.randn(N, num_channels).to('cuda')"
   ]
  },
  {
   "cell_type": "code",
   "execution_count": 6,
   "id": "08316d3d-f4a9-47a2-8966-10dec30b3491",
   "metadata": {},
   "outputs": [
    {
     "data": {
      "text/plain": [
       "torch.Size([1200, 5])"
      ]
     },
     "execution_count": 6,
     "metadata": {},
     "output_type": "execute_result"
    }
   ],
   "source": [
    "features.shape"
   ]
  },
  {
   "cell_type": "code",
   "execution_count": 7,
   "id": "fb5388c0-25f4-4920-b095-d36c121f160f",
   "metadata": {},
   "outputs": [
    {
     "data": {
      "text/plain": [
       "torch.Size([5999])"
      ]
     },
     "execution_count": 7,
     "metadata": {},
     "output_type": "execute_result"
    }
   ],
   "source": [
    "features.unique().shape"
   ]
  },
  {
   "cell_type": "code",
   "execution_count": 8,
   "id": "53c224df-25ed-44db-85c0-c13f76d791db",
   "metadata": {},
   "outputs": [],
   "source": [
    "# Generating random indices for a 3D sparse tensor with batch indices\n",
    "spatial_shape = (100, 100)  # Define the spatial shape of the sparse tensor\n",
    "indices = torch.zeros(N, ndim + 1, dtype=torch.int32).to('cuda')\n",
    "indices[:, 0] = torch.randint(0, batch_size, (N,))  # Batch indices\n",
    "indices_list = []\n",
    "for i in range(N):\n",
    "    combo = (random.randint(0, 99), random.randint(0, 99))\n",
    "    while combo in indices_list:\n",
    "        combo = (random.randint(0, 99), random.randint(0, 99))\n",
    "    indices[i, 1:] = torch.tensor(combo)\n",
    "    indices_list.append(combo)"
   ]
  },
  {
   "cell_type": "code",
   "execution_count": 9,
   "id": "f2e3dfc5-d6d0-49b6-8fa3-eb9a5877afca",
   "metadata": {},
   "outputs": [
    {
     "data": {
      "text/plain": [
       "1200"
      ]
     },
     "execution_count": 9,
     "metadata": {},
     "output_type": "execute_result"
    }
   ],
   "source": [
    "len(indices_list)"
   ]
  },
  {
   "cell_type": "code",
   "execution_count": 10,
   "id": "d249694e-eae9-4d0a-b266-7baf9262b93a",
   "metadata": {},
   "outputs": [],
   "source": [
    "# Creating the SparseConvTensor\n",
    "x = spconv.SparseConvTensor(features, indices, spatial_shape, batch_size)"
   ]
  },
  {
   "cell_type": "code",
   "execution_count": 11,
   "id": "3277ac06-56d6-4d52-9da6-6f8b8d667f0c",
   "metadata": {},
   "outputs": [
    {
     "data": {
      "text/plain": [
       "torch.Size([1200, 3])"
      ]
     },
     "execution_count": 11,
     "metadata": {},
     "output_type": "execute_result"
    }
   ],
   "source": [
    "x.indices.unique(dim=0).shape"
   ]
  },
  {
   "cell_type": "code",
   "execution_count": 12,
   "id": "af47aa83-65db-4ff2-badf-db4dc0dfba88",
   "metadata": {},
   "outputs": [
    {
     "data": {
      "text/plain": [
       "torch.Size([1200, 5])"
      ]
     },
     "execution_count": 12,
     "metadata": {},
     "output_type": "execute_result"
    }
   ],
   "source": [
    "x.features.shape"
   ]
  },
  {
   "cell_type": "code",
   "execution_count": 13,
   "id": "cca6a643-4024-44fc-834a-8f57e07c3fda",
   "metadata": {},
   "outputs": [
    {
     "data": {
      "text/plain": [
       "tensor([[[[ 0.0000,  0.0000,  0.0000,  ...,  0.0000, -0.3850,  0.0000],\n",
       "          [ 0.0000,  0.0000,  0.0000,  ..., -1.1989,  0.0000,  0.0000],\n",
       "          [ 0.0000,  0.0000,  0.0000,  ...,  0.0000,  0.0000, -0.9303],\n",
       "          ...,\n",
       "          [ 0.0000,  0.0000,  0.0000,  ..., -1.1294,  0.0000,  0.0000],\n",
       "          [ 0.0000,  0.0000,  0.0000,  ...,  0.0000,  0.0000,  0.0000],\n",
       "          [ 0.0000,  0.0000,  0.0000,  ..., -1.2710,  0.0000, -1.1512]],\n",
       "\n",
       "         [[ 0.0000,  0.0000,  0.0000,  ...,  0.0000,  1.8766,  0.0000],\n",
       "          [ 0.0000,  0.0000,  0.0000,  ..., -0.1037,  0.0000,  0.0000],\n",
       "          [ 0.0000,  0.0000,  0.0000,  ...,  0.0000,  0.0000,  0.5237],\n",
       "          ...,\n",
       "          [ 0.0000,  0.0000,  0.0000,  ..., -0.1239,  0.0000,  0.0000],\n",
       "          [ 0.0000,  0.0000,  0.0000,  ...,  0.0000,  0.0000,  0.0000],\n",
       "          [ 0.0000,  0.0000,  0.0000,  ...,  0.3361,  0.0000,  0.5953]],\n",
       "\n",
       "         [[ 0.0000,  0.0000,  0.0000,  ...,  0.0000,  1.7469,  0.0000],\n",
       "          [ 0.0000,  0.0000,  0.0000,  ...,  0.7313,  0.0000,  0.0000],\n",
       "          [ 0.0000,  0.0000,  0.0000,  ...,  0.0000,  0.0000, -0.2704],\n",
       "          ...,\n",
       "          [ 0.0000,  0.0000,  0.0000,  ..., -0.0057,  0.0000,  0.0000],\n",
       "          [ 0.0000,  0.0000,  0.0000,  ...,  0.0000,  0.0000,  0.0000],\n",
       "          [ 0.0000,  0.0000,  0.0000,  ..., -0.4343,  0.0000, -0.7891]],\n",
       "\n",
       "         [[ 0.0000,  0.0000,  0.0000,  ...,  0.0000,  0.9599,  0.0000],\n",
       "          [ 0.0000,  0.0000,  0.0000,  ...,  0.9527,  0.0000,  0.0000],\n",
       "          [ 0.0000,  0.0000,  0.0000,  ...,  0.0000,  0.0000, -0.0419],\n",
       "          ...,\n",
       "          [ 0.0000,  0.0000,  0.0000,  ...,  0.5614,  0.0000,  0.0000],\n",
       "          [ 0.0000,  0.0000,  0.0000,  ...,  0.0000,  0.0000,  0.0000],\n",
       "          [ 0.0000,  0.0000,  0.0000,  ..., -0.8661,  0.0000,  0.9239]],\n",
       "\n",
       "         [[ 0.0000,  0.0000,  0.0000,  ...,  0.0000,  0.0130,  0.0000],\n",
       "          [ 0.0000,  0.0000,  0.0000,  ..., -1.2140,  0.0000,  0.0000],\n",
       "          [ 0.0000,  0.0000,  0.0000,  ...,  0.0000,  0.0000, -0.7414],\n",
       "          ...,\n",
       "          [ 0.0000,  0.0000,  0.0000,  ..., -1.0138,  0.0000,  0.0000],\n",
       "          [ 0.0000,  0.0000,  0.0000,  ...,  0.0000,  0.0000,  0.0000],\n",
       "          [ 0.0000,  0.0000,  0.0000,  ..., -2.4867,  0.0000, -0.4007]]]],\n",
       "       device='cuda:0')"
      ]
     },
     "execution_count": 13,
     "metadata": {},
     "output_type": "execute_result"
    }
   ],
   "source": [
    "x.dense()"
   ]
  },
  {
   "cell_type": "code",
   "execution_count": 14,
   "id": "3b171a17-9c49-4623-804e-2c645c3ae358",
   "metadata": {},
   "outputs": [],
   "source": [
    "spconv2d = spconv.SubMConv2d(\n",
    "    in_channels=5, \n",
    "    out_channels=16, \n",
    "    kernel_size=3, \n",
    "    stride=1,\n",
    "    padding=1,\n",
    "    bias=False\n",
    ")"
   ]
  },
  {
   "cell_type": "code",
   "execution_count": 15,
   "id": "4aae0d00-329c-4c61-a0a7-e24b5f5dce33",
   "metadata": {},
   "outputs": [
    {
     "data": {
      "text/plain": [
       "SubMConv2d(5, 16, kernel_size=[3, 3], stride=[1, 1], padding=[1, 1], dilation=[1, 1], output_padding=[0, 0], bias=False, algo=ConvAlgo.MaskImplicitGemm)"
      ]
     },
     "execution_count": 15,
     "metadata": {},
     "output_type": "execute_result"
    }
   ],
   "source": [
    "spconv2d.to('cuda')"
   ]
  },
  {
   "cell_type": "code",
   "execution_count": 16,
   "id": "b4b4a867-b6da-46ec-87df-a312e0b93b39",
   "metadata": {},
   "outputs": [
    {
     "data": {
      "text/plain": [
       "torch.Size([16, 3, 3, 5])"
      ]
     },
     "execution_count": 16,
     "metadata": {},
     "output_type": "execute_result"
    }
   ],
   "source": [
    "spconv2d.weight.data.shape"
   ]
  },
  {
   "cell_type": "code",
   "execution_count": 17,
   "id": "18a3b397-85d9-4f0a-a896-290e8d0a4a1a",
   "metadata": {},
   "outputs": [],
   "source": [
    "class SQConv2d(SparseModule):\n",
    "    \"\"\"Pytorch Quantization\"\"\"\n",
    "    def __init__(self, spconv2d):\n",
    "        super().__init__()\n",
    "        self.spconv2d = spconv2d\n",
    "\n",
    "        # w quantizer\n",
    "        w_desc = QuantDescriptor(\n",
    "            num_bits=8, \n",
    "            axis=(0)\n",
    "        )\n",
    "        self.w_quant = TensorQuantizer(w_desc)\n",
    "\n",
    "        # act quantizer\n",
    "        act_desc = QuantDescriptor(\n",
    "            num_bits=8\n",
    "        )\n",
    "        self.act_quant = TensorQuantizer(act_desc)\n",
    "\n",
    "        self.weight_max = self.spconv2d.weight.data.abs().max()\n",
    "        self.original_weight = self.spconv2d.weight.data.clone()\n",
    "\n",
    "    def forward(self, x):\n",
    "        features = x.features\n",
    "        features_max = features.abs().max()\n",
    "        scale = torch.sqrt(features_max/self.weight_max)\n",
    "        if scale == 0:\n",
    "            scale = 1\n",
    "        print(f'features_max: {features_max:.6f}\\t| weight_max: {self.weight_max:.6f}\\t| scale: {scale:.6f}')\n",
    "\n",
    "        features /= scale\n",
    "        features = self.act_quant(features)\n",
    "        x = x.replace_feature(features)\n",
    "\n",
    "        oc, kh, kw, ic = self.spconv2d.weight.data.shape\n",
    "        w = self.spconv2d.weight.data.permute(0, 3, 1, 2).contiguous().view(oc, -1)\n",
    "        w *= scale\n",
    "        w = self.w_quant(w)\n",
    "\n",
    "        self.spconv2d.weight.data = w.view(oc, ic, kh, kw).permute(0, 2, 3, 1).contiguous()\n",
    "\n",
    "        x = self.spconv2d(x)\n",
    "        self.spconv2d.weight.data = self.original_weight.clone()\n",
    "        return x"
   ]
  },
  {
   "cell_type": "code",
   "execution_count": 18,
   "id": "ed8ae7c4-1593-4ae7-a410-d174b28582e9",
   "metadata": {},
   "outputs": [],
   "source": [
    "sqconv2d = SQConv2d(spconv2d = spconv2d)"
   ]
  },
  {
   "cell_type": "code",
   "execution_count": 19,
   "id": "fad1ae02-025a-4b01-bf06-9e5111ad45d7",
   "metadata": {},
   "outputs": [
    {
     "name": "stdout",
     "output_type": "stream",
     "text": [
      "features_max: 3.451292\t| weight_max: 0.148947\t| scale: 4.813662\n"
     ]
    }
   ],
   "source": [
    "y1 = spconv2d(x)\n",
    "y2 = sqconv2d(x)"
   ]
  },
  {
   "cell_type": "code",
   "execution_count": 20,
   "id": "406c4cbd-0576-410d-a2d6-f9aff6be015f",
   "metadata": {},
   "outputs": [],
   "source": [
    "l1loss = torch.nn.L1Loss()"
   ]
  },
  {
   "cell_type": "code",
   "execution_count": 21,
   "id": "e1c31d68-1603-4a8a-b7f1-b36a1df14a94",
   "metadata": {},
   "outputs": [
    {
     "data": {
      "text/plain": [
       "tensor(0.0002, device='cuda:0', grad_fn=<MeanBackward0>)"
      ]
     },
     "execution_count": 21,
     "metadata": {},
     "output_type": "execute_result"
    }
   ],
   "source": [
    "l1loss(y1.dense(), y2.dense())"
   ]
  },
  {
   "cell_type": "code",
   "execution_count": 22,
   "id": "d69732be-961b-4093-a070-8fe9d73fb78d",
   "metadata": {},
   "outputs": [
    {
     "data": {
      "text/plain": [
       "tensor([[[[ 0.0000,  0.0000,  0.0000,  ...,  0.0000,  0.0266,  0.0000],\n",
       "          [ 0.0000,  0.0000,  0.0000,  ..., -0.4732,  0.0000,  0.0000],\n",
       "          [ 0.0000,  0.0000,  0.0000,  ...,  0.0000,  0.0000, -0.0700],\n",
       "          ...,\n",
       "          [ 0.0000,  0.0000,  0.0000,  ..., -0.2787,  0.0000,  0.0000],\n",
       "          [ 0.0000,  0.0000,  0.0000,  ...,  0.0000,  0.0000,  0.0000],\n",
       "          [ 0.0000,  0.0000,  0.0000,  ..., -0.2952,  0.0000, -0.0505]],\n",
       "\n",
       "         [[ 0.0000,  0.0000,  0.0000,  ...,  0.0000, -0.1939,  0.0000],\n",
       "          [ 0.0000,  0.0000,  0.0000,  ...,  0.5033,  0.0000,  0.0000],\n",
       "          [ 0.0000,  0.0000,  0.0000,  ...,  0.0000,  0.0000,  0.1613],\n",
       "          ...,\n",
       "          [ 0.0000,  0.0000,  0.0000,  ...,  0.0599,  0.0000,  0.0000],\n",
       "          [ 0.0000,  0.0000,  0.0000,  ...,  0.0000,  0.0000,  0.0000],\n",
       "          [ 0.0000,  0.0000,  0.0000,  ...,  0.6637,  0.0000,  0.0136]],\n",
       "\n",
       "         [[ 0.0000,  0.0000,  0.0000,  ...,  0.0000, -0.0775,  0.0000],\n",
       "          [ 0.0000,  0.0000,  0.0000,  ...,  0.1694,  0.0000,  0.0000],\n",
       "          [ 0.0000,  0.0000,  0.0000,  ...,  0.0000,  0.0000,  0.0800],\n",
       "          ...,\n",
       "          [ 0.0000,  0.0000,  0.0000,  ..., -0.1388,  0.0000,  0.0000],\n",
       "          [ 0.0000,  0.0000,  0.0000,  ...,  0.0000,  0.0000,  0.0000],\n",
       "          [ 0.0000,  0.0000,  0.0000,  ...,  0.3473,  0.0000,  0.1517]],\n",
       "\n",
       "         ...,\n",
       "\n",
       "         [[ 0.0000,  0.0000,  0.0000,  ...,  0.0000,  0.3603,  0.0000],\n",
       "          [ 0.0000,  0.0000,  0.0000,  ...,  0.0770,  0.0000,  0.0000],\n",
       "          [ 0.0000,  0.0000,  0.0000,  ...,  0.0000,  0.0000, -0.0178],\n",
       "          ...,\n",
       "          [ 0.0000,  0.0000,  0.0000,  ...,  0.1412,  0.0000,  0.0000],\n",
       "          [ 0.0000,  0.0000,  0.0000,  ...,  0.0000,  0.0000,  0.0000],\n",
       "          [ 0.0000,  0.0000,  0.0000,  ..., -0.0120,  0.0000, -0.0014]],\n",
       "\n",
       "         [[ 0.0000,  0.0000,  0.0000,  ...,  0.0000, -0.0299,  0.0000],\n",
       "          [ 0.0000,  0.0000,  0.0000,  ..., -0.2473,  0.0000,  0.0000],\n",
       "          [ 0.0000,  0.0000,  0.0000,  ...,  0.0000,  0.0000,  0.0158],\n",
       "          ...,\n",
       "          [ 0.0000,  0.0000,  0.0000,  ...,  0.1006,  0.0000,  0.0000],\n",
       "          [ 0.0000,  0.0000,  0.0000,  ...,  0.0000,  0.0000,  0.0000],\n",
       "          [ 0.0000,  0.0000,  0.0000,  ...,  0.1547,  0.0000, -0.1130]],\n",
       "\n",
       "         [[ 0.0000,  0.0000,  0.0000,  ...,  0.0000, -0.4049,  0.0000],\n",
       "          [ 0.0000,  0.0000,  0.0000,  ...,  0.3132,  0.0000,  0.0000],\n",
       "          [ 0.0000,  0.0000,  0.0000,  ...,  0.0000,  0.0000,  0.1582],\n",
       "          ...,\n",
       "          [ 0.0000,  0.0000,  0.0000,  ...,  1.1831,  0.0000,  0.0000],\n",
       "          [ 0.0000,  0.0000,  0.0000,  ...,  0.0000,  0.0000,  0.0000],\n",
       "          [ 0.0000,  0.0000,  0.0000,  ..., -0.0566,  0.0000,  0.2822]]]],\n",
       "       device='cuda:0', grad_fn=<CloneBackward0>)"
      ]
     },
     "execution_count": 22,
     "metadata": {},
     "output_type": "execute_result"
    }
   ],
   "source": [
    "y1.dense()"
   ]
  },
  {
   "cell_type": "code",
   "execution_count": 23,
   "id": "23e2f6c3-b4dd-4125-bc15-d51fe3647dba",
   "metadata": {},
   "outputs": [
    {
     "data": {
      "text/plain": [
       "tensor([[[[ 0.0000,  0.0000,  0.0000,  ...,  0.0000,  0.0241,  0.0000],\n",
       "          [ 0.0000,  0.0000,  0.0000,  ..., -0.4724,  0.0000,  0.0000],\n",
       "          [ 0.0000,  0.0000,  0.0000,  ...,  0.0000,  0.0000, -0.0684],\n",
       "          ...,\n",
       "          [ 0.0000,  0.0000,  0.0000,  ..., -0.2804,  0.0000,  0.0000],\n",
       "          [ 0.0000,  0.0000,  0.0000,  ...,  0.0000,  0.0000,  0.0000],\n",
       "          [ 0.0000,  0.0000,  0.0000,  ..., -0.2956,  0.0000, -0.0494]],\n",
       "\n",
       "         [[ 0.0000,  0.0000,  0.0000,  ...,  0.0000, -0.1943,  0.0000],\n",
       "          [ 0.0000,  0.0000,  0.0000,  ...,  0.5009,  0.0000,  0.0000],\n",
       "          [ 0.0000,  0.0000,  0.0000,  ...,  0.0000,  0.0000,  0.1607],\n",
       "          ...,\n",
       "          [ 0.0000,  0.0000,  0.0000,  ...,  0.0555,  0.0000,  0.0000],\n",
       "          [ 0.0000,  0.0000,  0.0000,  ...,  0.0000,  0.0000,  0.0000],\n",
       "          [ 0.0000,  0.0000,  0.0000,  ...,  0.6628,  0.0000,  0.0136]],\n",
       "\n",
       "         [[ 0.0000,  0.0000,  0.0000,  ...,  0.0000, -0.0781,  0.0000],\n",
       "          [ 0.0000,  0.0000,  0.0000,  ...,  0.1730,  0.0000,  0.0000],\n",
       "          [ 0.0000,  0.0000,  0.0000,  ...,  0.0000,  0.0000,  0.0794],\n",
       "          ...,\n",
       "          [ 0.0000,  0.0000,  0.0000,  ..., -0.1350,  0.0000,  0.0000],\n",
       "          [ 0.0000,  0.0000,  0.0000,  ...,  0.0000,  0.0000,  0.0000],\n",
       "          [ 0.0000,  0.0000,  0.0000,  ...,  0.3514,  0.0000,  0.1508]],\n",
       "\n",
       "         ...,\n",
       "\n",
       "         [[ 0.0000,  0.0000,  0.0000,  ...,  0.0000,  0.3577,  0.0000],\n",
       "          [ 0.0000,  0.0000,  0.0000,  ...,  0.0709,  0.0000,  0.0000],\n",
       "          [ 0.0000,  0.0000,  0.0000,  ...,  0.0000,  0.0000, -0.0169],\n",
       "          ...,\n",
       "          [ 0.0000,  0.0000,  0.0000,  ...,  0.1469,  0.0000,  0.0000],\n",
       "          [ 0.0000,  0.0000,  0.0000,  ...,  0.0000,  0.0000,  0.0000],\n",
       "          [ 0.0000,  0.0000,  0.0000,  ..., -0.0119,  0.0000, -0.0026]],\n",
       "\n",
       "         [[ 0.0000,  0.0000,  0.0000,  ...,  0.0000, -0.0322,  0.0000],\n",
       "          [ 0.0000,  0.0000,  0.0000,  ..., -0.2494,  0.0000,  0.0000],\n",
       "          [ 0.0000,  0.0000,  0.0000,  ...,  0.0000,  0.0000,  0.0174],\n",
       "          ...,\n",
       "          [ 0.0000,  0.0000,  0.0000,  ...,  0.1007,  0.0000,  0.0000],\n",
       "          [ 0.0000,  0.0000,  0.0000,  ...,  0.0000,  0.0000,  0.0000],\n",
       "          [ 0.0000,  0.0000,  0.0000,  ...,  0.1526,  0.0000, -0.1153]],\n",
       "\n",
       "         [[ 0.0000,  0.0000,  0.0000,  ...,  0.0000, -0.4055,  0.0000],\n",
       "          [ 0.0000,  0.0000,  0.0000,  ...,  0.3146,  0.0000,  0.0000],\n",
       "          [ 0.0000,  0.0000,  0.0000,  ...,  0.0000,  0.0000,  0.1566],\n",
       "          ...,\n",
       "          [ 0.0000,  0.0000,  0.0000,  ...,  1.1868,  0.0000,  0.0000],\n",
       "          [ 0.0000,  0.0000,  0.0000,  ...,  0.0000,  0.0000,  0.0000],\n",
       "          [ 0.0000,  0.0000,  0.0000,  ..., -0.0497,  0.0000,  0.2822]]]],\n",
       "       device='cuda:0', grad_fn=<CloneBackward0>)"
      ]
     },
     "execution_count": 23,
     "metadata": {},
     "output_type": "execute_result"
    }
   ],
   "source": [
    "y2.dense()"
   ]
  },
  {
   "cell_type": "code",
   "execution_count": null,
   "id": "d75890cb-f18e-4d35-a80b-0d3716d667aa",
   "metadata": {},
   "outputs": [],
   "source": []
  },
  {
   "cell_type": "markdown",
   "id": "870ea750-e703-4887-af40-c476eea9fb95",
   "metadata": {},
   "source": [
    "# Test for Global SmoothQuant for SubMConv3d"
   ]
  },
  {
   "cell_type": "code",
   "execution_count": 1,
   "id": "80a2efef-be70-4ee2-9fb3-501a72f247d3",
   "metadata": {},
   "outputs": [],
   "source": [
    "import spconv.pytorch as spconv\n",
    "from spconv.pytorch import SparseConvTensor\n",
    "from spconv.pytorch.modules import SparseModule\n",
    "import math\n",
    "import torch\n",
    "from torch import nn\n",
    "from IPython.display import Image\n",
    "from pytorch_quantization.tensor_quant import QuantDescriptor\n",
    "from pytorch_quantization.nn.modules.tensor_quantizer import TensorQuantizer"
   ]
  },
  {
   "cell_type": "code",
   "execution_count": 2,
   "id": "84026f17-a17a-4306-bc61-ccc10375e955",
   "metadata": {},
   "outputs": [],
   "source": [
    "import random"
   ]
  },
  {
   "cell_type": "code",
   "execution_count": 3,
   "id": "2e48bedb-376d-402b-b74a-9e3506e43ce3",
   "metadata": {},
   "outputs": [
    {
     "data": {
      "text/plain": [
       "<torch._C.Generator at 0x7f6de11df390>"
      ]
     },
     "execution_count": 3,
     "metadata": {},
     "output_type": "execute_result"
    }
   ],
   "source": [
    "torch.manual_seed(2025)"
   ]
  },
  {
   "cell_type": "code",
   "execution_count": 4,
   "id": "57b7a761-8a3a-4ec9-b58a-a6e11d1bece9",
   "metadata": {},
   "outputs": [],
   "source": [
    "# Parameters\n",
    "N = 120000  # number of non-zero points\n",
    "num_channels = 5  # number of feature channels per point\n",
    "ndim = 3  # number of spatial dimensions (e.g., 3D convolution)\n",
    "batch_size = 1  # number of batches"
   ]
  },
  {
   "cell_type": "code",
   "execution_count": 5,
   "id": "391b1bdd-a69f-428a-ae2b-a56075cf50bc",
   "metadata": {},
   "outputs": [],
   "source": [
    "# Generating random features\n",
    "features = torch.randn(N, num_channels).to('cuda')"
   ]
  },
  {
   "cell_type": "code",
   "execution_count": 6,
   "id": "a9f7910f-1458-4d4d-adea-ea87fe7ab92c",
   "metadata": {},
   "outputs": [
    {
     "data": {
      "text/plain": [
       "torch.Size([120000, 5])"
      ]
     },
     "execution_count": 6,
     "metadata": {},
     "output_type": "execute_result"
    }
   ],
   "source": [
    "features.shape"
   ]
  },
  {
   "cell_type": "code",
   "execution_count": 7,
   "id": "2b4d87f6-ee30-416e-8ad7-f2620e14b191",
   "metadata": {},
   "outputs": [
    {
     "data": {
      "text/plain": [
       "torch.Size([597537])"
      ]
     },
     "execution_count": 7,
     "metadata": {},
     "output_type": "execute_result"
    }
   ],
   "source": [
    "features.unique().shape"
   ]
  },
  {
   "cell_type": "code",
   "execution_count": 8,
   "id": "d17744f5-391f-473d-a103-fa566872b630",
   "metadata": {},
   "outputs": [],
   "source": [
    "# Generating random indices for a 3D sparse tensor with batch indices\n",
    "spatial_shape = (100, 100, 100)  # Define the spatial shape of the sparse tensor\n",
    "indices = torch.zeros(N, ndim + 1, dtype=torch.int32).to('cuda')\n",
    "indices[:, 0] = torch.randint(0, batch_size, (N,))  # Batch indices\n",
    "indices_list = []\n",
    "for i in range(N):\n",
    "    combo = (random.randint(0, 99), random.randint(0, 99), random.randint(0, 99))\n",
    "    while combo in indices_list:\n",
    "        combo = (random.randint(0, 99), random.randint(0, 99), random.randint(0, 99))\n",
    "    indices[i, 1:] = torch.tensor(combo)\n",
    "    indices_list.append(combo)"
   ]
  },
  {
   "cell_type": "code",
   "execution_count": 9,
   "id": "2762d5bd-0ca2-473e-9a8a-cbea9c73f41f",
   "metadata": {},
   "outputs": [],
   "source": [
    "# Creating the SparseConvTensor\n",
    "x = spconv.SparseConvTensor(features, indices, spatial_shape, batch_size)"
   ]
  },
  {
   "cell_type": "code",
   "execution_count": 10,
   "id": "23c85598-cb4e-4c44-9801-d7214e73659b",
   "metadata": {},
   "outputs": [
    {
     "data": {
      "text/plain": [
       "tensor([[[[[ 0.0000e+00,  0.0000e+00,  0.0000e+00,  ...,  0.0000e+00,\n",
       "             0.0000e+00,  0.0000e+00],\n",
       "           [ 0.0000e+00,  0.0000e+00,  0.0000e+00,  ...,  0.0000e+00,\n",
       "             0.0000e+00,  0.0000e+00],\n",
       "           [ 0.0000e+00, -4.5252e-01,  6.1144e-01,  ...,  0.0000e+00,\n",
       "             0.0000e+00,  0.0000e+00],\n",
       "           ...,\n",
       "           [ 0.0000e+00, -1.2579e+00,  0.0000e+00,  ...,  0.0000e+00,\n",
       "             0.0000e+00,  0.0000e+00],\n",
       "           [ 0.0000e+00,  0.0000e+00,  0.0000e+00,  ...,  0.0000e+00,\n",
       "             0.0000e+00,  0.0000e+00],\n",
       "           [-3.9556e-01,  0.0000e+00,  0.0000e+00,  ...,  0.0000e+00,\n",
       "             0.0000e+00,  0.0000e+00]],\n",
       "\n",
       "          [[ 0.0000e+00,  5.9218e-01, -1.6502e-01,  ...,  0.0000e+00,\n",
       "             0.0000e+00,  0.0000e+00],\n",
       "           [ 0.0000e+00,  1.5501e-01,  0.0000e+00,  ...,  0.0000e+00,\n",
       "            -1.2349e-01,  0.0000e+00],\n",
       "           [ 0.0000e+00, -3.8301e-01,  0.0000e+00,  ...,  0.0000e+00,\n",
       "             0.0000e+00,  0.0000e+00],\n",
       "           ...,\n",
       "           [ 0.0000e+00,  0.0000e+00,  0.0000e+00,  ...,  4.0022e-01,\n",
       "             0.0000e+00,  0.0000e+00],\n",
       "           [ 0.0000e+00,  0.0000e+00,  0.0000e+00,  ...,  0.0000e+00,\n",
       "            -1.3772e+00,  0.0000e+00],\n",
       "           [ 0.0000e+00,  0.0000e+00,  0.0000e+00,  ...,  0.0000e+00,\n",
       "             0.0000e+00,  0.0000e+00]],\n",
       "\n",
       "          [[ 0.0000e+00,  0.0000e+00,  0.0000e+00,  ...,  0.0000e+00,\n",
       "             0.0000e+00,  0.0000e+00],\n",
       "           [ 0.0000e+00,  0.0000e+00,  0.0000e+00,  ...,  0.0000e+00,\n",
       "             0.0000e+00,  0.0000e+00],\n",
       "           [ 0.0000e+00,  0.0000e+00,  0.0000e+00,  ...,  0.0000e+00,\n",
       "             0.0000e+00,  0.0000e+00],\n",
       "           ...,\n",
       "           [ 0.0000e+00, -2.4039e-01,  0.0000e+00,  ...,  0.0000e+00,\n",
       "            -1.2397e+00,  0.0000e+00],\n",
       "           [ 0.0000e+00,  0.0000e+00,  0.0000e+00,  ...,  0.0000e+00,\n",
       "             0.0000e+00,  0.0000e+00],\n",
       "           [ 0.0000e+00,  0.0000e+00,  0.0000e+00,  ...,  0.0000e+00,\n",
       "             1.1602e+00,  0.0000e+00]],\n",
       "\n",
       "          ...,\n",
       "\n",
       "          [[ 0.0000e+00,  0.0000e+00,  0.0000e+00,  ...,  0.0000e+00,\n",
       "             0.0000e+00,  0.0000e+00],\n",
       "           [ 0.0000e+00,  0.0000e+00,  0.0000e+00,  ...,  0.0000e+00,\n",
       "             0.0000e+00, -1.3926e+00],\n",
       "           [ 1.6654e+00,  0.0000e+00,  0.0000e+00,  ...,  0.0000e+00,\n",
       "             0.0000e+00,  0.0000e+00],\n",
       "           ...,\n",
       "           [ 0.0000e+00,  0.0000e+00,  0.0000e+00,  ...,  0.0000e+00,\n",
       "             0.0000e+00,  0.0000e+00],\n",
       "           [ 0.0000e+00,  0.0000e+00,  0.0000e+00,  ..., -1.4283e-01,\n",
       "             0.0000e+00, -1.3925e-01],\n",
       "           [ 0.0000e+00,  0.0000e+00,  0.0000e+00,  ...,  0.0000e+00,\n",
       "             0.0000e+00,  0.0000e+00]],\n",
       "\n",
       "          [[ 0.0000e+00,  0.0000e+00,  1.0491e+00,  ...,  0.0000e+00,\n",
       "             0.0000e+00,  0.0000e+00],\n",
       "           [ 0.0000e+00,  0.0000e+00,  0.0000e+00,  ...,  0.0000e+00,\n",
       "             0.0000e+00,  0.0000e+00],\n",
       "           [ 0.0000e+00,  0.0000e+00,  0.0000e+00,  ...,  0.0000e+00,\n",
       "             0.0000e+00,  0.0000e+00],\n",
       "           ...,\n",
       "           [ 0.0000e+00,  0.0000e+00,  0.0000e+00,  ...,  0.0000e+00,\n",
       "             0.0000e+00,  0.0000e+00],\n",
       "           [ 0.0000e+00,  0.0000e+00,  0.0000e+00,  ...,  0.0000e+00,\n",
       "             6.0677e-01,  0.0000e+00],\n",
       "           [ 0.0000e+00,  0.0000e+00,  0.0000e+00,  ..., -1.3501e+00,\n",
       "             0.0000e+00,  0.0000e+00]],\n",
       "\n",
       "          [[ 0.0000e+00,  1.0497e+00,  0.0000e+00,  ...,  9.0585e-01,\n",
       "             0.0000e+00,  0.0000e+00],\n",
       "           [ 0.0000e+00,  0.0000e+00,  0.0000e+00,  ...,  0.0000e+00,\n",
       "             0.0000e+00,  0.0000e+00],\n",
       "           [ 0.0000e+00,  0.0000e+00,  0.0000e+00,  ...,  0.0000e+00,\n",
       "             0.0000e+00,  8.2550e-01],\n",
       "           ...,\n",
       "           [ 0.0000e+00,  0.0000e+00,  0.0000e+00,  ...,  0.0000e+00,\n",
       "             0.0000e+00,  0.0000e+00],\n",
       "           [ 0.0000e+00,  0.0000e+00,  0.0000e+00,  ...,  0.0000e+00,\n",
       "             0.0000e+00,  0.0000e+00],\n",
       "           [ 4.2076e-01,  0.0000e+00,  0.0000e+00,  ...,  0.0000e+00,\n",
       "             0.0000e+00,  0.0000e+00]]],\n",
       "\n",
       "\n",
       "         [[[ 0.0000e+00,  0.0000e+00,  0.0000e+00,  ...,  0.0000e+00,\n",
       "             0.0000e+00,  0.0000e+00],\n",
       "           [ 0.0000e+00,  0.0000e+00,  0.0000e+00,  ...,  0.0000e+00,\n",
       "             0.0000e+00,  0.0000e+00],\n",
       "           [ 0.0000e+00,  3.4474e-01,  8.7437e-01,  ...,  0.0000e+00,\n",
       "             0.0000e+00,  0.0000e+00],\n",
       "           ...,\n",
       "           [ 0.0000e+00,  6.0661e-01,  0.0000e+00,  ...,  0.0000e+00,\n",
       "             0.0000e+00,  0.0000e+00],\n",
       "           [ 0.0000e+00,  0.0000e+00,  0.0000e+00,  ...,  0.0000e+00,\n",
       "             0.0000e+00,  0.0000e+00],\n",
       "           [ 7.1124e-01,  0.0000e+00,  0.0000e+00,  ...,  0.0000e+00,\n",
       "             0.0000e+00,  0.0000e+00]],\n",
       "\n",
       "          [[ 0.0000e+00, -1.2257e+00,  5.8372e-01,  ...,  0.0000e+00,\n",
       "             0.0000e+00,  0.0000e+00],\n",
       "           [ 0.0000e+00, -2.9595e-01,  0.0000e+00,  ...,  0.0000e+00,\n",
       "             9.4884e-02,  0.0000e+00],\n",
       "           [ 0.0000e+00,  9.5228e-01,  0.0000e+00,  ...,  0.0000e+00,\n",
       "             0.0000e+00,  0.0000e+00],\n",
       "           ...,\n",
       "           [ 0.0000e+00,  0.0000e+00,  0.0000e+00,  ...,  6.2668e-01,\n",
       "             0.0000e+00,  0.0000e+00],\n",
       "           [ 0.0000e+00,  0.0000e+00,  0.0000e+00,  ...,  0.0000e+00,\n",
       "             1.2257e+00,  0.0000e+00],\n",
       "           [ 0.0000e+00,  0.0000e+00,  0.0000e+00,  ...,  0.0000e+00,\n",
       "             0.0000e+00,  0.0000e+00]],\n",
       "\n",
       "          [[ 0.0000e+00,  0.0000e+00,  0.0000e+00,  ...,  0.0000e+00,\n",
       "             0.0000e+00,  0.0000e+00],\n",
       "           [ 0.0000e+00,  0.0000e+00,  0.0000e+00,  ...,  0.0000e+00,\n",
       "             0.0000e+00,  0.0000e+00],\n",
       "           [ 0.0000e+00,  0.0000e+00,  0.0000e+00,  ...,  0.0000e+00,\n",
       "             0.0000e+00,  0.0000e+00],\n",
       "           ...,\n",
       "           [ 0.0000e+00, -1.0393e+00,  0.0000e+00,  ...,  0.0000e+00,\n",
       "             1.1401e+00,  0.0000e+00],\n",
       "           [ 0.0000e+00,  0.0000e+00,  0.0000e+00,  ...,  0.0000e+00,\n",
       "             0.0000e+00,  0.0000e+00],\n",
       "           [ 0.0000e+00,  0.0000e+00,  0.0000e+00,  ...,  0.0000e+00,\n",
       "             6.7753e-02,  0.0000e+00]],\n",
       "\n",
       "          ...,\n",
       "\n",
       "          [[ 0.0000e+00,  0.0000e+00,  0.0000e+00,  ...,  0.0000e+00,\n",
       "             0.0000e+00,  0.0000e+00],\n",
       "           [ 0.0000e+00,  0.0000e+00,  0.0000e+00,  ...,  0.0000e+00,\n",
       "             0.0000e+00, -6.3284e-01],\n",
       "           [-5.0402e-01,  0.0000e+00,  0.0000e+00,  ...,  0.0000e+00,\n",
       "             0.0000e+00,  0.0000e+00],\n",
       "           ...,\n",
       "           [ 0.0000e+00,  0.0000e+00,  0.0000e+00,  ...,  0.0000e+00,\n",
       "             0.0000e+00,  0.0000e+00],\n",
       "           [ 0.0000e+00,  0.0000e+00,  0.0000e+00,  ..., -1.1572e+00,\n",
       "             0.0000e+00,  3.0907e-01],\n",
       "           [ 0.0000e+00,  0.0000e+00,  0.0000e+00,  ...,  0.0000e+00,\n",
       "             0.0000e+00,  0.0000e+00]],\n",
       "\n",
       "          [[ 0.0000e+00,  0.0000e+00,  9.5912e-01,  ...,  0.0000e+00,\n",
       "             0.0000e+00,  0.0000e+00],\n",
       "           [ 0.0000e+00,  0.0000e+00,  0.0000e+00,  ...,  0.0000e+00,\n",
       "             0.0000e+00,  0.0000e+00],\n",
       "           [ 0.0000e+00,  0.0000e+00,  0.0000e+00,  ...,  0.0000e+00,\n",
       "             0.0000e+00,  0.0000e+00],\n",
       "           ...,\n",
       "           [ 0.0000e+00,  0.0000e+00,  0.0000e+00,  ...,  0.0000e+00,\n",
       "             0.0000e+00,  0.0000e+00],\n",
       "           [ 0.0000e+00,  0.0000e+00,  0.0000e+00,  ...,  0.0000e+00,\n",
       "             2.0380e-01,  0.0000e+00],\n",
       "           [ 0.0000e+00,  0.0000e+00,  0.0000e+00,  ..., -4.0160e-01,\n",
       "             0.0000e+00,  0.0000e+00]],\n",
       "\n",
       "          [[ 0.0000e+00,  4.7373e-01,  0.0000e+00,  ...,  8.4953e-01,\n",
       "             0.0000e+00,  0.0000e+00],\n",
       "           [ 0.0000e+00,  0.0000e+00,  0.0000e+00,  ...,  0.0000e+00,\n",
       "             0.0000e+00,  0.0000e+00],\n",
       "           [ 0.0000e+00,  0.0000e+00,  0.0000e+00,  ...,  0.0000e+00,\n",
       "             0.0000e+00, -5.2700e-01],\n",
       "           ...,\n",
       "           [ 0.0000e+00,  0.0000e+00,  0.0000e+00,  ...,  0.0000e+00,\n",
       "             0.0000e+00,  0.0000e+00],\n",
       "           [ 0.0000e+00,  0.0000e+00,  0.0000e+00,  ...,  0.0000e+00,\n",
       "             0.0000e+00,  0.0000e+00],\n",
       "           [ 6.4632e-01,  0.0000e+00,  0.0000e+00,  ...,  0.0000e+00,\n",
       "             0.0000e+00,  0.0000e+00]]],\n",
       "\n",
       "\n",
       "         [[[ 0.0000e+00,  0.0000e+00,  0.0000e+00,  ...,  0.0000e+00,\n",
       "             0.0000e+00,  0.0000e+00],\n",
       "           [ 0.0000e+00,  0.0000e+00,  0.0000e+00,  ...,  0.0000e+00,\n",
       "             0.0000e+00,  0.0000e+00],\n",
       "           [ 0.0000e+00,  1.8690e-02, -1.2735e+00,  ...,  0.0000e+00,\n",
       "             0.0000e+00,  0.0000e+00],\n",
       "           ...,\n",
       "           [ 0.0000e+00,  8.8905e-01,  0.0000e+00,  ...,  0.0000e+00,\n",
       "             0.0000e+00,  0.0000e+00],\n",
       "           [ 0.0000e+00,  0.0000e+00,  0.0000e+00,  ...,  0.0000e+00,\n",
       "             0.0000e+00,  0.0000e+00],\n",
       "           [ 5.9476e-02,  0.0000e+00,  0.0000e+00,  ...,  0.0000e+00,\n",
       "             0.0000e+00,  0.0000e+00]],\n",
       "\n",
       "          [[ 0.0000e+00,  7.2439e-01,  2.2442e-01,  ...,  0.0000e+00,\n",
       "             0.0000e+00,  0.0000e+00],\n",
       "           [ 0.0000e+00, -9.6436e-01,  0.0000e+00,  ...,  0.0000e+00,\n",
       "            -1.7017e-01,  0.0000e+00],\n",
       "           [ 0.0000e+00,  1.8577e+00,  0.0000e+00,  ...,  0.0000e+00,\n",
       "             0.0000e+00,  0.0000e+00],\n",
       "           ...,\n",
       "           [ 0.0000e+00,  0.0000e+00,  0.0000e+00,  ..., -8.3682e-01,\n",
       "             0.0000e+00,  0.0000e+00],\n",
       "           [ 0.0000e+00,  0.0000e+00,  0.0000e+00,  ...,  0.0000e+00,\n",
       "            -1.9435e+00,  0.0000e+00],\n",
       "           [ 0.0000e+00,  0.0000e+00,  0.0000e+00,  ...,  0.0000e+00,\n",
       "             0.0000e+00,  0.0000e+00]],\n",
       "\n",
       "          [[ 0.0000e+00,  0.0000e+00,  0.0000e+00,  ...,  0.0000e+00,\n",
       "             0.0000e+00,  0.0000e+00],\n",
       "           [ 0.0000e+00,  0.0000e+00,  0.0000e+00,  ...,  0.0000e+00,\n",
       "             0.0000e+00,  0.0000e+00],\n",
       "           [ 0.0000e+00,  0.0000e+00,  0.0000e+00,  ...,  0.0000e+00,\n",
       "             0.0000e+00,  0.0000e+00],\n",
       "           ...,\n",
       "           [ 0.0000e+00, -1.6349e+00,  0.0000e+00,  ...,  0.0000e+00,\n",
       "            -3.9902e-01,  0.0000e+00],\n",
       "           [ 0.0000e+00,  0.0000e+00,  0.0000e+00,  ...,  0.0000e+00,\n",
       "             0.0000e+00,  0.0000e+00],\n",
       "           [ 0.0000e+00,  0.0000e+00,  0.0000e+00,  ...,  0.0000e+00,\n",
       "            -2.6190e-01,  0.0000e+00]],\n",
       "\n",
       "          ...,\n",
       "\n",
       "          [[ 0.0000e+00,  0.0000e+00,  0.0000e+00,  ...,  0.0000e+00,\n",
       "             0.0000e+00,  0.0000e+00],\n",
       "           [ 0.0000e+00,  0.0000e+00,  0.0000e+00,  ...,  0.0000e+00,\n",
       "             0.0000e+00,  9.7559e-01],\n",
       "           [-7.5391e-02,  0.0000e+00,  0.0000e+00,  ...,  0.0000e+00,\n",
       "             0.0000e+00,  0.0000e+00],\n",
       "           ...,\n",
       "           [ 0.0000e+00,  0.0000e+00,  0.0000e+00,  ...,  0.0000e+00,\n",
       "             0.0000e+00,  0.0000e+00],\n",
       "           [ 0.0000e+00,  0.0000e+00,  0.0000e+00,  ...,  1.8312e+00,\n",
       "             0.0000e+00, -4.0811e-01],\n",
       "           [ 0.0000e+00,  0.0000e+00,  0.0000e+00,  ...,  0.0000e+00,\n",
       "             0.0000e+00,  0.0000e+00]],\n",
       "\n",
       "          [[ 0.0000e+00,  0.0000e+00,  7.4038e-01,  ...,  0.0000e+00,\n",
       "             0.0000e+00,  0.0000e+00],\n",
       "           [ 0.0000e+00,  0.0000e+00,  0.0000e+00,  ...,  0.0000e+00,\n",
       "             0.0000e+00,  0.0000e+00],\n",
       "           [ 0.0000e+00,  0.0000e+00,  0.0000e+00,  ...,  0.0000e+00,\n",
       "             0.0000e+00,  0.0000e+00],\n",
       "           ...,\n",
       "           [ 0.0000e+00,  0.0000e+00,  0.0000e+00,  ...,  0.0000e+00,\n",
       "             0.0000e+00,  0.0000e+00],\n",
       "           [ 0.0000e+00,  0.0000e+00,  0.0000e+00,  ...,  0.0000e+00,\n",
       "            -1.2450e+00,  0.0000e+00],\n",
       "           [ 0.0000e+00,  0.0000e+00,  0.0000e+00,  ...,  1.1937e+00,\n",
       "             0.0000e+00,  0.0000e+00]],\n",
       "\n",
       "          [[ 0.0000e+00, -5.7742e-01,  0.0000e+00,  ...,  3.8130e-01,\n",
       "             0.0000e+00,  0.0000e+00],\n",
       "           [ 0.0000e+00,  0.0000e+00,  0.0000e+00,  ...,  0.0000e+00,\n",
       "             0.0000e+00,  0.0000e+00],\n",
       "           [ 0.0000e+00,  0.0000e+00,  0.0000e+00,  ...,  0.0000e+00,\n",
       "             0.0000e+00, -1.1749e-03],\n",
       "           ...,\n",
       "           [ 0.0000e+00,  0.0000e+00,  0.0000e+00,  ...,  0.0000e+00,\n",
       "             0.0000e+00,  0.0000e+00],\n",
       "           [ 0.0000e+00,  0.0000e+00,  0.0000e+00,  ...,  0.0000e+00,\n",
       "             0.0000e+00,  0.0000e+00],\n",
       "           [-2.3863e+00,  0.0000e+00,  0.0000e+00,  ...,  0.0000e+00,\n",
       "             0.0000e+00,  0.0000e+00]]],\n",
       "\n",
       "\n",
       "         [[[ 0.0000e+00,  0.0000e+00,  0.0000e+00,  ...,  0.0000e+00,\n",
       "             0.0000e+00,  0.0000e+00],\n",
       "           [ 0.0000e+00,  0.0000e+00,  0.0000e+00,  ...,  0.0000e+00,\n",
       "             0.0000e+00,  0.0000e+00],\n",
       "           [ 0.0000e+00,  1.1563e+00, -1.4605e+00,  ...,  0.0000e+00,\n",
       "             0.0000e+00,  0.0000e+00],\n",
       "           ...,\n",
       "           [ 0.0000e+00,  1.7382e+00,  0.0000e+00,  ...,  0.0000e+00,\n",
       "             0.0000e+00,  0.0000e+00],\n",
       "           [ 0.0000e+00,  0.0000e+00,  0.0000e+00,  ...,  0.0000e+00,\n",
       "             0.0000e+00,  0.0000e+00],\n",
       "           [ 1.8819e-01,  0.0000e+00,  0.0000e+00,  ...,  0.0000e+00,\n",
       "             0.0000e+00,  0.0000e+00]],\n",
       "\n",
       "          [[ 0.0000e+00, -4.7612e-02,  6.7885e-01,  ...,  0.0000e+00,\n",
       "             0.0000e+00,  0.0000e+00],\n",
       "           [ 0.0000e+00,  7.4087e-01,  0.0000e+00,  ...,  0.0000e+00,\n",
       "             2.2091e+00,  0.0000e+00],\n",
       "           [ 0.0000e+00, -6.5831e-01,  0.0000e+00,  ...,  0.0000e+00,\n",
       "             0.0000e+00,  0.0000e+00],\n",
       "           ...,\n",
       "           [ 0.0000e+00,  0.0000e+00,  0.0000e+00,  ...,  1.6226e+00,\n",
       "             0.0000e+00,  0.0000e+00],\n",
       "           [ 0.0000e+00,  0.0000e+00,  0.0000e+00,  ...,  0.0000e+00,\n",
       "            -1.1928e+00,  0.0000e+00],\n",
       "           [ 0.0000e+00,  0.0000e+00,  0.0000e+00,  ...,  0.0000e+00,\n",
       "             0.0000e+00,  0.0000e+00]],\n",
       "\n",
       "          [[ 0.0000e+00,  0.0000e+00,  0.0000e+00,  ...,  0.0000e+00,\n",
       "             0.0000e+00,  0.0000e+00],\n",
       "           [ 0.0000e+00,  0.0000e+00,  0.0000e+00,  ...,  0.0000e+00,\n",
       "             0.0000e+00,  0.0000e+00],\n",
       "           [ 0.0000e+00,  0.0000e+00,  0.0000e+00,  ...,  0.0000e+00,\n",
       "             0.0000e+00,  0.0000e+00],\n",
       "           ...,\n",
       "           [ 0.0000e+00,  5.0707e-02,  0.0000e+00,  ...,  0.0000e+00,\n",
       "            -4.6957e-01,  0.0000e+00],\n",
       "           [ 0.0000e+00,  0.0000e+00,  0.0000e+00,  ...,  0.0000e+00,\n",
       "             0.0000e+00,  0.0000e+00],\n",
       "           [ 0.0000e+00,  0.0000e+00,  0.0000e+00,  ...,  0.0000e+00,\n",
       "            -1.2854e+00,  0.0000e+00]],\n",
       "\n",
       "          ...,\n",
       "\n",
       "          [[ 0.0000e+00,  0.0000e+00,  0.0000e+00,  ...,  0.0000e+00,\n",
       "             0.0000e+00,  0.0000e+00],\n",
       "           [ 0.0000e+00,  0.0000e+00,  0.0000e+00,  ...,  0.0000e+00,\n",
       "             0.0000e+00,  5.0360e-01],\n",
       "           [-1.2677e+00,  0.0000e+00,  0.0000e+00,  ...,  0.0000e+00,\n",
       "             0.0000e+00,  0.0000e+00],\n",
       "           ...,\n",
       "           [ 0.0000e+00,  0.0000e+00,  0.0000e+00,  ...,  0.0000e+00,\n",
       "             0.0000e+00,  0.0000e+00],\n",
       "           [ 0.0000e+00,  0.0000e+00,  0.0000e+00,  ...,  9.9370e-01,\n",
       "             0.0000e+00, -9.8731e-02],\n",
       "           [ 0.0000e+00,  0.0000e+00,  0.0000e+00,  ...,  0.0000e+00,\n",
       "             0.0000e+00,  0.0000e+00]],\n",
       "\n",
       "          [[ 0.0000e+00,  0.0000e+00, -1.7837e+00,  ...,  0.0000e+00,\n",
       "             0.0000e+00,  0.0000e+00],\n",
       "           [ 0.0000e+00,  0.0000e+00,  0.0000e+00,  ...,  0.0000e+00,\n",
       "             0.0000e+00,  0.0000e+00],\n",
       "           [ 0.0000e+00,  0.0000e+00,  0.0000e+00,  ...,  0.0000e+00,\n",
       "             0.0000e+00,  0.0000e+00],\n",
       "           ...,\n",
       "           [ 0.0000e+00,  0.0000e+00,  0.0000e+00,  ...,  0.0000e+00,\n",
       "             0.0000e+00,  0.0000e+00],\n",
       "           [ 0.0000e+00,  0.0000e+00,  0.0000e+00,  ...,  0.0000e+00,\n",
       "             1.0109e+00,  0.0000e+00],\n",
       "           [ 0.0000e+00,  0.0000e+00,  0.0000e+00,  ..., -1.7897e-02,\n",
       "             0.0000e+00,  0.0000e+00]],\n",
       "\n",
       "          [[ 0.0000e+00, -1.0305e-01,  0.0000e+00,  ...,  2.5185e-01,\n",
       "             0.0000e+00,  0.0000e+00],\n",
       "           [ 0.0000e+00,  0.0000e+00,  0.0000e+00,  ...,  0.0000e+00,\n",
       "             0.0000e+00,  0.0000e+00],\n",
       "           [ 0.0000e+00,  0.0000e+00,  0.0000e+00,  ...,  0.0000e+00,\n",
       "             0.0000e+00,  8.8129e-01],\n",
       "           ...,\n",
       "           [ 0.0000e+00,  0.0000e+00,  0.0000e+00,  ...,  0.0000e+00,\n",
       "             0.0000e+00,  0.0000e+00],\n",
       "           [ 0.0000e+00,  0.0000e+00,  0.0000e+00,  ...,  0.0000e+00,\n",
       "             0.0000e+00,  0.0000e+00],\n",
       "           [ 5.4481e-01,  0.0000e+00,  0.0000e+00,  ...,  0.0000e+00,\n",
       "             0.0000e+00,  0.0000e+00]]],\n",
       "\n",
       "\n",
       "         [[[ 0.0000e+00,  0.0000e+00,  0.0000e+00,  ...,  0.0000e+00,\n",
       "             0.0000e+00,  0.0000e+00],\n",
       "           [ 0.0000e+00,  0.0000e+00,  0.0000e+00,  ...,  0.0000e+00,\n",
       "             0.0000e+00,  0.0000e+00],\n",
       "           [ 0.0000e+00,  2.1784e+00, -1.3896e+00,  ...,  0.0000e+00,\n",
       "             0.0000e+00,  0.0000e+00],\n",
       "           ...,\n",
       "           [ 0.0000e+00, -1.9847e+00,  0.0000e+00,  ...,  0.0000e+00,\n",
       "             0.0000e+00,  0.0000e+00],\n",
       "           [ 0.0000e+00,  0.0000e+00,  0.0000e+00,  ...,  0.0000e+00,\n",
       "             0.0000e+00,  0.0000e+00],\n",
       "           [-1.0986e-01,  0.0000e+00,  0.0000e+00,  ...,  0.0000e+00,\n",
       "             0.0000e+00,  0.0000e+00]],\n",
       "\n",
       "          [[ 0.0000e+00, -1.8633e+00,  3.3939e-01,  ...,  0.0000e+00,\n",
       "             0.0000e+00,  0.0000e+00],\n",
       "           [ 0.0000e+00,  7.7512e-01,  0.0000e+00,  ...,  0.0000e+00,\n",
       "             7.8997e-01,  0.0000e+00],\n",
       "           [ 0.0000e+00, -6.1912e-02,  0.0000e+00,  ...,  0.0000e+00,\n",
       "             0.0000e+00,  0.0000e+00],\n",
       "           ...,\n",
       "           [ 0.0000e+00,  0.0000e+00,  0.0000e+00,  ...,  7.4680e-01,\n",
       "             0.0000e+00,  0.0000e+00],\n",
       "           [ 0.0000e+00,  0.0000e+00,  0.0000e+00,  ...,  0.0000e+00,\n",
       "            -9.6547e-01,  0.0000e+00],\n",
       "           [ 0.0000e+00,  0.0000e+00,  0.0000e+00,  ...,  0.0000e+00,\n",
       "             0.0000e+00,  0.0000e+00]],\n",
       "\n",
       "          [[ 0.0000e+00,  0.0000e+00,  0.0000e+00,  ...,  0.0000e+00,\n",
       "             0.0000e+00,  0.0000e+00],\n",
       "           [ 0.0000e+00,  0.0000e+00,  0.0000e+00,  ...,  0.0000e+00,\n",
       "             0.0000e+00,  0.0000e+00],\n",
       "           [ 0.0000e+00,  0.0000e+00,  0.0000e+00,  ...,  0.0000e+00,\n",
       "             0.0000e+00,  0.0000e+00],\n",
       "           ...,\n",
       "           [ 0.0000e+00, -1.5249e+00,  0.0000e+00,  ...,  0.0000e+00,\n",
       "             8.3319e-02,  0.0000e+00],\n",
       "           [ 0.0000e+00,  0.0000e+00,  0.0000e+00,  ...,  0.0000e+00,\n",
       "             0.0000e+00,  0.0000e+00],\n",
       "           [ 0.0000e+00,  0.0000e+00,  0.0000e+00,  ...,  0.0000e+00,\n",
       "             8.9382e-01,  0.0000e+00]],\n",
       "\n",
       "          ...,\n",
       "\n",
       "          [[ 0.0000e+00,  0.0000e+00,  0.0000e+00,  ...,  0.0000e+00,\n",
       "             0.0000e+00,  0.0000e+00],\n",
       "           [ 0.0000e+00,  0.0000e+00,  0.0000e+00,  ...,  0.0000e+00,\n",
       "             0.0000e+00,  5.1079e-01],\n",
       "           [-2.0081e-01,  0.0000e+00,  0.0000e+00,  ...,  0.0000e+00,\n",
       "             0.0000e+00,  0.0000e+00],\n",
       "           ...,\n",
       "           [ 0.0000e+00,  0.0000e+00,  0.0000e+00,  ...,  0.0000e+00,\n",
       "             0.0000e+00,  0.0000e+00],\n",
       "           [ 0.0000e+00,  0.0000e+00,  0.0000e+00,  ...,  1.5516e+00,\n",
       "             0.0000e+00, -1.0172e+00],\n",
       "           [ 0.0000e+00,  0.0000e+00,  0.0000e+00,  ...,  0.0000e+00,\n",
       "             0.0000e+00,  0.0000e+00]],\n",
       "\n",
       "          [[ 0.0000e+00,  0.0000e+00, -2.4510e-01,  ...,  0.0000e+00,\n",
       "             0.0000e+00,  0.0000e+00],\n",
       "           [ 0.0000e+00,  0.0000e+00,  0.0000e+00,  ...,  0.0000e+00,\n",
       "             0.0000e+00,  0.0000e+00],\n",
       "           [ 0.0000e+00,  0.0000e+00,  0.0000e+00,  ...,  0.0000e+00,\n",
       "             0.0000e+00,  0.0000e+00],\n",
       "           ...,\n",
       "           [ 0.0000e+00,  0.0000e+00,  0.0000e+00,  ...,  0.0000e+00,\n",
       "             0.0000e+00,  0.0000e+00],\n",
       "           [ 0.0000e+00,  0.0000e+00,  0.0000e+00,  ...,  0.0000e+00,\n",
       "            -4.7231e-02,  0.0000e+00],\n",
       "           [ 0.0000e+00,  0.0000e+00,  0.0000e+00,  ..., -1.6092e+00,\n",
       "             0.0000e+00,  0.0000e+00]],\n",
       "\n",
       "          [[ 0.0000e+00, -5.9047e-01,  0.0000e+00,  ...,  3.8588e-01,\n",
       "             0.0000e+00,  0.0000e+00],\n",
       "           [ 0.0000e+00,  0.0000e+00,  0.0000e+00,  ...,  0.0000e+00,\n",
       "             0.0000e+00,  0.0000e+00],\n",
       "           [ 0.0000e+00,  0.0000e+00,  0.0000e+00,  ...,  0.0000e+00,\n",
       "             0.0000e+00, -3.8240e-01],\n",
       "           ...,\n",
       "           [ 0.0000e+00,  0.0000e+00,  0.0000e+00,  ...,  0.0000e+00,\n",
       "             0.0000e+00,  0.0000e+00],\n",
       "           [ 0.0000e+00,  0.0000e+00,  0.0000e+00,  ...,  0.0000e+00,\n",
       "             0.0000e+00,  0.0000e+00],\n",
       "           [-3.0486e-01,  0.0000e+00,  0.0000e+00,  ...,  0.0000e+00,\n",
       "             0.0000e+00,  0.0000e+00]]]]], device='cuda:0')"
      ]
     },
     "execution_count": 10,
     "metadata": {},
     "output_type": "execute_result"
    }
   ],
   "source": [
    "x.dense()"
   ]
  },
  {
   "cell_type": "code",
   "execution_count": 11,
   "id": "b3930913-3146-46d4-9771-5316e6c8d13e",
   "metadata": {
    "scrolled": true
   },
   "outputs": [
    {
     "data": {
      "text/plain": [
       "tensor([[[[[ 0.0000e+00,  0.0000e+00,  0.0000e+00,  ...,  0.0000e+00,\n",
       "             0.0000e+00,  0.0000e+00],\n",
       "           [ 0.0000e+00,  0.0000e+00,  0.0000e+00,  ...,  0.0000e+00,\n",
       "             0.0000e+00,  0.0000e+00],\n",
       "           [ 0.0000e+00, -4.5252e-01,  6.1144e-01,  ...,  0.0000e+00,\n",
       "             0.0000e+00,  0.0000e+00],\n",
       "           ...,\n",
       "           [ 0.0000e+00, -1.2579e+00,  0.0000e+00,  ...,  0.0000e+00,\n",
       "             0.0000e+00,  0.0000e+00],\n",
       "           [ 0.0000e+00,  0.0000e+00,  0.0000e+00,  ...,  0.0000e+00,\n",
       "             0.0000e+00,  0.0000e+00],\n",
       "           [-3.9556e-01,  0.0000e+00,  0.0000e+00,  ...,  0.0000e+00,\n",
       "             0.0000e+00,  0.0000e+00]],\n",
       "\n",
       "          [[ 0.0000e+00,  5.9218e-01, -1.6502e-01,  ...,  0.0000e+00,\n",
       "             0.0000e+00,  0.0000e+00],\n",
       "           [ 0.0000e+00,  1.5501e-01,  0.0000e+00,  ...,  0.0000e+00,\n",
       "            -1.2349e-01,  0.0000e+00],\n",
       "           [ 0.0000e+00, -3.8301e-01,  0.0000e+00,  ...,  0.0000e+00,\n",
       "             0.0000e+00,  0.0000e+00],\n",
       "           ...,\n",
       "           [ 0.0000e+00,  0.0000e+00,  0.0000e+00,  ...,  4.0022e-01,\n",
       "             0.0000e+00,  0.0000e+00],\n",
       "           [ 0.0000e+00,  0.0000e+00,  0.0000e+00,  ...,  0.0000e+00,\n",
       "            -1.3772e+00,  0.0000e+00],\n",
       "           [ 0.0000e+00,  0.0000e+00,  0.0000e+00,  ...,  0.0000e+00,\n",
       "             0.0000e+00,  0.0000e+00]],\n",
       "\n",
       "          [[ 0.0000e+00,  0.0000e+00,  0.0000e+00,  ...,  0.0000e+00,\n",
       "             0.0000e+00,  0.0000e+00],\n",
       "           [ 0.0000e+00,  0.0000e+00,  0.0000e+00,  ...,  0.0000e+00,\n",
       "             0.0000e+00,  0.0000e+00],\n",
       "           [ 0.0000e+00,  0.0000e+00,  0.0000e+00,  ...,  0.0000e+00,\n",
       "             0.0000e+00,  0.0000e+00],\n",
       "           ...,\n",
       "           [ 0.0000e+00, -2.4039e-01,  0.0000e+00,  ...,  0.0000e+00,\n",
       "            -1.2397e+00,  0.0000e+00],\n",
       "           [ 0.0000e+00,  0.0000e+00,  0.0000e+00,  ...,  0.0000e+00,\n",
       "             0.0000e+00,  0.0000e+00],\n",
       "           [ 0.0000e+00,  0.0000e+00,  0.0000e+00,  ...,  0.0000e+00,\n",
       "             1.1602e+00,  0.0000e+00]],\n",
       "\n",
       "          ...,\n",
       "\n",
       "          [[ 0.0000e+00,  0.0000e+00,  0.0000e+00,  ...,  0.0000e+00,\n",
       "             0.0000e+00,  0.0000e+00],\n",
       "           [ 0.0000e+00,  0.0000e+00,  0.0000e+00,  ...,  0.0000e+00,\n",
       "             0.0000e+00, -1.3926e+00],\n",
       "           [ 1.6654e+00,  0.0000e+00,  0.0000e+00,  ...,  0.0000e+00,\n",
       "             0.0000e+00,  0.0000e+00],\n",
       "           ...,\n",
       "           [ 0.0000e+00,  0.0000e+00,  0.0000e+00,  ...,  0.0000e+00,\n",
       "             0.0000e+00,  0.0000e+00],\n",
       "           [ 0.0000e+00,  0.0000e+00,  0.0000e+00,  ..., -1.4283e-01,\n",
       "             0.0000e+00, -1.3925e-01],\n",
       "           [ 0.0000e+00,  0.0000e+00,  0.0000e+00,  ...,  0.0000e+00,\n",
       "             0.0000e+00,  0.0000e+00]],\n",
       "\n",
       "          [[ 0.0000e+00,  0.0000e+00,  1.0491e+00,  ...,  0.0000e+00,\n",
       "             0.0000e+00,  0.0000e+00],\n",
       "           [ 0.0000e+00,  0.0000e+00,  0.0000e+00,  ...,  0.0000e+00,\n",
       "             0.0000e+00,  0.0000e+00],\n",
       "           [ 0.0000e+00,  0.0000e+00,  0.0000e+00,  ...,  0.0000e+00,\n",
       "             0.0000e+00,  0.0000e+00],\n",
       "           ...,\n",
       "           [ 0.0000e+00,  0.0000e+00,  0.0000e+00,  ...,  0.0000e+00,\n",
       "             0.0000e+00,  0.0000e+00],\n",
       "           [ 0.0000e+00,  0.0000e+00,  0.0000e+00,  ...,  0.0000e+00,\n",
       "             6.0677e-01,  0.0000e+00],\n",
       "           [ 0.0000e+00,  0.0000e+00,  0.0000e+00,  ..., -1.3501e+00,\n",
       "             0.0000e+00,  0.0000e+00]],\n",
       "\n",
       "          [[ 0.0000e+00,  1.0497e+00,  0.0000e+00,  ...,  9.0585e-01,\n",
       "             0.0000e+00,  0.0000e+00],\n",
       "           [ 0.0000e+00,  0.0000e+00,  0.0000e+00,  ...,  0.0000e+00,\n",
       "             0.0000e+00,  0.0000e+00],\n",
       "           [ 0.0000e+00,  0.0000e+00,  0.0000e+00,  ...,  0.0000e+00,\n",
       "             0.0000e+00,  8.2550e-01],\n",
       "           ...,\n",
       "           [ 0.0000e+00,  0.0000e+00,  0.0000e+00,  ...,  0.0000e+00,\n",
       "             0.0000e+00,  0.0000e+00],\n",
       "           [ 0.0000e+00,  0.0000e+00,  0.0000e+00,  ...,  0.0000e+00,\n",
       "             0.0000e+00,  0.0000e+00],\n",
       "           [ 4.2076e-01,  0.0000e+00,  0.0000e+00,  ...,  0.0000e+00,\n",
       "             0.0000e+00,  0.0000e+00]]],\n",
       "\n",
       "\n",
       "         [[[ 0.0000e+00,  0.0000e+00,  0.0000e+00,  ...,  0.0000e+00,\n",
       "             0.0000e+00,  0.0000e+00],\n",
       "           [ 0.0000e+00,  0.0000e+00,  0.0000e+00,  ...,  0.0000e+00,\n",
       "             0.0000e+00,  0.0000e+00],\n",
       "           [ 0.0000e+00,  3.4474e-01,  8.7437e-01,  ...,  0.0000e+00,\n",
       "             0.0000e+00,  0.0000e+00],\n",
       "           ...,\n",
       "           [ 0.0000e+00,  6.0661e-01,  0.0000e+00,  ...,  0.0000e+00,\n",
       "             0.0000e+00,  0.0000e+00],\n",
       "           [ 0.0000e+00,  0.0000e+00,  0.0000e+00,  ...,  0.0000e+00,\n",
       "             0.0000e+00,  0.0000e+00],\n",
       "           [ 7.1124e-01,  0.0000e+00,  0.0000e+00,  ...,  0.0000e+00,\n",
       "             0.0000e+00,  0.0000e+00]],\n",
       "\n",
       "          [[ 0.0000e+00, -1.2257e+00,  5.8372e-01,  ...,  0.0000e+00,\n",
       "             0.0000e+00,  0.0000e+00],\n",
       "           [ 0.0000e+00, -2.9595e-01,  0.0000e+00,  ...,  0.0000e+00,\n",
       "             9.4884e-02,  0.0000e+00],\n",
       "           [ 0.0000e+00,  9.5228e-01,  0.0000e+00,  ...,  0.0000e+00,\n",
       "             0.0000e+00,  0.0000e+00],\n",
       "           ...,\n",
       "           [ 0.0000e+00,  0.0000e+00,  0.0000e+00,  ...,  6.2668e-01,\n",
       "             0.0000e+00,  0.0000e+00],\n",
       "           [ 0.0000e+00,  0.0000e+00,  0.0000e+00,  ...,  0.0000e+00,\n",
       "             1.2257e+00,  0.0000e+00],\n",
       "           [ 0.0000e+00,  0.0000e+00,  0.0000e+00,  ...,  0.0000e+00,\n",
       "             0.0000e+00,  0.0000e+00]],\n",
       "\n",
       "          [[ 0.0000e+00,  0.0000e+00,  0.0000e+00,  ...,  0.0000e+00,\n",
       "             0.0000e+00,  0.0000e+00],\n",
       "           [ 0.0000e+00,  0.0000e+00,  0.0000e+00,  ...,  0.0000e+00,\n",
       "             0.0000e+00,  0.0000e+00],\n",
       "           [ 0.0000e+00,  0.0000e+00,  0.0000e+00,  ...,  0.0000e+00,\n",
       "             0.0000e+00,  0.0000e+00],\n",
       "           ...,\n",
       "           [ 0.0000e+00, -1.0393e+00,  0.0000e+00,  ...,  0.0000e+00,\n",
       "             1.1401e+00,  0.0000e+00],\n",
       "           [ 0.0000e+00,  0.0000e+00,  0.0000e+00,  ...,  0.0000e+00,\n",
       "             0.0000e+00,  0.0000e+00],\n",
       "           [ 0.0000e+00,  0.0000e+00,  0.0000e+00,  ...,  0.0000e+00,\n",
       "             6.7753e-02,  0.0000e+00]],\n",
       "\n",
       "          ...,\n",
       "\n",
       "          [[ 0.0000e+00,  0.0000e+00,  0.0000e+00,  ...,  0.0000e+00,\n",
       "             0.0000e+00,  0.0000e+00],\n",
       "           [ 0.0000e+00,  0.0000e+00,  0.0000e+00,  ...,  0.0000e+00,\n",
       "             0.0000e+00, -6.3284e-01],\n",
       "           [-5.0402e-01,  0.0000e+00,  0.0000e+00,  ...,  0.0000e+00,\n",
       "             0.0000e+00,  0.0000e+00],\n",
       "           ...,\n",
       "           [ 0.0000e+00,  0.0000e+00,  0.0000e+00,  ...,  0.0000e+00,\n",
       "             0.0000e+00,  0.0000e+00],\n",
       "           [ 0.0000e+00,  0.0000e+00,  0.0000e+00,  ..., -1.1572e+00,\n",
       "             0.0000e+00,  3.0907e-01],\n",
       "           [ 0.0000e+00,  0.0000e+00,  0.0000e+00,  ...,  0.0000e+00,\n",
       "             0.0000e+00,  0.0000e+00]],\n",
       "\n",
       "          [[ 0.0000e+00,  0.0000e+00,  9.5912e-01,  ...,  0.0000e+00,\n",
       "             0.0000e+00,  0.0000e+00],\n",
       "           [ 0.0000e+00,  0.0000e+00,  0.0000e+00,  ...,  0.0000e+00,\n",
       "             0.0000e+00,  0.0000e+00],\n",
       "           [ 0.0000e+00,  0.0000e+00,  0.0000e+00,  ...,  0.0000e+00,\n",
       "             0.0000e+00,  0.0000e+00],\n",
       "           ...,\n",
       "           [ 0.0000e+00,  0.0000e+00,  0.0000e+00,  ...,  0.0000e+00,\n",
       "             0.0000e+00,  0.0000e+00],\n",
       "           [ 0.0000e+00,  0.0000e+00,  0.0000e+00,  ...,  0.0000e+00,\n",
       "             2.0380e-01,  0.0000e+00],\n",
       "           [ 0.0000e+00,  0.0000e+00,  0.0000e+00,  ..., -4.0160e-01,\n",
       "             0.0000e+00,  0.0000e+00]],\n",
       "\n",
       "          [[ 0.0000e+00,  4.7373e-01,  0.0000e+00,  ...,  8.4953e-01,\n",
       "             0.0000e+00,  0.0000e+00],\n",
       "           [ 0.0000e+00,  0.0000e+00,  0.0000e+00,  ...,  0.0000e+00,\n",
       "             0.0000e+00,  0.0000e+00],\n",
       "           [ 0.0000e+00,  0.0000e+00,  0.0000e+00,  ...,  0.0000e+00,\n",
       "             0.0000e+00, -5.2700e-01],\n",
       "           ...,\n",
       "           [ 0.0000e+00,  0.0000e+00,  0.0000e+00,  ...,  0.0000e+00,\n",
       "             0.0000e+00,  0.0000e+00],\n",
       "           [ 0.0000e+00,  0.0000e+00,  0.0000e+00,  ...,  0.0000e+00,\n",
       "             0.0000e+00,  0.0000e+00],\n",
       "           [ 6.4632e-01,  0.0000e+00,  0.0000e+00,  ...,  0.0000e+00,\n",
       "             0.0000e+00,  0.0000e+00]]],\n",
       "\n",
       "\n",
       "         [[[ 0.0000e+00,  0.0000e+00,  0.0000e+00,  ...,  0.0000e+00,\n",
       "             0.0000e+00,  0.0000e+00],\n",
       "           [ 0.0000e+00,  0.0000e+00,  0.0000e+00,  ...,  0.0000e+00,\n",
       "             0.0000e+00,  0.0000e+00],\n",
       "           [ 0.0000e+00,  1.8690e-02, -1.2735e+00,  ...,  0.0000e+00,\n",
       "             0.0000e+00,  0.0000e+00],\n",
       "           ...,\n",
       "           [ 0.0000e+00,  8.8905e-01,  0.0000e+00,  ...,  0.0000e+00,\n",
       "             0.0000e+00,  0.0000e+00],\n",
       "           [ 0.0000e+00,  0.0000e+00,  0.0000e+00,  ...,  0.0000e+00,\n",
       "             0.0000e+00,  0.0000e+00],\n",
       "           [ 5.9476e-02,  0.0000e+00,  0.0000e+00,  ...,  0.0000e+00,\n",
       "             0.0000e+00,  0.0000e+00]],\n",
       "\n",
       "          [[ 0.0000e+00,  7.2439e-01,  2.2442e-01,  ...,  0.0000e+00,\n",
       "             0.0000e+00,  0.0000e+00],\n",
       "           [ 0.0000e+00, -9.6436e-01,  0.0000e+00,  ...,  0.0000e+00,\n",
       "            -1.7017e-01,  0.0000e+00],\n",
       "           [ 0.0000e+00,  1.8577e+00,  0.0000e+00,  ...,  0.0000e+00,\n",
       "             0.0000e+00,  0.0000e+00],\n",
       "           ...,\n",
       "           [ 0.0000e+00,  0.0000e+00,  0.0000e+00,  ..., -8.3682e-01,\n",
       "             0.0000e+00,  0.0000e+00],\n",
       "           [ 0.0000e+00,  0.0000e+00,  0.0000e+00,  ...,  0.0000e+00,\n",
       "            -1.9435e+00,  0.0000e+00],\n",
       "           [ 0.0000e+00,  0.0000e+00,  0.0000e+00,  ...,  0.0000e+00,\n",
       "             0.0000e+00,  0.0000e+00]],\n",
       "\n",
       "          [[ 0.0000e+00,  0.0000e+00,  0.0000e+00,  ...,  0.0000e+00,\n",
       "             0.0000e+00,  0.0000e+00],\n",
       "           [ 0.0000e+00,  0.0000e+00,  0.0000e+00,  ...,  0.0000e+00,\n",
       "             0.0000e+00,  0.0000e+00],\n",
       "           [ 0.0000e+00,  0.0000e+00,  0.0000e+00,  ...,  0.0000e+00,\n",
       "             0.0000e+00,  0.0000e+00],\n",
       "           ...,\n",
       "           [ 0.0000e+00, -1.6349e+00,  0.0000e+00,  ...,  0.0000e+00,\n",
       "            -3.9902e-01,  0.0000e+00],\n",
       "           [ 0.0000e+00,  0.0000e+00,  0.0000e+00,  ...,  0.0000e+00,\n",
       "             0.0000e+00,  0.0000e+00],\n",
       "           [ 0.0000e+00,  0.0000e+00,  0.0000e+00,  ...,  0.0000e+00,\n",
       "            -2.6190e-01,  0.0000e+00]],\n",
       "\n",
       "          ...,\n",
       "\n",
       "          [[ 0.0000e+00,  0.0000e+00,  0.0000e+00,  ...,  0.0000e+00,\n",
       "             0.0000e+00,  0.0000e+00],\n",
       "           [ 0.0000e+00,  0.0000e+00,  0.0000e+00,  ...,  0.0000e+00,\n",
       "             0.0000e+00,  9.7559e-01],\n",
       "           [-7.5391e-02,  0.0000e+00,  0.0000e+00,  ...,  0.0000e+00,\n",
       "             0.0000e+00,  0.0000e+00],\n",
       "           ...,\n",
       "           [ 0.0000e+00,  0.0000e+00,  0.0000e+00,  ...,  0.0000e+00,\n",
       "             0.0000e+00,  0.0000e+00],\n",
       "           [ 0.0000e+00,  0.0000e+00,  0.0000e+00,  ...,  1.8312e+00,\n",
       "             0.0000e+00, -4.0811e-01],\n",
       "           [ 0.0000e+00,  0.0000e+00,  0.0000e+00,  ...,  0.0000e+00,\n",
       "             0.0000e+00,  0.0000e+00]],\n",
       "\n",
       "          [[ 0.0000e+00,  0.0000e+00,  7.4038e-01,  ...,  0.0000e+00,\n",
       "             0.0000e+00,  0.0000e+00],\n",
       "           [ 0.0000e+00,  0.0000e+00,  0.0000e+00,  ...,  0.0000e+00,\n",
       "             0.0000e+00,  0.0000e+00],\n",
       "           [ 0.0000e+00,  0.0000e+00,  0.0000e+00,  ...,  0.0000e+00,\n",
       "             0.0000e+00,  0.0000e+00],\n",
       "           ...,\n",
       "           [ 0.0000e+00,  0.0000e+00,  0.0000e+00,  ...,  0.0000e+00,\n",
       "             0.0000e+00,  0.0000e+00],\n",
       "           [ 0.0000e+00,  0.0000e+00,  0.0000e+00,  ...,  0.0000e+00,\n",
       "            -1.2450e+00,  0.0000e+00],\n",
       "           [ 0.0000e+00,  0.0000e+00,  0.0000e+00,  ...,  1.1937e+00,\n",
       "             0.0000e+00,  0.0000e+00]],\n",
       "\n",
       "          [[ 0.0000e+00, -5.7742e-01,  0.0000e+00,  ...,  3.8130e-01,\n",
       "             0.0000e+00,  0.0000e+00],\n",
       "           [ 0.0000e+00,  0.0000e+00,  0.0000e+00,  ...,  0.0000e+00,\n",
       "             0.0000e+00,  0.0000e+00],\n",
       "           [ 0.0000e+00,  0.0000e+00,  0.0000e+00,  ...,  0.0000e+00,\n",
       "             0.0000e+00, -1.1749e-03],\n",
       "           ...,\n",
       "           [ 0.0000e+00,  0.0000e+00,  0.0000e+00,  ...,  0.0000e+00,\n",
       "             0.0000e+00,  0.0000e+00],\n",
       "           [ 0.0000e+00,  0.0000e+00,  0.0000e+00,  ...,  0.0000e+00,\n",
       "             0.0000e+00,  0.0000e+00],\n",
       "           [-2.3863e+00,  0.0000e+00,  0.0000e+00,  ...,  0.0000e+00,\n",
       "             0.0000e+00,  0.0000e+00]]],\n",
       "\n",
       "\n",
       "         [[[ 0.0000e+00,  0.0000e+00,  0.0000e+00,  ...,  0.0000e+00,\n",
       "             0.0000e+00,  0.0000e+00],\n",
       "           [ 0.0000e+00,  0.0000e+00,  0.0000e+00,  ...,  0.0000e+00,\n",
       "             0.0000e+00,  0.0000e+00],\n",
       "           [ 0.0000e+00,  1.1563e+00, -1.4605e+00,  ...,  0.0000e+00,\n",
       "             0.0000e+00,  0.0000e+00],\n",
       "           ...,\n",
       "           [ 0.0000e+00,  1.7382e+00,  0.0000e+00,  ...,  0.0000e+00,\n",
       "             0.0000e+00,  0.0000e+00],\n",
       "           [ 0.0000e+00,  0.0000e+00,  0.0000e+00,  ...,  0.0000e+00,\n",
       "             0.0000e+00,  0.0000e+00],\n",
       "           [ 1.8819e-01,  0.0000e+00,  0.0000e+00,  ...,  0.0000e+00,\n",
       "             0.0000e+00,  0.0000e+00]],\n",
       "\n",
       "          [[ 0.0000e+00, -4.7612e-02,  6.7885e-01,  ...,  0.0000e+00,\n",
       "             0.0000e+00,  0.0000e+00],\n",
       "           [ 0.0000e+00,  7.4087e-01,  0.0000e+00,  ...,  0.0000e+00,\n",
       "             2.2091e+00,  0.0000e+00],\n",
       "           [ 0.0000e+00, -6.5831e-01,  0.0000e+00,  ...,  0.0000e+00,\n",
       "             0.0000e+00,  0.0000e+00],\n",
       "           ...,\n",
       "           [ 0.0000e+00,  0.0000e+00,  0.0000e+00,  ...,  1.6226e+00,\n",
       "             0.0000e+00,  0.0000e+00],\n",
       "           [ 0.0000e+00,  0.0000e+00,  0.0000e+00,  ...,  0.0000e+00,\n",
       "            -1.1928e+00,  0.0000e+00],\n",
       "           [ 0.0000e+00,  0.0000e+00,  0.0000e+00,  ...,  0.0000e+00,\n",
       "             0.0000e+00,  0.0000e+00]],\n",
       "\n",
       "          [[ 0.0000e+00,  0.0000e+00,  0.0000e+00,  ...,  0.0000e+00,\n",
       "             0.0000e+00,  0.0000e+00],\n",
       "           [ 0.0000e+00,  0.0000e+00,  0.0000e+00,  ...,  0.0000e+00,\n",
       "             0.0000e+00,  0.0000e+00],\n",
       "           [ 0.0000e+00,  0.0000e+00,  0.0000e+00,  ...,  0.0000e+00,\n",
       "             0.0000e+00,  0.0000e+00],\n",
       "           ...,\n",
       "           [ 0.0000e+00,  5.0707e-02,  0.0000e+00,  ...,  0.0000e+00,\n",
       "            -4.6957e-01,  0.0000e+00],\n",
       "           [ 0.0000e+00,  0.0000e+00,  0.0000e+00,  ...,  0.0000e+00,\n",
       "             0.0000e+00,  0.0000e+00],\n",
       "           [ 0.0000e+00,  0.0000e+00,  0.0000e+00,  ...,  0.0000e+00,\n",
       "            -1.2854e+00,  0.0000e+00]],\n",
       "\n",
       "          ...,\n",
       "\n",
       "          [[ 0.0000e+00,  0.0000e+00,  0.0000e+00,  ...,  0.0000e+00,\n",
       "             0.0000e+00,  0.0000e+00],\n",
       "           [ 0.0000e+00,  0.0000e+00,  0.0000e+00,  ...,  0.0000e+00,\n",
       "             0.0000e+00,  5.0360e-01],\n",
       "           [-1.2677e+00,  0.0000e+00,  0.0000e+00,  ...,  0.0000e+00,\n",
       "             0.0000e+00,  0.0000e+00],\n",
       "           ...,\n",
       "           [ 0.0000e+00,  0.0000e+00,  0.0000e+00,  ...,  0.0000e+00,\n",
       "             0.0000e+00,  0.0000e+00],\n",
       "           [ 0.0000e+00,  0.0000e+00,  0.0000e+00,  ...,  9.9370e-01,\n",
       "             0.0000e+00, -9.8731e-02],\n",
       "           [ 0.0000e+00,  0.0000e+00,  0.0000e+00,  ...,  0.0000e+00,\n",
       "             0.0000e+00,  0.0000e+00]],\n",
       "\n",
       "          [[ 0.0000e+00,  0.0000e+00, -1.7837e+00,  ...,  0.0000e+00,\n",
       "             0.0000e+00,  0.0000e+00],\n",
       "           [ 0.0000e+00,  0.0000e+00,  0.0000e+00,  ...,  0.0000e+00,\n",
       "             0.0000e+00,  0.0000e+00],\n",
       "           [ 0.0000e+00,  0.0000e+00,  0.0000e+00,  ...,  0.0000e+00,\n",
       "             0.0000e+00,  0.0000e+00],\n",
       "           ...,\n",
       "           [ 0.0000e+00,  0.0000e+00,  0.0000e+00,  ...,  0.0000e+00,\n",
       "             0.0000e+00,  0.0000e+00],\n",
       "           [ 0.0000e+00,  0.0000e+00,  0.0000e+00,  ...,  0.0000e+00,\n",
       "             1.0109e+00,  0.0000e+00],\n",
       "           [ 0.0000e+00,  0.0000e+00,  0.0000e+00,  ..., -1.7897e-02,\n",
       "             0.0000e+00,  0.0000e+00]],\n",
       "\n",
       "          [[ 0.0000e+00, -1.0305e-01,  0.0000e+00,  ...,  2.5185e-01,\n",
       "             0.0000e+00,  0.0000e+00],\n",
       "           [ 0.0000e+00,  0.0000e+00,  0.0000e+00,  ...,  0.0000e+00,\n",
       "             0.0000e+00,  0.0000e+00],\n",
       "           [ 0.0000e+00,  0.0000e+00,  0.0000e+00,  ...,  0.0000e+00,\n",
       "             0.0000e+00,  8.8129e-01],\n",
       "           ...,\n",
       "           [ 0.0000e+00,  0.0000e+00,  0.0000e+00,  ...,  0.0000e+00,\n",
       "             0.0000e+00,  0.0000e+00],\n",
       "           [ 0.0000e+00,  0.0000e+00,  0.0000e+00,  ...,  0.0000e+00,\n",
       "             0.0000e+00,  0.0000e+00],\n",
       "           [ 5.4481e-01,  0.0000e+00,  0.0000e+00,  ...,  0.0000e+00,\n",
       "             0.0000e+00,  0.0000e+00]]],\n",
       "\n",
       "\n",
       "         [[[ 0.0000e+00,  0.0000e+00,  0.0000e+00,  ...,  0.0000e+00,\n",
       "             0.0000e+00,  0.0000e+00],\n",
       "           [ 0.0000e+00,  0.0000e+00,  0.0000e+00,  ...,  0.0000e+00,\n",
       "             0.0000e+00,  0.0000e+00],\n",
       "           [ 0.0000e+00,  2.1784e+00, -1.3896e+00,  ...,  0.0000e+00,\n",
       "             0.0000e+00,  0.0000e+00],\n",
       "           ...,\n",
       "           [ 0.0000e+00, -1.9847e+00,  0.0000e+00,  ...,  0.0000e+00,\n",
       "             0.0000e+00,  0.0000e+00],\n",
       "           [ 0.0000e+00,  0.0000e+00,  0.0000e+00,  ...,  0.0000e+00,\n",
       "             0.0000e+00,  0.0000e+00],\n",
       "           [-1.0986e-01,  0.0000e+00,  0.0000e+00,  ...,  0.0000e+00,\n",
       "             0.0000e+00,  0.0000e+00]],\n",
       "\n",
       "          [[ 0.0000e+00, -1.8633e+00,  3.3939e-01,  ...,  0.0000e+00,\n",
       "             0.0000e+00,  0.0000e+00],\n",
       "           [ 0.0000e+00,  7.7512e-01,  0.0000e+00,  ...,  0.0000e+00,\n",
       "             7.8997e-01,  0.0000e+00],\n",
       "           [ 0.0000e+00, -6.1912e-02,  0.0000e+00,  ...,  0.0000e+00,\n",
       "             0.0000e+00,  0.0000e+00],\n",
       "           ...,\n",
       "           [ 0.0000e+00,  0.0000e+00,  0.0000e+00,  ...,  7.4680e-01,\n",
       "             0.0000e+00,  0.0000e+00],\n",
       "           [ 0.0000e+00,  0.0000e+00,  0.0000e+00,  ...,  0.0000e+00,\n",
       "            -9.6547e-01,  0.0000e+00],\n",
       "           [ 0.0000e+00,  0.0000e+00,  0.0000e+00,  ...,  0.0000e+00,\n",
       "             0.0000e+00,  0.0000e+00]],\n",
       "\n",
       "          [[ 0.0000e+00,  0.0000e+00,  0.0000e+00,  ...,  0.0000e+00,\n",
       "             0.0000e+00,  0.0000e+00],\n",
       "           [ 0.0000e+00,  0.0000e+00,  0.0000e+00,  ...,  0.0000e+00,\n",
       "             0.0000e+00,  0.0000e+00],\n",
       "           [ 0.0000e+00,  0.0000e+00,  0.0000e+00,  ...,  0.0000e+00,\n",
       "             0.0000e+00,  0.0000e+00],\n",
       "           ...,\n",
       "           [ 0.0000e+00, -1.5249e+00,  0.0000e+00,  ...,  0.0000e+00,\n",
       "             8.3319e-02,  0.0000e+00],\n",
       "           [ 0.0000e+00,  0.0000e+00,  0.0000e+00,  ...,  0.0000e+00,\n",
       "             0.0000e+00,  0.0000e+00],\n",
       "           [ 0.0000e+00,  0.0000e+00,  0.0000e+00,  ...,  0.0000e+00,\n",
       "             8.9382e-01,  0.0000e+00]],\n",
       "\n",
       "          ...,\n",
       "\n",
       "          [[ 0.0000e+00,  0.0000e+00,  0.0000e+00,  ...,  0.0000e+00,\n",
       "             0.0000e+00,  0.0000e+00],\n",
       "           [ 0.0000e+00,  0.0000e+00,  0.0000e+00,  ...,  0.0000e+00,\n",
       "             0.0000e+00,  5.1079e-01],\n",
       "           [-2.0081e-01,  0.0000e+00,  0.0000e+00,  ...,  0.0000e+00,\n",
       "             0.0000e+00,  0.0000e+00],\n",
       "           ...,\n",
       "           [ 0.0000e+00,  0.0000e+00,  0.0000e+00,  ...,  0.0000e+00,\n",
       "             0.0000e+00,  0.0000e+00],\n",
       "           [ 0.0000e+00,  0.0000e+00,  0.0000e+00,  ...,  1.5516e+00,\n",
       "             0.0000e+00, -1.0172e+00],\n",
       "           [ 0.0000e+00,  0.0000e+00,  0.0000e+00,  ...,  0.0000e+00,\n",
       "             0.0000e+00,  0.0000e+00]],\n",
       "\n",
       "          [[ 0.0000e+00,  0.0000e+00, -2.4510e-01,  ...,  0.0000e+00,\n",
       "             0.0000e+00,  0.0000e+00],\n",
       "           [ 0.0000e+00,  0.0000e+00,  0.0000e+00,  ...,  0.0000e+00,\n",
       "             0.0000e+00,  0.0000e+00],\n",
       "           [ 0.0000e+00,  0.0000e+00,  0.0000e+00,  ...,  0.0000e+00,\n",
       "             0.0000e+00,  0.0000e+00],\n",
       "           ...,\n",
       "           [ 0.0000e+00,  0.0000e+00,  0.0000e+00,  ...,  0.0000e+00,\n",
       "             0.0000e+00,  0.0000e+00],\n",
       "           [ 0.0000e+00,  0.0000e+00,  0.0000e+00,  ...,  0.0000e+00,\n",
       "            -4.7231e-02,  0.0000e+00],\n",
       "           [ 0.0000e+00,  0.0000e+00,  0.0000e+00,  ..., -1.6092e+00,\n",
       "             0.0000e+00,  0.0000e+00]],\n",
       "\n",
       "          [[ 0.0000e+00, -5.9047e-01,  0.0000e+00,  ...,  3.8588e-01,\n",
       "             0.0000e+00,  0.0000e+00],\n",
       "           [ 0.0000e+00,  0.0000e+00,  0.0000e+00,  ...,  0.0000e+00,\n",
       "             0.0000e+00,  0.0000e+00],\n",
       "           [ 0.0000e+00,  0.0000e+00,  0.0000e+00,  ...,  0.0000e+00,\n",
       "             0.0000e+00, -3.8240e-01],\n",
       "           ...,\n",
       "           [ 0.0000e+00,  0.0000e+00,  0.0000e+00,  ...,  0.0000e+00,\n",
       "             0.0000e+00,  0.0000e+00],\n",
       "           [ 0.0000e+00,  0.0000e+00,  0.0000e+00,  ...,  0.0000e+00,\n",
       "             0.0000e+00,  0.0000e+00],\n",
       "           [-3.0486e-01,  0.0000e+00,  0.0000e+00,  ...,  0.0000e+00,\n",
       "             0.0000e+00,  0.0000e+00]]]]], device='cuda:0')"
      ]
     },
     "execution_count": 11,
     "metadata": {},
     "output_type": "execute_result"
    }
   ],
   "source": [
    "x.dense()"
   ]
  },
  {
   "cell_type": "code",
   "execution_count": 12,
   "id": "b80f51fd-7eb6-41b5-a005-db06e626a054",
   "metadata": {},
   "outputs": [
    {
     "data": {
      "text/plain": [
       "torch.Size([120000, 4])"
      ]
     },
     "execution_count": 12,
     "metadata": {},
     "output_type": "execute_result"
    }
   ],
   "source": [
    "x.indices.unique(dim=0).shape"
   ]
  },
  {
   "cell_type": "code",
   "execution_count": 13,
   "id": "d1d3a72a-17d8-44a7-87fb-3ceca710a525",
   "metadata": {},
   "outputs": [
    {
     "data": {
      "text/plain": [
       "torch.Size([120000, 5])"
      ]
     },
     "execution_count": 13,
     "metadata": {},
     "output_type": "execute_result"
    }
   ],
   "source": [
    "x.features.shape"
   ]
  },
  {
   "cell_type": "code",
   "execution_count": 14,
   "id": "6e37401a-3080-46b6-a377-594be3aa964f",
   "metadata": {},
   "outputs": [],
   "source": [
    "spconv3d = spconv.SubMConv3d(\n",
    "    in_channels=5, \n",
    "    out_channels=16, \n",
    "    kernel_size=3, \n",
    "    stride=1,\n",
    "    padding=1,\n",
    "    bias=False\n",
    ")"
   ]
  },
  {
   "cell_type": "code",
   "execution_count": 15,
   "id": "cc57954b-b6f2-48e1-8e2e-9038adbe2ae1",
   "metadata": {},
   "outputs": [
    {
     "data": {
      "text/plain": [
       "SubMConv3d(5, 16, kernel_size=[3, 3, 3], stride=[1, 1, 1], padding=[1, 1, 1], dilation=[1, 1, 1], output_padding=[0, 0, 0], bias=False, algo=ConvAlgo.MaskImplicitGemm)"
      ]
     },
     "execution_count": 15,
     "metadata": {},
     "output_type": "execute_result"
    }
   ],
   "source": [
    "spconv3d.to('cuda')"
   ]
  },
  {
   "cell_type": "code",
   "execution_count": 16,
   "id": "7ca2a34c-8f23-4aea-871d-3ef6a9070deb",
   "metadata": {},
   "outputs": [
    {
     "data": {
      "text/plain": [
       "torch.Size([16, 3, 3, 3, 5])"
      ]
     },
     "execution_count": 16,
     "metadata": {},
     "output_type": "execute_result"
    }
   ],
   "source": [
    "spconv3d.weight.data.shape"
   ]
  },
  {
   "cell_type": "code",
   "execution_count": 39,
   "id": "dafddfea-54b3-4f7a-87b4-99caf873660d",
   "metadata": {},
   "outputs": [],
   "source": [
    "class GSQConv3d(SparseModule):\n",
    "    \"\"\"Pytorch Quantization\"\"\"\n",
    "    def __init__(self, spconv3d, act_num_bits=8, weight_num_bits=4):\n",
    "        super().__init__()\n",
    "        self.spconv3d = spconv3d\n",
    "        weight = self.spconv3d.weight.data.clone()\n",
    "        \n",
    "        self.scale = 0.5\n",
    "\n",
    "        # w quantizer\n",
    "        w_desc = QuantDescriptor(\n",
    "            num_bits=weight_num_bits, \n",
    "            axis=(0)\n",
    "        )\n",
    "        self.w_quant = TensorQuantizer(w_desc)\n",
    "\n",
    "        oc, kh, kw, kd, ic = weight.shape\n",
    "        w = weight.permute(0, 4, 1, 2, 3).contiguous().view(oc, -1)\n",
    "        # w *= self.scale\n",
    "        w = self.w_quant(w)\n",
    "        self.spconv3d.weight.data = w.view(oc, ic, kh, kw, kd).permute(0, 2, 3, 4, 1).contiguous()\n",
    "\n",
    "        # act quantizer\n",
    "        act_desc = QuantDescriptor(\n",
    "            num_bits=act_num_bits\n",
    "        )\n",
    "        self.act_quant = TensorQuantizer(act_desc)\n",
    "        \n",
    "    def forward(self, x):\n",
    "        features = x.features\n",
    "        # features /= self.scale\n",
    "        features = self.act_quant(features)\n",
    "        x = x.replace_feature(features)\n",
    "        x = self.spconv3d(x)\n",
    "        return x"
   ]
  },
  {
   "cell_type": "code",
   "execution_count": 40,
   "id": "224770af-2f58-4b51-b14e-6c4fc212c287",
   "metadata": {},
   "outputs": [],
   "source": [
    "gsqconv3d = GSQConv3d(spconv3d = spconv3d)"
   ]
  },
  {
   "cell_type": "code",
   "execution_count": 41,
   "id": "5eb30d85-453b-4a6d-93d7-c0f48937dfc7",
   "metadata": {},
   "outputs": [],
   "source": [
    "y1 = spconv3d(x)\n",
    "y2 = gsqconv3d(x)"
   ]
  },
  {
   "cell_type": "code",
   "execution_count": 42,
   "id": "400e24b5-2af2-443c-ae95-48ea9aef66a2",
   "metadata": {},
   "outputs": [],
   "source": [
    "l1loss = torch.nn.L1Loss()"
   ]
  },
  {
   "cell_type": "code",
   "execution_count": 43,
   "id": "cf15e029-8ac5-4f59-8770-f0ab2ba12513",
   "metadata": {},
   "outputs": [
    {
     "data": {
      "text/plain": [
       "tensor(0.0104, device='cuda:0', grad_fn=<MeanBackward0>)"
      ]
     },
     "execution_count": 43,
     "metadata": {},
     "output_type": "execute_result"
    }
   ],
   "source": [
    "l1loss(y1.dense(), y2.dense())"
   ]
  },
  {
   "cell_type": "code",
   "execution_count": 44,
   "id": "e7f33345-23bb-4e8e-9f73-c96c49fd5def",
   "metadata": {
    "scrolled": true
   },
   "outputs": [
    {
     "data": {
      "text/plain": [
       "tensor([[[[[ 0.0000,  0.0000,  0.0000,  ...,  0.0000,  0.0000,  0.0000],\n",
       "           [ 0.0000,  0.0000,  0.0000,  ...,  0.0000,  0.0000,  0.0000],\n",
       "           [ 0.0000, -0.0410,  0.0601,  ...,  0.0000,  0.0000,  0.0000],\n",
       "           ...,\n",
       "           [ 0.0000,  0.0371,  0.0000,  ...,  0.0000,  0.0000,  0.0000],\n",
       "           [ 0.0000,  0.0000,  0.0000,  ...,  0.0000,  0.0000,  0.0000],\n",
       "           [-0.0124,  0.0000,  0.0000,  ...,  0.0000,  0.0000,  0.0000]],\n",
       "\n",
       "          [[ 0.0000,  0.0496,  0.0141,  ...,  0.0000,  0.0000,  0.0000],\n",
       "           [ 0.0000, -0.0244,  0.0000,  ...,  0.0000,  0.0122,  0.0000],\n",
       "           [ 0.0000, -0.0551,  0.0000,  ...,  0.0000,  0.0000,  0.0000],\n",
       "           ...,\n",
       "           [ 0.0000,  0.0000,  0.0000,  ...,  0.1300,  0.0000,  0.0000],\n",
       "           [ 0.0000,  0.0000,  0.0000,  ...,  0.0000,  0.0316,  0.0000],\n",
       "           [ 0.0000,  0.0000,  0.0000,  ...,  0.0000,  0.0000,  0.0000]],\n",
       "\n",
       "          [[ 0.0000,  0.0000,  0.0000,  ...,  0.0000,  0.0000,  0.0000],\n",
       "           [ 0.0000,  0.0000,  0.0000,  ...,  0.0000,  0.0000,  0.0000],\n",
       "           [ 0.0000,  0.0000,  0.0000,  ...,  0.0000,  0.0000,  0.0000],\n",
       "           ...,\n",
       "           [ 0.0000, -0.0279,  0.0000,  ...,  0.0000, -0.0863,  0.0000],\n",
       "           [ 0.0000,  0.0000,  0.0000,  ...,  0.0000,  0.0000,  0.0000],\n",
       "           [ 0.0000,  0.0000,  0.0000,  ...,  0.0000, -0.1296,  0.0000]],\n",
       "\n",
       "          ...,\n",
       "\n",
       "          [[ 0.0000,  0.0000,  0.0000,  ...,  0.0000,  0.0000,  0.0000],\n",
       "           [ 0.0000,  0.0000,  0.0000,  ...,  0.0000,  0.0000,  0.0127],\n",
       "           [ 0.0846,  0.0000,  0.0000,  ...,  0.0000,  0.0000,  0.0000],\n",
       "           ...,\n",
       "           [ 0.0000,  0.0000,  0.0000,  ...,  0.0000,  0.0000,  0.0000],\n",
       "           [ 0.0000,  0.0000,  0.0000,  ..., -0.0043,  0.0000, -0.0227],\n",
       "           [ 0.0000,  0.0000,  0.0000,  ...,  0.0000,  0.0000,  0.0000]],\n",
       "\n",
       "          [[ 0.0000,  0.0000,  0.1112,  ...,  0.0000,  0.0000,  0.0000],\n",
       "           [ 0.0000,  0.0000,  0.0000,  ...,  0.0000,  0.0000,  0.0000],\n",
       "           [ 0.0000,  0.0000,  0.0000,  ...,  0.0000,  0.0000,  0.0000],\n",
       "           ...,\n",
       "           [ 0.0000,  0.0000,  0.0000,  ...,  0.0000,  0.0000,  0.0000],\n",
       "           [ 0.0000,  0.0000,  0.0000,  ...,  0.0000, -0.0899,  0.0000],\n",
       "           [ 0.0000,  0.0000,  0.0000,  ...,  0.0641,  0.0000,  0.0000]],\n",
       "\n",
       "          [[ 0.0000, -0.0398,  0.0000,  ...,  0.0184,  0.0000,  0.0000],\n",
       "           [ 0.0000,  0.0000,  0.0000,  ...,  0.0000,  0.0000,  0.0000],\n",
       "           [ 0.0000,  0.0000,  0.0000,  ...,  0.0000,  0.0000,  0.0611],\n",
       "           ...,\n",
       "           [ 0.0000,  0.0000,  0.0000,  ...,  0.0000,  0.0000,  0.0000],\n",
       "           [ 0.0000,  0.0000,  0.0000,  ...,  0.0000,  0.0000,  0.0000],\n",
       "           [ 0.0452,  0.0000,  0.0000,  ...,  0.0000,  0.0000,  0.0000]]],\n",
       "\n",
       "\n",
       "         [[[ 0.0000,  0.0000,  0.0000,  ...,  0.0000,  0.0000,  0.0000],\n",
       "           [ 0.0000,  0.0000,  0.0000,  ...,  0.0000,  0.0000,  0.0000],\n",
       "           [ 0.0000,  0.0476, -0.1335,  ...,  0.0000,  0.0000,  0.0000],\n",
       "           ...,\n",
       "           [ 0.0000, -0.1169,  0.0000,  ...,  0.0000,  0.0000,  0.0000],\n",
       "           [ 0.0000,  0.0000,  0.0000,  ...,  0.0000,  0.0000,  0.0000],\n",
       "           [-0.0124,  0.0000,  0.0000,  ...,  0.0000,  0.0000,  0.0000]],\n",
       "\n",
       "          [[ 0.0000, -0.0399, -0.0176,  ...,  0.0000,  0.0000,  0.0000],\n",
       "           [ 0.0000,  0.0983,  0.0000,  ...,  0.0000,  0.0194,  0.0000],\n",
       "           [ 0.0000, -0.0520,  0.0000,  ...,  0.0000,  0.0000,  0.0000],\n",
       "           ...,\n",
       "           [ 0.0000,  0.0000,  0.0000,  ...,  0.1775,  0.0000,  0.0000],\n",
       "           [ 0.0000,  0.0000,  0.0000,  ...,  0.0000,  0.0804,  0.0000],\n",
       "           [ 0.0000,  0.0000,  0.0000,  ...,  0.0000,  0.0000,  0.0000]],\n",
       "\n",
       "          [[ 0.0000,  0.0000,  0.0000,  ...,  0.0000,  0.0000,  0.0000],\n",
       "           [ 0.0000,  0.0000,  0.0000,  ...,  0.0000,  0.0000,  0.0000],\n",
       "           [ 0.0000,  0.0000,  0.0000,  ...,  0.0000,  0.0000,  0.0000],\n",
       "           ...,\n",
       "           [ 0.0000, -0.1199,  0.0000,  ...,  0.0000, -0.0247,  0.0000],\n",
       "           [ 0.0000,  0.0000,  0.0000,  ...,  0.0000,  0.0000,  0.0000],\n",
       "           [ 0.0000,  0.0000,  0.0000,  ...,  0.0000,  0.0459,  0.0000]],\n",
       "\n",
       "          ...,\n",
       "\n",
       "          [[ 0.0000,  0.0000,  0.0000,  ...,  0.0000,  0.0000,  0.0000],\n",
       "           [ 0.0000,  0.0000,  0.0000,  ...,  0.0000,  0.0000, -0.0967],\n",
       "           [ 0.0715,  0.0000,  0.0000,  ...,  0.0000,  0.0000,  0.0000],\n",
       "           ...,\n",
       "           [ 0.0000,  0.0000,  0.0000,  ...,  0.0000,  0.0000,  0.0000],\n",
       "           [ 0.0000,  0.0000,  0.0000,  ..., -0.0967,  0.0000, -0.0054],\n",
       "           [ 0.0000,  0.0000,  0.0000,  ...,  0.0000,  0.0000,  0.0000]],\n",
       "\n",
       "          [[ 0.0000,  0.0000,  0.0022,  ...,  0.0000,  0.0000,  0.0000],\n",
       "           [ 0.0000,  0.0000,  0.0000,  ...,  0.0000,  0.0000,  0.0000],\n",
       "           [ 0.0000,  0.0000,  0.0000,  ...,  0.0000,  0.0000,  0.0000],\n",
       "           ...,\n",
       "           [ 0.0000,  0.0000,  0.0000,  ...,  0.0000,  0.0000,  0.0000],\n",
       "           [ 0.0000,  0.0000,  0.0000,  ...,  0.0000,  0.1592,  0.0000],\n",
       "           [ 0.0000,  0.0000,  0.0000,  ..., -0.1555,  0.0000,  0.0000]],\n",
       "\n",
       "          [[ 0.0000,  0.0806,  0.0000,  ...,  0.0494,  0.0000,  0.0000],\n",
       "           [ 0.0000,  0.0000,  0.0000,  ...,  0.0000,  0.0000,  0.0000],\n",
       "           [ 0.0000,  0.0000,  0.0000,  ...,  0.0000,  0.0000,  0.0196],\n",
       "           ...,\n",
       "           [ 0.0000,  0.0000,  0.0000,  ...,  0.0000,  0.0000,  0.0000],\n",
       "           [ 0.0000,  0.0000,  0.0000,  ...,  0.0000,  0.0000,  0.0000],\n",
       "           [ 0.0770,  0.0000,  0.0000,  ...,  0.0000,  0.0000,  0.0000]]],\n",
       "\n",
       "\n",
       "         [[[ 0.0000,  0.0000,  0.0000,  ...,  0.0000,  0.0000,  0.0000],\n",
       "           [ 0.0000,  0.0000,  0.0000,  ...,  0.0000,  0.0000,  0.0000],\n",
       "           [ 0.0000, -0.0328,  0.0409,  ...,  0.0000,  0.0000,  0.0000],\n",
       "           ...,\n",
       "           [ 0.0000,  0.0304,  0.0000,  ...,  0.0000,  0.0000,  0.0000],\n",
       "           [ 0.0000,  0.0000,  0.0000,  ...,  0.0000,  0.0000,  0.0000],\n",
       "           [ 0.0276,  0.0000,  0.0000,  ...,  0.0000,  0.0000,  0.0000]],\n",
       "\n",
       "          [[ 0.0000, -0.0365,  0.0586,  ...,  0.0000,  0.0000,  0.0000],\n",
       "           [ 0.0000, -0.1123,  0.0000,  ...,  0.0000, -0.0269,  0.0000],\n",
       "           [ 0.0000, -0.0870,  0.0000,  ...,  0.0000,  0.0000,  0.0000],\n",
       "           ...,\n",
       "           [ 0.0000,  0.0000,  0.0000,  ..., -0.1204,  0.0000,  0.0000],\n",
       "           [ 0.0000,  0.0000,  0.0000,  ...,  0.0000, -0.0177,  0.0000],\n",
       "           [ 0.0000,  0.0000,  0.0000,  ...,  0.0000,  0.0000,  0.0000]],\n",
       "\n",
       "          [[ 0.0000,  0.0000,  0.0000,  ...,  0.0000,  0.0000,  0.0000],\n",
       "           [ 0.0000,  0.0000,  0.0000,  ...,  0.0000,  0.0000,  0.0000],\n",
       "           [ 0.0000,  0.0000,  0.0000,  ...,  0.0000,  0.0000,  0.0000],\n",
       "           ...,\n",
       "           [ 0.0000, -0.0312,  0.0000,  ...,  0.0000, -0.0508,  0.0000],\n",
       "           [ 0.0000,  0.0000,  0.0000,  ...,  0.0000,  0.0000,  0.0000],\n",
       "           [ 0.0000,  0.0000,  0.0000,  ...,  0.0000,  0.0336,  0.0000]],\n",
       "\n",
       "          ...,\n",
       "\n",
       "          [[ 0.0000,  0.0000,  0.0000,  ...,  0.0000,  0.0000,  0.0000],\n",
       "           [ 0.0000,  0.0000,  0.0000,  ...,  0.0000,  0.0000,  0.0690],\n",
       "           [-0.0076,  0.0000,  0.0000,  ...,  0.0000,  0.0000,  0.0000],\n",
       "           ...,\n",
       "           [ 0.0000,  0.0000,  0.0000,  ...,  0.0000,  0.0000,  0.0000],\n",
       "           [ 0.0000,  0.0000,  0.0000,  ...,  0.0037,  0.0000,  0.1568],\n",
       "           [ 0.0000,  0.0000,  0.0000,  ...,  0.0000,  0.0000,  0.0000]],\n",
       "\n",
       "          [[ 0.0000,  0.0000,  0.0614,  ...,  0.0000,  0.0000,  0.0000],\n",
       "           [ 0.0000,  0.0000,  0.0000,  ...,  0.0000,  0.0000,  0.0000],\n",
       "           [ 0.0000,  0.0000,  0.0000,  ...,  0.0000,  0.0000,  0.0000],\n",
       "           ...,\n",
       "           [ 0.0000,  0.0000,  0.0000,  ...,  0.0000,  0.0000,  0.0000],\n",
       "           [ 0.0000,  0.0000,  0.0000,  ...,  0.0000, -0.0830,  0.0000],\n",
       "           [ 0.0000,  0.0000,  0.0000,  ...,  0.0527,  0.0000,  0.0000]],\n",
       "\n",
       "          [[ 0.0000, -0.0726,  0.0000,  ...,  0.0318,  0.0000,  0.0000],\n",
       "           [ 0.0000,  0.0000,  0.0000,  ...,  0.0000,  0.0000,  0.0000],\n",
       "           [ 0.0000,  0.0000,  0.0000,  ...,  0.0000,  0.0000, -0.0351],\n",
       "           ...,\n",
       "           [ 0.0000,  0.0000,  0.0000,  ...,  0.0000,  0.0000,  0.0000],\n",
       "           [ 0.0000,  0.0000,  0.0000,  ...,  0.0000,  0.0000,  0.0000],\n",
       "           [-0.0438,  0.0000,  0.0000,  ...,  0.0000,  0.0000,  0.0000]]],\n",
       "\n",
       "\n",
       "         ...,\n",
       "\n",
       "\n",
       "         [[[ 0.0000,  0.0000,  0.0000,  ...,  0.0000,  0.0000,  0.0000],\n",
       "           [ 0.0000,  0.0000,  0.0000,  ...,  0.0000,  0.0000,  0.0000],\n",
       "           [ 0.0000,  0.0087, -0.1910,  ...,  0.0000,  0.0000,  0.0000],\n",
       "           ...,\n",
       "           [ 0.0000,  0.0142,  0.0000,  ...,  0.0000,  0.0000,  0.0000],\n",
       "           [ 0.0000,  0.0000,  0.0000,  ...,  0.0000,  0.0000,  0.0000],\n",
       "           [-0.0093,  0.0000,  0.0000,  ...,  0.0000,  0.0000,  0.0000]],\n",
       "\n",
       "          [[ 0.0000,  0.0720,  0.1564,  ...,  0.0000,  0.0000,  0.0000],\n",
       "           [ 0.0000, -0.2189,  0.0000,  ...,  0.0000, -0.0562,  0.0000],\n",
       "           [ 0.0000,  0.1595,  0.0000,  ...,  0.0000,  0.0000,  0.0000],\n",
       "           ...,\n",
       "           [ 0.0000,  0.0000,  0.0000,  ..., -0.1159,  0.0000,  0.0000],\n",
       "           [ 0.0000,  0.0000,  0.0000,  ...,  0.0000,  0.0213,  0.0000],\n",
       "           [ 0.0000,  0.0000,  0.0000,  ...,  0.0000,  0.0000,  0.0000]],\n",
       "\n",
       "          [[ 0.0000,  0.0000,  0.0000,  ...,  0.0000,  0.0000,  0.0000],\n",
       "           [ 0.0000,  0.0000,  0.0000,  ...,  0.0000,  0.0000,  0.0000],\n",
       "           [ 0.0000,  0.0000,  0.0000,  ...,  0.0000,  0.0000,  0.0000],\n",
       "           ...,\n",
       "           [ 0.0000,  0.0092,  0.0000,  ...,  0.0000,  0.2290,  0.0000],\n",
       "           [ 0.0000,  0.0000,  0.0000,  ...,  0.0000,  0.0000,  0.0000],\n",
       "           [ 0.0000,  0.0000,  0.0000,  ...,  0.0000, -0.1487,  0.0000]],\n",
       "\n",
       "          ...,\n",
       "\n",
       "          [[ 0.0000,  0.0000,  0.0000,  ...,  0.0000,  0.0000,  0.0000],\n",
       "           [ 0.0000,  0.0000,  0.0000,  ...,  0.0000,  0.0000, -0.0104],\n",
       "           [-0.0186,  0.0000,  0.0000,  ...,  0.0000,  0.0000,  0.0000],\n",
       "           ...,\n",
       "           [ 0.0000,  0.0000,  0.0000,  ...,  0.0000,  0.0000,  0.0000],\n",
       "           [ 0.0000,  0.0000,  0.0000,  ...,  0.1739,  0.0000,  0.1339],\n",
       "           [ 0.0000,  0.0000,  0.0000,  ...,  0.0000,  0.0000,  0.0000]],\n",
       "\n",
       "          [[ 0.0000,  0.0000,  0.0257,  ...,  0.0000,  0.0000,  0.0000],\n",
       "           [ 0.0000,  0.0000,  0.0000,  ...,  0.0000,  0.0000,  0.0000],\n",
       "           [ 0.0000,  0.0000,  0.0000,  ...,  0.0000,  0.0000,  0.0000],\n",
       "           ...,\n",
       "           [ 0.0000,  0.0000,  0.0000,  ...,  0.0000,  0.0000,  0.0000],\n",
       "           [ 0.0000,  0.0000,  0.0000,  ...,  0.0000, -0.1551,  0.0000],\n",
       "           [ 0.0000,  0.0000,  0.0000,  ..., -0.0846,  0.0000,  0.0000]],\n",
       "\n",
       "          [[ 0.0000,  0.0094,  0.0000,  ..., -0.0360,  0.0000,  0.0000],\n",
       "           [ 0.0000,  0.0000,  0.0000,  ...,  0.0000,  0.0000,  0.0000],\n",
       "           [ 0.0000,  0.0000,  0.0000,  ...,  0.0000,  0.0000, -0.0096],\n",
       "           ...,\n",
       "           [ 0.0000,  0.0000,  0.0000,  ...,  0.0000,  0.0000,  0.0000],\n",
       "           [ 0.0000,  0.0000,  0.0000,  ...,  0.0000,  0.0000,  0.0000],\n",
       "           [-0.0360,  0.0000,  0.0000,  ...,  0.0000,  0.0000,  0.0000]]],\n",
       "\n",
       "\n",
       "         [[[ 0.0000,  0.0000,  0.0000,  ...,  0.0000,  0.0000,  0.0000],\n",
       "           [ 0.0000,  0.0000,  0.0000,  ...,  0.0000,  0.0000,  0.0000],\n",
       "           [ 0.0000,  0.0641, -0.0942,  ...,  0.0000,  0.0000,  0.0000],\n",
       "           ...,\n",
       "           [ 0.0000, -0.0831,  0.0000,  ...,  0.0000,  0.0000,  0.0000],\n",
       "           [ 0.0000,  0.0000,  0.0000,  ...,  0.0000,  0.0000,  0.0000],\n",
       "           [-0.0267,  0.0000,  0.0000,  ...,  0.0000,  0.0000,  0.0000]],\n",
       "\n",
       "          [[ 0.0000,  0.0405,  0.0800,  ...,  0.0000,  0.0000,  0.0000],\n",
       "           [ 0.0000,  0.0898,  0.0000,  ...,  0.0000, -0.0709,  0.0000],\n",
       "           [ 0.0000,  0.0167,  0.0000,  ...,  0.0000,  0.0000,  0.0000],\n",
       "           ...,\n",
       "           [ 0.0000,  0.0000,  0.0000,  ..., -0.1466,  0.0000,  0.0000],\n",
       "           [ 0.0000,  0.0000,  0.0000,  ...,  0.0000, -0.0045,  0.0000],\n",
       "           [ 0.0000,  0.0000,  0.0000,  ...,  0.0000,  0.0000,  0.0000]],\n",
       "\n",
       "          [[ 0.0000,  0.0000,  0.0000,  ...,  0.0000,  0.0000,  0.0000],\n",
       "           [ 0.0000,  0.0000,  0.0000,  ...,  0.0000,  0.0000,  0.0000],\n",
       "           [ 0.0000,  0.0000,  0.0000,  ...,  0.0000,  0.0000,  0.0000],\n",
       "           ...,\n",
       "           [ 0.0000, -0.0607,  0.0000,  ...,  0.0000,  0.0774,  0.0000],\n",
       "           [ 0.0000,  0.0000,  0.0000,  ...,  0.0000,  0.0000,  0.0000],\n",
       "           [ 0.0000,  0.0000,  0.0000,  ...,  0.0000,  0.0312,  0.0000]],\n",
       "\n",
       "          ...,\n",
       "\n",
       "          [[ 0.0000,  0.0000,  0.0000,  ...,  0.0000,  0.0000,  0.0000],\n",
       "           [ 0.0000,  0.0000,  0.0000,  ...,  0.0000,  0.0000,  0.0787],\n",
       "           [ 0.0232,  0.0000,  0.0000,  ...,  0.0000,  0.0000,  0.0000],\n",
       "           ...,\n",
       "           [ 0.0000,  0.0000,  0.0000,  ...,  0.0000,  0.0000,  0.0000],\n",
       "           [ 0.0000,  0.0000,  0.0000,  ...,  0.1149,  0.0000, -0.0032],\n",
       "           [ 0.0000,  0.0000,  0.0000,  ...,  0.0000,  0.0000,  0.0000]],\n",
       "\n",
       "          [[ 0.0000,  0.0000,  0.0591,  ...,  0.0000,  0.0000,  0.0000],\n",
       "           [ 0.0000,  0.0000,  0.0000,  ...,  0.0000,  0.0000,  0.0000],\n",
       "           [ 0.0000,  0.0000,  0.0000,  ...,  0.0000,  0.0000,  0.0000],\n",
       "           ...,\n",
       "           [ 0.0000,  0.0000,  0.0000,  ...,  0.0000,  0.0000,  0.0000],\n",
       "           [ 0.0000,  0.0000,  0.0000,  ...,  0.0000, -0.0211,  0.0000],\n",
       "           [ 0.0000,  0.0000,  0.0000,  ...,  0.0705,  0.0000,  0.0000]],\n",
       "\n",
       "          [[ 0.0000, -0.1407,  0.0000,  ..., -0.0430,  0.0000,  0.0000],\n",
       "           [ 0.0000,  0.0000,  0.0000,  ...,  0.0000,  0.0000,  0.0000],\n",
       "           [ 0.0000,  0.0000,  0.0000,  ...,  0.0000,  0.0000, -0.0352],\n",
       "           ...,\n",
       "           [ 0.0000,  0.0000,  0.0000,  ...,  0.0000,  0.0000,  0.0000],\n",
       "           [ 0.0000,  0.0000,  0.0000,  ...,  0.0000,  0.0000,  0.0000],\n",
       "           [-0.1009,  0.0000,  0.0000,  ...,  0.0000,  0.0000,  0.0000]]],\n",
       "\n",
       "\n",
       "         [[[ 0.0000,  0.0000,  0.0000,  ...,  0.0000,  0.0000,  0.0000],\n",
       "           [ 0.0000,  0.0000,  0.0000,  ...,  0.0000,  0.0000,  0.0000],\n",
       "           [ 0.0000, -0.1870, -0.0322,  ...,  0.0000,  0.0000,  0.0000],\n",
       "           ...,\n",
       "           [ 0.0000,  0.0836,  0.0000,  ...,  0.0000,  0.0000,  0.0000],\n",
       "           [ 0.0000,  0.0000,  0.0000,  ...,  0.0000,  0.0000,  0.0000],\n",
       "           [-0.0132,  0.0000,  0.0000,  ...,  0.0000,  0.0000,  0.0000]],\n",
       "\n",
       "          [[ 0.0000,  0.1311, -0.0647,  ...,  0.0000,  0.0000,  0.0000],\n",
       "           [ 0.0000,  0.0661,  0.0000,  ...,  0.0000, -0.0011,  0.0000],\n",
       "           [ 0.0000, -0.1121,  0.0000,  ...,  0.0000,  0.0000,  0.0000],\n",
       "           ...,\n",
       "           [ 0.0000,  0.0000,  0.0000,  ..., -0.0038,  0.0000,  0.0000],\n",
       "           [ 0.0000,  0.0000,  0.0000,  ...,  0.0000,  0.1157,  0.0000],\n",
       "           [ 0.0000,  0.0000,  0.0000,  ...,  0.0000,  0.0000,  0.0000]],\n",
       "\n",
       "          [[ 0.0000,  0.0000,  0.0000,  ...,  0.0000,  0.0000,  0.0000],\n",
       "           [ 0.0000,  0.0000,  0.0000,  ...,  0.0000,  0.0000,  0.0000],\n",
       "           [ 0.0000,  0.0000,  0.0000,  ...,  0.0000,  0.0000,  0.0000],\n",
       "           ...,\n",
       "           [ 0.0000,  0.1062,  0.0000,  ...,  0.0000,  0.0681,  0.0000],\n",
       "           [ 0.0000,  0.0000,  0.0000,  ...,  0.0000,  0.0000,  0.0000],\n",
       "           [ 0.0000,  0.0000,  0.0000,  ...,  0.0000, -0.0921,  0.0000]],\n",
       "\n",
       "          ...,\n",
       "\n",
       "          [[ 0.0000,  0.0000,  0.0000,  ...,  0.0000,  0.0000,  0.0000],\n",
       "           [ 0.0000,  0.0000,  0.0000,  ...,  0.0000,  0.0000,  0.0844],\n",
       "           [-0.0306,  0.0000,  0.0000,  ...,  0.0000,  0.0000,  0.0000],\n",
       "           ...,\n",
       "           [ 0.0000,  0.0000,  0.0000,  ...,  0.0000,  0.0000,  0.0000],\n",
       "           [ 0.0000,  0.0000,  0.0000,  ..., -0.1845,  0.0000,  0.0236],\n",
       "           [ 0.0000,  0.0000,  0.0000,  ...,  0.0000,  0.0000,  0.0000]],\n",
       "\n",
       "          [[ 0.0000,  0.0000,  0.0141,  ...,  0.0000,  0.0000,  0.0000],\n",
       "           [ 0.0000,  0.0000,  0.0000,  ...,  0.0000,  0.0000,  0.0000],\n",
       "           [ 0.0000,  0.0000,  0.0000,  ...,  0.0000,  0.0000,  0.0000],\n",
       "           ...,\n",
       "           [ 0.0000,  0.0000,  0.0000,  ...,  0.0000,  0.0000,  0.0000],\n",
       "           [ 0.0000,  0.0000,  0.0000,  ...,  0.0000,  0.0462,  0.0000],\n",
       "           [ 0.0000,  0.0000,  0.0000,  ...,  0.1152,  0.0000,  0.0000]],\n",
       "\n",
       "          [[ 0.0000, -0.0029,  0.0000,  ..., -0.0632,  0.0000,  0.0000],\n",
       "           [ 0.0000,  0.0000,  0.0000,  ...,  0.0000,  0.0000,  0.0000],\n",
       "           [ 0.0000,  0.0000,  0.0000,  ...,  0.0000,  0.0000,  0.0289],\n",
       "           ...,\n",
       "           [ 0.0000,  0.0000,  0.0000,  ...,  0.0000,  0.0000,  0.0000],\n",
       "           [ 0.0000,  0.0000,  0.0000,  ...,  0.0000,  0.0000,  0.0000],\n",
       "           [ 0.0155,  0.0000,  0.0000,  ...,  0.0000,  0.0000,  0.0000]]]]],\n",
       "       device='cuda:0', grad_fn=<CloneBackward0>)"
      ]
     },
     "execution_count": 44,
     "metadata": {},
     "output_type": "execute_result"
    }
   ],
   "source": [
    "y1.dense()"
   ]
  },
  {
   "cell_type": "code",
   "execution_count": 45,
   "id": "2fe4e3e0-5856-4e39-889e-107e898549be",
   "metadata": {
    "scrolled": true
   },
   "outputs": [
    {
     "data": {
      "text/plain": [
       "tensor([[[[[ 0.0000,  0.0000,  0.0000,  ...,  0.0000,  0.0000,  0.0000],\n",
       "           [ 0.0000,  0.0000,  0.0000,  ...,  0.0000,  0.0000,  0.0000],\n",
       "           [ 0.0000, -0.0809,  0.1193,  ...,  0.0000,  0.0000,  0.0000],\n",
       "           ...,\n",
       "           [ 0.0000,  0.0754,  0.0000,  ...,  0.0000,  0.0000,  0.0000],\n",
       "           [ 0.0000,  0.0000,  0.0000,  ...,  0.0000,  0.0000,  0.0000],\n",
       "           [-0.0261,  0.0000,  0.0000,  ...,  0.0000,  0.0000,  0.0000]],\n",
       "\n",
       "          [[ 0.0000,  0.1006,  0.0297,  ...,  0.0000,  0.0000,  0.0000],\n",
       "           [ 0.0000, -0.0480,  0.0000,  ...,  0.0000,  0.0256,  0.0000],\n",
       "           [ 0.0000, -0.1097,  0.0000,  ...,  0.0000,  0.0000,  0.0000],\n",
       "           ...,\n",
       "           [ 0.0000,  0.0000,  0.0000,  ...,  0.2643,  0.0000,  0.0000],\n",
       "           [ 0.0000,  0.0000,  0.0000,  ...,  0.0000,  0.0631,  0.0000],\n",
       "           [ 0.0000,  0.0000,  0.0000,  ...,  0.0000,  0.0000,  0.0000]],\n",
       "\n",
       "          [[ 0.0000,  0.0000,  0.0000,  ...,  0.0000,  0.0000,  0.0000],\n",
       "           [ 0.0000,  0.0000,  0.0000,  ...,  0.0000,  0.0000,  0.0000],\n",
       "           [ 0.0000,  0.0000,  0.0000,  ...,  0.0000,  0.0000,  0.0000],\n",
       "           ...,\n",
       "           [ 0.0000, -0.0535,  0.0000,  ...,  0.0000, -0.1737,  0.0000],\n",
       "           [ 0.0000,  0.0000,  0.0000,  ...,  0.0000,  0.0000,  0.0000],\n",
       "           [ 0.0000,  0.0000,  0.0000,  ...,  0.0000, -0.2606,  0.0000]],\n",
       "\n",
       "          ...,\n",
       "\n",
       "          [[ 0.0000,  0.0000,  0.0000,  ...,  0.0000,  0.0000,  0.0000],\n",
       "           [ 0.0000,  0.0000,  0.0000,  ...,  0.0000,  0.0000,  0.0247],\n",
       "           [ 0.1687,  0.0000,  0.0000,  ...,  0.0000,  0.0000,  0.0000],\n",
       "           ...,\n",
       "           [ 0.0000,  0.0000,  0.0000,  ...,  0.0000,  0.0000,  0.0000],\n",
       "           [ 0.0000,  0.0000,  0.0000,  ..., -0.0082,  0.0000, -0.0475],\n",
       "           [ 0.0000,  0.0000,  0.0000,  ...,  0.0000,  0.0000,  0.0000]],\n",
       "\n",
       "          [[ 0.0000,  0.0000,  0.2249,  ...,  0.0000,  0.0000,  0.0000],\n",
       "           [ 0.0000,  0.0000,  0.0000,  ...,  0.0000,  0.0000,  0.0000],\n",
       "           [ 0.0000,  0.0000,  0.0000,  ...,  0.0000,  0.0000,  0.0000],\n",
       "           ...,\n",
       "           [ 0.0000,  0.0000,  0.0000,  ...,  0.0000,  0.0000,  0.0000],\n",
       "           [ 0.0000,  0.0000,  0.0000,  ...,  0.0000, -0.1820,  0.0000],\n",
       "           [ 0.0000,  0.0000,  0.0000,  ...,  0.1276,  0.0000,  0.0000]],\n",
       "\n",
       "          [[ 0.0000, -0.0818,  0.0000,  ...,  0.0375,  0.0000,  0.0000],\n",
       "           [ 0.0000,  0.0000,  0.0000,  ...,  0.0000,  0.0000,  0.0000],\n",
       "           [ 0.0000,  0.0000,  0.0000,  ...,  0.0000,  0.0000,  0.1212],\n",
       "           ...,\n",
       "           [ 0.0000,  0.0000,  0.0000,  ...,  0.0000,  0.0000,  0.0000],\n",
       "           [ 0.0000,  0.0000,  0.0000,  ...,  0.0000,  0.0000,  0.0000],\n",
       "           [ 0.0905,  0.0000,  0.0000,  ...,  0.0000,  0.0000,  0.0000]]],\n",
       "\n",
       "\n",
       "         [[[ 0.0000,  0.0000,  0.0000,  ...,  0.0000,  0.0000,  0.0000],\n",
       "           [ 0.0000,  0.0000,  0.0000,  ...,  0.0000,  0.0000,  0.0000],\n",
       "           [ 0.0000,  0.0971, -0.2627,  ...,  0.0000,  0.0000,  0.0000],\n",
       "           ...,\n",
       "           [ 0.0000, -0.2333,  0.0000,  ...,  0.0000,  0.0000,  0.0000],\n",
       "           [ 0.0000,  0.0000,  0.0000,  ...,  0.0000,  0.0000,  0.0000],\n",
       "           [-0.0271,  0.0000,  0.0000,  ...,  0.0000,  0.0000,  0.0000]],\n",
       "\n",
       "          [[ 0.0000, -0.0810, -0.0308,  ...,  0.0000,  0.0000,  0.0000],\n",
       "           [ 0.0000,  0.2048,  0.0000,  ...,  0.0000,  0.0410,  0.0000],\n",
       "           [ 0.0000, -0.1040,  0.0000,  ...,  0.0000,  0.0000,  0.0000],\n",
       "           ...,\n",
       "           [ 0.0000,  0.0000,  0.0000,  ...,  0.3515,  0.0000,  0.0000],\n",
       "           [ 0.0000,  0.0000,  0.0000,  ...,  0.0000,  0.1624,  0.0000],\n",
       "           [ 0.0000,  0.0000,  0.0000,  ...,  0.0000,  0.0000,  0.0000]],\n",
       "\n",
       "          [[ 0.0000,  0.0000,  0.0000,  ...,  0.0000,  0.0000,  0.0000],\n",
       "           [ 0.0000,  0.0000,  0.0000,  ...,  0.0000,  0.0000,  0.0000],\n",
       "           [ 0.0000,  0.0000,  0.0000,  ...,  0.0000,  0.0000,  0.0000],\n",
       "           ...,\n",
       "           [ 0.0000, -0.2365,  0.0000,  ...,  0.0000, -0.0511,  0.0000],\n",
       "           [ 0.0000,  0.0000,  0.0000,  ...,  0.0000,  0.0000,  0.0000],\n",
       "           [ 0.0000,  0.0000,  0.0000,  ...,  0.0000,  0.0962,  0.0000]],\n",
       "\n",
       "          ...,\n",
       "\n",
       "          [[ 0.0000,  0.0000,  0.0000,  ...,  0.0000,  0.0000,  0.0000],\n",
       "           [ 0.0000,  0.0000,  0.0000,  ...,  0.0000,  0.0000, -0.1910],\n",
       "           [ 0.1436,  0.0000,  0.0000,  ...,  0.0000,  0.0000,  0.0000],\n",
       "           ...,\n",
       "           [ 0.0000,  0.0000,  0.0000,  ...,  0.0000,  0.0000,  0.0000],\n",
       "           [ 0.0000,  0.0000,  0.0000,  ..., -0.1951,  0.0000, -0.0106],\n",
       "           [ 0.0000,  0.0000,  0.0000,  ...,  0.0000,  0.0000,  0.0000]],\n",
       "\n",
       "          [[ 0.0000,  0.0000,  0.0041,  ...,  0.0000,  0.0000,  0.0000],\n",
       "           [ 0.0000,  0.0000,  0.0000,  ...,  0.0000,  0.0000,  0.0000],\n",
       "           [ 0.0000,  0.0000,  0.0000,  ...,  0.0000,  0.0000,  0.0000],\n",
       "           ...,\n",
       "           [ 0.0000,  0.0000,  0.0000,  ...,  0.0000,  0.0000,  0.0000],\n",
       "           [ 0.0000,  0.0000,  0.0000,  ...,  0.0000,  0.3184,  0.0000],\n",
       "           [ 0.0000,  0.0000,  0.0000,  ..., -0.3129,  0.0000,  0.0000]],\n",
       "\n",
       "          [[ 0.0000,  0.1597,  0.0000,  ...,  0.0985,  0.0000,  0.0000],\n",
       "           [ 0.0000,  0.0000,  0.0000,  ...,  0.0000,  0.0000,  0.0000],\n",
       "           [ 0.0000,  0.0000,  0.0000,  ...,  0.0000,  0.0000,  0.0396],\n",
       "           ...,\n",
       "           [ 0.0000,  0.0000,  0.0000,  ...,  0.0000,  0.0000,  0.0000],\n",
       "           [ 0.0000,  0.0000,  0.0000,  ...,  0.0000,  0.0000,  0.0000],\n",
       "           [ 0.1541,  0.0000,  0.0000,  ...,  0.0000,  0.0000,  0.0000]]],\n",
       "\n",
       "\n",
       "         [[[ 0.0000,  0.0000,  0.0000,  ...,  0.0000,  0.0000,  0.0000],\n",
       "           [ 0.0000,  0.0000,  0.0000,  ...,  0.0000,  0.0000,  0.0000],\n",
       "           [ 0.0000, -0.0669,  0.0835,  ...,  0.0000,  0.0000,  0.0000],\n",
       "           ...,\n",
       "           [ 0.0000,  0.0610,  0.0000,  ...,  0.0000,  0.0000,  0.0000],\n",
       "           [ 0.0000,  0.0000,  0.0000,  ...,  0.0000,  0.0000,  0.0000],\n",
       "           [ 0.0564,  0.0000,  0.0000,  ...,  0.0000,  0.0000,  0.0000]],\n",
       "\n",
       "          [[ 0.0000, -0.0752,  0.1137,  ...,  0.0000,  0.0000,  0.0000],\n",
       "           [ 0.0000, -0.2256,  0.0000,  ...,  0.0000, -0.0536,  0.0000],\n",
       "           [ 0.0000, -0.1761,  0.0000,  ...,  0.0000,  0.0000,  0.0000],\n",
       "           ...,\n",
       "           [ 0.0000,  0.0000,  0.0000,  ..., -0.2398,  0.0000,  0.0000],\n",
       "           [ 0.0000,  0.0000,  0.0000,  ...,  0.0000, -0.0335,  0.0000],\n",
       "           [ 0.0000,  0.0000,  0.0000,  ...,  0.0000,  0.0000,  0.0000]],\n",
       "\n",
       "          [[ 0.0000,  0.0000,  0.0000,  ...,  0.0000,  0.0000,  0.0000],\n",
       "           [ 0.0000,  0.0000,  0.0000,  ...,  0.0000,  0.0000,  0.0000],\n",
       "           [ 0.0000,  0.0000,  0.0000,  ...,  0.0000,  0.0000,  0.0000],\n",
       "           ...,\n",
       "           [ 0.0000, -0.0633,  0.0000,  ...,  0.0000, -0.1059,  0.0000],\n",
       "           [ 0.0000,  0.0000,  0.0000,  ...,  0.0000,  0.0000,  0.0000],\n",
       "           [ 0.0000,  0.0000,  0.0000,  ...,  0.0000,  0.0715,  0.0000]],\n",
       "\n",
       "          ...,\n",
       "\n",
       "          [[ 0.0000,  0.0000,  0.0000,  ...,  0.0000,  0.0000,  0.0000],\n",
       "           [ 0.0000,  0.0000,  0.0000,  ...,  0.0000,  0.0000,  0.1389],\n",
       "           [-0.0138,  0.0000,  0.0000,  ...,  0.0000,  0.0000,  0.0000],\n",
       "           ...,\n",
       "           [ 0.0000,  0.0000,  0.0000,  ...,  0.0000,  0.0000,  0.0000],\n",
       "           [ 0.0000,  0.0000,  0.0000,  ...,  0.0124,  0.0000,  0.3104],\n",
       "           [ 0.0000,  0.0000,  0.0000,  ...,  0.0000,  0.0000,  0.0000]],\n",
       "\n",
       "          [[ 0.0000,  0.0000,  0.1261,  ...,  0.0000,  0.0000,  0.0000],\n",
       "           [ 0.0000,  0.0000,  0.0000,  ...,  0.0000,  0.0000,  0.0000],\n",
       "           [ 0.0000,  0.0000,  0.0000,  ...,  0.0000,  0.0000,  0.0000],\n",
       "           ...,\n",
       "           [ 0.0000,  0.0000,  0.0000,  ...,  0.0000,  0.0000,  0.0000],\n",
       "           [ 0.0000,  0.0000,  0.0000,  ...,  0.0000, -0.1683,  0.0000],\n",
       "           [ 0.0000,  0.0000,  0.0000,  ...,  0.1064,  0.0000,  0.0000]],\n",
       "\n",
       "          [[ 0.0000, -0.1421,  0.0000,  ...,  0.0642,  0.0000,  0.0000],\n",
       "           [ 0.0000,  0.0000,  0.0000,  ...,  0.0000,  0.0000,  0.0000],\n",
       "           [ 0.0000,  0.0000,  0.0000,  ...,  0.0000,  0.0000, -0.0697],\n",
       "           ...,\n",
       "           [ 0.0000,  0.0000,  0.0000,  ...,  0.0000,  0.0000,  0.0000],\n",
       "           [ 0.0000,  0.0000,  0.0000,  ...,  0.0000,  0.0000,  0.0000],\n",
       "           [-0.0894,  0.0000,  0.0000,  ...,  0.0000,  0.0000,  0.0000]]],\n",
       "\n",
       "\n",
       "         ...,\n",
       "\n",
       "\n",
       "         [[[ 0.0000,  0.0000,  0.0000,  ...,  0.0000,  0.0000,  0.0000],\n",
       "           [ 0.0000,  0.0000,  0.0000,  ...,  0.0000,  0.0000,  0.0000],\n",
       "           [ 0.0000,  0.0211, -0.3814,  ...,  0.0000,  0.0000,  0.0000],\n",
       "           ...,\n",
       "           [ 0.0000,  0.0289,  0.0000,  ...,  0.0000,  0.0000,  0.0000],\n",
       "           [ 0.0000,  0.0000,  0.0000,  ...,  0.0000,  0.0000,  0.0000],\n",
       "           [-0.0179,  0.0000,  0.0000,  ...,  0.0000,  0.0000,  0.0000]],\n",
       "\n",
       "          [[ 0.0000,  0.1450,  0.3103,  ...,  0.0000,  0.0000,  0.0000],\n",
       "           [ 0.0000, -0.4347,  0.0000,  ...,  0.0000, -0.1138,  0.0000],\n",
       "           [ 0.0000,  0.3217,  0.0000,  ...,  0.0000,  0.0000,  0.0000],\n",
       "           ...,\n",
       "           [ 0.0000,  0.0000,  0.0000,  ..., -0.2322,  0.0000,  0.0000],\n",
       "           [ 0.0000,  0.0000,  0.0000,  ...,  0.0000,  0.0431,  0.0000],\n",
       "           [ 0.0000,  0.0000,  0.0000,  ...,  0.0000,  0.0000,  0.0000]],\n",
       "\n",
       "          [[ 0.0000,  0.0000,  0.0000,  ...,  0.0000,  0.0000,  0.0000],\n",
       "           [ 0.0000,  0.0000,  0.0000,  ...,  0.0000,  0.0000,  0.0000],\n",
       "           [ 0.0000,  0.0000,  0.0000,  ...,  0.0000,  0.0000,  0.0000],\n",
       "           ...,\n",
       "           [ 0.0000,  0.0170,  0.0000,  ...,  0.0000,  0.4631,  0.0000],\n",
       "           [ 0.0000,  0.0000,  0.0000,  ...,  0.0000,  0.0000,  0.0000],\n",
       "           [ 0.0000,  0.0000,  0.0000,  ...,  0.0000, -0.2979,  0.0000]],\n",
       "\n",
       "          ...,\n",
       "\n",
       "          [[ 0.0000,  0.0000,  0.0000,  ...,  0.0000,  0.0000,  0.0000],\n",
       "           [ 0.0000,  0.0000,  0.0000,  ...,  0.0000,  0.0000, -0.0179],\n",
       "           [-0.0390,  0.0000,  0.0000,  ...,  0.0000,  0.0000,  0.0000],\n",
       "           ...,\n",
       "           [ 0.0000,  0.0000,  0.0000,  ...,  0.0000,  0.0000,  0.0000],\n",
       "           [ 0.0000,  0.0000,  0.0000,  ...,  0.3502,  0.0000,  0.2676],\n",
       "           [ 0.0000,  0.0000,  0.0000,  ...,  0.0000,  0.0000,  0.0000]],\n",
       "\n",
       "          [[ 0.0000,  0.0000,  0.0514,  ...,  0.0000,  0.0000,  0.0000],\n",
       "           [ 0.0000,  0.0000,  0.0000,  ...,  0.0000,  0.0000,  0.0000],\n",
       "           [ 0.0000,  0.0000,  0.0000,  ...,  0.0000,  0.0000,  0.0000],\n",
       "           ...,\n",
       "           [ 0.0000,  0.0000,  0.0000,  ...,  0.0000,  0.0000,  0.0000],\n",
       "           [ 0.0000,  0.0000,  0.0000,  ...,  0.0000, -0.3107,  0.0000],\n",
       "           [ 0.0000,  0.0000,  0.0000,  ..., -0.1680,  0.0000,  0.0000]],\n",
       "\n",
       "          [[ 0.0000,  0.0165,  0.0000,  ..., -0.0725,  0.0000,  0.0000],\n",
       "           [ 0.0000,  0.0000,  0.0000,  ...,  0.0000,  0.0000,  0.0000],\n",
       "           [ 0.0000,  0.0000,  0.0000,  ...,  0.0000,  0.0000, -0.0188],\n",
       "           ...,\n",
       "           [ 0.0000,  0.0000,  0.0000,  ...,  0.0000,  0.0000,  0.0000],\n",
       "           [ 0.0000,  0.0000,  0.0000,  ...,  0.0000,  0.0000,  0.0000],\n",
       "           [-0.0725,  0.0000,  0.0000,  ...,  0.0000,  0.0000,  0.0000]]],\n",
       "\n",
       "\n",
       "         [[[ 0.0000,  0.0000,  0.0000,  ...,  0.0000,  0.0000,  0.0000],\n",
       "           [ 0.0000,  0.0000,  0.0000,  ...,  0.0000,  0.0000,  0.0000],\n",
       "           [ 0.0000,  0.1250, -0.1899,  ...,  0.0000,  0.0000,  0.0000],\n",
       "           ...,\n",
       "           [ 0.0000, -0.1655,  0.0000,  ...,  0.0000,  0.0000,  0.0000],\n",
       "           [ 0.0000,  0.0000,  0.0000,  ...,  0.0000,  0.0000,  0.0000],\n",
       "           [-0.0524,  0.0000,  0.0000,  ...,  0.0000,  0.0000,  0.0000]],\n",
       "\n",
       "          [[ 0.0000,  0.0818,  0.1586,  ...,  0.0000,  0.0000,  0.0000],\n",
       "           [ 0.0000,  0.1807,  0.0000,  ...,  0.0000, -0.1448,  0.0000],\n",
       "           [ 0.0000,  0.0354,  0.0000,  ...,  0.0000,  0.0000,  0.0000],\n",
       "           ...,\n",
       "           [ 0.0000,  0.0000,  0.0000,  ..., -0.2924,  0.0000,  0.0000],\n",
       "           [ 0.0000,  0.0000,  0.0000,  ...,  0.0000, -0.0051,  0.0000],\n",
       "           [ 0.0000,  0.0000,  0.0000,  ...,  0.0000,  0.0000,  0.0000]],\n",
       "\n",
       "          [[ 0.0000,  0.0000,  0.0000,  ...,  0.0000,  0.0000,  0.0000],\n",
       "           [ 0.0000,  0.0000,  0.0000,  ...,  0.0000,  0.0000,  0.0000],\n",
       "           [ 0.0000,  0.0000,  0.0000,  ...,  0.0000,  0.0000,  0.0000],\n",
       "           ...,\n",
       "           [ 0.0000, -0.1237,  0.0000,  ...,  0.0000,  0.1531,  0.0000],\n",
       "           [ 0.0000,  0.0000,  0.0000,  ...,  0.0000,  0.0000,  0.0000],\n",
       "           [ 0.0000,  0.0000,  0.0000,  ...,  0.0000,  0.0634,  0.0000]],\n",
       "\n",
       "          ...,\n",
       "\n",
       "          [[ 0.0000,  0.0000,  0.0000,  ...,  0.0000,  0.0000,  0.0000],\n",
       "           [ 0.0000,  0.0000,  0.0000,  ...,  0.0000,  0.0000,  0.1609],\n",
       "           [ 0.0483,  0.0000,  0.0000,  ...,  0.0000,  0.0000,  0.0000],\n",
       "           ...,\n",
       "           [ 0.0000,  0.0000,  0.0000,  ...,  0.0000,  0.0000,  0.0000],\n",
       "           [ 0.0000,  0.0000,  0.0000,  ...,  0.2312,  0.0000, -0.0037],\n",
       "           [ 0.0000,  0.0000,  0.0000,  ...,  0.0000,  0.0000,  0.0000]],\n",
       "\n",
       "          [[ 0.0000,  0.0000,  0.1181,  ...,  0.0000,  0.0000,  0.0000],\n",
       "           [ 0.0000,  0.0000,  0.0000,  ...,  0.0000,  0.0000,  0.0000],\n",
       "           [ 0.0000,  0.0000,  0.0000,  ...,  0.0000,  0.0000,  0.0000],\n",
       "           ...,\n",
       "           [ 0.0000,  0.0000,  0.0000,  ...,  0.0000,  0.0000,  0.0000],\n",
       "           [ 0.0000,  0.0000,  0.0000,  ...,  0.0000, -0.0414,  0.0000],\n",
       "           [ 0.0000,  0.0000,  0.0000,  ...,  0.1411,  0.0000,  0.0000]],\n",
       "\n",
       "          [[ 0.0000, -0.2800,  0.0000,  ..., -0.0883,  0.0000,  0.0000],\n",
       "           [ 0.0000,  0.0000,  0.0000,  ...,  0.0000,  0.0000,  0.0000],\n",
       "           [ 0.0000,  0.0000,  0.0000,  ...,  0.0000,  0.0000, -0.0690],\n",
       "           ...,\n",
       "           [ 0.0000,  0.0000,  0.0000,  ...,  0.0000,  0.0000,  0.0000],\n",
       "           [ 0.0000,  0.0000,  0.0000,  ...,  0.0000,  0.0000,  0.0000],\n",
       "           [-0.2027,  0.0000,  0.0000,  ...,  0.0000,  0.0000,  0.0000]]],\n",
       "\n",
       "\n",
       "         [[[ 0.0000,  0.0000,  0.0000,  ...,  0.0000,  0.0000,  0.0000],\n",
       "           [ 0.0000,  0.0000,  0.0000,  ...,  0.0000,  0.0000,  0.0000],\n",
       "           [ 0.0000, -0.3704, -0.0649,  ...,  0.0000,  0.0000,  0.0000],\n",
       "           ...,\n",
       "           [ 0.0000,  0.1669,  0.0000,  ...,  0.0000,  0.0000,  0.0000],\n",
       "           [ 0.0000,  0.0000,  0.0000,  ...,  0.0000,  0.0000,  0.0000],\n",
       "           [-0.0261,  0.0000,  0.0000,  ...,  0.0000,  0.0000,  0.0000]],\n",
       "\n",
       "          [[ 0.0000,  0.2661, -0.1294,  ...,  0.0000,  0.0000,  0.0000],\n",
       "           [ 0.0000,  0.1289,  0.0000,  ...,  0.0000, -0.0032,  0.0000],\n",
       "           [ 0.0000, -0.2231,  0.0000,  ...,  0.0000,  0.0000,  0.0000],\n",
       "           ...,\n",
       "           [ 0.0000,  0.0000,  0.0000,  ..., -0.0096,  0.0000,  0.0000],\n",
       "           [ 0.0000,  0.0000,  0.0000,  ...,  0.0000,  0.2336,  0.0000],\n",
       "           [ 0.0000,  0.0000,  0.0000,  ...,  0.0000,  0.0000,  0.0000]],\n",
       "\n",
       "          [[ 0.0000,  0.0000,  0.0000,  ...,  0.0000,  0.0000,  0.0000],\n",
       "           [ 0.0000,  0.0000,  0.0000,  ...,  0.0000,  0.0000,  0.0000],\n",
       "           [ 0.0000,  0.0000,  0.0000,  ...,  0.0000,  0.0000,  0.0000],\n",
       "           ...,\n",
       "           [ 0.0000,  0.2112,  0.0000,  ...,  0.0000,  0.1399,  0.0000],\n",
       "           [ 0.0000,  0.0000,  0.0000,  ...,  0.0000,  0.0000,  0.0000],\n",
       "           [ 0.0000,  0.0000,  0.0000,  ...,  0.0000, -0.1861,  0.0000]],\n",
       "\n",
       "          ...,\n",
       "\n",
       "          [[ 0.0000,  0.0000,  0.0000,  ...,  0.0000,  0.0000,  0.0000],\n",
       "           [ 0.0000,  0.0000,  0.0000,  ...,  0.0000,  0.0000,  0.1664],\n",
       "           [-0.0654,  0.0000,  0.0000,  ...,  0.0000,  0.0000,  0.0000],\n",
       "           ...,\n",
       "           [ 0.0000,  0.0000,  0.0000,  ...,  0.0000,  0.0000,  0.0000],\n",
       "           [ 0.0000,  0.0000,  0.0000,  ..., -0.3667,  0.0000,  0.0489],\n",
       "           [ 0.0000,  0.0000,  0.0000,  ...,  0.0000,  0.0000,  0.0000]],\n",
       "\n",
       "          [[ 0.0000,  0.0000,  0.0251,  ...,  0.0000,  0.0000,  0.0000],\n",
       "           [ 0.0000,  0.0000,  0.0000,  ...,  0.0000,  0.0000,  0.0000],\n",
       "           [ 0.0000,  0.0000,  0.0000,  ...,  0.0000,  0.0000,  0.0000],\n",
       "           ...,\n",
       "           [ 0.0000,  0.0000,  0.0000,  ...,  0.0000,  0.0000,  0.0000],\n",
       "           [ 0.0000,  0.0000,  0.0000,  ...,  0.0000,  0.0974,  0.0000],\n",
       "           [ 0.0000,  0.0000,  0.0000,  ...,  0.2355,  0.0000,  0.0000]],\n",
       "\n",
       "          [[ 0.0000, -0.0073,  0.0000,  ..., -0.1262,  0.0000,  0.0000],\n",
       "           [ 0.0000,  0.0000,  0.0000,  ...,  0.0000,  0.0000,  0.0000],\n",
       "           [ 0.0000,  0.0000,  0.0000,  ...,  0.0000,  0.0000,  0.0567],\n",
       "           ...,\n",
       "           [ 0.0000,  0.0000,  0.0000,  ...,  0.0000,  0.0000,  0.0000],\n",
       "           [ 0.0000,  0.0000,  0.0000,  ...,  0.0000,  0.0000,  0.0000],\n",
       "           [ 0.0325,  0.0000,  0.0000,  ...,  0.0000,  0.0000,  0.0000]]]]],\n",
       "       device='cuda:0', grad_fn=<CloneBackward0>)"
      ]
     },
     "execution_count": 45,
     "metadata": {},
     "output_type": "execute_result"
    }
   ],
   "source": [
    "y2.dense()"
   ]
  },
  {
   "cell_type": "markdown",
   "id": "15e1ffa2-b664-4e03-a85f-610260025aef",
   "metadata": {},
   "source": [
    "# With real data"
   ]
  },
  {
   "cell_type": "code",
   "execution_count": 1,
   "id": "382fc9d3-7391-47a6-b052-3886ae97afaf",
   "metadata": {},
   "outputs": [],
   "source": [
    "import spconv.pytorch as spconv\n",
    "from spconv.pytorch import SparseConvTensor\n",
    "from spconv.pytorch.modules import SparseModule\n",
    "import math\n",
    "import torch\n",
    "from torch import nn\n",
    "from IPython.display import Image\n",
    "from pytorch_quantization.tensor_quant import QuantDescriptor\n",
    "from pytorch_quantization.nn.modules.tensor_quantizer import TensorQuantizer"
   ]
  },
  {
   "cell_type": "code",
   "execution_count": 2,
   "id": "ff7a5cbd-93da-4884-af37-ca57510b9f40",
   "metadata": {},
   "outputs": [],
   "source": [
    "import random"
   ]
  },
  {
   "cell_type": "code",
   "execution_count": 3,
   "id": "00368a0e-6753-4392-8cfa-d4153e7a7d36",
   "metadata": {},
   "outputs": [
    {
     "data": {
      "text/plain": [
       "<torch._C.Generator at 0x7ae3866f39b0>"
      ]
     },
     "execution_count": 3,
     "metadata": {},
     "output_type": "execute_result"
    }
   ],
   "source": [
    "torch.manual_seed(2025)"
   ]
  },
  {
   "cell_type": "code",
   "execution_count": 4,
   "id": "5f6d4481-d4a6-49ce-9038-8566de90aff9",
   "metadata": {},
   "outputs": [],
   "source": [
    "import pickle"
   ]
  },
  {
   "cell_type": "code",
   "execution_count": 5,
   "id": "4dec4676-2c78-4df1-97a3-7ce05aa30411",
   "metadata": {},
   "outputs": [
    {
     "ename": "FileNotFoundError",
     "evalue": "[Errno 2] No such file or directory: '../OpenPCDet/tools/actNweight.pkl'",
     "output_type": "error",
     "traceback": [
      "\u001b[0;31m---------------------------------------------------------------------------\u001b[0m",
      "\u001b[0;31mFileNotFoundError\u001b[0m                         Traceback (most recent call last)",
      "Cell \u001b[0;32mIn[5], line 1\u001b[0m\n\u001b[0;32m----> 1\u001b[0m \u001b[38;5;28;01mwith\u001b[39;00m \u001b[38;5;28;43mopen\u001b[39;49m\u001b[43m(\u001b[49m\u001b[38;5;124;43m'\u001b[39;49m\u001b[38;5;124;43m../OpenPCDet/tools/actNweight.pkl\u001b[39;49m\u001b[38;5;124;43m'\u001b[39;49m\u001b[43m,\u001b[49m\u001b[43m \u001b[49m\u001b[38;5;124;43m'\u001b[39;49m\u001b[38;5;124;43mrb\u001b[39;49m\u001b[38;5;124;43m'\u001b[39;49m\u001b[43m)\u001b[49m \u001b[38;5;28;01mas\u001b[39;00m f:\n\u001b[1;32m      2\u001b[0m         \u001b[38;5;66;03m# pickle.dump([pytorch_outputs, weight_scale], f)\u001b[39;00m\n\u001b[1;32m      3\u001b[0m         features, coord, spatial_shape, batch_size, weight \u001b[38;5;241m=\u001b[39m pickle\u001b[38;5;241m.\u001b[39mload(f)\n",
      "File \u001b[0;32m~/miniconda3/envs/pcdet/lib/python3.8/site-packages/IPython/core/interactiveshell.py:284\u001b[0m, in \u001b[0;36m_modified_open\u001b[0;34m(file, *args, **kwargs)\u001b[0m\n\u001b[1;32m    277\u001b[0m \u001b[38;5;28;01mif\u001b[39;00m file \u001b[38;5;129;01min\u001b[39;00m {\u001b[38;5;241m0\u001b[39m, \u001b[38;5;241m1\u001b[39m, \u001b[38;5;241m2\u001b[39m}:\n\u001b[1;32m    278\u001b[0m     \u001b[38;5;28;01mraise\u001b[39;00m \u001b[38;5;167;01mValueError\u001b[39;00m(\n\u001b[1;32m    279\u001b[0m         \u001b[38;5;124mf\u001b[39m\u001b[38;5;124m\"\u001b[39m\u001b[38;5;124mIPython won\u001b[39m\u001b[38;5;124m'\u001b[39m\u001b[38;5;124mt let you open fd=\u001b[39m\u001b[38;5;132;01m{\u001b[39;00mfile\u001b[38;5;132;01m}\u001b[39;00m\u001b[38;5;124m by default \u001b[39m\u001b[38;5;124m\"\u001b[39m\n\u001b[1;32m    280\u001b[0m         \u001b[38;5;124m\"\u001b[39m\u001b[38;5;124mas it is likely to crash IPython. If you know what you are doing, \u001b[39m\u001b[38;5;124m\"\u001b[39m\n\u001b[1;32m    281\u001b[0m         \u001b[38;5;124m\"\u001b[39m\u001b[38;5;124myou can use builtins\u001b[39m\u001b[38;5;124m'\u001b[39m\u001b[38;5;124m open.\u001b[39m\u001b[38;5;124m\"\u001b[39m\n\u001b[1;32m    282\u001b[0m     )\n\u001b[0;32m--> 284\u001b[0m \u001b[38;5;28;01mreturn\u001b[39;00m \u001b[43mio_open\u001b[49m\u001b[43m(\u001b[49m\u001b[43mfile\u001b[49m\u001b[43m,\u001b[49m\u001b[43m \u001b[49m\u001b[38;5;241;43m*\u001b[39;49m\u001b[43margs\u001b[49m\u001b[43m,\u001b[49m\u001b[43m \u001b[49m\u001b[38;5;241;43m*\u001b[39;49m\u001b[38;5;241;43m*\u001b[39;49m\u001b[43mkwargs\u001b[49m\u001b[43m)\u001b[49m\n",
      "\u001b[0;31mFileNotFoundError\u001b[0m: [Errno 2] No such file or directory: '../OpenPCDet/tools/actNweight.pkl'"
     ]
    }
   ],
   "source": [
    "with open('../OpenPCDet/tools/actNweight.pkl', 'rb') as f:\n",
    "        # pickle.dump([pytorch_outputs, weight_scale], f)\n",
    "        features, coord, spatial_shape, batch_size, weight = pickle.load(f)"
   ]
  },
  {
   "cell_type": "code",
   "execution_count": null,
   "id": "cdb1eb72-fecd-4426-a9cb-f5ae4b9e5c48",
   "metadata": {},
   "outputs": [],
   "source": [
    "features = features.to('cuda')\n",
    "coord = coord.to('cuda')"
   ]
  },
  {
   "cell_type": "code",
   "execution_count": 7,
   "id": "241bad8f-ebf0-49aa-a9a3-67940a8d8533",
   "metadata": {},
   "outputs": [],
   "source": [
    "x = spconv.SparseConvTensor(features, coord, spatial_shape, batch_size)"
   ]
  },
  {
   "cell_type": "code",
   "execution_count": 8,
   "id": "ff0f5250-9c9d-4b49-b85d-d27c538ca6db",
   "metadata": {},
   "outputs": [],
   "source": [
    "spconv3d = spconv.SubMConv3d(\n",
    "    in_channels=32, \n",
    "    out_channels=32, \n",
    "    kernel_size=3, \n",
    "    stride=1,\n",
    "    padding=1,\n",
    "    bias=False\n",
    ")"
   ]
  },
  {
   "cell_type": "code",
   "execution_count": 9,
   "id": "8942b435-b94d-4e1a-9fd1-a5cf67e79789",
   "metadata": {},
   "outputs": [
    {
     "data": {
      "text/plain": [
       "torch.Size([32, 3, 3, 3, 32])"
      ]
     },
     "execution_count": 9,
     "metadata": {},
     "output_type": "execute_result"
    }
   ],
   "source": [
    "weight.shape"
   ]
  },
  {
   "cell_type": "code",
   "execution_count": 10,
   "id": "bd07486f-add6-48f1-bc37-0a1584fd9a8b",
   "metadata": {},
   "outputs": [
    {
     "data": {
      "text/plain": [
       "torch.Size([32, 3, 3, 3, 32])"
      ]
     },
     "execution_count": 10,
     "metadata": {},
     "output_type": "execute_result"
    }
   ],
   "source": [
    "spconv3d.weight.shape"
   ]
  },
  {
   "cell_type": "code",
   "execution_count": 11,
   "id": "b682bcff-4a89-4903-972c-f534d4d63427",
   "metadata": {},
   "outputs": [],
   "source": [
    "spconv3d.weight.data = weight"
   ]
  },
  {
   "cell_type": "code",
   "execution_count": 12,
   "id": "7bd37fcd-7ec2-4e33-a64d-d1ca5d994990",
   "metadata": {},
   "outputs": [
    {
     "data": {
      "text/plain": [
       "SubMConv3d(32, 32, kernel_size=[3, 3, 3], stride=[1, 1, 1], padding=[1, 1, 1], dilation=[1, 1, 1], output_padding=[0, 0, 0], bias=False, algo=ConvAlgo.MaskImplicitGemm)"
      ]
     },
     "execution_count": 12,
     "metadata": {},
     "output_type": "execute_result"
    }
   ],
   "source": [
    "spconv3d.to('cuda')"
   ]
  },
  {
   "cell_type": "code",
   "execution_count": 13,
   "id": "bd18b37a-a257-4e5a-8f7e-9dac22fdcfad",
   "metadata": {},
   "outputs": [
    {
     "data": {
      "text/plain": [
       "torch.Size([32, 3, 3, 3, 32])"
      ]
     },
     "execution_count": 13,
     "metadata": {},
     "output_type": "execute_result"
    }
   ],
   "source": [
    "spconv3d.weight.data.shape"
   ]
  },
  {
   "cell_type": "code",
   "execution_count": 27,
   "id": "23bed67b-9379-4b43-92f2-dbfd70f6a302",
   "metadata": {},
   "outputs": [],
   "source": [
    "class GSQConv3d(SparseModule):\n",
    "    \"\"\"Pytorch Quantization\"\"\"\n",
    "    def __init__(self, spconv3d, act_num_bits=8, weight_num_bits=4):\n",
    "        super().__init__()\n",
    "        self.spconv3d = spconv3d\n",
    "        weight = self.spconv3d.weight.data.clone()\n",
    "        self.weight_max = weight.abs().max()\n",
    "        self.l1loss = torch.nn.L1Loss()\n",
    "        self.scale = 0.67\n",
    "\n",
    "        # w quantizer\n",
    "        w_desc = QuantDescriptor(\n",
    "            num_bits=weight_num_bits, \n",
    "            axis=(0)\n",
    "        )\n",
    "        self.w_quant = TensorQuantizer(w_desc)\n",
    "\n",
    "        oc, kh, kw, kd, ic = weight.shape\n",
    "        w = weight.permute(0, 4, 1, 2, 3).contiguous().view(oc, -1)\n",
    "        # w *= self.scale\n",
    "        w = self.w_quant(w)\n",
    "        w = w.view(oc, ic, kh, kw, kd).permute(0, 2, 3, 4, 1).contiguous()\n",
    "        print(\"weight quant loss:\", self.l1loss(w, self.spconv3d.weight.data))\n",
    "        print(w)\n",
    "        print(self.spconv3d.weight.data)\n",
    "        self.spconv3d.weight.data = w\n",
    "\n",
    "        # act quantizer\n",
    "        act_desc = QuantDescriptor(\n",
    "            num_bits=act_num_bits\n",
    "        )\n",
    "        self.act_quant = TensorQuantizer(act_desc)\n",
    "        \n",
    "    def forward(self, x):\n",
    "        features = x.features\n",
    "        # features /= self.scale\n",
    "        features = self.act_quant(features)\n",
    "        print(\"act quant loss:\", self.l1loss(features, x.features))\n",
    "        x = x.replace_feature(features)\n",
    "        x = self.spconv3d(x)\n",
    "        return x"
   ]
  },
  {
   "cell_type": "code",
   "execution_count": 28,
   "id": "40a34a1c-2f9f-474a-b43d-0f7f45fb969b",
   "metadata": {
    "scrolled": true
   },
   "outputs": [
    {
     "name": "stdout",
     "output_type": "stream",
     "text": [
      "weight quant loss: tensor(0.0006, device='cuda:0')\n",
      "tensor([[[[[ 0.1384,  0.0000, -0.2767,  ...,  0.0000,  0.0000, -0.1384],\n",
      "           [ 0.0000,  0.0000,  0.0000,  ..., -0.0000, -0.1384, -0.0000],\n",
      "           [-0.0000, -0.0000,  0.1384,  ..., -0.0000,  0.1384,  0.0000]],\n",
      "\n",
      "          [[ 0.0000, -0.0000, -0.2767,  ..., -0.1384, -0.1384, -0.1384],\n",
      "           [-0.2767, -0.0000, -0.1384,  ...,  0.1384, -0.4151, -0.0000],\n",
      "           [-0.0000,  0.0000, -0.0000,  ..., -0.1384,  0.2767, -0.0000]],\n",
      "\n",
      "          [[ 0.0000, -0.0000,  0.1384,  ...,  0.0000, -0.2767, -0.2767],\n",
      "           [-0.2767,  0.1384,  0.2767,  ...,  0.1384, -0.5534, -0.1384],\n",
      "           [-0.1384,  0.1384,  0.0000,  ..., -0.1384, -0.0000,  0.0000]]],\n",
      "\n",
      "\n",
      "         [[[ 0.1384, -0.0000, -0.5534,  ...,  0.1384, -0.1384, -0.0000],\n",
      "           [ 0.1384,  0.1384,  0.2767,  ...,  0.0000, -0.1384, -0.0000],\n",
      "           [-0.0000, -0.0000,  0.4151,  ...,  0.0000,  0.2767, -0.0000]],\n",
      "\n",
      "          [[-0.1384,  0.0000, -0.9685,  ...,  0.1384, -0.1384, -0.0000],\n",
      "           [-0.2767, -0.4151, -0.0000,  ..., -0.0000, -0.8301, -0.0000],\n",
      "           [ 0.1384,  0.1384, -0.1384,  ...,  0.0000,  0.4151,  0.0000]],\n",
      "\n",
      "          [[ 0.1384, -0.1384,  0.4151,  ..., -0.1384, -0.4151,  0.0000],\n",
      "           [-0.2767, -0.0000,  0.4151,  ..., -0.0000, -0.6918, -0.1384],\n",
      "           [ 0.0000,  0.1384, -0.1384,  ..., -0.0000,  0.0000,  0.0000]]],\n",
      "\n",
      "\n",
      "         [[[-0.0000,  0.0000,  0.1384,  ...,  0.0000, -0.1384,  0.0000],\n",
      "           [-0.0000, -0.0000,  0.1384,  ..., -0.0000,  0.0000, -0.0000],\n",
      "           [-0.0000, -0.1384,  0.1384,  ...,  0.0000,  0.0000, -0.1384]],\n",
      "\n",
      "          [[ 0.1384, -0.0000, -0.1384,  ..., -0.1384, -0.0000,  0.0000],\n",
      "           [-0.0000,  0.1384,  0.0000,  ...,  0.0000,  0.1384,  0.0000],\n",
      "           [-0.0000, -0.1384,  0.0000,  ...,  0.0000,  0.1384, -0.0000]],\n",
      "\n",
      "          [[-0.1384,  0.0000,  0.1384,  ..., -0.0000, -0.0000,  0.0000],\n",
      "           [-0.0000,  0.1384,  0.0000,  ...,  0.0000,  0.0000, -0.0000],\n",
      "           [-0.0000, -0.1384, -0.1384,  ..., -0.0000,  0.1384, -0.1384]]]],\n",
      "\n",
      "\n",
      "\n",
      "        [[[[-0.0000, -0.0000,  0.0000,  ...,  0.0000, -0.0000, -0.0000],\n",
      "           [-0.0000,  0.0000,  0.0000,  ...,  0.0000, -0.0000, -0.0000],\n",
      "           [-0.0000, -0.0000, -0.0000,  ...,  0.0000, -0.0000, -0.0000]],\n",
      "\n",
      "          [[ 0.0000, -0.0000,  0.0000,  ...,  0.0000,  0.0000,  0.0000],\n",
      "           [ 0.0000, -0.0000,  0.0000,  ..., -0.0000,  0.0000, -0.0000],\n",
      "           [-0.2382, -0.0000, -0.0000,  ..., -0.0000,  0.0000, -0.0000]],\n",
      "\n",
      "          [[-0.0000, -0.0000,  0.0000,  ...,  0.0000, -0.0000,  0.0000],\n",
      "           [-0.2382, -0.2382, -0.0000,  ..., -0.0000,  0.0000, -0.0000],\n",
      "           [-0.0000, -0.2382,  0.0000,  ..., -0.0000,  0.0000,  0.0000]]],\n",
      "\n",
      "\n",
      "         [[[ 0.0000, -0.0000, -0.0000,  ..., -0.0000,  0.0000, -0.0000],\n",
      "           [ 0.0000,  0.0000, -0.0000,  ...,  0.0000, -0.0000, -0.0000],\n",
      "           [ 0.2382,  0.2382,  0.0000,  ..., -0.0000, -0.0000, -0.0000]],\n",
      "\n",
      "          [[ 0.0000, -0.0000,  0.0000,  ..., -0.0000,  0.0000, -0.0000],\n",
      "           [ 0.2382, -0.2382,  0.2382,  ..., -0.0000,  0.0000,  0.0000],\n",
      "           [ 0.2382,  0.0000,  0.0000,  ..., -0.0000,  0.0000,  0.0000]],\n",
      "\n",
      "          [[-0.0000,  0.0000,  0.0000,  ...,  0.0000, -0.0000,  0.0000],\n",
      "           [-0.0000, -0.0000, -0.0000,  ...,  0.0000,  0.2382, -0.0000],\n",
      "           [ 0.2382,  0.0000,  0.0000,  ...,  0.0000, -0.0000, -0.0000]]],\n",
      "\n",
      "\n",
      "         [[[ 0.0000, -0.0000, -0.0000,  ...,  0.0000,  0.0000, -0.0000],\n",
      "           [-0.0000, -0.0000, -0.0000,  ...,  0.0000, -0.0000, -0.0000],\n",
      "           [ 0.0000,  0.0000,  0.0000,  ..., -0.0000, -0.0000,  0.0000]],\n",
      "\n",
      "          [[-0.2382, -0.0000,  0.0000,  ..., -0.0000, -0.0000, -0.0000],\n",
      "           [ 0.0000, -0.2382, -0.0000,  ...,  0.0000, -0.0000,  0.0000],\n",
      "           [-0.0000,  0.0000,  0.0000,  ...,  0.0000,  0.0000,  0.0000]],\n",
      "\n",
      "          [[-0.0000, -0.0000,  0.0000,  ...,  0.2382, -0.0000, -0.0000],\n",
      "           [-0.0000,  0.0000, -0.0000,  ...,  0.0000,  0.0000, -0.0000],\n",
      "           [ 0.0000,  0.2382,  0.0000,  ...,  0.0000,  0.0000, -0.0000]]]],\n",
      "\n",
      "\n",
      "\n",
      "        [[[[ 0.0000,  0.0000, -0.0000,  ..., -0.0000,  0.0000, -0.0000],\n",
      "           [-0.0000, -0.0000,  0.0000,  ..., -0.0000,  0.0000, -0.0000],\n",
      "           [ 0.0000,  0.0000,  0.0000,  ..., -0.0000,  0.0000, -0.0000]],\n",
      "\n",
      "          [[-0.0000,  0.0000, -0.0000,  ..., -0.0000,  0.0000, -0.0000],\n",
      "           [-0.0000, -0.0000,  0.0000,  ..., -0.0000,  0.0000,  0.0000],\n",
      "           [-0.0000,  0.0000, -0.0000,  ..., -0.0000,  0.0000,  0.0000]],\n",
      "\n",
      "          [[ 0.0000,  0.0000,  0.0000,  ...,  0.0000, -0.0000, -0.0000],\n",
      "           [ 0.0000,  0.0000, -0.0000,  ...,  0.0000,  0.0000, -0.0000],\n",
      "           [ 0.0000, -0.0000, -0.0000,  ..., -0.0000,  0.0000,  0.0000]]],\n",
      "\n",
      "\n",
      "         [[[-0.0000,  0.0000,  0.0000,  ..., -0.0000, -0.0000,  0.0000],\n",
      "           [ 0.0000,  0.0000,  0.0000,  ...,  0.0000, -0.0000, -0.0000],\n",
      "           [-0.0000,  0.0000, -0.0000,  ...,  0.0000, -0.0000, -0.0000]],\n",
      "\n",
      "          [[ 0.0000, -0.0000,  0.0000,  ..., -0.0000,  0.0000, -0.0000],\n",
      "           [ 0.2378, -0.4756,  0.0000,  ...,  0.0000,  0.0000,  0.0000],\n",
      "           [-0.0000,  0.0000, -0.0000,  ...,  0.0000,  0.0000, -0.0000]],\n",
      "\n",
      "          [[ 0.0000, -0.0000, -0.0000,  ..., -0.0000, -0.0000, -0.0000],\n",
      "           [ 0.0000, -0.0000,  0.0000,  ..., -0.0000, -0.0000,  0.0000],\n",
      "           [-0.0000,  0.0000, -0.0000,  ..., -0.0000,  0.0000, -0.0000]]],\n",
      "\n",
      "\n",
      "         [[[ 0.0000, -0.0000, -0.0000,  ..., -0.0000,  0.0000, -0.0000],\n",
      "           [-0.0000,  0.0000,  0.0000,  ...,  0.0000,  0.0000, -0.0000],\n",
      "           [-0.0000, -0.0000,  0.0000,  ..., -0.0000, -0.0000,  0.0000]],\n",
      "\n",
      "          [[ 0.0000, -0.0000,  0.0000,  ...,  0.0000, -0.0000, -0.0000],\n",
      "           [ 0.0000, -0.0000,  0.0000,  ..., -0.0000,  0.0000, -0.0000],\n",
      "           [-0.0000,  0.0000, -0.0000,  ..., -0.0000,  0.0000, -0.0000]],\n",
      "\n",
      "          [[ 0.0000, -0.0000, -0.0000,  ...,  0.0000, -0.0000, -0.0000],\n",
      "           [ 0.0000, -0.0000, -0.0000,  ...,  0.0000,  0.0000,  0.0000],\n",
      "           [ 0.0000, -0.0000, -0.0000,  ...,  0.0000, -0.0000,  0.0000]]]],\n",
      "\n",
      "\n",
      "\n",
      "        ...,\n",
      "\n",
      "\n",
      "\n",
      "        [[[[ 0.1279,  0.1279,  0.1279,  ..., -0.0000,  0.1279,  0.0000],\n",
      "           [-0.0000, -0.1279, -0.2559,  ..., -0.0000,  0.2559, -0.0000],\n",
      "           [ 0.1279,  0.1279, -0.6397,  ..., -0.0000, -0.0000, -0.0000]],\n",
      "\n",
      "          [[-0.0000,  0.1279,  0.1279,  ..., -0.1279,  0.2559, -0.0000],\n",
      "           [-0.0000, -0.0000, -0.1279,  ..., -0.0000,  0.0000, -0.0000],\n",
      "           [-0.0000,  0.1279,  0.0000,  ...,  0.0000, -0.2559, -0.1279]],\n",
      "\n",
      "          [[ 0.1279,  0.1279,  0.0000,  ...,  0.0000,  0.1279, -0.1279],\n",
      "           [ 0.1279, -0.1279,  0.1279,  ..., -0.0000,  0.0000, -0.1279],\n",
      "           [ 0.1279, -0.1279,  0.3838,  ...,  0.0000, -0.2559, -0.1279]]],\n",
      "\n",
      "\n",
      "         [[[ 0.1279,  0.1279,  0.3838,  ..., -0.1279,  0.0000, -0.1279],\n",
      "           [-0.1279, -0.1279, -0.1279,  ..., -0.0000,  0.2559, -0.0000],\n",
      "           [-0.0000, -0.0000, -0.8955,  ..., -0.0000, -0.1279,  0.0000]],\n",
      "\n",
      "          [[-0.0000,  0.1279,  0.0000,  ..., -0.2559,  0.2559, -0.0000],\n",
      "           [-0.1279, -0.3838, -0.3838,  ...,  0.0000,  0.3838, -0.0000],\n",
      "           [-0.1279, -0.0000, -0.1279,  ..., -0.0000, -0.6397,  0.1279]],\n",
      "\n",
      "          [[ 0.1279,  0.0000, -0.1279,  ..., -0.0000,  0.1279, -0.1279],\n",
      "           [ 0.0000, -0.1279,  0.1279,  ...,  0.0000,  0.1279,  0.0000],\n",
      "           [ 0.2559, -0.2559,  0.5117,  ..., -0.0000, -0.1279, -0.0000]]],\n",
      "\n",
      "\n",
      "         [[[-0.1279,  0.0000, -0.0000,  ..., -0.1279, -0.0000,  0.0000],\n",
      "           [-0.0000,  0.1279,  0.2559,  ...,  0.1279, -0.1279,  0.0000],\n",
      "           [ 0.0000, -0.0000, -0.1279,  ...,  0.0000, -0.0000,  0.1279]],\n",
      "\n",
      "          [[ 0.0000,  0.1279, -0.2559,  ..., -0.0000, -0.1279, -0.0000],\n",
      "           [-0.2559,  0.1279, -0.0000,  ...,  0.0000,  0.1279,  0.1279],\n",
      "           [ 0.0000, -0.0000,  0.0000,  ..., -0.0000,  0.0000, -0.0000]],\n",
      "\n",
      "          [[ 0.1279, -0.0000, -0.2559,  ..., -0.1279,  0.0000, -0.1279],\n",
      "           [ 0.0000, -0.0000, -0.1279,  ...,  0.1279,  0.1279,  0.0000],\n",
      "           [-0.1279,  0.0000,  0.0000,  ...,  0.0000,  0.1279,  0.0000]]]],\n",
      "\n",
      "\n",
      "\n",
      "        [[[[-0.1454,  0.0000, -0.2908,  ...,  0.1454,  0.2908,  0.0000],\n",
      "           [-0.4362,  0.2908, -0.4362,  ..., -0.1454, -0.1454, -0.0000],\n",
      "           [-0.1454,  0.2908, -0.1454,  ..., -0.2908, -0.4362,  0.1454]],\n",
      "\n",
      "          [[-0.1454, -0.1454,  0.0000,  ...,  0.1454,  0.2908, -0.0000],\n",
      "           [ 0.0000, -0.0000, -0.2908,  ...,  0.0000, -0.2908, -0.0000],\n",
      "           [ 0.1454,  0.1454,  0.0000,  ..., -0.1454, -0.4362, -0.0000]],\n",
      "\n",
      "          [[-0.1454, -0.0000, -0.0000,  ...,  0.0000,  0.0000,  0.0000],\n",
      "           [ 0.1454, -0.1454,  0.1454,  ..., -0.1454,  0.1454, -0.0000],\n",
      "           [ 0.1454,  0.0000,  0.1454,  ..., -0.1454,  0.0000, -0.0000]]],\n",
      "\n",
      "\n",
      "         [[[-0.2908,  0.1454, -0.1454,  ...,  0.1454,  0.2908,  0.0000],\n",
      "           [-0.2908, -0.0000, -1.0177,  ...,  0.0000,  0.1454, -0.1454],\n",
      "           [-0.0000,  0.0000, -0.2908,  ..., -0.1454, -0.2908,  0.0000]],\n",
      "\n",
      "          [[-0.1454,  0.0000,  0.2908,  ...,  0.1454,  0.2908, -0.1454],\n",
      "           [ 0.0000, -0.0000, -0.0000,  ...,  0.0000, -0.2908,  0.0000],\n",
      "           [ 0.1454,  0.0000,  0.4362,  ..., -0.1454, -0.4362, -0.1454]],\n",
      "\n",
      "          [[-0.0000, -0.1454,  0.1454,  ...,  0.0000,  0.1454,  0.0000],\n",
      "           [ 0.1454,  0.0000,  0.1454,  ...,  0.0000,  0.1454, -0.0000],\n",
      "           [ 0.0000,  0.0000,  0.1454,  ...,  0.0000,  0.1454, -0.1454]]],\n",
      "\n",
      "\n",
      "         [[[-0.1454, -0.0000,  0.0000,  ..., -0.1454, -0.0000, -0.1454],\n",
      "           [-0.0000,  0.0000, -0.1454,  ...,  0.0000,  0.1454, -0.0000],\n",
      "           [-0.0000, -0.1454,  0.0000,  ..., -0.0000,  0.0000,  0.0000]],\n",
      "\n",
      "          [[-0.0000, -0.0000,  0.1454,  ..., -0.0000,  0.0000, -0.1454],\n",
      "           [-0.0000, -0.0000,  0.0000,  ..., -0.0000, -0.1454,  0.1454],\n",
      "           [-0.0000, -0.0000,  0.1454,  ..., -0.0000, -0.0000, -0.0000]],\n",
      "\n",
      "          [[-0.0000, -0.1454,  0.0000,  ..., -0.1454,  0.1454, -0.1454],\n",
      "           [ 0.1454, -0.1454,  0.0000,  ..., -0.1454,  0.0000, -0.0000],\n",
      "           [ 0.0000, -0.1454,  0.0000,  ..., -0.1454,  0.1454, -0.1454]]]],\n",
      "\n",
      "\n",
      "\n",
      "        [[[[-0.2028,  0.1014,  0.1014,  ...,  0.1014,  0.1014,  0.0000],\n",
      "           [-0.3043,  0.1014,  0.0000,  ..., -0.1014,  0.1014,  0.0000],\n",
      "           [-0.1014,  0.0000,  0.1014,  ...,  0.1014,  0.2028, -0.0000]],\n",
      "\n",
      "          [[-0.1014,  0.0000, -0.0000,  ...,  0.1014, -0.1014,  0.2028],\n",
      "           [-0.5071,  0.1014, -0.1014,  ...,  0.1014, -0.1014,  0.0000],\n",
      "           [-0.2028,  0.1014, -0.1014,  ..., -0.0000,  0.1014,  0.1014]],\n",
      "\n",
      "          [[ 0.1014,  0.2028, -0.0000,  ...,  0.0000, -0.1014,  0.1014],\n",
      "           [ 0.0000,  0.1014, -0.1014,  ..., -0.1014,  0.1014,  0.1014],\n",
      "           [ 0.1014,  0.0000,  0.2028,  ..., -0.2028,  0.2028,  0.0000]]],\n",
      "\n",
      "\n",
      "         [[[-0.2028,  0.2028, -0.3043,  ...,  0.1014,  0.0000,  0.1014],\n",
      "           [-0.4057,  0.1014, -0.0000,  ...,  0.1014, -0.1014,  0.0000],\n",
      "           [ 0.0000,  0.2028,  0.1014,  ...,  0.1014, -0.1014, -0.0000]],\n",
      "\n",
      "          [[-0.3043, -0.3043, -0.2028,  ...,  0.2028,  0.1014,  0.1014],\n",
      "           [-0.5071, -0.2028,  0.1014,  ...,  0.2028, -0.6085, -0.0000],\n",
      "           [-0.0000,  0.2028,  0.0000,  ...,  0.0000,  0.0000, -0.0000]],\n",
      "\n",
      "          [[ 0.0000,  0.1014, -0.1014,  ...,  0.2028, -0.1014, -0.0000],\n",
      "           [ 0.2028, -0.0000, -0.1014,  ...,  0.1014, -0.1014,  0.1014],\n",
      "           [ 0.0000,  0.1014,  0.1014,  ..., -0.0000,  0.1014,  0.0000]]],\n",
      "\n",
      "\n",
      "         [[[-0.2028,  0.2028, -0.0000,  ...,  0.0000,  0.0000, -0.2028],\n",
      "           [-0.2028, -0.0000, -0.1014,  ...,  0.0000,  0.0000,  0.1014],\n",
      "           [ 0.1014,  0.0000, -0.1014,  ...,  0.0000, -0.0000, -0.0000]],\n",
      "\n",
      "          [[-0.2028,  0.2028, -0.2028,  ..., -0.0000, -0.2028,  0.2028],\n",
      "           [-0.3043, -0.0000, -0.1014,  ...,  0.1014, -0.1014, -0.1014],\n",
      "           [ 0.0000,  0.0000,  0.0000,  ...,  0.0000, -0.1014,  0.0000]],\n",
      "\n",
      "          [[ 0.1014,  0.1014, -0.2028,  ...,  0.0000,  0.0000,  0.0000],\n",
      "           [-0.0000,  0.0000, -0.0000,  ...,  0.1014,  0.1014, -0.1014],\n",
      "           [-0.0000, -0.0000,  0.1014,  ..., -0.0000,  0.0000, -0.0000]]]]],\n",
      "       device='cuda:0')\n",
      "tensor([[[[[ 0.1373,  0.0000, -0.2745,  ...,  0.0000,  0.0000, -0.1373],\n",
      "           [ 0.0000,  0.0000,  0.0000,  ..., -0.0000, -0.1373, -0.0000],\n",
      "           [-0.0000, -0.0000,  0.1373,  ..., -0.0000,  0.1373,  0.0000]],\n",
      "\n",
      "          [[ 0.0000, -0.0000, -0.2745,  ..., -0.1373, -0.1373, -0.1373],\n",
      "           [-0.2745, -0.0000, -0.1373,  ...,  0.1373, -0.4118, -0.0000],\n",
      "           [-0.0000,  0.0000, -0.0000,  ..., -0.1373,  0.2745, -0.0000]],\n",
      "\n",
      "          [[ 0.0000, -0.0000,  0.1373,  ...,  0.0000, -0.2745, -0.2745],\n",
      "           [-0.2745,  0.1373,  0.2745,  ...,  0.1373, -0.5567, -0.1373],\n",
      "           [-0.1373,  0.1373,  0.0000,  ..., -0.1373, -0.0000,  0.0000]]],\n",
      "\n",
      "\n",
      "         [[[ 0.1373, -0.0000, -0.5567,  ...,  0.1373, -0.1373, -0.0000],\n",
      "           [ 0.1373,  0.1373,  0.2745,  ...,  0.0000, -0.1373, -0.0000],\n",
      "           [-0.0000, -0.0000,  0.4118,  ...,  0.0000,  0.2745, -0.0000]],\n",
      "\n",
      "          [[-0.1373,  0.0000, -0.9685,  ...,  0.1373, -0.1373, -0.0000],\n",
      "           [-0.2745, -0.4118, -0.0000,  ..., -0.0000, -0.8312, -0.0000],\n",
      "           [ 0.1373,  0.1373, -0.1373,  ...,  0.0000,  0.4118,  0.0000]],\n",
      "\n",
      "          [[ 0.1373, -0.1373,  0.4118,  ..., -0.1373, -0.4118,  0.0000],\n",
      "           [-0.2745, -0.0000,  0.4118,  ..., -0.0000, -0.6939, -0.1373],\n",
      "           [ 0.0000,  0.1373, -0.1373,  ..., -0.0000,  0.0000,  0.0000]]],\n",
      "\n",
      "\n",
      "         [[[-0.0000,  0.0000,  0.1373,  ...,  0.0000, -0.1373,  0.0000],\n",
      "           [-0.0000, -0.0000,  0.1373,  ..., -0.0000,  0.0000, -0.0000],\n",
      "           [-0.0000, -0.1373,  0.1373,  ...,  0.0000,  0.0000, -0.1373]],\n",
      "\n",
      "          [[ 0.1373, -0.0000, -0.1373,  ..., -0.1373, -0.0000,  0.0000],\n",
      "           [-0.0000,  0.1373,  0.0000,  ...,  0.0000,  0.1373,  0.0000],\n",
      "           [-0.0000, -0.1373,  0.0000,  ...,  0.0000,  0.1373, -0.0000]],\n",
      "\n",
      "          [[-0.1373,  0.0000,  0.1373,  ..., -0.0000, -0.0000,  0.0000],\n",
      "           [-0.0000,  0.1373,  0.0000,  ...,  0.0000,  0.0000, -0.0000],\n",
      "           [-0.0000, -0.1373, -0.1373,  ..., -0.0000,  0.1373, -0.1373]]]],\n",
      "\n",
      "\n",
      "\n",
      "        [[[[-0.0000, -0.0000,  0.0000,  ...,  0.0000, -0.0000, -0.0000],\n",
      "           [-0.0000,  0.0000,  0.0000,  ...,  0.0000, -0.0000, -0.0000],\n",
      "           [-0.0000, -0.0000, -0.0000,  ...,  0.0000, -0.0000, -0.0000]],\n",
      "\n",
      "          [[ 0.0000, -0.0000,  0.0000,  ...,  0.0000,  0.0000,  0.0000],\n",
      "           [ 0.0000, -0.0000,  0.0000,  ..., -0.0000,  0.0000, -0.0000],\n",
      "           [-0.2364, -0.0000, -0.0000,  ..., -0.0000,  0.0000, -0.0000]],\n",
      "\n",
      "          [[-0.0000, -0.0000,  0.0000,  ...,  0.0000, -0.0000,  0.0000],\n",
      "           [-0.2364, -0.2364, -0.0000,  ..., -0.0000,  0.0000, -0.0000],\n",
      "           [-0.0000, -0.2364,  0.0000,  ..., -0.0000,  0.0000,  0.0000]]],\n",
      "\n",
      "\n",
      "         [[[ 0.0000, -0.0000, -0.0000,  ..., -0.0000,  0.0000, -0.0000],\n",
      "           [ 0.0000,  0.0000, -0.0000,  ...,  0.0000, -0.0000, -0.0000],\n",
      "           [ 0.2364,  0.2364,  0.0000,  ..., -0.0000, -0.0000, -0.0000]],\n",
      "\n",
      "          [[ 0.0000, -0.0000,  0.0000,  ..., -0.0000,  0.0000, -0.0000],\n",
      "           [ 0.2364, -0.2364,  0.2364,  ..., -0.0000,  0.0000,  0.0000],\n",
      "           [ 0.2364,  0.0000,  0.0000,  ..., -0.0000,  0.0000,  0.0000]],\n",
      "\n",
      "          [[-0.0000,  0.0000,  0.0000,  ...,  0.0000, -0.0000,  0.0000],\n",
      "           [-0.0000, -0.0000, -0.0000,  ...,  0.0000,  0.2364, -0.0000],\n",
      "           [ 0.2364,  0.0000,  0.0000,  ...,  0.0000, -0.0000, -0.0000]]],\n",
      "\n",
      "\n",
      "         [[[ 0.0000, -0.0000, -0.0000,  ...,  0.0000,  0.0000, -0.0000],\n",
      "           [-0.0000, -0.0000, -0.0000,  ...,  0.0000, -0.0000, -0.0000],\n",
      "           [ 0.0000,  0.0000,  0.0000,  ..., -0.0000, -0.0000,  0.0000]],\n",
      "\n",
      "          [[-0.2364, -0.0000,  0.0000,  ..., -0.0000, -0.0000, -0.0000],\n",
      "           [ 0.0000, -0.2364, -0.0000,  ...,  0.0000, -0.0000,  0.0000],\n",
      "           [-0.0000,  0.0000,  0.0000,  ...,  0.0000,  0.0000,  0.0000]],\n",
      "\n",
      "          [[-0.0000, -0.0000,  0.0000,  ...,  0.2364, -0.0000, -0.0000],\n",
      "           [-0.0000,  0.0000, -0.0000,  ...,  0.0000,  0.0000, -0.0000],\n",
      "           [ 0.0000,  0.2364,  0.0000,  ...,  0.0000,  0.0000, -0.0000]]]],\n",
      "\n",
      "\n",
      "\n",
      "        [[[[ 0.0000,  0.0000, -0.0000,  ..., -0.0000,  0.0000, -0.0000],\n",
      "           [-0.0000, -0.0000,  0.0000,  ..., -0.0000,  0.0000, -0.0000],\n",
      "           [ 0.0000,  0.0000,  0.0000,  ..., -0.0000,  0.0000, -0.0000]],\n",
      "\n",
      "          [[-0.0000,  0.0000, -0.0000,  ..., -0.0000,  0.0000, -0.0000],\n",
      "           [-0.0000, -0.0000,  0.0000,  ..., -0.0000,  0.0000,  0.0000],\n",
      "           [-0.0000,  0.0000, -0.0000,  ..., -0.0000,  0.0000,  0.0000]],\n",
      "\n",
      "          [[ 0.0000,  0.0000,  0.0000,  ...,  0.0000, -0.0000, -0.0000],\n",
      "           [ 0.0000,  0.0000, -0.0000,  ...,  0.0000,  0.0000, -0.0000],\n",
      "           [ 0.0000, -0.0000, -0.0000,  ..., -0.0000,  0.0000,  0.0000]]],\n",
      "\n",
      "\n",
      "         [[[-0.0000,  0.0000,  0.0000,  ..., -0.0000, -0.0000,  0.0000],\n",
      "           [ 0.0000,  0.0000,  0.0000,  ...,  0.0000, -0.0000, -0.0000],\n",
      "           [-0.0000,  0.0000, -0.0000,  ...,  0.0000, -0.0000, -0.0000]],\n",
      "\n",
      "          [[ 0.0000, -0.0000,  0.0000,  ..., -0.0000,  0.0000, -0.0000],\n",
      "           [ 0.2359, -0.4719,  0.0000,  ...,  0.0000,  0.0000,  0.0000],\n",
      "           [-0.0000,  0.0000, -0.0000,  ...,  0.0000,  0.0000, -0.0000]],\n",
      "\n",
      "          [[ 0.0000, -0.0000, -0.0000,  ..., -0.0000, -0.0000, -0.0000],\n",
      "           [ 0.0000, -0.0000,  0.0000,  ..., -0.0000, -0.0000,  0.0000],\n",
      "           [-0.0000,  0.0000, -0.0000,  ..., -0.0000,  0.0000, -0.0000]]],\n",
      "\n",
      "\n",
      "         [[[ 0.0000, -0.0000, -0.0000,  ..., -0.0000,  0.0000, -0.0000],\n",
      "           [-0.0000,  0.0000,  0.0000,  ...,  0.0000,  0.0000, -0.0000],\n",
      "           [-0.0000, -0.0000,  0.0000,  ..., -0.0000, -0.0000,  0.0000]],\n",
      "\n",
      "          [[ 0.0000, -0.0000,  0.0000,  ...,  0.0000, -0.0000, -0.0000],\n",
      "           [ 0.0000, -0.0000,  0.0000,  ..., -0.0000,  0.0000, -0.0000],\n",
      "           [-0.0000,  0.0000, -0.0000,  ..., -0.0000,  0.0000, -0.0000]],\n",
      "\n",
      "          [[ 0.0000, -0.0000, -0.0000,  ...,  0.0000, -0.0000, -0.0000],\n",
      "           [ 0.0000, -0.0000, -0.0000,  ...,  0.0000,  0.0000,  0.0000],\n",
      "           [ 0.0000, -0.0000, -0.0000,  ...,  0.0000, -0.0000,  0.0000]]]],\n",
      "\n",
      "\n",
      "\n",
      "        ...,\n",
      "\n",
      "\n",
      "\n",
      "        [[[[ 0.1269,  0.1269,  0.1269,  ..., -0.0000,  0.1269,  0.0000],\n",
      "           [-0.0000, -0.1269, -0.2538,  ..., -0.0000,  0.2538, -0.0000],\n",
      "           [ 0.1269,  0.1269, -0.6417,  ..., -0.0000, -0.0000, -0.0000]],\n",
      "\n",
      "          [[-0.0000,  0.1269,  0.1269,  ..., -0.1269,  0.2538, -0.0000],\n",
      "           [-0.0000, -0.0000, -0.1269,  ..., -0.0000,  0.0000, -0.0000],\n",
      "           [-0.0000,  0.1269,  0.0000,  ...,  0.0000, -0.2538, -0.1269]],\n",
      "\n",
      "          [[ 0.1269,  0.1269,  0.0000,  ...,  0.0000,  0.1269, -0.1269],\n",
      "           [ 0.1269, -0.1269,  0.1269,  ..., -0.0000,  0.0000, -0.1269],\n",
      "           [ 0.1269, -0.1269,  0.3808,  ...,  0.0000, -0.2538, -0.1269]]],\n",
      "\n",
      "\n",
      "         [[[ 0.1269,  0.1269,  0.3808,  ..., -0.1269,  0.0000, -0.1269],\n",
      "           [-0.1269, -0.1269, -0.1269,  ..., -0.0000,  0.2538, -0.0000],\n",
      "           [-0.0000, -0.0000, -0.8955,  ..., -0.0000, -0.1269,  0.0000]],\n",
      "\n",
      "          [[-0.0000,  0.1269,  0.0000,  ..., -0.2538,  0.2538, -0.0000],\n",
      "           [-0.1269, -0.3808, -0.3808,  ...,  0.0000,  0.3808, -0.0000],\n",
      "           [-0.1269, -0.0000, -0.1269,  ..., -0.0000, -0.6417,  0.1269]],\n",
      "\n",
      "          [[ 0.1269,  0.0000, -0.1269,  ..., -0.0000,  0.1269, -0.1269],\n",
      "           [ 0.0000, -0.1269,  0.1269,  ...,  0.0000,  0.1269,  0.0000],\n",
      "           [ 0.2538, -0.2538,  0.5147,  ..., -0.0000, -0.1269, -0.0000]]],\n",
      "\n",
      "\n",
      "         [[[-0.1269,  0.0000, -0.0000,  ..., -0.1269, -0.0000,  0.0000],\n",
      "           [-0.0000,  0.1269,  0.2538,  ...,  0.1269, -0.1269,  0.0000],\n",
      "           [ 0.0000, -0.0000, -0.1269,  ...,  0.0000, -0.0000,  0.1269]],\n",
      "\n",
      "          [[ 0.0000,  0.1269, -0.2538,  ..., -0.0000, -0.1269, -0.0000],\n",
      "           [-0.2538,  0.1269, -0.0000,  ...,  0.0000,  0.1269,  0.1269],\n",
      "           [ 0.0000, -0.0000,  0.0000,  ..., -0.0000,  0.0000, -0.0000]],\n",
      "\n",
      "          [[ 0.1269, -0.0000, -0.2538,  ..., -0.1269,  0.0000, -0.1269],\n",
      "           [ 0.0000, -0.0000, -0.1269,  ...,  0.1269,  0.1269,  0.0000],\n",
      "           [-0.1269,  0.0000,  0.0000,  ...,  0.0000,  0.1269,  0.0000]]]],\n",
      "\n",
      "\n",
      "\n",
      "        [[[[-0.1442,  0.0000, -0.2885,  ...,  0.1442,  0.2885,  0.0000],\n",
      "           [-0.4327,  0.2885, -0.4327,  ..., -0.1442, -0.1442, -0.0000],\n",
      "           [-0.1442,  0.2885, -0.1442,  ..., -0.2885, -0.4327,  0.1442]],\n",
      "\n",
      "          [[-0.1442, -0.1442,  0.0000,  ...,  0.1442,  0.2885, -0.0000],\n",
      "           [ 0.0000, -0.0000, -0.2885,  ...,  0.0000, -0.2885, -0.0000],\n",
      "           [ 0.1442,  0.1442,  0.0000,  ..., -0.1442, -0.4327, -0.0000]],\n",
      "\n",
      "          [[-0.1442, -0.0000, -0.0000,  ...,  0.0000,  0.0000,  0.0000],\n",
      "           [ 0.1442, -0.1442,  0.1442,  ..., -0.1442,  0.1442, -0.0000],\n",
      "           [ 0.1442,  0.0000,  0.1442,  ..., -0.1442,  0.0000, -0.0000]]],\n",
      "\n",
      "\n",
      "         [[[-0.2885,  0.1442, -0.1442,  ...,  0.1442,  0.2885,  0.0000],\n",
      "           [-0.2885, -0.0000, -1.0177,  ...,  0.0000,  0.1442, -0.1442],\n",
      "           [-0.0000,  0.0000, -0.2885,  ..., -0.1442, -0.2885,  0.0000]],\n",
      "\n",
      "          [[-0.1442,  0.0000,  0.2885,  ...,  0.1442,  0.2885, -0.1442],\n",
      "           [ 0.0000, -0.0000, -0.0000,  ...,  0.0000, -0.2885,  0.0000],\n",
      "           [ 0.1442,  0.0000,  0.4327,  ..., -0.1442, -0.4327, -0.1442]],\n",
      "\n",
      "          [[-0.0000, -0.1442,  0.1442,  ...,  0.0000,  0.1442,  0.0000],\n",
      "           [ 0.1442,  0.0000,  0.1442,  ...,  0.0000,  0.1442, -0.0000],\n",
      "           [ 0.0000,  0.0000,  0.1442,  ...,  0.0000,  0.1442, -0.1442]]],\n",
      "\n",
      "\n",
      "         [[[-0.1442, -0.0000,  0.0000,  ..., -0.1442, -0.0000, -0.1442],\n",
      "           [-0.0000,  0.0000, -0.1442,  ...,  0.0000,  0.1442, -0.0000],\n",
      "           [-0.0000, -0.1442,  0.0000,  ..., -0.0000,  0.0000,  0.0000]],\n",
      "\n",
      "          [[-0.0000, -0.0000,  0.1442,  ..., -0.0000,  0.0000, -0.1442],\n",
      "           [-0.0000, -0.0000,  0.0000,  ..., -0.0000, -0.1442,  0.1442],\n",
      "           [-0.0000, -0.0000,  0.1442,  ..., -0.0000, -0.0000, -0.0000]],\n",
      "\n",
      "          [[-0.0000, -0.1442,  0.0000,  ..., -0.1442,  0.1442, -0.1442],\n",
      "           [ 0.1442, -0.1442,  0.0000,  ..., -0.1442,  0.0000, -0.0000],\n",
      "           [ 0.0000, -0.1442,  0.0000,  ..., -0.1442,  0.1442, -0.1442]]]],\n",
      "\n",
      "\n",
      "\n",
      "        [[[[-0.2012,  0.1006,  0.1006,  ...,  0.1006,  0.1006,  0.0000],\n",
      "           [-0.3019,  0.1006,  0.0000,  ..., -0.1006,  0.1006,  0.0000],\n",
      "           [-0.1006,  0.0000,  0.1006,  ...,  0.1006,  0.2012, -0.0000]],\n",
      "\n",
      "          [[-0.1006,  0.0000, -0.0000,  ...,  0.1006, -0.1006,  0.2012],\n",
      "           [-0.5087,  0.1006, -0.1006,  ...,  0.1006, -0.1006,  0.0000],\n",
      "           [-0.2012,  0.1006, -0.1006,  ..., -0.0000,  0.1006,  0.1006]],\n",
      "\n",
      "          [[ 0.1006,  0.2012, -0.0000,  ...,  0.0000, -0.1006,  0.1006],\n",
      "           [ 0.0000,  0.1006, -0.1006,  ..., -0.1006,  0.1006,  0.1006],\n",
      "           [ 0.1006,  0.0000,  0.2012,  ..., -0.2012,  0.2012,  0.0000]]],\n",
      "\n",
      "\n",
      "         [[[-0.2012,  0.2012, -0.3019,  ...,  0.1006,  0.0000,  0.1006],\n",
      "           [-0.4081,  0.1006, -0.0000,  ...,  0.1006, -0.1006,  0.0000],\n",
      "           [ 0.0000,  0.2012,  0.1006,  ...,  0.1006, -0.1006, -0.0000]],\n",
      "\n",
      "          [[-0.3019, -0.3019, -0.2012,  ...,  0.2012,  0.1006,  0.1006],\n",
      "           [-0.5087, -0.2012,  0.1006,  ...,  0.2012, -0.6093, -0.0000],\n",
      "           [-0.0000,  0.2012,  0.0000,  ...,  0.0000,  0.0000, -0.0000]],\n",
      "\n",
      "          [[ 0.0000,  0.1006, -0.1006,  ...,  0.2012, -0.1006, -0.0000],\n",
      "           [ 0.2012, -0.0000, -0.1006,  ...,  0.1006, -0.1006,  0.1006],\n",
      "           [ 0.0000,  0.1006,  0.1006,  ..., -0.0000,  0.1006,  0.0000]]],\n",
      "\n",
      "\n",
      "         [[[-0.2012,  0.2012, -0.0000,  ...,  0.0000,  0.0000, -0.2012],\n",
      "           [-0.2012, -0.0000, -0.1006,  ...,  0.0000,  0.0000,  0.1006],\n",
      "           [ 0.1006,  0.0000, -0.1006,  ...,  0.0000, -0.0000, -0.0000]],\n",
      "\n",
      "          [[-0.2012,  0.2012, -0.2012,  ..., -0.0000, -0.2012,  0.2012],\n",
      "           [-0.3019, -0.0000, -0.1006,  ...,  0.1006, -0.1006, -0.1006],\n",
      "           [ 0.0000,  0.0000,  0.0000,  ...,  0.0000, -0.1006,  0.0000]],\n",
      "\n",
      "          [[ 0.1006,  0.1006, -0.2012,  ...,  0.0000,  0.0000,  0.0000],\n",
      "           [-0.0000,  0.0000, -0.0000,  ...,  0.1006,  0.1006, -0.1006],\n",
      "           [-0.0000, -0.0000,  0.1006,  ..., -0.0000,  0.0000, -0.0000]]]]],\n",
      "       device='cuda:0')\n"
     ]
    }
   ],
   "source": [
    "gsqconv3d = GSQConv3d(spconv3d = spconv3d)"
   ]
  },
  {
   "cell_type": "code",
   "execution_count": 26,
   "id": "6639c342-0e8d-446d-b36b-212625aadd06",
   "metadata": {},
   "outputs": [
    {
     "name": "stdout",
     "output_type": "stream",
     "text": [
      "act quant loss: tensor(0.0202, device='cuda:0')\n"
     ]
    }
   ],
   "source": [
    "y1 = spconv3d(x)\n",
    "y2 = gsqconv3d(x)"
   ]
  },
  {
   "cell_type": "code",
   "execution_count": 22,
   "id": "8c486d54-1d58-4609-b99a-dff9fd54e818",
   "metadata": {},
   "outputs": [],
   "source": [
    "l1loss = torch.nn.L1Loss()"
   ]
  },
  {
   "cell_type": "code",
   "execution_count": 23,
   "id": "d2d23587-d9d2-422a-a7e5-d223fb1e3b78",
   "metadata": {},
   "outputs": [
    {
     "data": {
      "text/plain": [
       "tensor(0.0002, device='cuda:0', grad_fn=<MeanBackward0>)"
      ]
     },
     "execution_count": 23,
     "metadata": {},
     "output_type": "execute_result"
    }
   ],
   "source": [
    "l1loss(y1.dense(), y2.dense())"
   ]
  },
  {
   "cell_type": "code",
   "execution_count": 19,
   "id": "ada4cfe3-f5a5-4fc0-9528-f6d02a497d2c",
   "metadata": {
    "scrolled": true
   },
   "outputs": [
    {
     "data": {
      "text/plain": [
       "tensor([[[[[0., 0., 0.,  ..., 0., 0., 0.],\n",
       "           [0., 0., 0.,  ..., 0., 0., 0.],\n",
       "           [0., 0., 0.,  ..., 0., 0., 0.],\n",
       "           ...,\n",
       "           [0., 0., 0.,  ..., 0., 0., 0.],\n",
       "           [0., 0., 0.,  ..., 0., 0., 0.],\n",
       "           [0., 0., 0.,  ..., 0., 0., 0.]],\n",
       "\n",
       "          [[0., 0., 0.,  ..., 0., 0., 0.],\n",
       "           [0., 0., 0.,  ..., 0., 0., 0.],\n",
       "           [0., 0., 0.,  ..., 0., 0., 0.],\n",
       "           ...,\n",
       "           [0., 0., 0.,  ..., 0., 0., 0.],\n",
       "           [0., 0., 0.,  ..., 0., 0., 0.],\n",
       "           [0., 0., 0.,  ..., 0., 0., 0.]],\n",
       "\n",
       "          [[0., 0., 0.,  ..., 0., 0., 0.],\n",
       "           [0., 0., 0.,  ..., 0., 0., 0.],\n",
       "           [0., 0., 0.,  ..., 0., 0., 0.],\n",
       "           ...,\n",
       "           [0., 0., 0.,  ..., 0., 0., 0.],\n",
       "           [0., 0., 0.,  ..., 0., 0., 0.],\n",
       "           [0., 0., 0.,  ..., 0., 0., 0.]],\n",
       "\n",
       "          ...,\n",
       "\n",
       "          [[0., 0., 0.,  ..., 0., 0., 0.],\n",
       "           [0., 0., 0.,  ..., 0., 0., 0.],\n",
       "           [0., 0., 0.,  ..., 0., 0., 0.],\n",
       "           ...,\n",
       "           [0., 0., 0.,  ..., 0., 0., 0.],\n",
       "           [0., 0., 0.,  ..., 0., 0., 0.],\n",
       "           [0., 0., 0.,  ..., 0., 0., 0.]],\n",
       "\n",
       "          [[0., 0., 0.,  ..., 0., 0., 0.],\n",
       "           [0., 0., 0.,  ..., 0., 0., 0.],\n",
       "           [0., 0., 0.,  ..., 0., 0., 0.],\n",
       "           ...,\n",
       "           [0., 0., 0.,  ..., 0., 0., 0.],\n",
       "           [0., 0., 0.,  ..., 0., 0., 0.],\n",
       "           [0., 0., 0.,  ..., 0., 0., 0.]],\n",
       "\n",
       "          [[0., 0., 0.,  ..., 0., 0., 0.],\n",
       "           [0., 0., 0.,  ..., 0., 0., 0.],\n",
       "           [0., 0., 0.,  ..., 0., 0., 0.],\n",
       "           ...,\n",
       "           [0., 0., 0.,  ..., 0., 0., 0.],\n",
       "           [0., 0., 0.,  ..., 0., 0., 0.],\n",
       "           [0., 0., 0.,  ..., 0., 0., 0.]]],\n",
       "\n",
       "\n",
       "         [[[0., 0., 0.,  ..., 0., 0., 0.],\n",
       "           [0., 0., 0.,  ..., 0., 0., 0.],\n",
       "           [0., 0., 0.,  ..., 0., 0., 0.],\n",
       "           ...,\n",
       "           [0., 0., 0.,  ..., 0., 0., 0.],\n",
       "           [0., 0., 0.,  ..., 0., 0., 0.],\n",
       "           [0., 0., 0.,  ..., 0., 0., 0.]],\n",
       "\n",
       "          [[0., 0., 0.,  ..., 0., 0., 0.],\n",
       "           [0., 0., 0.,  ..., 0., 0., 0.],\n",
       "           [0., 0., 0.,  ..., 0., 0., 0.],\n",
       "           ...,\n",
       "           [0., 0., 0.,  ..., 0., 0., 0.],\n",
       "           [0., 0., 0.,  ..., 0., 0., 0.],\n",
       "           [0., 0., 0.,  ..., 0., 0., 0.]],\n",
       "\n",
       "          [[0., 0., 0.,  ..., 0., 0., 0.],\n",
       "           [0., 0., 0.,  ..., 0., 0., 0.],\n",
       "           [0., 0., 0.,  ..., 0., 0., 0.],\n",
       "           ...,\n",
       "           [0., 0., 0.,  ..., 0., 0., 0.],\n",
       "           [0., 0., 0.,  ..., 0., 0., 0.],\n",
       "           [0., 0., 0.,  ..., 0., 0., 0.]],\n",
       "\n",
       "          ...,\n",
       "\n",
       "          [[0., 0., 0.,  ..., 0., 0., 0.],\n",
       "           [0., 0., 0.,  ..., 0., 0., 0.],\n",
       "           [0., 0., 0.,  ..., 0., 0., 0.],\n",
       "           ...,\n",
       "           [0., 0., 0.,  ..., 0., 0., 0.],\n",
       "           [0., 0., 0.,  ..., 0., 0., 0.],\n",
       "           [0., 0., 0.,  ..., 0., 0., 0.]],\n",
       "\n",
       "          [[0., 0., 0.,  ..., 0., 0., 0.],\n",
       "           [0., 0., 0.,  ..., 0., 0., 0.],\n",
       "           [0., 0., 0.,  ..., 0., 0., 0.],\n",
       "           ...,\n",
       "           [0., 0., 0.,  ..., 0., 0., 0.],\n",
       "           [0., 0., 0.,  ..., 0., 0., 0.],\n",
       "           [0., 0., 0.,  ..., 0., 0., 0.]],\n",
       "\n",
       "          [[0., 0., 0.,  ..., 0., 0., 0.],\n",
       "           [0., 0., 0.,  ..., 0., 0., 0.],\n",
       "           [0., 0., 0.,  ..., 0., 0., 0.],\n",
       "           ...,\n",
       "           [0., 0., 0.,  ..., 0., 0., 0.],\n",
       "           [0., 0., 0.,  ..., 0., 0., 0.],\n",
       "           [0., 0., 0.,  ..., 0., 0., 0.]]],\n",
       "\n",
       "\n",
       "         [[[0., 0., 0.,  ..., 0., 0., 0.],\n",
       "           [0., 0., 0.,  ..., 0., 0., 0.],\n",
       "           [0., 0., 0.,  ..., 0., 0., 0.],\n",
       "           ...,\n",
       "           [0., 0., 0.,  ..., 0., 0., 0.],\n",
       "           [0., 0., 0.,  ..., 0., 0., 0.],\n",
       "           [0., 0., 0.,  ..., 0., 0., 0.]],\n",
       "\n",
       "          [[0., 0., 0.,  ..., 0., 0., 0.],\n",
       "           [0., 0., 0.,  ..., 0., 0., 0.],\n",
       "           [0., 0., 0.,  ..., 0., 0., 0.],\n",
       "           ...,\n",
       "           [0., 0., 0.,  ..., 0., 0., 0.],\n",
       "           [0., 0., 0.,  ..., 0., 0., 0.],\n",
       "           [0., 0., 0.,  ..., 0., 0., 0.]],\n",
       "\n",
       "          [[0., 0., 0.,  ..., 0., 0., 0.],\n",
       "           [0., 0., 0.,  ..., 0., 0., 0.],\n",
       "           [0., 0., 0.,  ..., 0., 0., 0.],\n",
       "           ...,\n",
       "           [0., 0., 0.,  ..., 0., 0., 0.],\n",
       "           [0., 0., 0.,  ..., 0., 0., 0.],\n",
       "           [0., 0., 0.,  ..., 0., 0., 0.]],\n",
       "\n",
       "          ...,\n",
       "\n",
       "          [[0., 0., 0.,  ..., 0., 0., 0.],\n",
       "           [0., 0., 0.,  ..., 0., 0., 0.],\n",
       "           [0., 0., 0.,  ..., 0., 0., 0.],\n",
       "           ...,\n",
       "           [0., 0., 0.,  ..., 0., 0., 0.],\n",
       "           [0., 0., 0.,  ..., 0., 0., 0.],\n",
       "           [0., 0., 0.,  ..., 0., 0., 0.]],\n",
       "\n",
       "          [[0., 0., 0.,  ..., 0., 0., 0.],\n",
       "           [0., 0., 0.,  ..., 0., 0., 0.],\n",
       "           [0., 0., 0.,  ..., 0., 0., 0.],\n",
       "           ...,\n",
       "           [0., 0., 0.,  ..., 0., 0., 0.],\n",
       "           [0., 0., 0.,  ..., 0., 0., 0.],\n",
       "           [0., 0., 0.,  ..., 0., 0., 0.]],\n",
       "\n",
       "          [[0., 0., 0.,  ..., 0., 0., 0.],\n",
       "           [0., 0., 0.,  ..., 0., 0., 0.],\n",
       "           [0., 0., 0.,  ..., 0., 0., 0.],\n",
       "           ...,\n",
       "           [0., 0., 0.,  ..., 0., 0., 0.],\n",
       "           [0., 0., 0.,  ..., 0., 0., 0.],\n",
       "           [0., 0., 0.,  ..., 0., 0., 0.]]],\n",
       "\n",
       "\n",
       "         ...,\n",
       "\n",
       "\n",
       "         [[[0., 0., 0.,  ..., 0., 0., 0.],\n",
       "           [0., 0., 0.,  ..., 0., 0., 0.],\n",
       "           [0., 0., 0.,  ..., 0., 0., 0.],\n",
       "           ...,\n",
       "           [0., 0., 0.,  ..., 0., 0., 0.],\n",
       "           [0., 0., 0.,  ..., 0., 0., 0.],\n",
       "           [0., 0., 0.,  ..., 0., 0., 0.]],\n",
       "\n",
       "          [[0., 0., 0.,  ..., 0., 0., 0.],\n",
       "           [0., 0., 0.,  ..., 0., 0., 0.],\n",
       "           [0., 0., 0.,  ..., 0., 0., 0.],\n",
       "           ...,\n",
       "           [0., 0., 0.,  ..., 0., 0., 0.],\n",
       "           [0., 0., 0.,  ..., 0., 0., 0.],\n",
       "           [0., 0., 0.,  ..., 0., 0., 0.]],\n",
       "\n",
       "          [[0., 0., 0.,  ..., 0., 0., 0.],\n",
       "           [0., 0., 0.,  ..., 0., 0., 0.],\n",
       "           [0., 0., 0.,  ..., 0., 0., 0.],\n",
       "           ...,\n",
       "           [0., 0., 0.,  ..., 0., 0., 0.],\n",
       "           [0., 0., 0.,  ..., 0., 0., 0.],\n",
       "           [0., 0., 0.,  ..., 0., 0., 0.]],\n",
       "\n",
       "          ...,\n",
       "\n",
       "          [[0., 0., 0.,  ..., 0., 0., 0.],\n",
       "           [0., 0., 0.,  ..., 0., 0., 0.],\n",
       "           [0., 0., 0.,  ..., 0., 0., 0.],\n",
       "           ...,\n",
       "           [0., 0., 0.,  ..., 0., 0., 0.],\n",
       "           [0., 0., 0.,  ..., 0., 0., 0.],\n",
       "           [0., 0., 0.,  ..., 0., 0., 0.]],\n",
       "\n",
       "          [[0., 0., 0.,  ..., 0., 0., 0.],\n",
       "           [0., 0., 0.,  ..., 0., 0., 0.],\n",
       "           [0., 0., 0.,  ..., 0., 0., 0.],\n",
       "           ...,\n",
       "           [0., 0., 0.,  ..., 0., 0., 0.],\n",
       "           [0., 0., 0.,  ..., 0., 0., 0.],\n",
       "           [0., 0., 0.,  ..., 0., 0., 0.]],\n",
       "\n",
       "          [[0., 0., 0.,  ..., 0., 0., 0.],\n",
       "           [0., 0., 0.,  ..., 0., 0., 0.],\n",
       "           [0., 0., 0.,  ..., 0., 0., 0.],\n",
       "           ...,\n",
       "           [0., 0., 0.,  ..., 0., 0., 0.],\n",
       "           [0., 0., 0.,  ..., 0., 0., 0.],\n",
       "           [0., 0., 0.,  ..., 0., 0., 0.]]],\n",
       "\n",
       "\n",
       "         [[[0., 0., 0.,  ..., 0., 0., 0.],\n",
       "           [0., 0., 0.,  ..., 0., 0., 0.],\n",
       "           [0., 0., 0.,  ..., 0., 0., 0.],\n",
       "           ...,\n",
       "           [0., 0., 0.,  ..., 0., 0., 0.],\n",
       "           [0., 0., 0.,  ..., 0., 0., 0.],\n",
       "           [0., 0., 0.,  ..., 0., 0., 0.]],\n",
       "\n",
       "          [[0., 0., 0.,  ..., 0., 0., 0.],\n",
       "           [0., 0., 0.,  ..., 0., 0., 0.],\n",
       "           [0., 0., 0.,  ..., 0., 0., 0.],\n",
       "           ...,\n",
       "           [0., 0., 0.,  ..., 0., 0., 0.],\n",
       "           [0., 0., 0.,  ..., 0., 0., 0.],\n",
       "           [0., 0., 0.,  ..., 0., 0., 0.]],\n",
       "\n",
       "          [[0., 0., 0.,  ..., 0., 0., 0.],\n",
       "           [0., 0., 0.,  ..., 0., 0., 0.],\n",
       "           [0., 0., 0.,  ..., 0., 0., 0.],\n",
       "           ...,\n",
       "           [0., 0., 0.,  ..., 0., 0., 0.],\n",
       "           [0., 0., 0.,  ..., 0., 0., 0.],\n",
       "           [0., 0., 0.,  ..., 0., 0., 0.]],\n",
       "\n",
       "          ...,\n",
       "\n",
       "          [[0., 0., 0.,  ..., 0., 0., 0.],\n",
       "           [0., 0., 0.,  ..., 0., 0., 0.],\n",
       "           [0., 0., 0.,  ..., 0., 0., 0.],\n",
       "           ...,\n",
       "           [0., 0., 0.,  ..., 0., 0., 0.],\n",
       "           [0., 0., 0.,  ..., 0., 0., 0.],\n",
       "           [0., 0., 0.,  ..., 0., 0., 0.]],\n",
       "\n",
       "          [[0., 0., 0.,  ..., 0., 0., 0.],\n",
       "           [0., 0., 0.,  ..., 0., 0., 0.],\n",
       "           [0., 0., 0.,  ..., 0., 0., 0.],\n",
       "           ...,\n",
       "           [0., 0., 0.,  ..., 0., 0., 0.],\n",
       "           [0., 0., 0.,  ..., 0., 0., 0.],\n",
       "           [0., 0., 0.,  ..., 0., 0., 0.]],\n",
       "\n",
       "          [[0., 0., 0.,  ..., 0., 0., 0.],\n",
       "           [0., 0., 0.,  ..., 0., 0., 0.],\n",
       "           [0., 0., 0.,  ..., 0., 0., 0.],\n",
       "           ...,\n",
       "           [0., 0., 0.,  ..., 0., 0., 0.],\n",
       "           [0., 0., 0.,  ..., 0., 0., 0.],\n",
       "           [0., 0., 0.,  ..., 0., 0., 0.]]],\n",
       "\n",
       "\n",
       "         [[[0., 0., 0.,  ..., 0., 0., 0.],\n",
       "           [0., 0., 0.,  ..., 0., 0., 0.],\n",
       "           [0., 0., 0.,  ..., 0., 0., 0.],\n",
       "           ...,\n",
       "           [0., 0., 0.,  ..., 0., 0., 0.],\n",
       "           [0., 0., 0.,  ..., 0., 0., 0.],\n",
       "           [0., 0., 0.,  ..., 0., 0., 0.]],\n",
       "\n",
       "          [[0., 0., 0.,  ..., 0., 0., 0.],\n",
       "           [0., 0., 0.,  ..., 0., 0., 0.],\n",
       "           [0., 0., 0.,  ..., 0., 0., 0.],\n",
       "           ...,\n",
       "           [0., 0., 0.,  ..., 0., 0., 0.],\n",
       "           [0., 0., 0.,  ..., 0., 0., 0.],\n",
       "           [0., 0., 0.,  ..., 0., 0., 0.]],\n",
       "\n",
       "          [[0., 0., 0.,  ..., 0., 0., 0.],\n",
       "           [0., 0., 0.,  ..., 0., 0., 0.],\n",
       "           [0., 0., 0.,  ..., 0., 0., 0.],\n",
       "           ...,\n",
       "           [0., 0., 0.,  ..., 0., 0., 0.],\n",
       "           [0., 0., 0.,  ..., 0., 0., 0.],\n",
       "           [0., 0., 0.,  ..., 0., 0., 0.]],\n",
       "\n",
       "          ...,\n",
       "\n",
       "          [[0., 0., 0.,  ..., 0., 0., 0.],\n",
       "           [0., 0., 0.,  ..., 0., 0., 0.],\n",
       "           [0., 0., 0.,  ..., 0., 0., 0.],\n",
       "           ...,\n",
       "           [0., 0., 0.,  ..., 0., 0., 0.],\n",
       "           [0., 0., 0.,  ..., 0., 0., 0.],\n",
       "           [0., 0., 0.,  ..., 0., 0., 0.]],\n",
       "\n",
       "          [[0., 0., 0.,  ..., 0., 0., 0.],\n",
       "           [0., 0., 0.,  ..., 0., 0., 0.],\n",
       "           [0., 0., 0.,  ..., 0., 0., 0.],\n",
       "           ...,\n",
       "           [0., 0., 0.,  ..., 0., 0., 0.],\n",
       "           [0., 0., 0.,  ..., 0., 0., 0.],\n",
       "           [0., 0., 0.,  ..., 0., 0., 0.]],\n",
       "\n",
       "          [[0., 0., 0.,  ..., 0., 0., 0.],\n",
       "           [0., 0., 0.,  ..., 0., 0., 0.],\n",
       "           [0., 0., 0.,  ..., 0., 0., 0.],\n",
       "           ...,\n",
       "           [0., 0., 0.,  ..., 0., 0., 0.],\n",
       "           [0., 0., 0.,  ..., 0., 0., 0.],\n",
       "           [0., 0., 0.,  ..., 0., 0., 0.]]]]], device='cuda:0',\n",
       "       grad_fn=<CloneBackward0>)"
      ]
     },
     "execution_count": 19,
     "metadata": {},
     "output_type": "execute_result"
    }
   ],
   "source": [
    "y1.dense()"
   ]
  },
  {
   "cell_type": "code",
   "execution_count": 20,
   "id": "d64b625b-6f91-4397-9f95-045e8d6abec7",
   "metadata": {
    "scrolled": true
   },
   "outputs": [
    {
     "data": {
      "text/plain": [
       "tensor([[[[[0., 0., 0.,  ..., 0., 0., 0.],\n",
       "           [0., 0., 0.,  ..., 0., 0., 0.],\n",
       "           [0., 0., 0.,  ..., 0., 0., 0.],\n",
       "           ...,\n",
       "           [0., 0., 0.,  ..., 0., 0., 0.],\n",
       "           [0., 0., 0.,  ..., 0., 0., 0.],\n",
       "           [0., 0., 0.,  ..., 0., 0., 0.]],\n",
       "\n",
       "          [[0., 0., 0.,  ..., 0., 0., 0.],\n",
       "           [0., 0., 0.,  ..., 0., 0., 0.],\n",
       "           [0., 0., 0.,  ..., 0., 0., 0.],\n",
       "           ...,\n",
       "           [0., 0., 0.,  ..., 0., 0., 0.],\n",
       "           [0., 0., 0.,  ..., 0., 0., 0.],\n",
       "           [0., 0., 0.,  ..., 0., 0., 0.]],\n",
       "\n",
       "          [[0., 0., 0.,  ..., 0., 0., 0.],\n",
       "           [0., 0., 0.,  ..., 0., 0., 0.],\n",
       "           [0., 0., 0.,  ..., 0., 0., 0.],\n",
       "           ...,\n",
       "           [0., 0., 0.,  ..., 0., 0., 0.],\n",
       "           [0., 0., 0.,  ..., 0., 0., 0.],\n",
       "           [0., 0., 0.,  ..., 0., 0., 0.]],\n",
       "\n",
       "          ...,\n",
       "\n",
       "          [[0., 0., 0.,  ..., 0., 0., 0.],\n",
       "           [0., 0., 0.,  ..., 0., 0., 0.],\n",
       "           [0., 0., 0.,  ..., 0., 0., 0.],\n",
       "           ...,\n",
       "           [0., 0., 0.,  ..., 0., 0., 0.],\n",
       "           [0., 0., 0.,  ..., 0., 0., 0.],\n",
       "           [0., 0., 0.,  ..., 0., 0., 0.]],\n",
       "\n",
       "          [[0., 0., 0.,  ..., 0., 0., 0.],\n",
       "           [0., 0., 0.,  ..., 0., 0., 0.],\n",
       "           [0., 0., 0.,  ..., 0., 0., 0.],\n",
       "           ...,\n",
       "           [0., 0., 0.,  ..., 0., 0., 0.],\n",
       "           [0., 0., 0.,  ..., 0., 0., 0.],\n",
       "           [0., 0., 0.,  ..., 0., 0., 0.]],\n",
       "\n",
       "          [[0., 0., 0.,  ..., 0., 0., 0.],\n",
       "           [0., 0., 0.,  ..., 0., 0., 0.],\n",
       "           [0., 0., 0.,  ..., 0., 0., 0.],\n",
       "           ...,\n",
       "           [0., 0., 0.,  ..., 0., 0., 0.],\n",
       "           [0., 0., 0.,  ..., 0., 0., 0.],\n",
       "           [0., 0., 0.,  ..., 0., 0., 0.]]],\n",
       "\n",
       "\n",
       "         [[[0., 0., 0.,  ..., 0., 0., 0.],\n",
       "           [0., 0., 0.,  ..., 0., 0., 0.],\n",
       "           [0., 0., 0.,  ..., 0., 0., 0.],\n",
       "           ...,\n",
       "           [0., 0., 0.,  ..., 0., 0., 0.],\n",
       "           [0., 0., 0.,  ..., 0., 0., 0.],\n",
       "           [0., 0., 0.,  ..., 0., 0., 0.]],\n",
       "\n",
       "          [[0., 0., 0.,  ..., 0., 0., 0.],\n",
       "           [0., 0., 0.,  ..., 0., 0., 0.],\n",
       "           [0., 0., 0.,  ..., 0., 0., 0.],\n",
       "           ...,\n",
       "           [0., 0., 0.,  ..., 0., 0., 0.],\n",
       "           [0., 0., 0.,  ..., 0., 0., 0.],\n",
       "           [0., 0., 0.,  ..., 0., 0., 0.]],\n",
       "\n",
       "          [[0., 0., 0.,  ..., 0., 0., 0.],\n",
       "           [0., 0., 0.,  ..., 0., 0., 0.],\n",
       "           [0., 0., 0.,  ..., 0., 0., 0.],\n",
       "           ...,\n",
       "           [0., 0., 0.,  ..., 0., 0., 0.],\n",
       "           [0., 0., 0.,  ..., 0., 0., 0.],\n",
       "           [0., 0., 0.,  ..., 0., 0., 0.]],\n",
       "\n",
       "          ...,\n",
       "\n",
       "          [[0., 0., 0.,  ..., 0., 0., 0.],\n",
       "           [0., 0., 0.,  ..., 0., 0., 0.],\n",
       "           [0., 0., 0.,  ..., 0., 0., 0.],\n",
       "           ...,\n",
       "           [0., 0., 0.,  ..., 0., 0., 0.],\n",
       "           [0., 0., 0.,  ..., 0., 0., 0.],\n",
       "           [0., 0., 0.,  ..., 0., 0., 0.]],\n",
       "\n",
       "          [[0., 0., 0.,  ..., 0., 0., 0.],\n",
       "           [0., 0., 0.,  ..., 0., 0., 0.],\n",
       "           [0., 0., 0.,  ..., 0., 0., 0.],\n",
       "           ...,\n",
       "           [0., 0., 0.,  ..., 0., 0., 0.],\n",
       "           [0., 0., 0.,  ..., 0., 0., 0.],\n",
       "           [0., 0., 0.,  ..., 0., 0., 0.]],\n",
       "\n",
       "          [[0., 0., 0.,  ..., 0., 0., 0.],\n",
       "           [0., 0., 0.,  ..., 0., 0., 0.],\n",
       "           [0., 0., 0.,  ..., 0., 0., 0.],\n",
       "           ...,\n",
       "           [0., 0., 0.,  ..., 0., 0., 0.],\n",
       "           [0., 0., 0.,  ..., 0., 0., 0.],\n",
       "           [0., 0., 0.,  ..., 0., 0., 0.]]],\n",
       "\n",
       "\n",
       "         [[[0., 0., 0.,  ..., 0., 0., 0.],\n",
       "           [0., 0., 0.,  ..., 0., 0., 0.],\n",
       "           [0., 0., 0.,  ..., 0., 0., 0.],\n",
       "           ...,\n",
       "           [0., 0., 0.,  ..., 0., 0., 0.],\n",
       "           [0., 0., 0.,  ..., 0., 0., 0.],\n",
       "           [0., 0., 0.,  ..., 0., 0., 0.]],\n",
       "\n",
       "          [[0., 0., 0.,  ..., 0., 0., 0.],\n",
       "           [0., 0., 0.,  ..., 0., 0., 0.],\n",
       "           [0., 0., 0.,  ..., 0., 0., 0.],\n",
       "           ...,\n",
       "           [0., 0., 0.,  ..., 0., 0., 0.],\n",
       "           [0., 0., 0.,  ..., 0., 0., 0.],\n",
       "           [0., 0., 0.,  ..., 0., 0., 0.]],\n",
       "\n",
       "          [[0., 0., 0.,  ..., 0., 0., 0.],\n",
       "           [0., 0., 0.,  ..., 0., 0., 0.],\n",
       "           [0., 0., 0.,  ..., 0., 0., 0.],\n",
       "           ...,\n",
       "           [0., 0., 0.,  ..., 0., 0., 0.],\n",
       "           [0., 0., 0.,  ..., 0., 0., 0.],\n",
       "           [0., 0., 0.,  ..., 0., 0., 0.]],\n",
       "\n",
       "          ...,\n",
       "\n",
       "          [[0., 0., 0.,  ..., 0., 0., 0.],\n",
       "           [0., 0., 0.,  ..., 0., 0., 0.],\n",
       "           [0., 0., 0.,  ..., 0., 0., 0.],\n",
       "           ...,\n",
       "           [0., 0., 0.,  ..., 0., 0., 0.],\n",
       "           [0., 0., 0.,  ..., 0., 0., 0.],\n",
       "           [0., 0., 0.,  ..., 0., 0., 0.]],\n",
       "\n",
       "          [[0., 0., 0.,  ..., 0., 0., 0.],\n",
       "           [0., 0., 0.,  ..., 0., 0., 0.],\n",
       "           [0., 0., 0.,  ..., 0., 0., 0.],\n",
       "           ...,\n",
       "           [0., 0., 0.,  ..., 0., 0., 0.],\n",
       "           [0., 0., 0.,  ..., 0., 0., 0.],\n",
       "           [0., 0., 0.,  ..., 0., 0., 0.]],\n",
       "\n",
       "          [[0., 0., 0.,  ..., 0., 0., 0.],\n",
       "           [0., 0., 0.,  ..., 0., 0., 0.],\n",
       "           [0., 0., 0.,  ..., 0., 0., 0.],\n",
       "           ...,\n",
       "           [0., 0., 0.,  ..., 0., 0., 0.],\n",
       "           [0., 0., 0.,  ..., 0., 0., 0.],\n",
       "           [0., 0., 0.,  ..., 0., 0., 0.]]],\n",
       "\n",
       "\n",
       "         ...,\n",
       "\n",
       "\n",
       "         [[[0., 0., 0.,  ..., 0., 0., 0.],\n",
       "           [0., 0., 0.,  ..., 0., 0., 0.],\n",
       "           [0., 0., 0.,  ..., 0., 0., 0.],\n",
       "           ...,\n",
       "           [0., 0., 0.,  ..., 0., 0., 0.],\n",
       "           [0., 0., 0.,  ..., 0., 0., 0.],\n",
       "           [0., 0., 0.,  ..., 0., 0., 0.]],\n",
       "\n",
       "          [[0., 0., 0.,  ..., 0., 0., 0.],\n",
       "           [0., 0., 0.,  ..., 0., 0., 0.],\n",
       "           [0., 0., 0.,  ..., 0., 0., 0.],\n",
       "           ...,\n",
       "           [0., 0., 0.,  ..., 0., 0., 0.],\n",
       "           [0., 0., 0.,  ..., 0., 0., 0.],\n",
       "           [0., 0., 0.,  ..., 0., 0., 0.]],\n",
       "\n",
       "          [[0., 0., 0.,  ..., 0., 0., 0.],\n",
       "           [0., 0., 0.,  ..., 0., 0., 0.],\n",
       "           [0., 0., 0.,  ..., 0., 0., 0.],\n",
       "           ...,\n",
       "           [0., 0., 0.,  ..., 0., 0., 0.],\n",
       "           [0., 0., 0.,  ..., 0., 0., 0.],\n",
       "           [0., 0., 0.,  ..., 0., 0., 0.]],\n",
       "\n",
       "          ...,\n",
       "\n",
       "          [[0., 0., 0.,  ..., 0., 0., 0.],\n",
       "           [0., 0., 0.,  ..., 0., 0., 0.],\n",
       "           [0., 0., 0.,  ..., 0., 0., 0.],\n",
       "           ...,\n",
       "           [0., 0., 0.,  ..., 0., 0., 0.],\n",
       "           [0., 0., 0.,  ..., 0., 0., 0.],\n",
       "           [0., 0., 0.,  ..., 0., 0., 0.]],\n",
       "\n",
       "          [[0., 0., 0.,  ..., 0., 0., 0.],\n",
       "           [0., 0., 0.,  ..., 0., 0., 0.],\n",
       "           [0., 0., 0.,  ..., 0., 0., 0.],\n",
       "           ...,\n",
       "           [0., 0., 0.,  ..., 0., 0., 0.],\n",
       "           [0., 0., 0.,  ..., 0., 0., 0.],\n",
       "           [0., 0., 0.,  ..., 0., 0., 0.]],\n",
       "\n",
       "          [[0., 0., 0.,  ..., 0., 0., 0.],\n",
       "           [0., 0., 0.,  ..., 0., 0., 0.],\n",
       "           [0., 0., 0.,  ..., 0., 0., 0.],\n",
       "           ...,\n",
       "           [0., 0., 0.,  ..., 0., 0., 0.],\n",
       "           [0., 0., 0.,  ..., 0., 0., 0.],\n",
       "           [0., 0., 0.,  ..., 0., 0., 0.]]],\n",
       "\n",
       "\n",
       "         [[[0., 0., 0.,  ..., 0., 0., 0.],\n",
       "           [0., 0., 0.,  ..., 0., 0., 0.],\n",
       "           [0., 0., 0.,  ..., 0., 0., 0.],\n",
       "           ...,\n",
       "           [0., 0., 0.,  ..., 0., 0., 0.],\n",
       "           [0., 0., 0.,  ..., 0., 0., 0.],\n",
       "           [0., 0., 0.,  ..., 0., 0., 0.]],\n",
       "\n",
       "          [[0., 0., 0.,  ..., 0., 0., 0.],\n",
       "           [0., 0., 0.,  ..., 0., 0., 0.],\n",
       "           [0., 0., 0.,  ..., 0., 0., 0.],\n",
       "           ...,\n",
       "           [0., 0., 0.,  ..., 0., 0., 0.],\n",
       "           [0., 0., 0.,  ..., 0., 0., 0.],\n",
       "           [0., 0., 0.,  ..., 0., 0., 0.]],\n",
       "\n",
       "          [[0., 0., 0.,  ..., 0., 0., 0.],\n",
       "           [0., 0., 0.,  ..., 0., 0., 0.],\n",
       "           [0., 0., 0.,  ..., 0., 0., 0.],\n",
       "           ...,\n",
       "           [0., 0., 0.,  ..., 0., 0., 0.],\n",
       "           [0., 0., 0.,  ..., 0., 0., 0.],\n",
       "           [0., 0., 0.,  ..., 0., 0., 0.]],\n",
       "\n",
       "          ...,\n",
       "\n",
       "          [[0., 0., 0.,  ..., 0., 0., 0.],\n",
       "           [0., 0., 0.,  ..., 0., 0., 0.],\n",
       "           [0., 0., 0.,  ..., 0., 0., 0.],\n",
       "           ...,\n",
       "           [0., 0., 0.,  ..., 0., 0., 0.],\n",
       "           [0., 0., 0.,  ..., 0., 0., 0.],\n",
       "           [0., 0., 0.,  ..., 0., 0., 0.]],\n",
       "\n",
       "          [[0., 0., 0.,  ..., 0., 0., 0.],\n",
       "           [0., 0., 0.,  ..., 0., 0., 0.],\n",
       "           [0., 0., 0.,  ..., 0., 0., 0.],\n",
       "           ...,\n",
       "           [0., 0., 0.,  ..., 0., 0., 0.],\n",
       "           [0., 0., 0.,  ..., 0., 0., 0.],\n",
       "           [0., 0., 0.,  ..., 0., 0., 0.]],\n",
       "\n",
       "          [[0., 0., 0.,  ..., 0., 0., 0.],\n",
       "           [0., 0., 0.,  ..., 0., 0., 0.],\n",
       "           [0., 0., 0.,  ..., 0., 0., 0.],\n",
       "           ...,\n",
       "           [0., 0., 0.,  ..., 0., 0., 0.],\n",
       "           [0., 0., 0.,  ..., 0., 0., 0.],\n",
       "           [0., 0., 0.,  ..., 0., 0., 0.]]],\n",
       "\n",
       "\n",
       "         [[[0., 0., 0.,  ..., 0., 0., 0.],\n",
       "           [0., 0., 0.,  ..., 0., 0., 0.],\n",
       "           [0., 0., 0.,  ..., 0., 0., 0.],\n",
       "           ...,\n",
       "           [0., 0., 0.,  ..., 0., 0., 0.],\n",
       "           [0., 0., 0.,  ..., 0., 0., 0.],\n",
       "           [0., 0., 0.,  ..., 0., 0., 0.]],\n",
       "\n",
       "          [[0., 0., 0.,  ..., 0., 0., 0.],\n",
       "           [0., 0., 0.,  ..., 0., 0., 0.],\n",
       "           [0., 0., 0.,  ..., 0., 0., 0.],\n",
       "           ...,\n",
       "           [0., 0., 0.,  ..., 0., 0., 0.],\n",
       "           [0., 0., 0.,  ..., 0., 0., 0.],\n",
       "           [0., 0., 0.,  ..., 0., 0., 0.]],\n",
       "\n",
       "          [[0., 0., 0.,  ..., 0., 0., 0.],\n",
       "           [0., 0., 0.,  ..., 0., 0., 0.],\n",
       "           [0., 0., 0.,  ..., 0., 0., 0.],\n",
       "           ...,\n",
       "           [0., 0., 0.,  ..., 0., 0., 0.],\n",
       "           [0., 0., 0.,  ..., 0., 0., 0.],\n",
       "           [0., 0., 0.,  ..., 0., 0., 0.]],\n",
       "\n",
       "          ...,\n",
       "\n",
       "          [[0., 0., 0.,  ..., 0., 0., 0.],\n",
       "           [0., 0., 0.,  ..., 0., 0., 0.],\n",
       "           [0., 0., 0.,  ..., 0., 0., 0.],\n",
       "           ...,\n",
       "           [0., 0., 0.,  ..., 0., 0., 0.],\n",
       "           [0., 0., 0.,  ..., 0., 0., 0.],\n",
       "           [0., 0., 0.,  ..., 0., 0., 0.]],\n",
       "\n",
       "          [[0., 0., 0.,  ..., 0., 0., 0.],\n",
       "           [0., 0., 0.,  ..., 0., 0., 0.],\n",
       "           [0., 0., 0.,  ..., 0., 0., 0.],\n",
       "           ...,\n",
       "           [0., 0., 0.,  ..., 0., 0., 0.],\n",
       "           [0., 0., 0.,  ..., 0., 0., 0.],\n",
       "           [0., 0., 0.,  ..., 0., 0., 0.]],\n",
       "\n",
       "          [[0., 0., 0.,  ..., 0., 0., 0.],\n",
       "           [0., 0., 0.,  ..., 0., 0., 0.],\n",
       "           [0., 0., 0.,  ..., 0., 0., 0.],\n",
       "           ...,\n",
       "           [0., 0., 0.,  ..., 0., 0., 0.],\n",
       "           [0., 0., 0.,  ..., 0., 0., 0.],\n",
       "           [0., 0., 0.,  ..., 0., 0., 0.]]]]], device='cuda:0',\n",
       "       grad_fn=<CloneBackward0>)"
      ]
     },
     "execution_count": 20,
     "metadata": {},
     "output_type": "execute_result"
    }
   ],
   "source": [
    "y2.dense()"
   ]
  },
  {
   "cell_type": "code",
   "execution_count": null,
   "id": "3a32db67-5061-4229-bdf4-bebff70e37cc",
   "metadata": {},
   "outputs": [],
   "source": []
  },
  {
   "cell_type": "code",
   "execution_count": null,
   "id": "0e25a104-96de-4509-8e6b-6de33a6edf63",
   "metadata": {},
   "outputs": [],
   "source": []
  },
  {
   "cell_type": "markdown",
   "id": "29728214-66e2-4b86-b958-66514839dcf3",
   "metadata": {},
   "source": [
    "# Real data on different components"
   ]
  },
  {
   "cell_type": "code",
   "execution_count": 1,
   "id": "6e4a6f5e-6f29-48c2-823f-d7a394be4872",
   "metadata": {},
   "outputs": [],
   "source": [
    "import spconv.pytorch as spconv\n",
    "from spconv.pytorch import SparseConvTensor\n",
    "from spconv.pytorch.modules import SparseModule\n",
    "import math\n",
    "import torch\n",
    "from torch import nn\n",
    "from IPython.display import Image\n",
    "from pytorch_quantization.tensor_quant import QuantDescriptor\n",
    "from pytorch_quantization.nn.modules.tensor_quantizer import TensorQuantizer"
   ]
  },
  {
   "cell_type": "code",
   "execution_count": 2,
   "id": "93917a2c-4cfb-4bd6-8a32-a4dbe787070b",
   "metadata": {},
   "outputs": [],
   "source": [
    "import random\n",
    "import numpy as np\n",
    "import matplotlib.pyplot as plt"
   ]
  },
  {
   "cell_type": "code",
   "execution_count": 3,
   "id": "2418504e-406b-46c5-bd5b-b618ed09ad74",
   "metadata": {},
   "outputs": [
    {
     "data": {
      "text/plain": [
       "<torch._C.Generator at 0x7bcdc80acab0>"
      ]
     },
     "execution_count": 3,
     "metadata": {},
     "output_type": "execute_result"
    }
   ],
   "source": [
    "torch.manual_seed(2025)"
   ]
  },
  {
   "cell_type": "code",
   "execution_count": 4,
   "id": "75ad3509-30ac-4fd9-bfb9-4d2cb60edb43",
   "metadata": {},
   "outputs": [],
   "source": [
    "import pickle"
   ]
  },
  {
   "cell_type": "code",
   "execution_count": 5,
   "id": "d75acce0-9b07-40d6-92e7-e19586d0cbdc",
   "metadata": {},
   "outputs": [],
   "source": [
    "with open('centerpoint_actNweight.pkl', 'rb') as f:\n",
    "        # pickle.dump([pytorch_outputs, weight_scale], f)\n",
    "        data_dict = pickle.load(f)"
   ]
  },
  {
   "cell_type": "code",
   "execution_count": 6,
   "id": "686028a3-e92b-4536-bfab-4f77d219fcaa",
   "metadata": {
    "scrolled": true
   },
   "outputs": [
    {
     "data": {
      "text/plain": [
       "{'subm': [tensor([[0.0000, 0.0000, 0.0000,  ..., 0.0000, 0.0000, 0.1595],\n",
       "          [0.0000, 0.0000, 0.0760,  ..., 0.0000, 0.1671, 0.0000],\n",
       "          [0.0264, 0.8340, 0.2165,  ..., 0.0000, 0.0516, 0.0085],\n",
       "          ...,\n",
       "          [0.0000, 0.0000, 0.0000,  ..., 0.6526, 0.4888, 0.0000],\n",
       "          [0.2515, 0.7651, 0.1496,  ..., 0.0047, 0.2480, 0.0000],\n",
       "          [0.0000, 0.0000, 0.2469,  ..., 0.0000, 1.5510, 3.6882]]),\n",
       "  tensor([[  0,   7, 380, 416],\n",
       "          [  0,   9, 394, 299],\n",
       "          [  0,   8, 322, 336],\n",
       "          ...,\n",
       "          [  0,   8, 386, 415],\n",
       "          [  0,   9, 378, 327],\n",
       "          [  0,  10, 390, 359]], dtype=torch.int32),\n",
       "  tensor([[[[[ 1.5819e-01,  3.4919e-03, -3.0549e-01,  ...,  2.4796e-02,\n",
       "               2.2255e-02, -1.3848e-01],\n",
       "             [ 5.0967e-02,  1.4389e-02,  3.8235e-02,  ..., -2.6629e-02,\n",
       "              -8.7048e-02, -4.6047e-02],\n",
       "             [-8.4012e-03, -9.8072e-03,  1.3182e-01,  ..., -1.8452e-02,\n",
       "               9.8239e-02,  6.7883e-02]],\n",
       "  \n",
       "            [[ 1.0825e-02, -2.1811e-03, -2.7401e-01,  ..., -1.3994e-01,\n",
       "              -1.9018e-01, -1.4275e-01],\n",
       "             [-2.3418e-01, -1.6930e-02, -9.9269e-02,  ...,  8.8293e-02,\n",
       "              -4.2308e-01, -2.2237e-02],\n",
       "             [-7.0934e-02,  2.0404e-02, -5.0774e-02,  ..., -1.0099e-01,\n",
       "               3.3051e-01, -7.2362e-02]],\n",
       "  \n",
       "            [[ 3.4665e-03, -1.5370e-02,  1.5243e-01,  ...,  9.3891e-03,\n",
       "              -2.6112e-01, -2.2227e-01],\n",
       "             [-2.6702e-01,  8.9787e-02,  2.1741e-01,  ...,  9.2034e-02,\n",
       "              -5.1776e-01, -8.9477e-02],\n",
       "             [-1.4096e-01,  9.0889e-02,  6.2081e-02,  ..., -8.3554e-02,\n",
       "              -2.2231e-02,  5.4236e-02]]],\n",
       "  \n",
       "  \n",
       "           [[[ 1.8271e-01, -7.6142e-03, -5.5544e-01,  ...,  9.3147e-02,\n",
       "              -1.8485e-01, -5.0928e-02],\n",
       "             [ 1.4115e-01,  8.1062e-02,  2.4397e-01,  ...,  5.2197e-02,\n",
       "              -7.9730e-02, -3.5570e-02],\n",
       "             [-4.8738e-02, -1.9077e-03,  3.6453e-01,  ...,  1.6763e-02,\n",
       "               2.6257e-01, -1.1478e-02]],\n",
       "  \n",
       "            [[-1.4624e-01,  3.9853e-03, -9.6505e-01,  ...,  1.4951e-01,\n",
       "              -1.5308e-01, -3.3410e-02],\n",
       "             [-2.6670e-01, -3.7973e-01, -2.0735e-02,  ..., -1.2061e-02,\n",
       "              -7.9706e-01, -5.7411e-02],\n",
       "             [ 9.3446e-02,  9.3525e-02, -1.2278e-01,  ...,  2.0667e-02,\n",
       "               4.4902e-01,  6.2015e-03]],\n",
       "  \n",
       "            [[ 1.4021e-01, -1.6645e-01,  4.3011e-01,  ..., -1.6389e-01,\n",
       "              -4.4916e-01,  1.0070e-03],\n",
       "             [-2.6465e-01, -1.3610e-02,  3.6668e-01,  ..., -4.8369e-02,\n",
       "              -6.3984e-01, -8.4588e-02],\n",
       "             [ 3.3517e-02,  7.9271e-02, -9.6572e-02,  ..., -2.7842e-02,\n",
       "               6.7114e-02,  4.4335e-02]]],\n",
       "  \n",
       "  \n",
       "           [[[-2.3927e-02,  3.1840e-02,  1.6672e-01,  ...,  1.5028e-02,\n",
       "              -1.2478e-01,  2.8992e-02],\n",
       "             [-2.1932e-02, -5.2990e-02,  1.4170e-01,  ..., -7.0712e-02,\n",
       "               6.0331e-02, -3.6110e-02],\n",
       "             [-6.0759e-03, -1.5048e-01,  8.1131e-02,  ...,  3.0121e-02,\n",
       "               2.1156e-02, -8.2144e-02]],\n",
       "  \n",
       "            [[ 9.4318e-02, -2.6955e-02, -7.8349e-02,  ..., -1.1554e-01,\n",
       "              -5.7076e-02,  4.7987e-02],\n",
       "             [-1.0311e-02,  1.1054e-01,  3.1033e-02,  ...,  8.1628e-03,\n",
       "               1.1176e-01,  6.0420e-04],\n",
       "             [-1.3568e-02, -7.5452e-02,  2.8756e-02,  ...,  6.1309e-02,\n",
       "               8.1030e-02, -6.2766e-02]],\n",
       "  \n",
       "            [[-9.0293e-02,  2.7590e-03,  1.1876e-01,  ..., -4.7177e-02,\n",
       "              -6.6210e-02,  2.4993e-02],\n",
       "             [-5.1464e-02,  1.2193e-01,  1.0628e-02,  ...,  5.8974e-02,\n",
       "               2.0979e-03, -1.0525e-02],\n",
       "             [-1.5273e-03, -8.5508e-02, -8.9253e-02,  ..., -2.5909e-02,\n",
       "               8.9203e-02, -1.0060e-01]]]],\n",
       "  \n",
       "  \n",
       "  \n",
       "          [[[[-7.5477e-02, -1.5944e-02,  7.2165e-03,  ...,  7.0578e-02,\n",
       "              -1.5745e-02, -3.4748e-02],\n",
       "             [-3.4657e-02,  4.1274e-04,  1.1156e-03,  ...,  8.0050e-03,\n",
       "              -6.9817e-02, -3.2018e-02],\n",
       "             [-5.5563e-02, -4.5515e-02, -1.7297e-02,  ...,  5.9196e-02,\n",
       "              -5.2219e-02, -6.0285e-02]],\n",
       "  \n",
       "            [[ 5.0029e-02, -5.2356e-02,  4.2976e-02,  ...,  3.6757e-02,\n",
       "               3.1007e-02,  4.2325e-02],\n",
       "             [ 8.0781e-02, -6.4854e-02,  6.6898e-02,  ..., -1.1804e-02,\n",
       "               4.4306e-02, -8.2287e-02],\n",
       "             [-1.4756e-01, -7.6062e-02, -9.0615e-02,  ..., -1.5943e-02,\n",
       "               3.3029e-02, -6.7715e-02]],\n",
       "  \n",
       "            [[-3.3641e-02, -1.1338e-01,  6.9861e-02,  ...,  5.9410e-02,\n",
       "              -5.5392e-04,  5.8540e-02],\n",
       "             [-1.5597e-01, -1.6729e-01, -1.3615e-02,  ..., -4.3254e-02,\n",
       "               1.1359e-01, -1.1662e-01],\n",
       "             [-4.0761e-02, -2.3633e-01,  3.0054e-02,  ..., -4.4289e-02,\n",
       "               3.6730e-02,  7.0446e-03]]],\n",
       "  \n",
       "  \n",
       "           [[[ 7.1541e-02, -1.6069e-02, -1.1311e-01,  ..., -7.7106e-02,\n",
       "               1.4846e-02, -6.2315e-03],\n",
       "             [ 3.5231e-02,  8.9922e-02, -6.3533e-02,  ...,  9.0626e-03,\n",
       "              -1.2304e-02, -1.0713e-01],\n",
       "             [ 1.8901e-01,  1.6052e-01,  6.0392e-02,  ..., -1.3267e-02,\n",
       "              -9.3771e-02, -8.6864e-04]],\n",
       "  \n",
       "            [[ 6.9762e-02, -6.3849e-02,  8.4861e-02,  ..., -4.0697e-02,\n",
       "               3.0686e-02, -5.0582e-02],\n",
       "             [ 2.9622e-01, -3.5226e-01,  1.3645e-01,  ..., -7.0272e-02,\n",
       "               2.6557e-03,  5.9686e-04],\n",
       "             [ 2.1214e-01,  4.2413e-02,  5.9162e-02,  ..., -5.7255e-03,\n",
       "               2.3992e-02,  3.2966e-03]],\n",
       "  \n",
       "            [[-6.8926e-02,  8.3185e-02,  2.6843e-02,  ...,  7.8412e-02,\n",
       "              -1.0437e-01,  2.8062e-02],\n",
       "             [-8.8803e-02, -7.0586e-02, -6.4599e-03,  ...,  8.2038e-02,\n",
       "               1.2882e-01, -9.5468e-02],\n",
       "             [ 2.0860e-01,  4.9454e-02,  5.2993e-02,  ...,  5.3805e-03,\n",
       "              -7.4823e-02, -9.2312e-04]]],\n",
       "  \n",
       "  \n",
       "           [[[ 2.7924e-03, -6.6672e-03, -5.8226e-02,  ...,  4.3307e-02,\n",
       "               3.5126e-04, -4.1054e-02],\n",
       "             [-3.9963e-02, -6.2912e-02, -1.4998e-03,  ...,  6.1062e-03,\n",
       "              -5.6137e-02, -7.3293e-02],\n",
       "             [ 2.3375e-02,  3.3708e-03,  5.9675e-02,  ..., -3.7582e-02,\n",
       "              -5.0943e-02,  8.8473e-02]],\n",
       "  \n",
       "            [[-1.6680e-01, -1.0747e-01,  4.6312e-02,  ..., -2.3810e-03,\n",
       "              -3.8185e-02, -2.0152e-02],\n",
       "             [ 3.5876e-02, -2.3112e-01, -3.5851e-02,  ...,  3.3220e-02,\n",
       "              -4.1883e-02,  3.9207e-02],\n",
       "             [-7.0847e-02,  2.8626e-02,  1.1806e-01,  ...,  9.0903e-02,\n",
       "               5.7577e-02,  2.6729e-02]],\n",
       "  \n",
       "            [[-5.9532e-02, -3.7048e-02,  7.5442e-02,  ...,  1.2997e-01,\n",
       "              -5.5849e-02, -5.9389e-02],\n",
       "             [-1.0642e-01,  1.7100e-02, -6.6858e-02,  ...,  2.6070e-02,\n",
       "               5.7581e-02, -7.6887e-02],\n",
       "             [ 5.2574e-02,  1.3803e-01,  2.8404e-02,  ...,  7.4195e-02,\n",
       "               8.2021e-02, -5.2351e-03]]]],\n",
       "  \n",
       "  \n",
       "  \n",
       "          [[[[ 1.6475e-02,  1.0650e-02, -3.7499e-02,  ..., -4.4724e-02,\n",
       "               8.6826e-03, -2.4074e-02],\n",
       "             [-6.2883e-03, -5.2718e-03,  6.0765e-02,  ..., -5.8332e-02,\n",
       "               2.6051e-02, -7.2318e-03],\n",
       "             [ 3.3720e-02,  1.0120e-01,  1.5453e-02,  ..., -1.8717e-03,\n",
       "               3.0132e-02, -6.0737e-02]],\n",
       "  \n",
       "            [[-3.5638e-02,  4.8278e-02, -1.4522e-02,  ..., -4.0157e-02,\n",
       "               6.0537e-02, -3.9528e-02],\n",
       "             [-9.9268e-02, -1.1506e-01,  5.0112e-02,  ..., -3.8703e-02,\n",
       "               1.9624e-02,  5.2895e-02],\n",
       "             [-4.1238e-02,  6.7849e-02, -3.6718e-03,  ..., -7.0146e-02,\n",
       "               7.5393e-02,  7.0842e-03]],\n",
       "  \n",
       "            [[ 2.5772e-02,  3.7923e-02,  2.0262e-02,  ...,  5.4399e-03,\n",
       "              -1.7633e-02, -4.5114e-02],\n",
       "             [ 7.1394e-02,  3.2177e-03, -8.2107e-02,  ...,  2.5937e-03,\n",
       "               4.4365e-02, -5.2001e-02],\n",
       "             [ 3.0188e-02, -1.0857e-02, -8.3268e-03,  ..., -7.6246e-03,\n",
       "               7.7323e-02,  3.1192e-02]]],\n",
       "  \n",
       "  \n",
       "           [[[-3.4091e-02,  7.8044e-02,  2.4720e-02,  ..., -4.4893e-02,\n",
       "              -8.1984e-02,  4.1977e-03],\n",
       "             [ 2.1261e-02,  4.6993e-02,  9.8294e-03,  ...,  2.5147e-02,\n",
       "              -1.1652e-01, -1.7214e-02],\n",
       "             [-7.7366e-02,  1.1994e-01, -4.2549e-02,  ...,  1.2776e-02,\n",
       "              -2.3487e-02, -4.3675e-02]],\n",
       "  \n",
       "            [[ 8.9417e-02, -1.0335e-01,  2.0184e-02,  ..., -9.8023e-02,\n",
       "               1.7368e-02, -2.5189e-02],\n",
       "             [ 2.2486e-01, -3.7827e-01,  2.1930e-02,  ...,  9.7161e-02,\n",
       "               6.7328e-02,  1.1622e-01],\n",
       "             [-1.0910e-01,  1.0355e-01, -4.5783e-03,  ...,  4.6411e-02,\n",
       "               9.7696e-02, -2.4237e-02]],\n",
       "  \n",
       "            [[ 1.1896e-02, -8.7926e-03, -6.3989e-02,  ..., -5.8996e-03,\n",
       "              -5.7405e-02, -1.8852e-02],\n",
       "             [ 5.2223e-02, -4.4891e-02,  3.9816e-02,  ..., -3.5953e-02,\n",
       "              -3.2287e-02,  2.1858e-02],\n",
       "             [-4.6152e-03,  7.4506e-02, -1.1776e-02,  ..., -4.2258e-02,\n",
       "               6.4718e-02, -2.0037e-02]]],\n",
       "  \n",
       "  \n",
       "           [[[ 3.8856e-02, -2.0034e-02, -2.7342e-04,  ..., -6.5557e-03,\n",
       "               4.3655e-02, -4.0909e-02],\n",
       "             [-8.9982e-02,  8.8558e-03,  2.1867e-02,  ...,  4.9523e-03,\n",
       "               8.6711e-02, -3.8843e-02],\n",
       "             [-6.9448e-02, -5.6069e-02,  5.7591e-03,  ..., -4.0250e-02,\n",
       "              -1.4000e-02,  1.3336e-02]],\n",
       "  \n",
       "            [[ 3.3283e-02, -2.3899e-02,  3.6643e-02,  ...,  4.3318e-02,\n",
       "              -6.3502e-02, -2.9097e-02],\n",
       "             [ 8.6261e-02, -3.7688e-02,  6.7402e-02,  ..., -2.4076e-02,\n",
       "               4.9407e-03, -6.4791e-04],\n",
       "             [-1.1337e-02,  3.0183e-02, -3.8187e-02,  ..., -1.7654e-02,\n",
       "               8.7401e-02, -1.9888e-02]],\n",
       "  \n",
       "            [[ 1.0490e-02, -3.3387e-02, -9.6726e-03,  ...,  5.8977e-02,\n",
       "              -6.6644e-06, -2.3601e-02],\n",
       "             [ 2.6953e-02, -9.0483e-02, -3.5666e-03,  ...,  5.9089e-02,\n",
       "               6.5336e-02,  1.6642e-02],\n",
       "             [ 1.5734e-02, -1.9258e-02, -2.4060e-02,  ...,  7.7983e-03,\n",
       "              -2.7442e-02,  1.8172e-02]]]],\n",
       "  \n",
       "  \n",
       "  \n",
       "          ...,\n",
       "  \n",
       "  \n",
       "  \n",
       "          [[[[ 1.7216e-01,  8.2946e-02,  8.1597e-02,  ..., -3.0186e-02,\n",
       "               1.3317e-01,  4.1957e-02],\n",
       "             [-4.5553e-02, -9.2022e-02, -3.0318e-01,  ..., -3.1215e-02,\n",
       "               2.1225e-01, -6.3947e-03],\n",
       "             [ 9.0758e-02,  8.5248e-02, -6.1881e-01,  ..., -4.4747e-02,\n",
       "              -1.1167e-02, -5.8438e-02]],\n",
       "  \n",
       "            [[-4.0982e-02,  9.1556e-02,  8.4835e-02,  ..., -1.2444e-01,\n",
       "               2.2442e-01, -5.9242e-02],\n",
       "             [-6.9274e-03, -4.1803e-02, -1.2720e-01,  ..., -2.0049e-02,\n",
       "               5.9619e-02, -2.7585e-02],\n",
       "             [-2.4446e-02,  8.4516e-02,  2.4655e-02,  ...,  3.1788e-02,\n",
       "              -3.1174e-01, -7.2539e-02]],\n",
       "  \n",
       "            [[ 8.4185e-02,  1.6698e-01,  6.3275e-02,  ...,  8.6577e-03,\n",
       "               1.5011e-01, -8.8118e-02],\n",
       "             [ 1.1547e-01, -7.1122e-02,  1.6453e-01,  ..., -3.2527e-02,\n",
       "               2.0557e-04, -1.3802e-01],\n",
       "             [ 1.0570e-01, -6.7227e-02,  3.5600e-01,  ...,  3.5718e-02,\n",
       "              -2.8555e-01, -1.7806e-01]]],\n",
       "  \n",
       "  \n",
       "           [[[ 8.7854e-02,  1.9140e-01,  3.6108e-01,  ..., -9.3028e-02,\n",
       "               1.0549e-02, -7.5267e-02],\n",
       "             [-7.4423e-02, -1.8927e-01, -8.3624e-02,  ..., -2.9545e-02,\n",
       "               2.7432e-01, -7.5241e-03],\n",
       "             [-5.2136e-02, -4.5566e-02, -8.9552e-01,  ..., -9.3674e-03,\n",
       "              -7.7055e-02,  6.2598e-03]],\n",
       "  \n",
       "            [[-4.0093e-02,  1.6102e-01,  3.2018e-02,  ..., -2.1900e-01,\n",
       "               2.5932e-01, -3.7485e-02],\n",
       "             [-1.0001e-01, -3.8528e-01, -3.6382e-01,  ...,  6.3447e-02,\n",
       "               3.8437e-01, -1.6995e-03],\n",
       "             [-9.4750e-02, -4.8583e-02, -8.4288e-02,  ..., -2.3673e-02,\n",
       "              -6.1707e-01,  1.4549e-01]],\n",
       "  \n",
       "            [[ 1.4692e-01,  5.3532e-02, -1.2203e-01,  ..., -5.3504e-02,\n",
       "               1.2583e-01, -1.6092e-01],\n",
       "             [ 2.1057e-02, -1.3876e-01,  8.4264e-02,  ...,  5.1471e-03,\n",
       "               1.2779e-01,  2.4710e-02],\n",
       "             [ 2.8699e-01, -2.7904e-01,  4.6584e-01,  ..., -2.7465e-02,\n",
       "              -9.8693e-02, -1.9039e-02]]],\n",
       "  \n",
       "  \n",
       "           [[[-1.9081e-01,  2.0071e-02, -1.0294e-02,  ..., -1.2506e-01,\n",
       "              -5.9426e-02,  1.3712e-02],\n",
       "             [-3.3275e-02,  1.0918e-01,  2.4883e-01,  ...,  8.4445e-02,\n",
       "              -8.1033e-02,  2.1391e-02],\n",
       "             [ 3.1792e-02, -2.2166e-04, -7.6262e-02,  ...,  6.4783e-02,\n",
       "              -8.0938e-04,  7.6368e-02]],\n",
       "  \n",
       "            [[ 4.1922e-02,  1.8406e-01, -2.4562e-01,  ..., -4.5614e-02,\n",
       "              -1.2832e-01, -1.0725e-02],\n",
       "             [-1.9939e-01,  6.9775e-02, -2.3470e-02,  ...,  3.8535e-02,\n",
       "               8.0177e-02,  1.5135e-01],\n",
       "             [ 7.2241e-03, -6.6902e-02,  4.8798e-02,  ..., -3.1000e-02,\n",
       "               2.0190e-02, -2.4718e-02]],\n",
       "  \n",
       "            [[ 1.8326e-01, -2.4946e-02, -2.4743e-01,  ..., -1.1191e-01,\n",
       "               5.6826e-02, -8.4033e-02],\n",
       "             [ 8.8151e-03, -6.7259e-03, -1.6230e-01,  ...,  9.6038e-02,\n",
       "               8.8522e-02,  1.2363e-02],\n",
       "             [-6.8944e-02,  2.1888e-02,  5.9525e-02,  ...,  6.6129e-02,\n",
       "               1.4787e-01,  6.6360e-02]]]],\n",
       "  \n",
       "  \n",
       "  \n",
       "          [[[[-1.9168e-01,  4.5604e-03, -2.2871e-01,  ...,  1.0753e-01,\n",
       "               3.3682e-01,  3.1806e-02],\n",
       "             [-3.7648e-01,  2.2287e-01, -4.3531e-01,  ..., -1.1181e-01,\n",
       "              -1.3711e-01, -3.4786e-02],\n",
       "             [-1.3711e-01,  2.3224e-01, -1.9151e-01,  ..., -3.0945e-01,\n",
       "              -3.7976e-01,  9.3076e-02]],\n",
       "  \n",
       "            [[-1.7694e-01, -8.2491e-02,  1.1516e-02,  ...,  1.0462e-01,\n",
       "               2.2864e-01, -4.3217e-04],\n",
       "             [ 5.1538e-02, -2.0869e-02, -2.3894e-01,  ...,  6.4025e-02,\n",
       "              -3.3184e-01, -5.5701e-03],\n",
       "             [ 9.1340e-02,  1.4732e-01,  3.7320e-02,  ..., -9.8151e-02,\n",
       "              -4.7526e-01, -2.0309e-02]],\n",
       "  \n",
       "            [[-9.6653e-02, -3.0324e-02, -1.8443e-02,  ...,  9.4097e-03,\n",
       "               4.9705e-02,  3.6073e-02],\n",
       "             [ 2.0448e-01, -8.5075e-02,  8.5654e-02,  ..., -8.4979e-02,\n",
       "               1.9494e-01, -6.2856e-02],\n",
       "             [ 1.1554e-01,  7.7990e-03,  1.4112e-01,  ..., -1.0504e-01,\n",
       "               2.2765e-02, -6.0687e-02]]],\n",
       "  \n",
       "  \n",
       "           [[[-2.7653e-01,  1.4615e-01, -1.4686e-01,  ...,  1.0255e-01,\n",
       "               2.8366e-01,  9.7855e-03],\n",
       "             [-2.4951e-01, -2.6307e-02, -1.0177e+00,  ...,  4.9466e-02,\n",
       "               1.7612e-01, -8.8141e-02],\n",
       "             [-5.6467e-02,  1.1303e-02, -2.5463e-01,  ..., -1.2866e-01,\n",
       "              -2.9160e-01,  7.1656e-02]],\n",
       "  \n",
       "            [[-1.4697e-01,  6.2848e-02,  2.2758e-01,  ...,  1.1730e-01,\n",
       "               2.6322e-01, -9.8557e-02],\n",
       "             [ 2.6508e-03, -4.6203e-02, -3.3595e-03,  ...,  7.5186e-03,\n",
       "              -2.5421e-01,  4.5045e-04],\n",
       "             [ 1.9617e-01,  3.3987e-02,  3.9039e-01,  ..., -1.1590e-01,\n",
       "              -4.9864e-01, -1.5476e-01]],\n",
       "  \n",
       "            [[-4.7549e-02, -1.3670e-01,  8.7927e-02,  ...,  1.6626e-02,\n",
       "               1.0107e-01,  2.4029e-02],\n",
       "             [ 1.7193e-01,  1.5204e-02,  1.7938e-01,  ...,  4.5396e-02,\n",
       "               2.0419e-01, -5.2700e-02],\n",
       "             [ 8.7295e-03,  6.7520e-02,  1.6347e-01,  ...,  1.8838e-03,\n",
       "               1.4133e-01, -9.7068e-02]]],\n",
       "  \n",
       "  \n",
       "           [[[-1.5664e-01, -2.9660e-02,  6.7473e-02,  ..., -9.8341e-02,\n",
       "              -3.5846e-02, -1.3967e-01],\n",
       "             [-6.9280e-03,  1.0184e-02, -1.6226e-01,  ...,  7.1912e-02,\n",
       "               1.1330e-01, -6.8213e-02],\n",
       "             [-2.6418e-02, -1.5144e-01,  9.6424e-03,  ..., -3.4075e-02,\n",
       "               1.2396e-02,  3.1385e-02]],\n",
       "  \n",
       "            [[-5.5526e-02, -6.1029e-02,  1.0529e-01,  ..., -5.0850e-02,\n",
       "               2.4535e-02, -1.2690e-01],\n",
       "             [-4.2582e-02, -4.8017e-02,  1.6683e-02,  ..., -5.8647e-02,\n",
       "              -8.0429e-02,  7.6686e-02],\n",
       "             [-3.3145e-02, -2.2559e-02,  1.4962e-01,  ..., -9.8361e-03,\n",
       "              -5.4005e-02, -7.3466e-02]],\n",
       "  \n",
       "            [[-7.3972e-03, -1.9166e-01,  5.1780e-02,  ..., -1.5592e-01,\n",
       "               8.5714e-02, -8.9281e-02],\n",
       "             [ 1.0030e-01, -1.7426e-01,  2.3232e-03,  ..., -1.1340e-01,\n",
       "               2.4259e-02, -4.4194e-02],\n",
       "             [ 5.1614e-02, -8.0298e-02,  1.7614e-02,  ..., -1.5633e-01,\n",
       "               1.9852e-01, -9.5306e-02]]]],\n",
       "  \n",
       "  \n",
       "  \n",
       "          [[[[-2.1795e-01,  1.1912e-01,  1.0884e-01,  ...,  9.7248e-02,\n",
       "               6.5931e-02,  3.8291e-02],\n",
       "             [-3.3844e-01,  1.1228e-01,  3.4886e-02,  ..., -6.8001e-02,\n",
       "               1.0540e-01,  3.9768e-02],\n",
       "             [-9.8683e-02,  2.3754e-02,  9.1332e-02,  ...,  8.3549e-02,\n",
       "               1.5851e-01, -3.3911e-02]],\n",
       "  \n",
       "            [[-1.1338e-01,  1.2534e-02, -3.9757e-02,  ...,  8.0032e-02,\n",
       "              -1.0901e-01,  2.0145e-01],\n",
       "             [-4.5566e-01,  1.5365e-01, -1.1546e-01,  ...,  6.3929e-02,\n",
       "              -1.4652e-01,  1.4717e-02],\n",
       "             [-1.7984e-01,  1.1289e-01, -5.3999e-02,  ..., -4.0299e-03,\n",
       "               1.5173e-01,  5.6723e-02]],\n",
       "  \n",
       "            [[ 7.7339e-02,  1.7559e-01, -4.6259e-02,  ...,  3.3864e-02,\n",
       "              -1.0013e-01,  1.2409e-01],\n",
       "             [ 3.1853e-02,  7.2040e-02, -1.3509e-01,  ..., -6.1226e-02,\n",
       "               7.1484e-02,  7.3946e-02],\n",
       "             [ 6.0044e-02,  4.0053e-02,  1.8780e-01,  ..., -2.5413e-01,\n",
       "               1.5494e-01,  1.0115e-02]]],\n",
       "  \n",
       "  \n",
       "           [[[-2.5261e-01,  1.7385e-01, -2.7612e-01,  ...,  1.3977e-01,\n",
       "               3.7488e-02,  8.9866e-02],\n",
       "             [-3.8121e-01,  9.9513e-02, -5.6329e-03,  ...,  9.0453e-02,\n",
       "              -1.2441e-01,  9.9166e-03],\n",
       "             [ 4.6036e-02,  1.6782e-01,  6.6530e-02,  ...,  6.8948e-02,\n",
       "              -6.1961e-02, -3.6484e-02]],\n",
       "  \n",
       "            [[-2.8155e-01, -2.6311e-01, -1.8934e-01,  ...,  1.5920e-01,\n",
       "               9.4686e-02,  6.7538e-02],\n",
       "             [-4.8663e-01, -2.2191e-01,  7.0424e-02,  ...,  1.8109e-01,\n",
       "              -5.9869e-01, -1.4711e-03],\n",
       "             [-8.8776e-03,  2.0781e-01,  4.5313e-02,  ...,  3.1558e-02,\n",
       "               3.4463e-02, -2.8203e-03]],\n",
       "  \n",
       "            [[ 1.5421e-02,  9.6981e-02, -1.4557e-01,  ...,  1.5377e-01,\n",
       "              -8.1797e-02, -4.3205e-02],\n",
       "             [ 1.8655e-01, -2.1015e-02, -7.4532e-02,  ...,  1.2433e-01,\n",
       "              -7.5074e-02,  8.2086e-02],\n",
       "             [ 4.5284e-02,  1.3145e-01,  1.4381e-01,  ..., -5.0411e-02,\n",
       "               1.4778e-01,  4.0370e-02]]],\n",
       "  \n",
       "  \n",
       "           [[[-1.9494e-01,  1.6080e-01, -2.7421e-02,  ...,  1.4276e-02,\n",
       "               1.7417e-02, -1.7897e-01],\n",
       "             [-2.2498e-01, -4.0701e-03, -1.0048e-01,  ...,  7.4211e-03,\n",
       "               6.5127e-03,  8.4968e-02],\n",
       "             [ 7.0877e-02,  1.2823e-02, -1.3232e-01,  ...,  3.7479e-02,\n",
       "              -5.0720e-02, -4.2792e-02]],\n",
       "  \n",
       "            [[-2.4915e-01,  1.6378e-01, -1.5656e-01,  ..., -1.6313e-02,\n",
       "              -2.5180e-01,  1.6543e-01],\n",
       "             [-2.8126e-01, -1.0320e-02, -5.6550e-02,  ...,  6.9016e-02,\n",
       "              -8.7852e-02, -9.8763e-02],\n",
       "             [ 2.7818e-02,  6.1618e-03,  1.8430e-02,  ...,  2.6320e-02,\n",
       "              -9.9167e-02,  7.6430e-03]],\n",
       "  \n",
       "            [[ 1.0402e-01,  6.2360e-02, -2.3238e-01,  ...,  1.2000e-02,\n",
       "               3.9837e-02,  4.4816e-02],\n",
       "             [-4.1490e-02,  3.8903e-03, -4.5412e-03,  ...,  7.8488e-02,\n",
       "               5.8869e-02, -9.0614e-02],\n",
       "             [-1.7486e-02, -2.6010e-02,  1.4325e-01,  ..., -3.2276e-02,\n",
       "               1.1136e-03, -1.9833e-02]]]]]),\n",
       "  [21, 720, 720],\n",
       "  1],\n",
       " 'sparse': [tensor([[0.0000, 0.0000, 0.0000,  ..., 0.0000, 0.0000, 0.0000],\n",
       "          [0.0000, 0.0000, 0.0000,  ..., 0.0000, 0.1193, 0.8821],\n",
       "          [0.0000, 0.3757, 0.0000,  ..., 0.0000, 0.4221, 0.0000],\n",
       "          ...,\n",
       "          [0.3737, 0.0000, 0.0000,  ..., 0.0000, 1.2283, 0.0000],\n",
       "          [0.0000, 0.0000, 0.0000,  ..., 0.0000, 0.0000, 0.0000],\n",
       "          [1.5478, 0.0000, 0.0000,  ..., 0.0000, 0.0000, 8.3630]]),\n",
       "  tensor([[  0,   7, 380, 416],\n",
       "          [  0,   9, 394, 299],\n",
       "          [  0,   8, 322, 336],\n",
       "          ...,\n",
       "          [  0,   8, 386, 415],\n",
       "          [  0,   9, 378, 327],\n",
       "          [  0,  10, 390, 359]], dtype=torch.int32),\n",
       "  tensor([[[[[-9.1030e-02, -1.2549e-02, -2.8659e-01,  ..., -2.1671e-02,\n",
       "               5.1563e-02,  1.1679e-01],\n",
       "             [-7.2709e-02, -1.6124e-01, -1.4264e-01,  ..., -2.2047e-01,\n",
       "              -3.5950e-02,  7.8836e-02],\n",
       "             [-4.1964e-02, -1.2649e-01, -1.8338e-01,  ..., -2.5151e-01,\n",
       "               5.6922e-02,  3.1372e-02]],\n",
       "  \n",
       "            [[-1.6422e-01, -1.9402e-01, -7.5883e-02,  ..., -4.6379e-02,\n",
       "               1.0095e-02,  9.8570e-02],\n",
       "             [-1.6869e-01, -7.5405e-02,  9.1223e-03,  ..., -1.6213e-01,\n",
       "              -1.2608e-01, -1.0238e-01],\n",
       "             [-7.8632e-02, -1.6312e-01, -5.6826e-03,  ..., -2.2822e-01,\n",
       "              -3.7156e-02,  9.7007e-04]],\n",
       "  \n",
       "            [[-2.0454e-01, -4.4640e-01,  2.2927e-02,  ..., -3.2004e-02,\n",
       "               8.6939e-02,  3.1565e-03],\n",
       "             [-9.3649e-02, -4.2768e-01,  1.1178e-01,  ..., -1.0366e-02,\n",
       "              -2.6961e-02,  4.8129e-02],\n",
       "             [ 6.4607e-02, -1.2428e-01,  8.9109e-02,  ..., -1.0309e-01,\n",
       "               4.9937e-02,  2.9994e-02]]],\n",
       "  \n",
       "  \n",
       "           [[[ 9.7409e-02, -1.9005e-02, -3.3101e-01,  ...,  1.0886e-03,\n",
       "               1.3312e-01, -4.3545e-02],\n",
       "             [ 1.5694e-01, -4.8591e-03, -2.2560e-01,  ...,  2.6833e-02,\n",
       "               1.4660e-01,  4.8520e-02],\n",
       "             [ 4.5116e-02, -2.1063e-02, -3.7609e-02,  ..., -1.5705e-01,\n",
       "               1.9430e-01,  3.8367e-02]],\n",
       "  \n",
       "            [[ 2.7322e-01, -1.1958e-01, -1.4448e-01,  ...,  6.5446e-03,\n",
       "               1.6039e-01,  4.8911e-02],\n",
       "             [ 2.0144e-01, -1.6750e-01,  1.5709e-01,  ..., -1.9743e-02,\n",
       "               9.0458e-02,  8.4798e-02],\n",
       "             [ 1.1730e-01, -1.0391e-01,  2.0503e-01,  ..., -1.8352e-01,\n",
       "              -2.5819e-02,  3.7245e-02]],\n",
       "  \n",
       "            [[ 9.3855e-02, -1.5249e-01, -7.8566e-02,  ..., -2.2983e-02,\n",
       "               1.8557e-02, -6.8801e-03],\n",
       "             [ 2.0785e-01, -1.8436e-01,  1.2536e-01,  ...,  1.2644e-02,\n",
       "               2.1084e-02,  6.7751e-02],\n",
       "             [ 1.5008e-01,  2.0816e-02,  1.6975e-01,  ...,  5.8726e-02,\n",
       "              -1.1561e-01,  4.7740e-02]]],\n",
       "  \n",
       "  \n",
       "           [[[ 1.0842e-01,  7.9329e-03, -7.1103e-02,  ..., -5.4465e-02,\n",
       "               1.3152e-01, -1.3739e-02],\n",
       "             [ 2.6488e-01,  2.8859e-03, -6.4742e-02,  ..., -4.0049e-02,\n",
       "               2.5060e-01,  7.1435e-03],\n",
       "             [ 1.5407e-01, -2.1990e-02,  3.8547e-02,  ..., -7.6489e-02,\n",
       "               1.5125e-01,  3.8063e-02]],\n",
       "  \n",
       "            [[ 3.6230e-01, -4.8472e-02, -8.1740e-02,  ..., -6.6564e-02,\n",
       "               1.2719e-01, -1.3802e-03],\n",
       "             [ 5.8472e-01, -1.0445e-01,  1.2544e-01,  ..., -5.0305e-02,\n",
       "               2.7488e-01, -4.8714e-03],\n",
       "             [ 3.5249e-01, -7.1063e-02,  1.3428e-01,  ..., -2.2979e-02,\n",
       "               2.2153e-02,  1.3019e-02]],\n",
       "  \n",
       "            [[ 2.2257e-01, -6.1456e-02, -3.0425e-02,  ..., -5.4832e-02,\n",
       "               5.9800e-02, -4.1633e-02],\n",
       "             [ 3.5243e-01,  2.1675e-02,  7.7339e-02,  ...,  2.4288e-02,\n",
       "               9.1882e-02, -2.7360e-02],\n",
       "             [ 2.2747e-01, -2.4538e-02,  1.1314e-01,  ...,  4.6234e-02,\n",
       "              -1.2166e-01, -2.9116e-03]]]],\n",
       "  \n",
       "  \n",
       "  \n",
       "          [[[[-4.8315e-03,  1.8821e-01,  8.9452e-02,  ...,  1.4925e-01,\n",
       "               3.5007e-02,  4.1058e-02],\n",
       "             [-3.5126e-02,  2.1015e-02,  3.9408e-02,  ...,  1.1933e-01,\n",
       "               6.2676e-02,  3.7648e-02],\n",
       "             [ 3.2062e-02, -2.7217e-02,  1.2559e-02,  ...,  4.6259e-02,\n",
       "               4.1773e-02, -2.5023e-02]],\n",
       "  \n",
       "            [[ 9.7789e-02,  4.4118e-02, -1.8068e-02,  ...,  7.6489e-02,\n",
       "              -6.4485e-03,  1.0699e-01],\n",
       "             [ 1.1405e-02, -5.5132e-02,  4.7804e-02,  ...,  2.1936e-01,\n",
       "              -2.9922e-04,  6.4430e-02],\n",
       "             [-1.0825e-01, -1.6645e-02,  5.2343e-02,  ...,  1.3648e-01,\n",
       "               5.4446e-02, -3.3536e-02]],\n",
       "  \n",
       "            [[ 6.1120e-02, -2.7779e-02, -1.3490e-02,  ...,  6.5367e-02,\n",
       "              -5.1576e-03,  9.0033e-02],\n",
       "             [ 4.0429e-02, -4.9555e-02,  6.5395e-02,  ...,  1.3956e-01,\n",
       "              -5.1548e-03,  8.5382e-02],\n",
       "             [-1.0898e-01, -1.1036e-01,  5.7634e-02,  ...,  1.2295e-01,\n",
       "              -8.5345e-03,  6.1036e-03]]],\n",
       "  \n",
       "  \n",
       "           [[[ 1.0157e-01,  1.4803e-02,  8.9112e-02,  ...,  1.1151e-01,\n",
       "               1.3566e-02,  6.5215e-02],\n",
       "             [ 1.6421e-01, -1.6964e-02,  9.3473e-02,  ...,  1.3479e-01,\n",
       "               3.8790e-02,  4.1004e-02],\n",
       "             [ 1.5059e-01, -2.7321e-02,  1.4556e-02,  ...,  1.2433e-01,\n",
       "               8.0975e-02, -3.3432e-02]],\n",
       "  \n",
       "            [[ 2.2220e-01, -1.7951e-02, -2.6218e-02,  ...,  1.2947e-01,\n",
       "              -4.4472e-03,  6.3489e-02],\n",
       "             [ 2.9916e-01, -9.7770e-02,  3.1864e-02,  ...,  3.0246e-01,\n",
       "              -2.4103e-02,  4.4865e-02],\n",
       "             [ 1.7642e-01, -8.0279e-02,  9.9081e-02,  ...,  1.8362e-01,\n",
       "               9.4076e-02, -2.0329e-02]],\n",
       "  \n",
       "            [[ 2.8085e-01,  9.8180e-02, -1.8657e-02,  ...,  1.2618e-01,\n",
       "               1.1687e-01,  1.4419e-02],\n",
       "             [ 2.3724e-01, -4.4663e-02,  2.8065e-02,  ...,  2.2578e-01,\n",
       "               4.6840e-02,  5.0670e-02],\n",
       "             [ 1.3294e-01, -1.4342e-01,  7.4984e-02,  ...,  1.3535e-01,\n",
       "               2.3992e-02, -1.2007e-02]]],\n",
       "  \n",
       "  \n",
       "           [[[ 1.0616e-02, -3.2124e-01, -4.6596e-03,  ...,  5.5680e-02,\n",
       "              -1.3834e-01, -7.7557e-02],\n",
       "             [ 1.1264e-01, -7.7790e-03, -3.9937e-02,  ...,  9.6829e-02,\n",
       "               6.8080e-02, -1.3421e-01],\n",
       "             [ 1.5439e-01, -1.3668e-02,  6.7783e-02,  ...,  1.1489e-01,\n",
       "              -8.1974e-03, -2.6643e-02]],\n",
       "  \n",
       "            [[ 1.9454e-01, -1.3536e-01, -9.1728e-02,  ...,  1.4050e-02,\n",
       "              -5.9384e-02, -7.3844e-02],\n",
       "             [ 3.0750e-01, -1.3205e-01, -3.0729e-02,  ...,  6.8459e-02,\n",
       "               3.8171e-02, -1.8686e-02],\n",
       "             [ 1.7326e-01,  3.0069e-02,  3.6920e-02,  ..., -2.8007e-03,\n",
       "               7.1858e-02, -3.1285e-02]],\n",
       "  \n",
       "            [[ 1.9164e-01, -1.4379e-01, -2.5463e-02,  ...,  1.0040e-01,\n",
       "               4.5434e-02, -8.5885e-02],\n",
       "             [ 2.1629e-01, -7.9925e-02, -1.1949e-02,  ...,  1.0606e-01,\n",
       "              -3.0429e-02, -4.4469e-02],\n",
       "             [ 8.2459e-02, -1.3181e-01,  2.8337e-02,  ..., -7.2993e-02,\n",
       "              -5.3059e-02, -5.2347e-02]]]],\n",
       "  \n",
       "  \n",
       "  \n",
       "          [[[[-2.1401e-01, -1.0370e-01, -2.6898e-03,  ..., -1.3535e-01,\n",
       "               6.3915e-02,  3.1661e-02],\n",
       "             [-2.4905e-01,  1.3294e-02,  1.2845e-01,  ..., -1.6944e-01,\n",
       "               6.1965e-02, -5.5856e-02],\n",
       "             [-2.5094e-01, -4.6694e-02,  1.0416e-01,  ..., -1.0247e-01,\n",
       "               1.0863e-01,  1.3541e-01]],\n",
       "  \n",
       "            [[ 6.0780e-02, -6.1246e-02, -4.1519e-01,  ...,  2.9787e-02,\n",
       "              -1.7684e-01,  1.6477e-01],\n",
       "             [ 1.3049e-01, -1.5739e-02, -3.5701e-01,  ...,  1.2151e-01,\n",
       "              -3.1974e-01,  1.0421e-01],\n",
       "             [-1.2321e-01, -5.9001e-02, -2.0853e-01,  ..., -6.9527e-02,\n",
       "              -2.0128e-01,  5.3418e-02]],\n",
       "  \n",
       "            [[-3.5360e-02,  2.5327e-02, -4.7504e-02,  ..., -4.7418e-02,\n",
       "               1.0170e-01,  2.4954e-02],\n",
       "             [-6.5264e-02,  1.9119e-01, -2.3692e-01,  ...,  3.1125e-02,\n",
       "               4.4373e-02,  3.8252e-02],\n",
       "             [ 7.1755e-02, -1.9715e-02, -1.3220e-01,  ...,  5.3380e-03,\n",
       "               1.6120e-03,  1.0622e-01]]],\n",
       "  \n",
       "  \n",
       "           [[[-1.4524e-01,  1.2899e-01,  1.7067e-01,  ..., -2.9565e-02,\n",
       "               1.2112e-01, -6.5385e-02],\n",
       "             [-1.9801e-01,  2.5295e-01,  1.5991e-01,  ..., -2.8607e-02,\n",
       "               1.0018e-01,  1.4348e-02],\n",
       "             [-3.3723e-02,  1.9675e-01,  4.7196e-02,  ...,  1.9623e-03,\n",
       "               1.3054e-01,  8.8921e-02]],\n",
       "  \n",
       "            [[ 6.6376e-02,  2.4717e-02, -3.6819e-01,  ...,  7.9627e-02,\n",
       "              -1.9033e-01, -3.7347e-02],\n",
       "             [ 9.4799e-02, -3.7270e-02, -2.6557e-01,  ...,  8.3800e-02,\n",
       "              -4.9098e-01, -1.1657e-02],\n",
       "             [-2.1892e-01,  1.5347e-01, -1.0855e-02,  ...,  6.1228e-03,\n",
       "              -2.1254e-01,  9.0662e-02]],\n",
       "  \n",
       "            [[-3.7396e-02,  1.0493e-01,  4.2452e-02,  ..., -1.0432e-01,\n",
       "               6.1652e-02,  1.0688e-01],\n",
       "             [ 5.2704e-02,  8.1540e-02, -1.9280e-01,  ...,  1.8015e-02,\n",
       "               8.8439e-02,  1.0006e-01],\n",
       "             [ 1.0126e-01, -6.7636e-02, -3.6830e-02,  ...,  3.2410e-02,\n",
       "               1.1963e-01, -3.8746e-03]]],\n",
       "  \n",
       "  \n",
       "           [[[-3.7921e-02,  1.9569e-01,  1.0844e-01,  ..., -1.6552e-01,\n",
       "               1.0054e-01, -2.3699e-03],\n",
       "             [ 7.8780e-02,  2.5018e-01,  1.2214e-01,  ..., -3.9338e-02,\n",
       "              -6.2733e-03,  8.6362e-02],\n",
       "             [ 1.4254e-01,  1.1028e-01,  5.1796e-02,  ...,  4.7552e-02,\n",
       "               9.4445e-02,  1.0453e-02]],\n",
       "  \n",
       "            [[-1.3050e-01, -5.6040e-02, -1.9423e-01,  ...,  7.7419e-02,\n",
       "              -1.8907e-01,  6.3791e-03],\n",
       "             [-1.1672e-01, -7.1053e-02,  4.9324e-03,  ..., -3.3623e-02,\n",
       "              -3.6755e-01,  6.2518e-02],\n",
       "             [ 1.2192e-01,  4.9954e-02,  8.4020e-02,  ...,  6.6573e-02,\n",
       "               2.0231e-02,  2.8025e-02]],\n",
       "  \n",
       "            [[-7.4667e-02, -5.7487e-02, -9.1741e-02,  ..., -1.0652e-01,\n",
       "              -1.1797e-01, -4.1568e-02],\n",
       "             [-2.9930e-02, -2.4834e-02, -1.4390e-01,  ..., -1.5754e-02,\n",
       "              -2.2586e-03,  9.9648e-03],\n",
       "             [-2.5721e-01,  2.7914e-02, -5.7996e-03,  ...,  1.1268e-01,\n",
       "               6.7104e-02,  9.7333e-02]]]],\n",
       "  \n",
       "  \n",
       "  \n",
       "          ...,\n",
       "  \n",
       "  \n",
       "  \n",
       "          [[[[ 7.8490e-02, -1.2939e-01, -4.0826e-02,  ..., -1.4534e-01,\n",
       "              -5.7795e-02,  1.9415e-02],\n",
       "             [-1.3276e-02, -3.4724e-03,  1.5367e-01,  ..., -1.3952e-01,\n",
       "              -3.5352e-01, -6.4761e-05],\n",
       "             [-5.2531e-02,  2.9798e-02,  1.1866e-01,  ...,  5.3762e-02,\n",
       "              -1.8325e-01, -3.2197e-04]],\n",
       "  \n",
       "            [[ 3.6052e-03,  4.3031e-02,  3.0486e-01,  ..., -2.8564e-01,\n",
       "              -1.5944e-01,  1.0070e-02],\n",
       "             [-1.0499e-01,  5.6542e-02,  3.8767e-01,  ..., -1.9433e-01,\n",
       "              -5.0507e-01,  8.3952e-04],\n",
       "             [-1.4361e-01,  2.6797e-02,  9.6892e-02,  ...,  8.1004e-02,\n",
       "              -9.2625e-02,  2.6718e-02]],\n",
       "  \n",
       "            [[-7.8725e-02, -1.8830e-03,  2.3703e-01,  ..., -4.7717e-02,\n",
       "              -1.6756e-01,  3.3929e-03],\n",
       "             [-9.2535e-02,  5.3173e-02,  2.0522e-01,  ..., -2.4712e-02,\n",
       "              -1.2941e-01,  1.5696e-03],\n",
       "             [-6.9756e-02,  6.7678e-02, -7.8734e-03,  ...,  2.7132e-02,\n",
       "               2.5594e-02, -3.1266e-02]]],\n",
       "  \n",
       "  \n",
       "           [[[ 1.7374e-01,  7.0294e-02,  2.2133e-01,  ..., -2.4303e-01,\n",
       "              -1.5496e-02, -3.4318e-02],\n",
       "             [ 3.9024e-02,  8.4203e-02,  2.1877e-01,  ..., -1.4974e-01,\n",
       "              -4.1778e-01,  4.1927e-02],\n",
       "             [-1.3519e-01,  8.4155e-02,  2.4092e-02,  ..., -4.7115e-03,\n",
       "              -1.7171e-01,  6.8916e-02]],\n",
       "  \n",
       "            [[ 4.0122e-02,  8.3225e-02,  3.7676e-01,  ..., -2.3037e-01,\n",
       "              -1.3438e-01,  3.7128e-02],\n",
       "             [-7.2925e-03,  8.9769e-02,  2.7017e-01,  ..., -1.3587e-01,\n",
       "              -4.6962e-01,  4.8678e-02],\n",
       "             [-1.5093e-01,  4.4651e-02, -2.4207e-03,  ...,  2.3472e-02,\n",
       "               5.0530e-02,  4.1756e-02]],\n",
       "  \n",
       "            [[-3.5279e-02,  1.0005e-01,  1.3540e-01,  ..., -1.7039e-01,\n",
       "              -6.9834e-02,  4.6000e-02],\n",
       "             [-1.2602e-01,  1.0265e-01,  8.6545e-02,  ..., -2.6971e-02,\n",
       "              -1.9620e-02,  2.3728e-03],\n",
       "             [ 1.0349e-01, -8.2638e-02, -8.8501e-02,  ..., -8.3405e-02,\n",
       "               2.3797e-01, -1.5210e-03]]],\n",
       "  \n",
       "  \n",
       "           [[[-1.9142e-01,  4.4085e-02,  2.0696e-01,  ..., -1.4366e-01,\n",
       "               9.7387e-04, -9.0227e-03],\n",
       "             [-1.3294e-01, -4.1488e-02,  2.4861e-03,  ..., -9.5165e-02,\n",
       "              -4.3555e-03,  3.6534e-02],\n",
       "             [ 1.7994e-01, -7.7061e-04, -1.7153e-01,  ..., -1.9927e-01,\n",
       "               3.7387e-02, -1.5338e-01]],\n",
       "  \n",
       "            [[-1.5751e-01, -3.2769e-02, -7.2254e-02,  ..., -1.2308e-01,\n",
       "               2.7897e-02, -6.6616e-02],\n",
       "             [-2.0270e-01, -3.9609e-02, -2.0653e-01,  ..., -1.1675e-01,\n",
       "              -9.2419e-02,  8.6719e-02],\n",
       "             [ 1.7397e-01,  3.3135e-02, -1.0262e-01,  ..., -3.6404e-02,\n",
       "               2.2127e-02, -1.5683e-02]],\n",
       "  \n",
       "            [[-1.8460e-02, -1.2232e-01, -2.2678e-01,  ..., -1.6438e-01,\n",
       "               1.2211e-02,  4.3203e-03],\n",
       "             [ 1.2745e-01, -9.6544e-02, -1.7672e-01,  ..., -1.3732e-01,\n",
       "               4.9696e-02,  6.0200e-02],\n",
       "             [ 1.7807e-01, -7.3792e-04, -1.1406e-01,  ..., -5.7756e-02,\n",
       "              -2.7338e-02,  1.1868e-01]]]],\n",
       "  \n",
       "  \n",
       "  \n",
       "          [[[[-5.1322e-02, -4.4175e-02,  4.7265e-02,  ...,  2.8991e-02,\n",
       "              -9.8732e-02,  1.1527e-01],\n",
       "             [-1.3396e-01,  5.7808e-02,  1.3749e-02,  ...,  7.6496e-02,\n",
       "              -1.2980e-01,  1.0918e-01],\n",
       "             [ 5.8987e-02,  4.0714e-02, -7.0099e-02,  ..., -3.5089e-03,\n",
       "              -4.4626e-02,  7.6324e-02]],\n",
       "  \n",
       "            [[-8.6806e-02, -1.4486e-01,  1.1530e-01,  ...,  1.8551e-01,\n",
       "              -1.7748e-01,  1.0273e-01],\n",
       "             [-2.0893e-01, -4.0489e-02, -2.0882e-02,  ...,  1.2503e-01,\n",
       "              -1.4683e-01, -7.8633e-03],\n",
       "             [-3.7507e-02, -4.8616e-02, -2.1030e-02,  ..., -3.3007e-02,\n",
       "               6.1226e-02, -1.0666e-01]],\n",
       "  \n",
       "            [[-5.1825e-02, -1.3064e-01, -4.9549e-02,  ...,  1.0516e-01,\n",
       "              -1.5337e-01, -1.2638e-02],\n",
       "             [-1.1027e-01,  3.1282e-02,  1.0754e-02,  ...,  8.4511e-02,\n",
       "               3.2321e-02,  7.8946e-03],\n",
       "             [-1.2553e-01, -3.6116e-03, -3.3569e-02,  ..., -2.1223e-02,\n",
       "               7.3025e-02,  6.2130e-03]]],\n",
       "  \n",
       "  \n",
       "           [[[-2.4994e-01,  9.1952e-02, -8.2602e-02,  ...,  8.5917e-02,\n",
       "               4.2338e-02, -2.9093e-04],\n",
       "             [-2.0015e-01, -6.6630e-02, -6.5957e-02,  ...,  1.1172e-01,\n",
       "              -1.0612e-01,  6.4082e-02],\n",
       "             [-2.7432e-03, -1.2032e-01, -9.8521e-02,  ..., -1.0313e-02,\n",
       "              -2.7574e-01,  6.8059e-02]],\n",
       "  \n",
       "            [[-2.5526e-01, -3.6058e-02, -1.5970e-02,  ...,  1.3169e-01,\n",
       "              -1.3400e-01, -3.5655e-02],\n",
       "             [-3.3573e-01, -1.2774e-01,  3.2278e-02,  ...,  1.1098e-01,\n",
       "              -2.7900e-01,  7.4043e-02],\n",
       "             [-1.5908e-01, -1.4707e-01,  8.8584e-02,  ..., -1.9284e-02,\n",
       "              -3.6275e-02,  3.4762e-02]],\n",
       "  \n",
       "            [[-4.6523e-02, -7.8814e-02, -6.6125e-02,  ...,  5.4858e-02,\n",
       "              -1.1081e-01,  2.3439e-02],\n",
       "             [-1.5146e-01, -1.1741e-01,  5.2085e-02,  ...,  2.3925e-02,\n",
       "              -3.5059e-02, -1.5582e-02],\n",
       "             [-2.8101e-02, -2.5045e-01,  7.7551e-02,  ..., -6.6427e-02,\n",
       "               1.4748e-01, -2.2829e-02]]],\n",
       "  \n",
       "  \n",
       "           [[[-1.7679e-01,  9.6944e-02, -1.0527e-01,  ...,  9.3850e-02,\n",
       "               6.2327e-02, -4.0428e-02],\n",
       "             [-4.4991e-02, -7.3525e-02, -8.0042e-02,  ..., -5.6962e-02,\n",
       "              -1.6304e-01,  4.7850e-02],\n",
       "             [ 7.1104e-02, -1.2966e-01, -7.8303e-02,  ..., -2.0876e-02,\n",
       "              -1.9315e-01,  9.1631e-02]],\n",
       "  \n",
       "            [[-1.6221e-01, -4.9420e-02, -7.3942e-02,  ...,  3.7893e-02,\n",
       "              -6.0192e-02, -1.1044e-01],\n",
       "             [-3.5066e-01, -6.0986e-02,  6.3497e-02,  ...,  5.0554e-02,\n",
       "              -1.9734e-01,  9.2031e-02],\n",
       "             [-1.4701e-01, -3.2746e-02,  5.4275e-02,  ..., -3.1429e-02,\n",
       "              -2.1028e-01,  9.4056e-02]],\n",
       "  \n",
       "            [[ 8.5680e-04,  2.3901e-02, -1.0242e-02,  ..., -1.3657e-02,\n",
       "              -2.9067e-02, -3.5994e-02],\n",
       "             [-8.4065e-02, -1.9811e-02,  9.5614e-02,  ..., -3.5591e-02,\n",
       "              -5.7336e-02, -3.5365e-02],\n",
       "             [-7.0065e-02, -2.7490e-02,  4.9505e-02,  ..., -1.1538e-01,\n",
       "               1.1562e-01, -2.4806e-03]]]],\n",
       "  \n",
       "  \n",
       "  \n",
       "          [[[[ 9.7100e-02, -7.2753e-02, -1.5215e-01,  ..., -9.0790e-02,\n",
       "              -1.3998e-01, -4.7601e-03],\n",
       "             [-1.9787e-01, -8.3370e-02, -1.1002e-01,  ..., -1.4705e-01,\n",
       "               5.5410e-02,  7.9143e-02],\n",
       "             [-2.6225e-01, -1.8611e-03, -3.3829e-02,  ..., -9.9271e-02,\n",
       "               2.0114e-01,  7.7582e-02]],\n",
       "  \n",
       "            [[ 1.3621e-01,  1.2569e-02, -3.1892e-01,  ...,  5.6806e-02,\n",
       "              -3.9409e-03, -3.5025e-02],\n",
       "             [-2.7713e-01,  2.3448e-03, -2.6130e-01,  ..., -9.8215e-02,\n",
       "              -3.1388e-02,  5.3963e-02],\n",
       "             [-3.7810e-01, -4.0146e-02, -1.4446e-01,  ...,  2.1143e-03,\n",
       "               1.6022e-01,  3.9550e-02]],\n",
       "  \n",
       "            [[ 1.2075e-01,  4.0627e-02, -7.1462e-03,  ...,  4.6898e-03,\n",
       "              -7.9654e-02, -1.2413e-02],\n",
       "             [-1.3998e-01,  3.1173e-02, -1.2696e-01,  ...,  8.4183e-03,\n",
       "              -8.2903e-02, -4.3107e-02],\n",
       "             [-1.1920e-01,  9.8971e-03, -1.5910e-01,  ...,  6.7885e-02,\n",
       "              -8.8392e-02, -7.3351e-02]]],\n",
       "  \n",
       "  \n",
       "           [[[ 1.7191e-01,  1.0364e-01, -9.5686e-02,  ..., -2.7505e-02,\n",
       "              -6.2547e-02,  4.4894e-02],\n",
       "             [-5.5004e-02, -5.1110e-02, -1.9094e-01,  ..., -1.9616e-01,\n",
       "               3.1157e-03,  8.9519e-02],\n",
       "             [-1.0662e-01,  5.5217e-02, -1.2035e-01,  ..., -1.7582e-01,\n",
       "               1.5932e-01,  1.2370e-01]],\n",
       "  \n",
       "            [[-2.5149e-02, -2.2384e-03, -2.3410e-01,  ...,  7.1536e-02,\n",
       "              -1.3198e-01, -1.9413e-01],\n",
       "             [-2.6482e-01, -1.5527e-02, -2.1927e-01,  ..., -1.4642e-01,\n",
       "               6.2266e-02,  4.0604e-02],\n",
       "             [-2.0804e-01,  5.0006e-02, -1.3336e-01,  ..., -1.0611e-01,\n",
       "               1.9648e-01,  5.5597e-02]],\n",
       "  \n",
       "            [[ 5.3690e-02, -1.1980e-01, -3.6459e-02,  ...,  1.1858e-01,\n",
       "              -2.4893e-01, -1.2221e-01],\n",
       "             [-4.4200e-02, -2.1615e-02, -1.2310e-01,  ...,  2.7002e-02,\n",
       "              -2.4538e-02, -4.3221e-03],\n",
       "             [-1.0042e-02,  2.1725e-02, -1.0422e-01,  ...,  1.9648e-02,\n",
       "              -1.6593e-02, -4.7655e-02]]],\n",
       "  \n",
       "  \n",
       "           [[[ 5.3754e-02,  1.2098e-01, -4.1895e-02,  ...,  6.3149e-02,\n",
       "              -7.6614e-03, -3.5108e-02],\n",
       "             [-1.1492e-02,  5.4297e-02, -1.1648e-01,  ..., -2.4684e-01,\n",
       "              -3.8026e-02,  1.2966e-01],\n",
       "             [-4.5923e-02, -5.6217e-02,  3.7342e-02,  ..., -2.3121e-01,\n",
       "              -5.1396e-02,  1.2922e-01]],\n",
       "  \n",
       "            [[ 1.2570e-01,  1.2498e-01,  3.8721e-03,  ...,  2.1598e-02,\n",
       "              -8.7679e-02, -1.4858e-02],\n",
       "             [-1.2418e-01,  5.5271e-02, -1.0375e-01,  ..., -8.7215e-02,\n",
       "              -1.3558e-01,  2.6596e-02],\n",
       "             [-1.5184e-01,  2.9188e-02,  6.2159e-02,  ..., -2.5646e-01,\n",
       "              -3.0031e-02,  5.2615e-02]],\n",
       "  \n",
       "            [[ 5.9016e-03, -5.5131e-02,  1.9069e-02,  ..., -3.8086e-02,\n",
       "              -8.5164e-02, -9.3130e-02],\n",
       "             [-7.7230e-02,  1.3022e-01, -2.6808e-02,  ..., -2.8844e-02,\n",
       "              -7.4268e-04, -4.0975e-03],\n",
       "             [-4.7365e-03,  9.9683e-02,  1.0640e-01,  ..., -1.3059e-01,\n",
       "               1.0479e-01, -1.0906e-02]]]]]),\n",
       "  [21, 720, 720],\n",
       "  1],\n",
       " 'conv2d': [tensor([[[[5.0874e-02, 0.0000e+00, 0.0000e+00,  ..., 0.0000e+00,\n",
       "             0.0000e+00, 1.0528e-02],\n",
       "            [0.0000e+00, 0.0000e+00, 0.0000e+00,  ..., 1.1271e-02,\n",
       "             0.0000e+00, 0.0000e+00],\n",
       "            [4.8424e-02, 0.0000e+00, 0.0000e+00,  ..., 0.0000e+00,\n",
       "             0.0000e+00, 1.2286e-01],\n",
       "            ...,\n",
       "            [0.0000e+00, 0.0000e+00, 0.0000e+00,  ..., 7.4455e-02,\n",
       "             0.0000e+00, 1.6685e-01],\n",
       "            [0.0000e+00, 0.0000e+00, 0.0000e+00,  ..., 0.0000e+00,\n",
       "             0.0000e+00, 4.1200e-02],\n",
       "            [1.8485e-01, 1.0109e-01, 0.0000e+00,  ..., 2.6298e-01,\n",
       "             1.4662e-01, 3.7477e-01]],\n",
       "  \n",
       "           [[2.9733e-01, 3.3199e-01, 3.5073e-01,  ..., 3.2429e-01,\n",
       "             2.8095e-01, 2.8242e-01],\n",
       "            [2.6020e-01, 2.7882e-01, 2.6722e-01,  ..., 2.3780e-01,\n",
       "             2.3927e-01, 2.7307e-01],\n",
       "            [3.0565e-01, 3.7956e-01, 3.2087e-01,  ..., 2.5344e-01,\n",
       "             2.5953e-01, 2.9571e-01],\n",
       "            ...,\n",
       "            [1.9706e-01, 2.4138e-01, 2.7571e-01,  ..., 1.5244e-01,\n",
       "             2.1821e-01, 2.9490e-01],\n",
       "            [1.7854e-01, 2.2567e-01, 2.3775e-01,  ..., 9.4436e-02,\n",
       "             1.4282e-01, 2.4628e-01],\n",
       "            [3.4076e-01, 3.6393e-01, 3.2584e-01,  ..., 3.1083e-01,\n",
       "             3.2806e-01, 3.7878e-01]],\n",
       "  \n",
       "           [[3.6525e-01, 4.2518e-01, 3.1929e-01,  ..., 3.7798e-01,\n",
       "             3.6042e-01, 4.0502e-01],\n",
       "            [2.3823e-01, 2.3466e-01, 1.3251e-01,  ..., 1.5103e-01,\n",
       "             2.3442e-01, 3.4614e-01],\n",
       "            [3.0751e-01, 2.8895e-01, 1.8416e-01,  ..., 1.3199e-01,\n",
       "             2.0567e-01, 3.4755e-01],\n",
       "            ...,\n",
       "            [2.0750e-01, 1.4920e-01, 1.1121e-01,  ..., 1.6452e-01,\n",
       "             3.3142e-01, 3.9581e-01],\n",
       "            [2.4474e-01, 2.4654e-01, 2.0114e-01,  ..., 3.2173e-01,\n",
       "             4.0914e-01, 4.4024e-01],\n",
       "            [3.3017e-01, 3.8611e-01, 3.3855e-01,  ..., 4.5874e-01,\n",
       "             4.3914e-01, 5.0588e-01]],\n",
       "  \n",
       "           ...,\n",
       "  \n",
       "           [[4.5739e-04, 8.7542e-02, 1.1463e-03,  ..., 1.1422e-01,\n",
       "             0.0000e+00, 1.4187e-01],\n",
       "            [0.0000e+00, 0.0000e+00, 0.0000e+00,  ..., 0.0000e+00,\n",
       "             0.0000e+00, 0.0000e+00],\n",
       "            [7.2566e-02, 1.2673e-01, 0.0000e+00,  ..., 1.2026e-01,\n",
       "             0.0000e+00, 1.3626e-01],\n",
       "            ...,\n",
       "            [0.0000e+00, 0.0000e+00, 0.0000e+00,  ..., 0.0000e+00,\n",
       "             0.0000e+00, 0.0000e+00],\n",
       "            [0.0000e+00, 0.0000e+00, 0.0000e+00,  ..., 0.0000e+00,\n",
       "             0.0000e+00, 9.2595e-02],\n",
       "            [0.0000e+00, 4.9633e-03, 0.0000e+00,  ..., 0.0000e+00,\n",
       "             0.0000e+00, 1.0467e-01]],\n",
       "  \n",
       "           [[9.4785e-01, 1.0018e+00, 8.2801e-01,  ..., 7.5192e-01,\n",
       "             8.8664e-01, 8.9367e-01],\n",
       "            [8.8562e-01, 9.8312e-01, 8.2325e-01,  ..., 8.8055e-01,\n",
       "             1.0335e+00, 1.0107e+00],\n",
       "            [8.0280e-01, 8.4273e-01, 6.8547e-01,  ..., 8.0319e-01,\n",
       "             8.5484e-01, 8.1335e-01],\n",
       "            ...,\n",
       "            [7.5968e-01, 7.8443e-01, 6.1525e-01,  ..., 6.8893e-01,\n",
       "             8.7441e-01, 8.1851e-01],\n",
       "            [9.3993e-01, 1.0510e+00, 7.8409e-01,  ..., 9.8878e-01,\n",
       "             1.1241e+00, 9.8779e-01],\n",
       "            [8.8557e-01, 8.9493e-01, 7.9588e-01,  ..., 8.2133e-01,\n",
       "             9.3910e-01, 8.5930e-01]],\n",
       "  \n",
       "           [[5.4110e-01, 5.0907e-01, 4.3042e-01,  ..., 4.1105e-01,\n",
       "             4.2995e-01, 4.9085e-01],\n",
       "            [4.6684e-01, 5.9313e-01, 3.9006e-01,  ..., 4.7550e-01,\n",
       "             4.8569e-01, 5.3820e-01],\n",
       "            [5.1488e-01, 5.3702e-01, 4.0654e-01,  ..., 3.5976e-01,\n",
       "             4.8482e-01, 5.2092e-01],\n",
       "            ...,\n",
       "            [3.7157e-01, 4.5211e-01, 2.8244e-01,  ..., 2.4683e-01,\n",
       "             3.7438e-01, 3.8417e-01],\n",
       "            [3.3979e-01, 3.3591e-01, 2.5584e-01,  ..., 2.4343e-01,\n",
       "             3.4509e-01, 3.1208e-01],\n",
       "            [3.4278e-01, 3.9146e-01, 3.0001e-01,  ..., 3.3231e-01,\n",
       "             3.0968e-01, 3.1622e-01]]]]),\n",
       "  tensor([[[[ 0.0308,  0.0107,  0.0641],\n",
       "            [ 0.0147,  0.0062,  0.0295],\n",
       "            [-0.0260,  0.0772,  0.1125]],\n",
       "  \n",
       "           [[ 0.1566, -0.0624, -0.1391],\n",
       "            [ 0.0523,  0.0409,  0.0601],\n",
       "            [ 0.1155,  0.0124,  0.1510]],\n",
       "  \n",
       "           [[ 0.0248, -0.0960, -0.0624],\n",
       "            [ 0.0869, -0.0222, -0.1012],\n",
       "            [-0.1396, -0.0323, -0.1372]],\n",
       "  \n",
       "           ...,\n",
       "  \n",
       "           [[ 0.0448,  0.0201,  0.0032],\n",
       "            [ 0.0207,  0.0547,  0.0802],\n",
       "            [ 0.0609,  0.0848, -0.0314]],\n",
       "  \n",
       "           [[-0.0527, -0.0450,  0.0568],\n",
       "            [-0.0273, -0.0584,  0.0423],\n",
       "            [-0.0635,  0.0200,  0.0057]],\n",
       "  \n",
       "           [[-0.0370,  0.0759,  0.1603],\n",
       "            [-0.0639, -0.0190,  0.0545],\n",
       "            [-0.1563,  0.0378,  0.1597]]],\n",
       "  \n",
       "  \n",
       "          [[[-0.1818, -0.0459, -0.0159],\n",
       "            [-0.0581, -0.0415, -0.0116],\n",
       "            [ 0.0531,  0.0505, -0.0254]],\n",
       "  \n",
       "           [[ 0.0050, -0.0054,  0.0830],\n",
       "            [ 0.0639, -0.0009, -0.0097],\n",
       "            [ 0.1061, -0.0135,  0.0588]],\n",
       "  \n",
       "           [[ 0.1223,  0.0983,  0.0736],\n",
       "            [ 0.0854,  0.1097,  0.0962],\n",
       "            [-0.0132, -0.0192, -0.0548]],\n",
       "  \n",
       "           ...,\n",
       "  \n",
       "           [[ 0.0532, -0.0081,  0.0396],\n",
       "            [ 0.0162, -0.0473,  0.0149],\n",
       "            [ 0.0768,  0.0151,  0.0706]],\n",
       "  \n",
       "           [[ 0.0908,  0.0314, -0.0648],\n",
       "            [-0.0303,  0.1505,  0.0379],\n",
       "            [-0.1514,  0.0213,  0.1549]],\n",
       "  \n",
       "           [[-0.0421, -0.1526, -0.1980],\n",
       "            [-0.1248, -0.1646, -0.0850],\n",
       "            [-0.1957, -0.1326, -0.0734]]],\n",
       "  \n",
       "  \n",
       "          [[[ 0.0316, -0.0670, -0.0487],\n",
       "            [-0.0251,  0.0192, -0.0487],\n",
       "            [-0.1678, -0.1015,  0.0951]],\n",
       "  \n",
       "           [[ 0.1094, -0.0264, -0.2628],\n",
       "            [ 0.0630, -0.0229, -0.1834],\n",
       "            [-0.0715,  0.1443,  0.0086]],\n",
       "  \n",
       "           [[ 0.1264,  0.0608, -0.0557],\n",
       "            [ 0.0679, -0.0777, -0.0973],\n",
       "            [-0.0087, -0.0443, -0.0116]],\n",
       "  \n",
       "           ...,\n",
       "  \n",
       "           [[ 0.0303, -0.0807,  0.0296],\n",
       "            [ 0.0020, -0.0435, -0.0407],\n",
       "            [ 0.0085, -0.0017,  0.1080]],\n",
       "  \n",
       "           [[-0.0782,  0.0313,  0.1558],\n",
       "            [-0.0847,  0.0581,  0.1812],\n",
       "            [-0.0888,  0.0740,  0.0439]],\n",
       "  \n",
       "           [[-0.1287, -0.0106,  0.0171],\n",
       "            [-0.0837,  0.1263,  0.0841],\n",
       "            [-0.1123,  0.0114,  0.1232]]],\n",
       "  \n",
       "  \n",
       "          ...,\n",
       "  \n",
       "  \n",
       "          [[[-0.4018, -0.2649, -0.0710],\n",
       "            [-0.0014,  0.0797, -0.1501],\n",
       "            [-0.3254,  0.0697, -0.0341]],\n",
       "  \n",
       "           [[-0.1522, -0.1401,  0.1130],\n",
       "            [-0.1642, -0.0216,  0.1359],\n",
       "            [-0.1197, -0.1072,  0.1291]],\n",
       "  \n",
       "           [[-0.1206, -0.1528, -0.0145],\n",
       "            [-0.0328, -0.1917,  0.1128],\n",
       "            [-0.1667, -0.2109,  0.1861]],\n",
       "  \n",
       "           ...,\n",
       "  \n",
       "           [[-0.1404,  0.0754, -0.0866],\n",
       "            [-0.0814,  0.1030, -0.0364],\n",
       "            [ 0.0055,  0.0432, -0.1187]],\n",
       "  \n",
       "           [[ 0.1675,  0.1437,  0.1554],\n",
       "            [ 0.0534, -0.0396,  0.1179],\n",
       "            [ 0.2082,  0.1222,  0.2096]],\n",
       "  \n",
       "           [[-0.0079,  0.1167, -0.0893],\n",
       "            [ 0.1820,  0.0690, -0.2093],\n",
       "            [ 0.1196,  0.1103, -0.2288]]],\n",
       "  \n",
       "  \n",
       "          [[[ 0.0506, -0.0369, -0.2036],\n",
       "            [-0.0385, -0.2391, -0.0829],\n",
       "            [-0.1065, -0.3157, -0.1825]],\n",
       "  \n",
       "           [[-0.1915,  0.0400,  0.1235],\n",
       "            [-0.1434,  0.0596,  0.0211],\n",
       "            [-0.1261,  0.0029, -0.0459]],\n",
       "  \n",
       "           [[-0.0527, -0.0354, -0.0149],\n",
       "            [-0.0031,  0.1150, -0.1221],\n",
       "            [-0.1367, -0.0004,  0.0836]],\n",
       "  \n",
       "           ...,\n",
       "  \n",
       "           [[ 0.0250,  0.1991,  0.2763],\n",
       "            [ 0.0190,  0.2088,  0.2540],\n",
       "            [-0.0853,  0.1154,  0.1511]],\n",
       "  \n",
       "           [[ 0.0828,  0.1143,  0.2315],\n",
       "            [ 0.0922,  0.0912,  0.1466],\n",
       "            [ 0.1256,  0.0429,  0.0237]],\n",
       "  \n",
       "           [[-0.0745,  0.0549, -0.0226],\n",
       "            [-0.1535, -0.0844, -0.2128],\n",
       "            [-0.2233, -0.1387, -0.0351]]],\n",
       "  \n",
       "  \n",
       "          [[[ 0.0971,  0.0431,  0.0691],\n",
       "            [-0.0752,  0.0495, -0.0757],\n",
       "            [-0.1004, -0.0631,  0.0743]],\n",
       "  \n",
       "           [[ 0.0873,  0.0845,  0.1563],\n",
       "            [ 0.1537, -0.0288,  0.0394],\n",
       "            [ 0.0151, -0.0561,  0.0673]],\n",
       "  \n",
       "           [[-0.1564,  0.0891,  0.0558],\n",
       "            [-0.1515, -0.0190,  0.1106],\n",
       "            [ 0.0190, -0.1580, -0.0467]],\n",
       "  \n",
       "           ...,\n",
       "  \n",
       "           [[ 0.0930,  0.0184,  0.0342],\n",
       "            [ 0.0208,  0.1402, -0.0447],\n",
       "            [ 0.0460,  0.1247,  0.0331]],\n",
       "  \n",
       "           [[ 0.0914,  0.2283,  0.1871],\n",
       "            [-0.1391, -0.0828,  0.1020],\n",
       "            [ 0.0792,  0.1360,  0.1816]],\n",
       "  \n",
       "           [[ 0.1570,  0.2186, -0.0771],\n",
       "            [ 0.0206,  0.1109,  0.0171],\n",
       "            [ 0.1382,  0.0961,  0.1481]]]])]}"
      ]
     },
     "execution_count": 6,
     "metadata": {},
     "output_type": "execute_result"
    }
   ],
   "source": [
    "data_dict"
   ]
  },
  {
   "cell_type": "markdown",
   "id": "54dc0ec5-1f41-4955-8f23-52d63de864da",
   "metadata": {},
   "source": [
    "## For conv2d"
   ]
  },
  {
   "cell_type": "code",
   "execution_count": 7,
   "id": "3d46e4a5-9d8e-45e3-a24c-a14450548263",
   "metadata": {},
   "outputs": [],
   "source": [
    "x, w = data_dict['conv2d']"
   ]
  },
  {
   "cell_type": "code",
   "execution_count": 8,
   "id": "f60582ed-70d1-4320-84f3-0e746f43897b",
   "metadata": {},
   "outputs": [],
   "source": [
    "conv2d = nn.Conv2d(\n",
    "    in_channels=64, \n",
    "    out_channels=64, \n",
    "    kernel_size=3, \n",
    "    stride=1,\n",
    "    padding=1,\n",
    "    bias=False\n",
    ")"
   ]
  },
  {
   "cell_type": "code",
   "execution_count": 9,
   "id": "eb5f0216-7ce2-4072-b5be-7ff32ad1b47e",
   "metadata": {},
   "outputs": [],
   "source": [
    "conv2d.weight.data = w.clone()"
   ]
  },
  {
   "cell_type": "code",
   "execution_count": 10,
   "id": "24cb7af7-ff26-49e7-9ef4-c85ffc5e161e",
   "metadata": {},
   "outputs": [
    {
     "data": {
      "text/plain": [
       "Conv2d(64, 64, kernel_size=(3, 3), stride=(1, 1), padding=(1, 1), bias=False)"
      ]
     },
     "execution_count": 10,
     "metadata": {},
     "output_type": "execute_result"
    }
   ],
   "source": [
    "x = x.to('cuda')\n",
    "conv2d.to('cuda')"
   ]
  },
  {
   "cell_type": "code",
   "execution_count": 11,
   "id": "721bb7d4-276e-4daf-894a-94a39336f8a3",
   "metadata": {},
   "outputs": [],
   "source": [
    "class Conv2dWrapper(nn.Module):\n",
    "    def __init__(self, conv2d, act_num_bits=8, weight_num_bits=8):\n",
    "        super().__init__()\n",
    "        self.conv2d = conv2d\n",
    "        self.l1loss = torch.nn.L1Loss()\n",
    "        weight = conv2d.weight.data.clone()\n",
    "\n",
    "        # weight quantizer\n",
    "        w_desc = QuantDescriptor(\n",
    "            num_bits=weight_num_bits\n",
    "        )\n",
    "        self.w_quant = TensorQuantizer(w_desc)\n",
    "\n",
    "        # quantize weight\n",
    "        self.conv2d.weight.data = self.w_quant(self.conv2d.weight.data)\n",
    "        print(\"weight quant loss:\", self.l1loss(weight, self.conv2d.weight.data))\n",
    "\n",
    "        # activation quantizer\n",
    "        act_desc = QuantDescriptor(\n",
    "            num_bits=act_num_bits\n",
    "        )\n",
    "        self.act_quant = TensorQuantizer(act_desc)\n",
    "        \n",
    "    def forward(self, x):\n",
    "        ori_x = x.clone()\n",
    "        x = self.act_quant(x)\n",
    "        print(\"act quant loss:\", self.l1loss(ori_x, x))\n",
    "        return self.conv2d(x)"
   ]
  },
  {
   "cell_type": "code",
   "execution_count": 12,
   "id": "e6cd1cea-0f42-4be5-a191-60e0a5412561",
   "metadata": {},
   "outputs": [
    {
     "name": "stdout",
     "output_type": "stream",
     "text": [
      "weight quant loss: tensor(0.0036, device='cuda:0')\n"
     ]
    }
   ],
   "source": [
    "q_conv2d = Conv2dWrapper(conv2d, 8, 8)"
   ]
  },
  {
   "cell_type": "code",
   "execution_count": 13,
   "id": "c9c3913b-b2b3-4de6-83a7-6ce9db536248",
   "metadata": {},
   "outputs": [
    {
     "name": "stdout",
     "output_type": "stream",
     "text": [
      "act quant loss: tensor(0.0408, device='cuda:0')\n"
     ]
    }
   ],
   "source": [
    "ori_x = conv2d(x)\n",
    "quant_x = q_conv2d(x)"
   ]
  },
  {
   "cell_type": "code",
   "execution_count": 14,
   "id": "4dfc6793-4923-40f1-841d-576c88c44235",
   "metadata": {},
   "outputs": [
    {
     "data": {
      "image/png": "[encoded data removed]",
      "text/plain": [
       "<Figure size 640x480 with 1 Axes>"
      ]
     },
     "metadata": {},
     "output_type": "display_data"
    }
   ],
   "source": [
    "hist, bin_edges = torch.histogram(ori_x.to('cpu'), bins=10000)\n",
    "\n",
    "plot_x = ori_x.to('cpu').detach().flatten().numpy()\n",
    "\n",
    "plt.hist(plot_x, bins=bin_edges.detach().numpy()) \n",
    "plt.xlim(-5, 5)\n",
    "plt.title(\"Histogram of the unquantized outputs of Conv2d\")\n",
    "plt.xlabel(\"Value\")\n",
    "plt.ylabel(\"Frequency\")\n",
    "plt.savefig('conv2d.png', dpi=400, bbox_inches='tight')\n",
    "plt.show()"
   ]
  },
  {
   "cell_type": "code",
   "execution_count": 15,
   "id": "50532a84-c3e4-451c-af7c-279ea24f40a6",
   "metadata": {},
   "outputs": [
    {
     "data": {
      "text/plain": [
       "3.4084885"
      ]
     },
     "execution_count": 15,
     "metadata": {},
     "output_type": "execute_result"
    }
   ],
   "source": [
    "np.std(plot_x)"
   ]
  },
  {
   "cell_type": "code",
   "execution_count": 16,
   "id": "66c87a10-0b3b-42ce-a87e-bf89a75b95d6",
   "metadata": {},
   "outputs": [
    {
     "data": {
      "text/plain": [
       "-0.244881"
      ]
     },
     "execution_count": 16,
     "metadata": {},
     "output_type": "execute_result"
    }
   ],
   "source": [
    "np.mean(plot_x)"
   ]
  },
  {
   "cell_type": "code",
   "execution_count": 17,
   "id": "7a745419-f06b-47a3-b79e-7272421f7a5a",
   "metadata": {},
   "outputs": [
    {
     "data": {
      "text/plain": [
       "92.33934"
      ]
     },
     "execution_count": 17,
     "metadata": {},
     "output_type": "execute_result"
    }
   ],
   "source": [
    "np.max(plot_x)"
   ]
  },
  {
   "cell_type": "code",
   "execution_count": 18,
   "id": "5ebf00be-9fdb-44c3-b34d-5949c53a5a2b",
   "metadata": {},
   "outputs": [
    {
     "data": {
      "text/plain": [
       "-245.7108"
      ]
     },
     "execution_count": 18,
     "metadata": {},
     "output_type": "execute_result"
    }
   ],
   "source": [
    "np.min(plot_x)"
   ]
  },
  {
   "cell_type": "code",
   "execution_count": 19,
   "id": "e167e086-59f6-4dc0-8724-67f35d158aab",
   "metadata": {},
   "outputs": [],
   "source": [
    "l1loss = nn.L1Loss()"
   ]
  },
  {
   "cell_type": "code",
   "execution_count": 20,
   "id": "1583445d-b83e-403c-935e-556c86a600ea",
   "metadata": {},
   "outputs": [
    {
     "data": {
      "text/plain": [
       "tensor(0.2195, device='cuda:0', grad_fn=<MeanBackward0>)"
      ]
     },
     "execution_count": 20,
     "metadata": {},
     "output_type": "execute_result"
    }
   ],
   "source": [
    "l1loss(ori_x, quant_x)"
   ]
  },
  {
   "cell_type": "code",
   "execution_count": null,
   "id": "e0f8e6af-739d-40a9-bda0-8765150caf43",
   "metadata": {},
   "outputs": [],
   "source": []
  },
  {
   "cell_type": "code",
   "execution_count": 21,
   "id": "0b50ee09-01ef-402f-9782-86c49f0191f3",
   "metadata": {},
   "outputs": [
    {
     "name": "stdout",
     "output_type": "stream",
     "text": [
      "weight quant loss: tensor(0.0638, device='cuda:0')\n"
     ]
    }
   ],
   "source": [
    "q_conv2d = Conv2dWrapper(conv2d, 8, 4)"
   ]
  },
  {
   "cell_type": "code",
   "execution_count": 22,
   "id": "9146adfd-e720-4f6d-a05e-a7570af76b02",
   "metadata": {},
   "outputs": [
    {
     "name": "stdout",
     "output_type": "stream",
     "text": [
      "act quant loss: tensor(0.0408, device='cuda:0')\n"
     ]
    }
   ],
   "source": [
    "ori_x = conv2d(x)\n",
    "quant_x = q_conv2d(x)"
   ]
  },
  {
   "cell_type": "code",
   "execution_count": 23,
   "id": "94dbfec7-273c-464a-8b31-be57ad70318f",
   "metadata": {},
   "outputs": [],
   "source": [
    "l1loss = nn.L1Loss()"
   ]
  },
  {
   "cell_type": "code",
   "execution_count": 24,
   "id": "4f8bbfa0-d7d3-4157-9dbb-ad2312a7e640",
   "metadata": {},
   "outputs": [
    {
     "data": {
      "text/plain": [
       "tensor(0.2249, device='cuda:0', grad_fn=<MeanBackward0>)"
      ]
     },
     "execution_count": 24,
     "metadata": {},
     "output_type": "execute_result"
    }
   ],
   "source": [
    "l1loss(ori_x, quant_x)"
   ]
  },
  {
   "cell_type": "markdown",
   "id": "1fce4653-66f4-4846-ab6e-86d741577894",
   "metadata": {},
   "source": [
    "## For sparseconv3d"
   ]
  },
  {
   "cell_type": "code",
   "execution_count": 25,
   "id": "9386bab1-ae6a-4cd1-b9f8-5259298f96ec",
   "metadata": {},
   "outputs": [],
   "source": [
    "features, indices, weight, spatial_shape, batch_size = data_dict['sparse']\n",
    "features = features.to('cuda')\n",
    "indices = indices.to('cuda')\n",
    "x = spconv.SparseConvTensor(features, indices, spatial_shape, batch_size)"
   ]
  },
  {
   "cell_type": "code",
   "execution_count": 26,
   "id": "aabde6d6-7d15-4bcf-ba6e-7cfa168bd4cf",
   "metadata": {},
   "outputs": [
    {
     "data": {
      "text/plain": [
       "SparseConvTensor[shape=torch.Size([26754, 32])]"
      ]
     },
     "execution_count": 26,
     "metadata": {},
     "output_type": "execute_result"
    }
   ],
   "source": [
    "x"
   ]
  },
  {
   "cell_type": "code",
   "execution_count": 27,
   "id": "83205512-84ab-45e6-a5e6-fe7b77465bee",
   "metadata": {},
   "outputs": [],
   "source": [
    "spconv3d = spconv.SparseConv3d(\n",
    "    in_channels=32, \n",
    "    out_channels=64, \n",
    "    kernel_size=3, \n",
    "    stride=2, \n",
    "    padding=1,\n",
    "    dilation=1,\n",
    "    bias=False\n",
    ")"
   ]
  },
  {
   "cell_type": "code",
   "execution_count": 28,
   "id": "b1c251a6-aeac-459c-82ae-55dca35b1e55",
   "metadata": {},
   "outputs": [],
   "source": [
    "spconv3d.weight.data = weight.clone()"
   ]
  },
  {
   "cell_type": "code",
   "execution_count": 29,
   "id": "9d741ff0-5f35-45a9-b17f-36763b7f7167",
   "metadata": {},
   "outputs": [
    {
     "data": {
      "text/plain": [
       "SparseConv3d(32, 64, kernel_size=[3, 3, 3], stride=[2, 2, 2], padding=[1, 1, 1], dilation=[1, 1, 1], output_padding=[0, 0, 0], bias=False, algo=ConvAlgo.MaskImplicitGemm)"
      ]
     },
     "execution_count": 29,
     "metadata": {},
     "output_type": "execute_result"
    }
   ],
   "source": [
    "spconv3d.to('cuda')"
   ]
  },
  {
   "cell_type": "code",
   "execution_count": 30,
   "id": "4722fece-af72-4b8d-a0c6-b90b7858dfd9",
   "metadata": {},
   "outputs": [],
   "source": [
    "class SparseConv3dWrapper(SparseModule):\n",
    "    def __init__(self, spconv3d, act_num_bits=8, weight_num_bits=8):\n",
    "        super().__init__()\n",
    "        self.spconv3d = spconv3d\n",
    "        weight = self.spconv3d.weight.data.clone()\n",
    "        self.l1loss = nn.L1Loss()\n",
    "\n",
    "        # weight quantizer\n",
    "        w_desc = QuantDescriptor(\n",
    "            num_bits=weight_num_bits\n",
    "        )\n",
    "        self.w_quant = TensorQuantizer(w_desc)\n",
    "\n",
    "        # quantize weight\n",
    "        oc, kh, kw, kd, ic = weight.shape\n",
    "        w = weight.permute(0, 4, 1, 2, 3).contiguous().view(oc, -1)\n",
    "        w = self.w_quant(w)\n",
    "        w = w.view(oc, ic, kh, kw, kd).permute(0, 2, 3, 4, 1).contiguous()\n",
    "        print(\"weight quant loss:\", self.l1loss(w, self.spconv3d.weight.data))\n",
    "        self.spconv3d.weight.data = w\n",
    "\n",
    "        # act quantizer\n",
    "        act_desc = QuantDescriptor(\n",
    "            num_bits=act_num_bits\n",
    "        )\n",
    "        self.act_quant = TensorQuantizer(act_desc)\n",
    "        \n",
    "    def forward(self, x):\n",
    "        features = x.features\n",
    "        features = self.act_quant(features)\n",
    "        print(\"act quant loss:\", self.l1loss(features, x.features))\n",
    "        x = x.replace_feature(features)\n",
    "        x = self.spconv3d(x)\n",
    "        return x"
   ]
  },
  {
   "cell_type": "code",
   "execution_count": 31,
   "id": "0710d9b9-1380-499a-925b-667fbada2327",
   "metadata": {},
   "outputs": [
    {
     "name": "stdout",
     "output_type": "stream",
     "text": [
      "weight quant loss: tensor(0.0023, device='cuda:0')\n"
     ]
    }
   ],
   "source": [
    "q_spconv3d = SparseConv3dWrapper(spconv3d, 8, 8)"
   ]
  },
  {
   "cell_type": "code",
   "execution_count": 32,
   "id": "d69ffa9a-4c1c-4b53-893b-7445aefb4410",
   "metadata": {},
   "outputs": [
    {
     "name": "stdout",
     "output_type": "stream",
     "text": [
      "act quant loss: tensor(0.0252, device='cuda:0')\n"
     ]
    }
   ],
   "source": [
    "ori_x = spconv3d(x)\n",
    "quant_x = q_spconv3d(x)"
   ]
  },
  {
   "cell_type": "code",
   "execution_count": 33,
   "id": "ac1851c6-6b1e-4b1a-a842-c75d254fb9e7",
   "metadata": {},
   "outputs": [
    {
     "data": {
      "text/plain": [
       "tensor(0.0006, device='cuda:0', grad_fn=<MeanBackward0>)"
      ]
     },
     "execution_count": 33,
     "metadata": {},
     "output_type": "execute_result"
    }
   ],
   "source": [
    "l1loss(ori_x.dense(), quant_x.dense())"
   ]
  },
  {
   "cell_type": "code",
   "execution_count": null,
   "id": "2acfee08-ada1-4676-8032-e7d7f94c1f19",
   "metadata": {},
   "outputs": [],
   "source": []
  },
  {
   "cell_type": "code",
   "execution_count": 34,
   "id": "7f63f6eb-c4e0-4586-8c53-1bfdd75794bd",
   "metadata": {},
   "outputs": [
    {
     "name": "stdout",
     "output_type": "stream",
     "text": [
      "weight quant loss: tensor(0.0418, device='cuda:0')\n"
     ]
    }
   ],
   "source": [
    "q_spconv3d = SparseConv3dWrapper(spconv3d, 8, 4)"
   ]
  },
  {
   "cell_type": "code",
   "execution_count": 35,
   "id": "49c6c593-a3c5-4f5b-bf84-9d204bbd371d",
   "metadata": {},
   "outputs": [
    {
     "name": "stdout",
     "output_type": "stream",
     "text": [
      "act quant loss: tensor(0.0252, device='cuda:0')\n"
     ]
    }
   ],
   "source": [
    "ori_x = spconv3d(x)\n",
    "quant_x = q_spconv3d(x)"
   ]
  },
  {
   "cell_type": "code",
   "execution_count": 36,
   "id": "0979516b-430f-467e-b6df-0bd1cb7b18f4",
   "metadata": {},
   "outputs": [
    {
     "data": {
      "text/plain": [
       "tensor(0.0007, device='cuda:0', grad_fn=<MeanBackward0>)"
      ]
     },
     "execution_count": 36,
     "metadata": {},
     "output_type": "execute_result"
    }
   ],
   "source": [
    "l1loss(ori_x.dense(), quant_x.dense())"
   ]
  },
  {
   "cell_type": "code",
   "execution_count": 37,
   "id": "e215b7df-f64a-4543-a04d-b51fbb67d3d7",
   "metadata": {},
   "outputs": [
    {
     "data": {
      "image/png": "[encoded data removed]",
      "text/plain": [
       "<Figure size 640x480 with 1 Axes>"
      ]
     },
     "metadata": {},
     "output_type": "display_data"
    }
   ],
   "source": [
    "hist, bin_edges = torch.histogram(ori_x.features.to('cpu'), bins=10000)\n",
    "\n",
    "plot_x = ori_x.features.to('cpu').detach().flatten().numpy()\n",
    "\n",
    "plt.hist(plot_x, bins=bin_edges.detach().numpy()) \n",
    "plt.xlim(-10, 10)\n",
    "plt.title(\"Histogram of the unquantized outputs of SparseConv3d\")\n",
    "plt.xlabel(\"Value\")\n",
    "plt.ylabel(\"Frequency\")\n",
    "plt.savefig('sparseconv3d.png', dpi=400, bbox_inches='tight')\n",
    "plt.show()"
   ]
  },
  {
   "cell_type": "code",
   "execution_count": 38,
   "id": "f520fa69-7139-4062-b406-abb2ef492135",
   "metadata": {},
   "outputs": [
    {
     "data": {
      "text/plain": [
       "2.3116043"
      ]
     },
     "execution_count": 38,
     "metadata": {},
     "output_type": "execute_result"
    }
   ],
   "source": [
    "np.std(plot_x)"
   ]
  },
  {
   "cell_type": "code",
   "execution_count": 39,
   "id": "145f5fc7-9a00-4ecb-bbf9-08ab548759fc",
   "metadata": {},
   "outputs": [
    {
     "data": {
      "text/plain": [
       "-0.29733768"
      ]
     },
     "execution_count": 39,
     "metadata": {},
     "output_type": "execute_result"
    }
   ],
   "source": [
    "np.mean(plot_x)"
   ]
  },
  {
   "cell_type": "code",
   "execution_count": 40,
   "id": "78010e1a-3e2e-41ac-87cb-e6c7915312a0",
   "metadata": {},
   "outputs": [
    {
     "data": {
      "text/plain": [
       "44.357956"
      ]
     },
     "execution_count": 40,
     "metadata": {},
     "output_type": "execute_result"
    }
   ],
   "source": [
    "np.max(plot_x)"
   ]
  },
  {
   "cell_type": "code",
   "execution_count": 41,
   "id": "4532716c-e41e-4b51-a5cf-63dc1aebdbb3",
   "metadata": {},
   "outputs": [
    {
     "data": {
      "text/plain": [
       "-69.57585"
      ]
     },
     "execution_count": 41,
     "metadata": {},
     "output_type": "execute_result"
    }
   ],
   "source": [
    "np.min(plot_x)"
   ]
  },
  {
   "cell_type": "markdown",
   "id": "afbcb409-a622-443e-86c4-d6635001b68d",
   "metadata": {},
   "source": [
    "## For subm3d"
   ]
  },
  {
   "cell_type": "code",
   "execution_count": 42,
   "id": "5bb87da4-560a-408e-a2e5-88dd21e963c1",
   "metadata": {},
   "outputs": [],
   "source": [
    "features, indices, weight, spatial_shape, batch_size = data_dict['subm']\n",
    "features = features.to('cuda')\n",
    "indices = indices.to('cuda')\n",
    "x = spconv.SparseConvTensor(features, indices, spatial_shape, batch_size)"
   ]
  },
  {
   "cell_type": "code",
   "execution_count": 43,
   "id": "d8fec8d1-48eb-494f-aeed-5dffb81484ef",
   "metadata": {},
   "outputs": [
    {
     "data": {
      "text/plain": [
       "SparseConvTensor[shape=torch.Size([26754, 32])]"
      ]
     },
     "execution_count": 43,
     "metadata": {},
     "output_type": "execute_result"
    }
   ],
   "source": [
    "x"
   ]
  },
  {
   "cell_type": "code",
   "execution_count": 44,
   "id": "bf8308fc-f959-4939-8b5e-d7fa3ef7f44c",
   "metadata": {},
   "outputs": [],
   "source": [
    "subm3d = spconv.SubMConv3d(\n",
    "    in_channels=32, \n",
    "    out_channels=32, \n",
    "    kernel_size=3, \n",
    "    stride=1, \n",
    "    padding=1,\n",
    "    dilation=1,\n",
    "    bias=False\n",
    ")"
   ]
  },
  {
   "cell_type": "code",
   "execution_count": 45,
   "id": "b4aa8d76-dbc8-4674-a9d4-58d2269ec848",
   "metadata": {},
   "outputs": [],
   "source": [
    "subm3d.weight.data = weight.clone()"
   ]
  },
  {
   "cell_type": "code",
   "execution_count": 46,
   "id": "c68c93a3-7c48-44b7-bf07-a2366ac58caa",
   "metadata": {},
   "outputs": [
    {
     "data": {
      "text/plain": [
       "SubMConv3d(32, 32, kernel_size=[3, 3, 3], stride=[1, 1, 1], padding=[1, 1, 1], dilation=[1, 1, 1], output_padding=[0, 0, 0], bias=False, algo=ConvAlgo.MaskImplicitGemm)"
      ]
     },
     "execution_count": 46,
     "metadata": {},
     "output_type": "execute_result"
    }
   ],
   "source": [
    "subm3d.to('cuda')"
   ]
  },
  {
   "cell_type": "code",
   "execution_count": 47,
   "id": "1af8c379-e975-46a6-a10a-20a95255af06",
   "metadata": {},
   "outputs": [],
   "source": [
    "class SubMConv3dWrapper(SparseModule):\n",
    "    def __init__(self, subm3d, act_num_bits=8, weight_num_bits=8):\n",
    "        super().__init__()\n",
    "        self.subm3d = subm3d\n",
    "        weight = self.subm3d.weight.data.clone()\n",
    "        self.l1loss = nn.L1Loss()\n",
    "\n",
    "        # weight quantizer\n",
    "        w_desc = QuantDescriptor(\n",
    "            num_bits=weight_num_bits\n",
    "        )\n",
    "        self.w_quant = TensorQuantizer(w_desc)\n",
    "\n",
    "        # quantize weight\n",
    "        oc, kh, kw, kd, ic = weight.shape\n",
    "        w = weight.permute(0, 4, 1, 2, 3).contiguous().view(oc, -1)\n",
    "        w = self.w_quant(w)\n",
    "        w = w.view(oc, ic, kh, kw, kd).permute(0, 2, 3, 4, 1).contiguous()\n",
    "        print(\"weight quant loss:\", self.l1loss(w, self.subm3d.weight.data))\n",
    "        self.subm3d.weight.data = w\n",
    "\n",
    "        # act quantizer\n",
    "        act_desc = QuantDescriptor(\n",
    "            num_bits=act_num_bits\n",
    "        )\n",
    "        self.act_quant = TensorQuantizer(act_desc)\n",
    "        \n",
    "    def forward(self, x):\n",
    "        features = x.features\n",
    "        features = self.act_quant(features)\n",
    "        print(\"act quant loss:\", self.l1loss(features, x.features))\n",
    "        x = x.replace_feature(features)\n",
    "        x = self.subm3d(x)\n",
    "        return x"
   ]
  },
  {
   "cell_type": "code",
   "execution_count": 48,
   "id": "3314f2bd-21b8-4e75-bea6-e3ffa86a084d",
   "metadata": {},
   "outputs": [
    {
     "name": "stdout",
     "output_type": "stream",
     "text": [
      "weight quant loss: tensor(0.0042, device='cuda:0')\n"
     ]
    }
   ],
   "source": [
    "q_subm3d = SubMConv3dWrapper(subm3d, 8, 8)"
   ]
  },
  {
   "cell_type": "code",
   "execution_count": 49,
   "id": "c1fe4cd2-95e7-46ec-a418-54eb131f5ef0",
   "metadata": {},
   "outputs": [
    {
     "name": "stdout",
     "output_type": "stream",
     "text": [
      "act quant loss: tensor(0.0202, device='cuda:0')\n"
     ]
    }
   ],
   "source": [
    "ori_x = subm3d(x)\n",
    "quant_x = q_subm3d(x)"
   ]
  },
  {
   "cell_type": "code",
   "execution_count": 50,
   "id": "abfed02b-93b2-4e42-a80b-0051967f3442",
   "metadata": {},
   "outputs": [
    {
     "data": {
      "text/plain": [
       "SparseConvTensor[shape=torch.Size([26754, 32])]"
      ]
     },
     "execution_count": 50,
     "metadata": {},
     "output_type": "execute_result"
    }
   ],
   "source": [
    "ori_x"
   ]
  },
  {
   "cell_type": "code",
   "execution_count": 51,
   "id": "518471ab-2155-4b96-b117-eb6aea8970e8",
   "metadata": {},
   "outputs": [
    {
     "data": {
      "text/plain": [
       "SparseConvTensor[shape=torch.Size([26754, 32])]"
      ]
     },
     "execution_count": 51,
     "metadata": {},
     "output_type": "execute_result"
    }
   ],
   "source": [
    "quant_x"
   ]
  },
  {
   "cell_type": "code",
   "execution_count": 52,
   "id": "2135910c-8f83-471a-997d-1ad2351ef555",
   "metadata": {},
   "outputs": [
    {
     "data": {
      "text/plain": [
       "tensor(0.0002, device='cuda:0', grad_fn=<MeanBackward0>)"
      ]
     },
     "execution_count": 52,
     "metadata": {},
     "output_type": "execute_result"
    }
   ],
   "source": [
    "l1loss(ori_x.dense(), quant_x.dense())"
   ]
  },
  {
   "cell_type": "code",
   "execution_count": null,
   "id": "0ccecf0d-3e9a-4593-ba3a-213bad3aff58",
   "metadata": {},
   "outputs": [],
   "source": []
  },
  {
   "cell_type": "code",
   "execution_count": 53,
   "id": "1a8a05d3-1c4c-4bd5-a45b-de5e8f12e4ca",
   "metadata": {},
   "outputs": [
    {
     "name": "stdout",
     "output_type": "stream",
     "text": [
      "weight quant loss: tensor(0.0656, device='cuda:0')\n"
     ]
    }
   ],
   "source": [
    "q_subm3d = SubMConv3dWrapper(subm3d, 8, 4)"
   ]
  },
  {
   "cell_type": "code",
   "execution_count": 54,
   "id": "2c55da44-e2aa-4ba7-a9d9-bbbecab2fd31",
   "metadata": {},
   "outputs": [
    {
     "name": "stdout",
     "output_type": "stream",
     "text": [
      "act quant loss: tensor(0.0202, device='cuda:0')\n"
     ]
    }
   ],
   "source": [
    "ori_x = subm3d(x)\n",
    "quant_x = q_subm3d(x)"
   ]
  },
  {
   "cell_type": "code",
   "execution_count": 55,
   "id": "f04ba205-eec6-4414-8aa8-669609f5904f",
   "metadata": {},
   "outputs": [
    {
     "data": {
      "text/plain": [
       "tensor(0.0002, device='cuda:0', grad_fn=<MeanBackward0>)"
      ]
     },
     "execution_count": 55,
     "metadata": {},
     "output_type": "execute_result"
    }
   ],
   "source": [
    "l1loss(ori_x.dense(), quant_x.dense())"
   ]
  },
  {
   "cell_type": "code",
   "execution_count": 56,
   "id": "426c0a5b-cc4c-4a55-8446-baa7d8eb9715",
   "metadata": {},
   "outputs": [
    {
     "data": {
      "image/png": "[encoded data removed]",
      "text/plain": [
       "<Figure size 640x480 with 1 Axes>"
      ]
     },
     "metadata": {},
     "output_type": "display_data"
    }
   ],
   "source": [
    "hist, bin_edges = torch.histogram(ori_x.features.to('cpu'), bins=10000)\n",
    "\n",
    "plot_x = ori_x.features.to('cpu').detach().flatten().numpy()\n",
    "\n",
    "plt.hist(plot_x, bins=bin_edges.detach().numpy()) \n",
    "plt.xlim(-13, 7.5)\n",
    "plt.title(\"Histogram of the unquantized outputs of SubMConv3d\")\n",
    "plt.xlabel(\"Value\")\n",
    "plt.ylabel(\"Frequency\")\n",
    "plt.savefig('submconv3d.png', dpi=400, bbox_inches='tight')\n",
    "plt.show()"
   ]
  },
  {
   "cell_type": "code",
   "execution_count": 57,
   "id": "4a071b75-7335-431a-b3ec-9e5d5bf47e86",
   "metadata": {},
   "outputs": [
    {
     "data": {
      "text/plain": [
       "2.7428288"
      ]
     },
     "execution_count": 57,
     "metadata": {},
     "output_type": "execute_result"
    }
   ],
   "source": [
    "np.std(plot_x)"
   ]
  },
  {
   "cell_type": "code",
   "execution_count": 58,
   "id": "4290e96d-41b7-4f3d-bab7-6ec57f305f36",
   "metadata": {},
   "outputs": [
    {
     "data": {
      "text/plain": [
       "-1.4382815"
      ]
     },
     "execution_count": 58,
     "metadata": {},
     "output_type": "execute_result"
    }
   ],
   "source": [
    "np.mean(plot_x)"
   ]
  },
  {
   "cell_type": "code",
   "execution_count": 59,
   "id": "bcb2b533-3390-4805-a562-f4786995aeb9",
   "metadata": {},
   "outputs": [
    {
     "data": {
      "text/plain": [
       "19.28282"
      ]
     },
     "execution_count": 59,
     "metadata": {},
     "output_type": "execute_result"
    }
   ],
   "source": [
    "np.max(plot_x)"
   ]
  },
  {
   "cell_type": "code",
   "execution_count": 60,
   "id": "877cf5cc-3389-4af2-9151-4203635a6419",
   "metadata": {},
   "outputs": [
    {
     "data": {
      "text/plain": [
       "-39.54636"
      ]
     },
     "execution_count": 60,
     "metadata": {},
     "output_type": "execute_result"
    }
   ],
   "source": [
    "np.min(plot_x)"
   ]
  },
  {
   "cell_type": "code",
   "execution_count": null,
   "id": "a4aff183-1d13-4fbe-9650-d39eaa967ca3",
   "metadata": {},
   "outputs": [],
   "source": []
  }
 ],
 "metadata": {
  "kernelspec": {
   "display_name": "Python 3 (ipykernel)",
   "language": "python",
   "name": "python3"
  },
  "language_info": {
   "codemirror_mode": {
    "name": "ipython",
    "version": 3
   },
   "file_extension": ".py",
   "mimetype": "text/x-python",
   "name": "python",
   "nbconvert_exporter": "python",
   "pygments_lexer": "ipython3",
   "version": "3.8.19"
  }
 },
 "nbformat": 4,
 "nbformat_minor": 5
}
