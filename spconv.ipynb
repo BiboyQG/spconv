{
 "cells": [
  {
   "cell_type": "code",
   "execution_count": 1,
   "id": "42abb999-39cb-4914-b143-ca524b3443f6",
   "metadata": {},
   "outputs": [],
   "source": [
    "import spconv.pytorch as spconv\n",
    "import torch\n",
    "from torch import nn"
   ]
  },
  {
   "cell_type": "code",
   "execution_count": 2,
   "id": "1af6ab08-3da3-4e63-9c89-697e28b366b7",
   "metadata": {},
   "outputs": [
    {
     "data": {
      "text/plain": [
       "<torch._C.Generator at 0x758bd6f30b30>"
      ]
     },
     "execution_count": 2,
     "metadata": {},
     "output_type": "execute_result"
    }
   ],
   "source": [
    "torch.manual_seed(2024)"
   ]
  },
  {
   "cell_type": "code",
   "execution_count": 3,
   "id": "fc623c9c-6fde-4e09-ad62-8df0552edcb3",
   "metadata": {},
   "outputs": [],
   "source": [
    "spconv3d = spconv.SparseConv3d(\n",
    "    in_channels=5, \n",
    "    out_channels=16, \n",
    "    kernel_size=3, \n",
    "    stride=1, \n",
    "    padding=0,\n",
    "    bias=False\n",
    ")"
   ]
  },
  {
   "cell_type": "code",
   "execution_count": 4,
   "id": "b89d9a44-c038-472e-89bf-637d6afcad5e",
   "metadata": {},
   "outputs": [
    {
     "data": {
      "text/plain": [
       "torch.Size([16, 3, 3, 3, 5])"
      ]
     },
     "execution_count": 4,
     "metadata": {},
     "output_type": "execute_result"
    }
   ],
   "source": [
    "spconv3d.weight.shape"
   ]
  },
  {
   "cell_type": "code",
   "execution_count": 5,
   "id": "0bf70a92-6385-4a27-807c-62e3c63f0561",
   "metadata": {},
   "outputs": [],
   "source": [
    "conv3d = nn.Conv3d(\n",
    "    in_channels=5, \n",
    "    out_channels=16, \n",
    "    kernel_size=3, \n",
    "    stride=1, \n",
    "    padding=0,\n",
    "    bias=False\n",
    ")"
   ]
  },
  {
   "cell_type": "code",
   "execution_count": 6,
   "id": "5e62bef4-d92e-4ca4-9190-1e53de5aa51a",
   "metadata": {},
   "outputs": [],
   "source": [
    "sp_weight = spconv3d.weight.data.clone()"
   ]
  },
  {
   "cell_type": "code",
   "execution_count": 7,
   "id": "0d7c4e49-a1fa-4d43-a202-9592c58efcb7",
   "metadata": {},
   "outputs": [
    {
     "data": {
      "text/plain": [
       "torch.Size([16, 3, 3, 3, 5])"
      ]
     },
     "execution_count": 7,
     "metadata": {},
     "output_type": "execute_result"
    }
   ],
   "source": [
    "sp_weight.shape"
   ]
  },
  {
   "cell_type": "code",
   "execution_count": 8,
   "id": "42beef20-dd8a-4910-b82b-f59c324d96c9",
   "metadata": {},
   "outputs": [],
   "source": [
    "weight = sp_weight.permute(0, 4, 1, 2, 3)"
   ]
  },
  {
   "cell_type": "code",
   "execution_count": 9,
   "id": "ecf6caf4-077a-45fd-8196-173a67cef669",
   "metadata": {},
   "outputs": [],
   "source": [
    "conv3d.weight.data = weight"
   ]
  },
  {
   "cell_type": "code",
   "execution_count": 10,
   "id": "ad80f5d0-037e-43a7-8429-bf521507b8c1",
   "metadata": {},
   "outputs": [
    {
     "data": {
      "text/plain": [
       "SparseConv3d(5, 16, kernel_size=[3, 3, 3], stride=[1, 1, 1], padding=[0, 0, 0], dilation=[1, 1, 1], output_padding=[0, 0, 0], bias=False, algo=ConvAlgo.MaskImplicitGemm)"
      ]
     },
     "execution_count": 10,
     "metadata": {},
     "output_type": "execute_result"
    }
   ],
   "source": [
    "conv3d.to('cuda')\n",
    "spconv3d.to('cuda')"
   ]
  },
  {
   "cell_type": "code",
   "execution_count": 11,
   "id": "ffd20c3a-713c-4fab-b726-34037aa254bb",
   "metadata": {},
   "outputs": [],
   "source": [
    "# Parameters\n",
    "N = 10  # number of non-zero points\n",
    "num_channels = 5  # number of feature channels per point\n",
    "ndim = 3  # number of spatial dimensions (e.g., 3D convolution)\n",
    "batch_size = 2  # number of batches"
   ]
  },
  {
   "cell_type": "code",
   "execution_count": 12,
   "id": "cb7ece64-7970-44da-a58f-0bfad5d16c18",
   "metadata": {},
   "outputs": [],
   "source": [
    "# Generating random features\n",
    "features = torch.randn(N, num_channels).to('cuda')"
   ]
  },
  {
   "cell_type": "code",
   "execution_count": 13,
   "id": "8b282f46-0856-4bc8-9b54-b62554a674f6",
   "metadata": {},
   "outputs": [
    {
     "data": {
      "text/plain": [
       "torch.Size([10, 5])"
      ]
     },
     "execution_count": 13,
     "metadata": {},
     "output_type": "execute_result"
    }
   ],
   "source": [
    "features.shape"
   ]
  },
  {
   "cell_type": "code",
   "execution_count": 14,
   "id": "9d92a0a5-5caa-4159-b17f-f16c133cac16",
   "metadata": {},
   "outputs": [],
   "source": [
    "# Generating random indices for a 3D sparse tensor with batch indices\n",
    "spatial_shape = (100, 100, 100)  # Define the spatial shape of the sparse tensor\n",
    "indices = torch.zeros(N, ndim + 1, dtype=torch.int32).to('cuda')\n",
    "indices[:, 0] = torch.randint(0, batch_size, (N,))  # Batch indices\n",
    "for i in range(1, ndim + 1):\n",
    "    indices[:, i] = torch.randint(0, spatial_shape[i - 1], (N,))  # Spatial indices"
   ]
  },
  {
   "cell_type": "code",
   "execution_count": 15,
   "id": "da461607-003f-4388-bc96-be6fc69cab4f",
   "metadata": {},
   "outputs": [],
   "source": [
    "# Creating the SparseConvTensor\n",
    "x = spconv.SparseConvTensor(features, indices, spatial_shape, batch_size)"
   ]
  },
  {
   "cell_type": "code",
   "execution_count": 16,
   "id": "55eca7df-da54-4447-a176-79a6b14ef500",
   "metadata": {},
   "outputs": [
    {
     "data": {
      "text/plain": [
       "SparseConvTensor[shape=torch.Size([10, 5])]"
      ]
     },
     "execution_count": 16,
     "metadata": {},
     "output_type": "execute_result"
    }
   ],
   "source": [
    "x"
   ]
  },
  {
   "cell_type": "code",
   "execution_count": 17,
   "id": "ad6707e7-af82-4bec-be1a-28317403c938",
   "metadata": {},
   "outputs": [
    {
     "name": "stdout",
     "output_type": "stream",
     "text": [
      "torch.Size([2, 5, 100, 100, 100])\n"
     ]
    }
   ],
   "source": [
    "# Converting sparse tensor to dense NCHW tensor (just for visualization; might be memory intensive)\n",
    "x_dense_NCHW = x.dense()\n",
    "print(x_dense_NCHW.shape)  # Should match the expected dense shape [batch_size, num_channels, *spatial_shape]"
   ]
  },
  {
   "cell_type": "code",
   "execution_count": 18,
   "id": "ab9f53c9-fde6-4bdd-ae26-e2f8a4dd690e",
   "metadata": {},
   "outputs": [],
   "source": [
    "x_dense_NCHW = x_dense_NCHW.permute(0, 2, 3, 4, 1)"
   ]
  },
  {
   "cell_type": "code",
   "execution_count": 19,
   "id": "615f2f1d-bf0a-4617-9029-bbd3b21d0835",
   "metadata": {},
   "outputs": [],
   "source": [
    "sparse_tensor = spconv.SparseConvTensor.from_dense(x_dense_NCHW)"
   ]
  },
  {
   "cell_type": "code",
   "execution_count": 20,
   "id": "0fb7d61b-05fa-41e3-a194-8aa486ba2c13",
   "metadata": {},
   "outputs": [],
   "source": [
    "y = spconv3d(x)\n",
    "sparse_y = spconv3d(sparse_tensor)"
   ]
  },
  {
   "cell_type": "code",
   "execution_count": 21,
   "id": "70d7bfc8-0b1b-4f9f-826e-772248c30702",
   "metadata": {},
   "outputs": [],
   "source": [
    "y_dense = y.dense()\n",
    "sparse_y_dense = sparse_y.dense()"
   ]
  },
  {
   "cell_type": "code",
   "execution_count": 22,
   "id": "b626e52e-5643-4077-b8dc-0a09edf4d846",
   "metadata": {},
   "outputs": [
    {
     "data": {
      "text/plain": [
       "True"
      ]
     },
     "execution_count": 22,
     "metadata": {},
     "output_type": "execute_result"
    }
   ],
   "source": [
    "torch.allclose(y_dense, sparse_y_dense)"
   ]
  },
  {
   "cell_type": "code",
   "execution_count": 23,
   "id": "30964724-0562-4995-8245-15d33085f709",
   "metadata": {},
   "outputs": [],
   "source": [
    "x_dense_NCHW = x_dense_NCHW.permute(0, 4, 1, 2, 3)"
   ]
  },
  {
   "cell_type": "code",
   "execution_count": 24,
   "id": "9c920297-4ca7-47ab-89d7-adf4ac10fb28",
   "metadata": {},
   "outputs": [],
   "source": [
    "conv_y = conv3d(x_dense_NCHW)"
   ]
  },
  {
   "cell_type": "code",
   "execution_count": 25,
   "id": "3175eee5-ea30-4060-ac75-d351f1b47188",
   "metadata": {},
   "outputs": [
    {
     "data": {
      "text/plain": [
       "False"
      ]
     },
     "execution_count": 25,
     "metadata": {},
     "output_type": "execute_result"
    }
   ],
   "source": [
    "torch.allclose(conv_y, sparse_y_dense)"
   ]
  },
  {
   "cell_type": "code",
   "execution_count": 26,
   "id": "50c6792a-d5c6-4c65-8a07-e7eefd80f1f7",
   "metadata": {},
   "outputs": [
    {
     "data": {
      "text/plain": [
       "tensor([-0.3298, -0.3051, -0.3035,  ...,  0.3083,  0.3124,  0.3248],\n",
       "       device='cuda:0', grad_fn=<Unique2Backward0>)"
      ]
     },
     "execution_count": 26,
     "metadata": {},
     "output_type": "execute_result"
    }
   ],
   "source": [
    "conv_y.unique()"
   ]
  },
  {
   "cell_type": "code",
   "execution_count": 27,
   "id": "9c8f4ee1-04cf-4bb4-add8-cbc8921b7d40",
   "metadata": {},
   "outputs": [
    {
     "data": {
      "text/plain": [
       "tensor([-0.3298, -0.3050, -0.3035,  ...,  0.3083,  0.3124,  0.3248],\n",
       "       device='cuda:0', grad_fn=<Unique2Backward0>)"
      ]
     },
     "execution_count": 27,
     "metadata": {},
     "output_type": "execute_result"
    }
   ],
   "source": [
    "sparse_y_dense.unique()"
   ]
  },
  {
   "cell_type": "code",
   "execution_count": 28,
   "id": "de4b7f43-a679-43b9-bf6f-d2908ff58e51",
   "metadata": {},
   "outputs": [],
   "source": [
    "l1loss = torch.nn.L1Loss()"
   ]
  },
  {
   "cell_type": "code",
   "execution_count": 29,
   "id": "02fa8133-14ab-43cb-a2d8-77562c87ccf4",
   "metadata": {},
   "outputs": [
    {
     "data": {
      "text/plain": [
       "tensor(2.8299e-09, device='cuda:0', grad_fn=<MeanBackward0>)"
      ]
     },
     "execution_count": 29,
     "metadata": {},
     "output_type": "execute_result"
    }
   ],
   "source": [
    "l1loss(conv_y, sparse_y_dense)"
   ]
  },
  {
   "cell_type": "code",
   "execution_count": null,
   "id": "df841122-6662-4684-a8f0-5141d88578f9",
   "metadata": {},
   "outputs": [],
   "source": []
  },
  {
   "cell_type": "code",
   "execution_count": null,
   "id": "c132cf16-cee7-44bf-919e-3bb550e4da8f",
   "metadata": {},
   "outputs": [],
   "source": []
  }
 ],
 "metadata": {
  "kernelspec": {
   "display_name": "Python 3 (ipykernel)",
   "language": "python",
   "name": "python3"
  },
  "language_info": {
   "codemirror_mode": {
    "name": "ipython",
    "version": 3
   },
   "file_extension": ".py",
   "mimetype": "text/x-python",
   "name": "python",
   "nbconvert_exporter": "python",
   "pygments_lexer": "ipython3",
   "version": "3.8.19"
  }
 },
 "nbformat": 4,
 "nbformat_minor": 5
}
